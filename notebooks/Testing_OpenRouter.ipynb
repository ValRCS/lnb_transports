{
 "cells": [
  {
   "cell_type": "markdown",
   "metadata": {},
   "source": [
    "# Testing OpenRouter models\n",
    "\n",
    "We will be testing how well various models available on OpenRouter perform extraction of transport related information from text.\n",
    "\n",
    "We will be using OPENAI style API to access the models."
   ]
  },
  {
   "cell_type": "code",
   "execution_count": 7,
   "metadata": {},
   "outputs": [
    {
     "name": "stdout",
     "output_type": "stream",
     "text": [
      "Date: 2025-02-04 08:46:14.479732\n",
      "Python version: 3.12.6 (tags/v3.12.6:a4a2d2b, Sep  6 2024, 20:11:23) [MSC v.1940 64 bit (AMD64)]\n",
      "Requests version: 2.32.3\n",
      "OpenAI version: 1.59.9\n",
      "We have the OPENROUTER_API_KEY should be good to go\n"
     ]
    }
   ],
   "source": [
    "# first we need to import the basic libraries\n",
    "# date\n",
    "from datetime import datetime\n",
    "now = datetime.now()\n",
    "print(f\"Date: {now}\")\n",
    "# python version\n",
    "import sys\n",
    "print(f\"Python version: {sys.version}\")\n",
    "from pathlib import Path\n",
    "import json\n",
    "# import time for delay\n",
    "import time\n",
    "import requests\n",
    "# print version\n",
    "print(f\"Requests version: {requests.__version__}\")\n",
    "\n",
    "from tqdm import tqdm\n",
    "# import OpenAI\n",
    "# let's try using OpenAI API\n",
    "from openai import OpenAI\n",
    "# import openai version\n",
    "from openai import __version__ as openai_version\n",
    "print(f\"OpenAI version: {openai_version}\")\n",
    "\n",
    "\n",
    "# load OPENROUTER_API key from system environment\n",
    "import os\n",
    "openrouter_api_key = os.getenv('OPENROUTER_API_KEY')\n",
    "# assert key is not None\n",
    "assert openrouter_api_key is not None, \"OPENROUTER_API_KEY is not set\"\n",
    "print(\"We have the OPENROUTER_API_KEY should be good to go\")"
   ]
  },
  {
   "cell_type": "code",
   "execution_count": 2,
   "metadata": {},
   "outputs": [
    {
     "name": "stdout",
     "output_type": "stream",
     "text": [
      "{'id': 'gen-1738576635-JSkQP3jMX8qWqBu6nnfN', 'provider': 'OpenAI', 'model': 'openai/gpt-3.5-turbo', 'object': 'chat.completion', 'created': 1738576635, 'choices': [{'logprobs': None, 'finish_reason': 'stop', 'native_finish_reason': 'stop', 'index': 0, 'message': {'role': 'assistant', 'content': 'The meaning of life is a philosophical question that has been debated by humans for centuries. Different religions, cultures, and individuals have their own interpretations of the meaning of life. Some believe that the purpose of life is to seek happiness and fulfillment, others believe it is to serve a higher power or spiritual purpose, while some believe that life has no inherent meaning and it is up to each individual to create their own meaning. Ultimately, the meaning of life is a deeply personal and subjective question that each person must answer for themselves.', 'refusal': None}}], 'system_fingerprint': None, 'usage': {'prompt_tokens': 14, 'completion_tokens': 105, 'total_tokens': 119}}\n"
     ]
    }
   ],
   "source": [
    "# let's make a request to the OpenRouter API\n",
    "response = requests.post(\n",
    "  url=\"https://openrouter.ai/api/v1/chat/completions\",\n",
    "  headers={\n",
    "    \"Authorization\": f\"Bearer {openrouter_api_key}\",\n",
    "    \"HTTP-Referer\": \"VSAU\", # Optional. Site URL for rankings on openrouter.ai.\n",
    "    \"X-Title\": \"VSAU\", # Optional. Site title for rankings on openrouter.ai.\n",
    "  },\n",
    "  data=json.dumps({\n",
    "    \"model\": \"openai/gpt-3.5-turbo\", # Optional\n",
    "    \"messages\": [\n",
    "      {\n",
    "        \"role\": \"user\",\n",
    "        \"content\": \"What is the meaning of life?\"\n",
    "      }\n",
    "    ]\n",
    "    \n",
    "  })\n",
    ")\n",
    "# print the response\n",
    "print(response.json())"
   ]
  },
  {
   "cell_type": "code",
   "execution_count": 3,
   "metadata": {},
   "outputs": [
    {
     "name": "stdout",
     "output_type": "stream",
     "text": [
      "The meaning of life is a philosophical question that has been debated by humans for centuries. Different religions, cultures, and individuals have their own interpretations of the meaning of life. Some believe that the purpose of life is to seek happiness and fulfillment, others believe it is to serve a higher power or spiritual purpose, while some believe that life has no inherent meaning and it is up to each individual to create their own meaning. Ultimately, the meaning of life is a deeply personal and subjective question that each person must answer for themselves.\n"
     ]
    }
   ],
   "source": [
    "# print actual content\n",
    "print(response.json()['choices'][0]['message']['content'])"
   ]
  },
  {
   "cell_type": "code",
   "execution_count": 4,
   "metadata": {},
   "outputs": [
    {
     "name": "stdout",
     "output_type": "stream",
     "text": [
      "The meaning of life is a philosophical question that has been debated by thinkers and individuals for centuries. Different perspectives and beliefs exist regarding the purpose and meaning of life, with some attributing it to religious or spiritual beliefs, others focusing on personal fulfillment and happiness, and still others viewing it as a subjective and individual concept. Ultimately, the meaning of life may vary from person to person and can be shaped by one's values, beliefs, experiences, and goals.\n"
     ]
    }
   ],
   "source": [
    "# let's try using OpenAI API\n",
    "# from openai import OpenAI\n",
    "\n",
    "client = OpenAI(\n",
    "  base_url=\"https://openrouter.ai/api/v1\",\n",
    "  api_key=openrouter_api_key,\n",
    ")\n",
    "\n",
    "completion = client.chat.completions.create(\n",
    "  extra_headers={\n",
    "    \"HTTP-Referer\": \"VSAU\", # Optional. Site URL for rankings on openrouter.ai.\n",
    "    \"X-Title\": \"VSAU\", # Optional. Site title for rankings on openrouter.ai.\n",
    "  },\n",
    "  model=\"openai/gpt-3.5-turbo\",\n",
    "  messages=[\n",
    "    {\n",
    "      \"role\": \"user\",\n",
    "      \"content\": \"What is the meaning of life?\"\n",
    "    }\n",
    "  ]\n",
    ")\n",
    "print(completion.choices[0].message.content)"
   ]
  },
  {
   "cell_type": "markdown",
   "metadata": {},
   "source": [
    "## Function to use openai API"
   ]
  },
  {
   "cell_type": "code",
   "execution_count": 8,
   "metadata": {},
   "outputs": [
    {
     "name": "stdout",
     "output_type": "stream",
     "text": [
      "Using model google/gemini-flash-1.5-8b\n"
     ]
    }
   ],
   "source": [
    "# let's make a function that calls the OpenAI API, function will have following parameters:\n",
    "# base_url, api_key, model, messages, headers\n",
    "base_url = \"https://openrouter.ai/api/v1\"\n",
    "api_key = openrouter_api_key\n",
    "model = \"google/gemini-flash-1.5\"\n",
    "model = \"google/gemini-2.0-flash-exp:free\"\n",
    "model = \"google/gemini-flash-1.5-8b\"\n",
    "print(f\"Using model {model}\")\n",
    "role = \"user\"\n",
    "headers = {\n",
    "  \"HTTP-Referer\": \"VSAU\", # Optional. Site URL for rankings on openrouter.ai.\n",
    "  \"X-Title\": \"VSAU\", # Optional. Site title for rankings on openrouter.ai.\n",
    "}\n",
    "\n",
    "system_prompt = \"\"\"You are an expert on Latvian language and transportation.\n",
    "Please extract a comprehensive list of all mentioned land transportation vehicles from the given texts.\n",
    "Show all specific land transportation types found in the text as a list.\n",
    "No other information is needed, just the transportation terms as they appear in the text.\n",
    "Provide the terms only in Latvian, preserving their original transcription variants as they appear in the text. Latvian Text follows: \"\"\"\n",
    "\n",
    "\n",
    "def openai_chat(user_prompt, \n",
    "                system_prompt=system_prompt, \n",
    "                base_url=base_url,\n",
    "                api_key=api_key, \n",
    "                model=model, \n",
    "                headers=headers,\n",
    "                verbose=True,\n",
    "                max_retries=10,\n",
    "                delay=0.5):\n",
    "  client = OpenAI(\n",
    "    base_url=base_url,\n",
    "    api_key=api_key,\n",
    "  )\n",
    "  messages = [\n",
    "        {\n",
    "        \"role\": \"system\",\n",
    "        \"content\": system_prompt\n",
    "        },\n",
    "        {\n",
    "        \"role\": \"user\",\n",
    "        \"content\": user_prompt\n",
    "        }\n",
    "    ]\n",
    "  # if verbose let's show model, system_prompt and start time for request\n",
    "  if verbose:\n",
    "    print(f\"Using model {model}\")\n",
    "    print(f\"System prompt: {system_prompt}\")\n",
    "    start_time = datetime.now()\n",
    "    print(f\"Start time: {start_time}\")\n",
    "  completion = None\n",
    "  tries = 0\n",
    "  while (completion is None or completion.choices is None) and tries < max_retries:\n",
    "    try:\n",
    "      completion = client.chat.completions.create(\n",
    "        extra_headers=headers,\n",
    "        model=model,\n",
    "        messages=messages\n",
    "      )\n",
    "    except Exception as e:\n",
    "      print(f\"Error: {e}\")\n",
    "      print(f\"Trying again... in {delay} seconds\")\n",
    "      # delay\n",
    "      time.sleep(delay)\n",
    "    tries += 1\n",
    "    \n",
    "  if verbose:\n",
    "    print(f\"Time taken: {datetime.now() - start_time}\")\n",
    "  if completion is None or completion.choices is None:\n",
    "    return f\"Failed to get completion after {max_retries} retries using model {model}\"\n",
    "  return completion.choices[0].message.content\n"
   ]
  },
  {
   "cell_type": "code",
   "execution_count": 9,
   "metadata": {},
   "outputs": [
    {
     "name": "stdout",
     "output_type": "stream",
     "text": [
      "Using model google/gemini-flash-1.5-8b\n",
      "System prompt: You are an expert on Latvian language and transportation.\n",
      "Please extract a comprehensive list of all mentioned land transportation vehicles from the given texts.\n",
      "Show all specific land transportation types found in the text as a list.\n",
      "No other information is needed, just the transportation terms as they appear in the text.\n",
      "Provide the terms only in Latvian, preserving their original transcription variants as they appear in the text. Latvian Text follows: \n",
      "Start time: 2025-02-04 08:46:33.967690\n",
      "Time taken: 0:00:02.453795\n",
      "* autobusā\n",
      "* laiva\n",
      "\n"
     ]
    }
   ],
   "source": [
    "# let's test the function with a prompt\n",
    "prompt = \"\"\"Pa ceļu gāja cilvēks ar suni, bet viņš bija ļoti noguris, tāpēc viņš nolēma izmantot sabiedrisko transportu. \n",
    "Vēlāk viņš sēdēja autobusā un skatījās uz logu.\n",
    "Šis cilvēks sapņoja par jūru un pludmali, bet viņam bija jābrauc uz darbu.\n",
    "Cik labī būtu bijis sēdēt laiva, makšķerēt zivis un baudīt sauli!\"\"\"\n",
    "response = openai_chat(prompt)\n",
    "print(response)"
   ]
  },
  {
   "cell_type": "code",
   "execution_count": 10,
   "metadata": {},
   "outputs": [
    {
     "name": "stdout",
     "output_type": "stream",
     "text": [
      "Number of files: 453\n"
     ]
    }
   ],
   "source": [
    "# let's list all text files in data/docs folder\n",
    "# data_folder = Path(\"../data/docs\")\n",
    "data_folder = Path(\"../../lnb_lat_sen_rom_releases/lat_sen_rom_2025_01_28\")\n",
    "# assert folder exists\n",
    "assert data_folder.exists(), f\"Folder {data_folder} does not exist\"\n",
    "                   \n",
    "# list all files\n",
    "files = list(data_folder.glob(\"*.txt\"))\n",
    "# print all files\n",
    "# how many files do we have?\n",
    "print(f\"Number of files: {len(files)}\")\n"
   ]
  },
  {
   "cell_type": "code",
   "execution_count": null,
   "metadata": {},
   "outputs": [],
   "source": []
  },
  {
   "cell_type": "code",
   "execution_count": 11,
   "metadata": {},
   "outputs": [
    {
     "name": "stderr",
     "output_type": "stream",
     "text": [
      "100%|██████████| 453/453 [00:05<00:00, 89.47it/s] "
     ]
    },
    {
     "name": "stdout",
     "output_type": "stream",
     "text": [
      "Number of texts: 453\n",
      "Total characters: 188367402\n",
      "Key for smallest text: VentA_DepuT_1293527\n"
     ]
    },
    {
     "name": "stderr",
     "output_type": "stream",
     "text": [
      "\n"
     ]
    }
   ],
   "source": [
    "# let's load the files into a dictionary with filename stem as key and text as value\n",
    "# remember to decode the text as utf-8\n",
    "texts = {}\n",
    "for file in tqdm(files):\n",
    "  with open(file, \"r\", encoding=\"utf-8\") as f:\n",
    "    texts[file.stem] = f.read()\n",
    "# how many texts do we have?\n",
    "print(f\"Number of texts: {len(texts)}\")\n",
    "# how many characters do we have in total?\n",
    "total_chars = sum([len(text) for text in texts.values()])\n",
    "print(f\"Total characters: {total_chars}\")\n",
    "# what is the smallest text?\n",
    "min_text = min(texts, key=lambda x: len(texts[x]))\n",
    "print(f\"Key for smallest text: {min_text}\")\n",
    "# how many characters does the smallest text have?\n",
    "min_chars = len(texts[min_text])\n"
   ]
  },
  {
   "cell_type": "code",
   "execution_count": 12,
   "metadata": {},
   "outputs": [
    {
     "name": "stdout",
     "output_type": "stream",
     "text": [
      "Responses folder: ..\\data\\responses\n"
     ]
    }
   ],
   "source": [
    "# let's create responses subfolder\n",
    "responses_folder = Path(\"../data/responses\")\n",
    "# responses_folder = data_folder / \"responses\"\n",
    "# create folder if it does not exist\n",
    "responses_folder.mkdir(exist_ok=True)\n",
    "# assert folder exists\n",
    "assert responses_folder.exists(), f\"Folder {responses_folder} does not exist\"\n",
    "# print full path\n",
    "print(f\"Responses folder: {responses_folder}\")\n"
   ]
  },
  {
   "cell_type": "markdown",
   "metadata": {},
   "source": [
    "## List of transportation terms"
   ]
  },
  {
   "cell_type": "code",
   "execution_count": 16,
   "metadata": {},
   "outputs": [
    {
     "name": "stdout",
     "output_type": "stream",
     "text": [
      "['zirgs', 'dzelzceļš', 'ormanis', 'pajūgs', 'kariete', 'kamanas', 'velosipēds', 'automašīna', 'mašīna', 'vilciens', 'lokomotīve', 'tramvajs', 'bānītis', 'Mercedes']\n",
      "Prompt with terms:\n",
      "You are an expert on Latvian language and transportation.\n",
      "Analyze the following Latvian document and identify which terms are semantically similar in meaning to one of the following keywords:\n",
      "zirgs dzelzceļš ormanis pajūgs kariete kamanas velosipēds automašīna mašīna vilciens lokomotīve tramvajs bānītis Mercedes\n",
      "Display only the semantically related noun terms exactly as found in the text and nothing else. \n",
      "For example if the text contains the word 'zirgā' which is a form of 'zirgs' you should include 'zirgā' in the response.\n",
      "For example if the text contains word 'kučieris' which is related to 'zirgs' you should also include 'kučieris' in the response.\n",
      "For example if the text contains word 'Fords' which is semantically similar to 'Mercedes' you should include 'Fords' in the response.\n",
      "Latvian text follows: \n"
     ]
    }
   ],
   "source": [
    "land_transportation = \"\"\"'zirgs' 'dzelzceļš' 'ormanis' 'pajūgs' 'kariete' 'kamanas'\n",
    "'velosipēds' 'automašīna' 'mašīna' 'vilciens' 'lokomotīve' 'tramvajs' 'bānītis' 'Mercedes'\"\"\"\n",
    "# get rid of '\n",
    "land_transportation = land_transportation.replace(\"'\", \"\")\n",
    "# split by space\n",
    "land_transportation = land_transportation.split()\n",
    "# print land_transportation\n",
    "print(land_transportation)\n",
    "\n",
    "# now let's recreate system_prompt_2 with unique values\n",
    "# prompt_with_terms = f\"\"\"You are an expert on Latvian language and transportation.\n",
    "# 1. Please identify which keywords similar to terms in given list of land transportaton vehicles are present in the given text.\n",
    "# 2. List of keywords: {\" \".join(land_transportation)}\n",
    "# 3. Display the similar keywords as a list preserving their original transcription variants as they appear in the text. Text follows:\"\"\"\n",
    "\n",
    "# prompt_with_terms = f\"\"\"You are an expert on Latvian language and transportation.\n",
    "# Analyze the following Latvian document and identify which terms are semantically similar in meaning to one of the following keywords:\n",
    "# {' '.join(land_transportation)}\n",
    "# Display only the semantically related terms exactly as found in the text and nothing else. Latvian text follows: \"\"\"\n",
    "\n",
    "\n",
    "prompt_with_terms = f\"\"\"You are an expert on Latvian language and transportation.\n",
    "Analyze the following Latvian document and identify which terms are semantically similar in meaning to one of the following keywords:\n",
    "{' '.join(land_transportation)}\n",
    "Display only the semantically related noun terms exactly as found in the text and nothing else. \n",
    "For example if the text contains the word 'zirgā' which is a form of 'zirgs' you should include 'zirgā' in the response.\n",
    "For example if the text contains word 'kučieris' which is related to 'zirgs' you should also include 'kučieris' in the response.\n",
    "For example if the text contains word 'Fords' which is semantically similar to 'Mercedes' you should include 'Fords' in the response.\n",
    "Latvian text follows: \"\"\"\n",
    "print(\"Prompt with terms:\")\n",
    "print(prompt_with_terms)"
   ]
  },
  {
   "cell_type": "markdown",
   "metadata": {},
   "source": [
    "## Function to call the model multiple times"
   ]
  },
  {
   "cell_type": "code",
   "execution_count": 19,
   "metadata": {},
   "outputs": [],
   "source": [
    "# let's make a function that will take as parameters the following:\n",
    "# texts, system_prompt, verbose, delay, max_retries, model, responses_folder\n",
    "# first we will create a subfolder in responses_folder named YYYY_MM_DD_model\n",
    "# then we will iterate over all texts and call openai_chat function with text as prompt\n",
    "# we will save the response in the subfolder with the same name as the text\n",
    "# we will delay with given delay between requests\n",
    "# we will retry max_retries times if we get an error\n",
    "\n",
    "def openai_chat_all(texts, system_prompt, verbose, delay, max_retries, model, responses_folder, responses_folder_suffix=\"with_terms\"):\n",
    "  # create subfolder in responses_folder\n",
    "  # let's create model_name from model by replacing / with _\n",
    "  model_name = model.replace(\"/\", \"_\")\n",
    "  model_name = model_name.replace(\":\", \"_\")\n",
    "  subfolder = responses_folder / f\"{datetime.now().strftime('%Y_%m_%d')}_{model_name}_{responses_folder_suffix}\"\n",
    "  if verbose:\n",
    "    print(f\"Subfolder: {subfolder}\")\n",
    "  # create subfolder if it does not exist\n",
    "  subfolder.mkdir(exist_ok=True)\n",
    "  # assert subfolder exists\n",
    "  assert subfolder.exists(), f\"Subfolder {subfolder} does not exist\"\n",
    "  # iterate over all texts\n",
    "  for key, value in tqdm(texts.items()):\n",
    "    if verbose:\n",
    "      print(f\"Processing key: {key}\")\n",
    "    # call openai_chat function with text as prompt\n",
    "    response = openai_chat(user_prompt=value, \n",
    "                           system_prompt=system_prompt, \n",
    "                           verbose=verbose, delay=delay, max_retries=max_retries, model=model)\n",
    "    # save the response in the subfolder with the same name as the text\n",
    "    with open(subfolder / f\"{key}.txt\", \"w\", encoding=\"utf-8\") as f:\n",
    "      f.write(response)\n",
    "    # delay with given delay between requests\n",
    "    time.sleep(delay)\n",
    "\n",
    "# let's test on first 10 texts\n",
    "# openai_chat_all(dict(list(texts.items())[:20]), prompt_with_terms, True, 0.2, 10, model, responses_folder)"
   ]
  },
  {
   "cell_type": "code",
   "execution_count": null,
   "metadata": {},
   "outputs": [],
   "source": [
    "deep_seek_model = \"deepseek/deepseek-r1:free\"\n",
    "# let's try 20 texts with deepseek model\n",
    "openai_chat_all(dict(list(texts.items())[:20]), prompt_with_terms, True, 0.2, 10, deep_seek_model, responses_folder, \"with_terms\")"
   ]
  },
  {
   "cell_type": "code",
   "execution_count": 21,
   "metadata": {},
   "outputs": [
    {
     "name": "stdout",
     "output_type": "stream",
     "text": [
      "Subfolder: ..\\data\\responses\\2025_02_04_google_gemini-2.0-flash-thinking-exp_free_with_terms\n"
     ]
    },
    {
     "name": "stderr",
     "output_type": "stream",
     "text": [
      "  0%|          | 0/20 [00:00<?, ?it/s]"
     ]
    },
    {
     "name": "stdout",
     "output_type": "stream",
     "text": [
      "Processing key: AizsV_MilaU_1049452\n",
      "Using model google/gemini-2.0-flash-thinking-exp:free\n",
      "System prompt: You are an expert on Latvian language and transportation.\n",
      "Analyze the following Latvian document and identify which terms are semantically similar in meaning to one of the following keywords:\n",
      "zirgs dzelzceļš ormanis pajūgs kariete kamanas velosipēds automašīna mašīna vilciens lokomotīve tramvajs bānītis Mercedes\n",
      "Display only the semantically related noun terms exactly as found in the text and nothing else. \n",
      "For example if the text contains the word 'zirgā' which is a form of 'zirgs' you should include 'zirgā' in the response.\n",
      "For example if the text contains word 'kučieris' which is related to 'zirgs' you should also include 'kučieris' in the response.\n",
      "For example if the text contains word 'Fords' which is semantically similar to 'Mercedes' you should include 'Fords' in the response.\n",
      "Latvian text follows: \n",
      "Start time: 2025-02-04 10:39:44.661895\n",
      "Time taken: 0:00:06.694392\n"
     ]
    },
    {
     "name": "stderr",
     "output_type": "stream",
     "text": [
      "  5%|▌         | 1/20 [00:07<02:27,  7.78s/it]"
     ]
    },
    {
     "name": "stdout",
     "output_type": "stream",
     "text": [
      "Processing key: AkurJ_DegoS_771400\n",
      "Using model google/gemini-2.0-flash-thinking-exp:free\n",
      "System prompt: You are an expert on Latvian language and transportation.\n",
      "Analyze the following Latvian document and identify which terms are semantically similar in meaning to one of the following keywords:\n",
      "zirgs dzelzceļš ormanis pajūgs kariete kamanas velosipēds automašīna mašīna vilciens lokomotīve tramvajs bānītis Mercedes\n",
      "Display only the semantically related noun terms exactly as found in the text and nothing else. \n",
      "For example if the text contains the word 'zirgā' which is a form of 'zirgs' you should include 'zirgā' in the response.\n",
      "For example if the text contains word 'kučieris' which is related to 'zirgs' you should also include 'kučieris' in the response.\n",
      "For example if the text contains word 'Fords' which is semantically similar to 'Mercedes' you should include 'Fords' in the response.\n",
      "Latvian text follows: \n",
      "Start time: 2025-02-04 10:39:52.431621\n",
      "Time taken: 0:00:04.333805\n"
     ]
    },
    {
     "name": "stderr",
     "output_type": "stream",
     "text": [
      " 10%|█         | 2/20 [00:13<01:54,  6.38s/it]"
     ]
    },
    {
     "name": "stdout",
     "output_type": "stream",
     "text": [
      "Processing key: AkurJ_PeteD_886346\n",
      "Using model google/gemini-2.0-flash-thinking-exp:free\n",
      "System prompt: You are an expert on Latvian language and transportation.\n",
      "Analyze the following Latvian document and identify which terms are semantically similar in meaning to one of the following keywords:\n",
      "zirgs dzelzceļš ormanis pajūgs kariete kamanas velosipēds automašīna mašīna vilciens lokomotīve tramvajs bānītis Mercedes\n",
      "Display only the semantically related noun terms exactly as found in the text and nothing else. \n",
      "For example if the text contains the word 'zirgā' which is a form of 'zirgs' you should include 'zirgā' in the response.\n",
      "For example if the text contains word 'kučieris' which is related to 'zirgs' you should also include 'kučieris' in the response.\n",
      "For example if the text contains word 'Fords' which is semantically similar to 'Mercedes' you should include 'Fords' in the response.\n",
      "Latvian text follows: \n",
      "Start time: 2025-02-04 10:39:57.747210\n",
      "Time taken: 0:00:05.957774\n"
     ]
    },
    {
     "name": "stderr",
     "output_type": "stream",
     "text": [
      " 15%|█▌        | 3/20 [00:20<01:52,  6.64s/it]"
     ]
    },
    {
     "name": "stdout",
     "output_type": "stream",
     "text": [
      "Processing key: AkurJ_UgunZ_1049441\n",
      "Using model google/gemini-2.0-flash-thinking-exp:free\n",
      "System prompt: You are an expert on Latvian language and transportation.\n",
      "Analyze the following Latvian document and identify which terms are semantically similar in meaning to one of the following keywords:\n",
      "zirgs dzelzceļš ormanis pajūgs kariete kamanas velosipēds automašīna mašīna vilciens lokomotīve tramvajs bānītis Mercedes\n",
      "Display only the semantically related noun terms exactly as found in the text and nothing else. \n",
      "For example if the text contains the word 'zirgā' which is a form of 'zirgs' you should include 'zirgā' in the response.\n",
      "For example if the text contains word 'kučieris' which is related to 'zirgs' you should also include 'kučieris' in the response.\n",
      "For example if the text contains word 'Fords' which is semantically similar to 'Mercedes' you should include 'Fords' in the response.\n",
      "Latvian text follows: \n",
      "Start time: 2025-02-04 10:40:04.727318\n",
      "Time taken: 0:00:04.401191\n"
     ]
    },
    {
     "name": "stderr",
     "output_type": "stream",
     "text": [
      " 20%|██        | 4/20 [00:25<01:38,  6.16s/it]"
     ]
    },
    {
     "name": "stdout",
     "output_type": "stream",
     "text": [
      "Processing key: Andra_Elita_1053573\n",
      "Using model google/gemini-2.0-flash-thinking-exp:free\n",
      "System prompt: You are an expert on Latvian language and transportation.\n",
      "Analyze the following Latvian document and identify which terms are semantically similar in meaning to one of the following keywords:\n",
      "zirgs dzelzceļš ormanis pajūgs kariete kamanas velosipēds automašīna mašīna vilciens lokomotīve tramvajs bānītis Mercedes\n",
      "Display only the semantically related noun terms exactly as found in the text and nothing else. \n",
      "For example if the text contains the word 'zirgā' which is a form of 'zirgs' you should include 'zirgā' in the response.\n",
      "For example if the text contains word 'kučieris' which is related to 'zirgs' you should also include 'kučieris' in the response.\n",
      "For example if the text contains word 'Fords' which is semantically similar to 'Mercedes' you should include 'Fords' in the response.\n",
      "Latvian text follows: \n",
      "Start time: 2025-02-04 10:40:10.124077\n",
      "Time taken: 0:00:05.123360\n"
     ]
    },
    {
     "name": "stderr",
     "output_type": "stream",
     "text": [
      " 25%|██▌       | 5/20 [00:31<01:32,  6.15s/it]"
     ]
    },
    {
     "name": "stdout",
     "output_type": "stream",
     "text": [
      "Processing key: Anoni_BandK_1333186\n",
      "Using model google/gemini-2.0-flash-thinking-exp:free\n",
      "System prompt: You are an expert on Latvian language and transportation.\n",
      "Analyze the following Latvian document and identify which terms are semantically similar in meaning to one of the following keywords:\n",
      "zirgs dzelzceļš ormanis pajūgs kariete kamanas velosipēds automašīna mašīna vilciens lokomotīve tramvajs bānītis Mercedes\n",
      "Display only the semantically related noun terms exactly as found in the text and nothing else. \n",
      "For example if the text contains the word 'zirgā' which is a form of 'zirgs' you should include 'zirgā' in the response.\n",
      "For example if the text contains word 'kučieris' which is related to 'zirgs' you should also include 'kučieris' in the response.\n",
      "For example if the text contains word 'Fords' which is semantically similar to 'Mercedes' you should include 'Fords' in the response.\n",
      "Latvian text follows: \n",
      "Start time: 2025-02-04 10:40:16.334114\n",
      "Time taken: 0:00:05.224011\n"
     ]
    },
    {
     "name": "stderr",
     "output_type": "stream",
     "text": [
      " 30%|███       | 6/20 [00:37<01:26,  6.20s/it]"
     ]
    },
    {
     "name": "stdout",
     "output_type": "stream",
     "text": [
      "Processing key: Anoni_BandK_419229\n",
      "Using model google/gemini-2.0-flash-thinking-exp:free\n",
      "System prompt: You are an expert on Latvian language and transportation.\n",
      "Analyze the following Latvian document and identify which terms are semantically similar in meaning to one of the following keywords:\n",
      "zirgs dzelzceļš ormanis pajūgs kariete kamanas velosipēds automašīna mašīna vilciens lokomotīve tramvajs bānītis Mercedes\n",
      "Display only the semantically related noun terms exactly as found in the text and nothing else. \n",
      "For example if the text contains the word 'zirgā' which is a form of 'zirgs' you should include 'zirgā' in the response.\n",
      "For example if the text contains word 'kučieris' which is related to 'zirgs' you should also include 'kučieris' in the response.\n",
      "For example if the text contains word 'Fords' which is semantically similar to 'Mercedes' you should include 'Fords' in the response.\n",
      "Latvian text follows: \n",
      "Start time: 2025-02-04 10:40:22.573136\n",
      "Time taken: 0:00:05.738908\n"
     ]
    },
    {
     "name": "stderr",
     "output_type": "stream",
     "text": [
      " 35%|███▌      | 7/20 [00:44<01:22,  6.38s/it]"
     ]
    },
    {
     "name": "stdout",
     "output_type": "stream",
     "text": [
      "Processing key: Anoni_KaptT_419839\n",
      "Using model google/gemini-2.0-flash-thinking-exp:free\n",
      "System prompt: You are an expert on Latvian language and transportation.\n",
      "Analyze the following Latvian document and identify which terms are semantically similar in meaning to one of the following keywords:\n",
      "zirgs dzelzceļš ormanis pajūgs kariete kamanas velosipēds automašīna mašīna vilciens lokomotīve tramvajs bānītis Mercedes\n",
      "Display only the semantically related noun terms exactly as found in the text and nothing else. \n",
      "For example if the text contains the word 'zirgā' which is a form of 'zirgs' you should include 'zirgā' in the response.\n",
      "For example if the text contains word 'kučieris' which is related to 'zirgs' you should also include 'kučieris' in the response.\n",
      "For example if the text contains word 'Fords' which is semantically similar to 'Mercedes' you should include 'Fords' in the response.\n",
      "Latvian text follows: \n",
      "Start time: 2025-02-04 10:40:29.678312\n",
      "Time taken: 0:00:04.567028\n"
     ]
    },
    {
     "name": "stderr",
     "output_type": "stream",
     "text": [
      " 40%|████      | 8/20 [00:50<01:14,  6.24s/it]"
     ]
    },
    {
     "name": "stdout",
     "output_type": "stream",
     "text": [
      "Processing key: Anoni_SarkM_1350350\n",
      "Using model google/gemini-2.0-flash-thinking-exp:free\n",
      "System prompt: You are an expert on Latvian language and transportation.\n",
      "Analyze the following Latvian document and identify which terms are semantically similar in meaning to one of the following keywords:\n",
      "zirgs dzelzceļš ormanis pajūgs kariete kamanas velosipēds automašīna mašīna vilciens lokomotīve tramvajs bānītis Mercedes\n",
      "Display only the semantically related noun terms exactly as found in the text and nothing else. \n",
      "For example if the text contains the word 'zirgā' which is a form of 'zirgs' you should include 'zirgā' in the response.\n",
      "For example if the text contains word 'kučieris' which is related to 'zirgs' you should also include 'kučieris' in the response.\n",
      "For example if the text contains word 'Fords' which is semantically similar to 'Mercedes' you should include 'Fords' in the response.\n",
      "Latvian text follows: \n",
      "Start time: 2025-02-04 10:40:35.462403\n"
     ]
    },
    {
     "name": "stderr",
     "output_type": "stream",
     "text": [
      " 45%|████▌     | 9/20 [00:54<01:01,  5.58s/it]"
     ]
    },
    {
     "name": "stdout",
     "output_type": "stream",
     "text": [
      "Time taken: 0:00:02.908504\n",
      "Processing key: ArdeE_ApLie_1051730\n",
      "Using model google/gemini-2.0-flash-thinking-exp:free\n",
      "System prompt: You are an expert on Latvian language and transportation.\n",
      "Analyze the following Latvian document and identify which terms are semantically similar in meaning to one of the following keywords:\n",
      "zirgs dzelzceļš ormanis pajūgs kariete kamanas velosipēds automašīna mašīna vilciens lokomotīve tramvajs bānītis Mercedes\n",
      "Display only the semantically related noun terms exactly as found in the text and nothing else. \n",
      "For example if the text contains the word 'zirgā' which is a form of 'zirgs' you should include 'zirgā' in the response.\n",
      "For example if the text contains word 'kučieris' which is related to 'zirgs' you should also include 'kučieris' in the response.\n",
      "For example if the text contains word 'Fords' which is semantically similar to 'Mercedes' you should include 'Fords' in the response.\n",
      "Latvian text follows: \n",
      "Start time: 2025-02-04 10:40:39.389609\n",
      "Time taken: 0:00:03.167968\n"
     ]
    },
    {
     "name": "stderr",
     "output_type": "stream",
     "text": [
      " 50%|█████     | 10/20 [00:58<00:51,  5.15s/it]"
     ]
    },
    {
     "name": "stdout",
     "output_type": "stream",
     "text": [
      "Processing key: ArdeE_SvetA_1046832\n",
      "Using model google/gemini-2.0-flash-thinking-exp:free\n",
      "System prompt: You are an expert on Latvian language and transportation.\n",
      "Analyze the following Latvian document and identify which terms are semantically similar in meaning to one of the following keywords:\n",
      "zirgs dzelzceļš ormanis pajūgs kariete kamanas velosipēds automašīna mašīna vilciens lokomotīve tramvajs bānītis Mercedes\n",
      "Display only the semantically related noun terms exactly as found in the text and nothing else. \n",
      "For example if the text contains the word 'zirgā' which is a form of 'zirgs' you should include 'zirgā' in the response.\n",
      "For example if the text contains word 'kučieris' which is related to 'zirgs' you should also include 'kučieris' in the response.\n",
      "For example if the text contains word 'Fords' which is semantically similar to 'Mercedes' you should include 'Fords' in the response.\n",
      "Latvian text follows: \n",
      "Start time: 2025-02-04 10:40:43.640152\n",
      "Time taken: 0:00:03.196786\n"
     ]
    },
    {
     "name": "stderr",
     "output_type": "stream",
     "text": [
      " 55%|█████▌    | 11/20 [01:03<00:43,  4.88s/it]"
     ]
    },
    {
     "name": "stdout",
     "output_type": "stream",
     "text": [
      "Processing key: ArdsL_TrijV_1053572\n",
      "Using model google/gemini-2.0-flash-thinking-exp:free\n",
      "System prompt: You are an expert on Latvian language and transportation.\n",
      "Analyze the following Latvian document and identify which terms are semantically similar in meaning to one of the following keywords:\n",
      "zirgs dzelzceļš ormanis pajūgs kariete kamanas velosipēds automašīna mašīna vilciens lokomotīve tramvajs bānītis Mercedes\n",
      "Display only the semantically related noun terms exactly as found in the text and nothing else. \n",
      "For example if the text contains the word 'zirgā' which is a form of 'zirgs' you should include 'zirgā' in the response.\n",
      "For example if the text contains word 'kučieris' which is related to 'zirgs' you should also include 'kučieris' in the response.\n",
      "For example if the text contains word 'Fords' which is semantically similar to 'Mercedes' you should include 'Fords' in the response.\n",
      "Latvian text follows: \n",
      "Start time: 2025-02-04 10:40:47.878947\n",
      "Time taken: 0:00:03.094648\n"
     ]
    },
    {
     "name": "stderr",
     "output_type": "stream",
     "text": [
      " 60%|██████    | 12/20 [01:07<00:37,  4.66s/it]"
     ]
    },
    {
     "name": "stdout",
     "output_type": "stream",
     "text": [
      "Processing key: Arnis_AndrS_948028\n",
      "Using model google/gemini-2.0-flash-thinking-exp:free\n",
      "System prompt: You are an expert on Latvian language and transportation.\n",
      "Analyze the following Latvian document and identify which terms are semantically similar in meaning to one of the following keywords:\n",
      "zirgs dzelzceļš ormanis pajūgs kariete kamanas velosipēds automašīna mašīna vilciens lokomotīve tramvajs bānītis Mercedes\n",
      "Display only the semantically related noun terms exactly as found in the text and nothing else. \n",
      "For example if the text contains the word 'zirgā' which is a form of 'zirgs' you should include 'zirgā' in the response.\n",
      "For example if the text contains word 'kučieris' which is related to 'zirgs' you should also include 'kučieris' in the response.\n",
      "For example if the text contains word 'Fords' which is semantically similar to 'Mercedes' you should include 'Fords' in the response.\n",
      "Latvian text follows: \n",
      "Start time: 2025-02-04 10:40:52.264780\n",
      "Time taken: 0:00:03.559856\n"
     ]
    },
    {
     "name": "stderr",
     "output_type": "stream",
     "text": [
      " 65%|██████▌   | 13/20 [01:12<00:32,  4.71s/it]"
     ]
    },
    {
     "name": "stdout",
     "output_type": "stream",
     "text": [
      "Processing key: Arnis_MilaL_1047332\n",
      "Using model google/gemini-2.0-flash-thinking-exp:free\n",
      "System prompt: You are an expert on Latvian language and transportation.\n",
      "Analyze the following Latvian document and identify which terms are semantically similar in meaning to one of the following keywords:\n",
      "zirgs dzelzceļš ormanis pajūgs kariete kamanas velosipēds automašīna mašīna vilciens lokomotīve tramvajs bānītis Mercedes\n",
      "Display only the semantically related noun terms exactly as found in the text and nothing else. \n",
      "For example if the text contains the word 'zirgā' which is a form of 'zirgs' you should include 'zirgā' in the response.\n",
      "For example if the text contains word 'kučieris' which is related to 'zirgs' you should also include 'kučieris' in the response.\n",
      "For example if the text contains word 'Fords' which is semantically similar to 'Mercedes' you should include 'Fords' in the response.\n",
      "Latvian text follows: \n",
      "Start time: 2025-02-04 10:40:56.826161\n",
      "Time taken: 0:00:03.310929\n"
     ]
    },
    {
     "name": "stderr",
     "output_type": "stream",
     "text": [
      " 70%|███████   | 14/20 [01:16<00:27,  4.59s/it]"
     ]
    },
    {
     "name": "stdout",
     "output_type": "stream",
     "text": [
      "Processing key: Arnis_TaurK_1051711\n",
      "Using model google/gemini-2.0-flash-thinking-exp:free\n",
      "System prompt: You are an expert on Latvian language and transportation.\n",
      "Analyze the following Latvian document and identify which terms are semantically similar in meaning to one of the following keywords:\n",
      "zirgs dzelzceļš ormanis pajūgs kariete kamanas velosipēds automašīna mašīna vilciens lokomotīve tramvajs bānītis Mercedes\n",
      "Display only the semantically related noun terms exactly as found in the text and nothing else. \n",
      "For example if the text contains the word 'zirgā' which is a form of 'zirgs' you should include 'zirgā' in the response.\n",
      "For example if the text contains word 'kučieris' which is related to 'zirgs' you should also include 'kučieris' in the response.\n",
      "For example if the text contains word 'Fords' which is semantically similar to 'Mercedes' you should include 'Fords' in the response.\n",
      "Latvian text follows: \n",
      "Start time: 2025-02-04 10:41:01.192105\n"
     ]
    },
    {
     "name": "stderr",
     "output_type": "stream",
     "text": [
      " 75%|███████▌  | 15/20 [01:22<00:25,  5.01s/it]"
     ]
    },
    {
     "name": "stdout",
     "output_type": "stream",
     "text": [
      "Time taken: 0:00:04.911653\n",
      "Processing key: Artis_ArNai_1053600\n",
      "Using model google/gemini-2.0-flash-thinking-exp:free\n",
      "System prompt: You are an expert on Latvian language and transportation.\n",
      "Analyze the following Latvian document and identify which terms are semantically similar in meaning to one of the following keywords:\n",
      "zirgs dzelzceļš ormanis pajūgs kariete kamanas velosipēds automašīna mašīna vilciens lokomotīve tramvajs bānītis Mercedes\n",
      "Display only the semantically related noun terms exactly as found in the text and nothing else. \n",
      "For example if the text contains the word 'zirgā' which is a form of 'zirgs' you should include 'zirgā' in the response.\n",
      "For example if the text contains word 'kučieris' which is related to 'zirgs' you should also include 'kučieris' in the response.\n",
      "For example if the text contains word 'Fords' which is semantically similar to 'Mercedes' you should include 'Fords' in the response.\n",
      "Latvian text follows: \n",
      "Start time: 2025-02-04 10:41:07.116407\n",
      "Time taken: 0:00:03.826975\n"
     ]
    },
    {
     "name": "stderr",
     "output_type": "stream",
     "text": [
      " 80%|████████  | 16/20 [01:27<00:19,  4.96s/it]"
     ]
    },
    {
     "name": "stdout",
     "output_type": "stream",
     "text": [
      "Processing key: AustA_GaraJ_1025406\n",
      "Using model google/gemini-2.0-flash-thinking-exp:free\n",
      "System prompt: You are an expert on Latvian language and transportation.\n",
      "Analyze the following Latvian document and identify which terms are semantically similar in meaning to one of the following keywords:\n",
      "zirgs dzelzceļš ormanis pajūgs kariete kamanas velosipēds automašīna mašīna vilciens lokomotīve tramvajs bānītis Mercedes\n",
      "Display only the semantically related noun terms exactly as found in the text and nothing else. \n",
      "For example if the text contains the word 'zirgā' which is a form of 'zirgs' you should include 'zirgā' in the response.\n",
      "For example if the text contains word 'kučieris' which is related to 'zirgs' you should also include 'kučieris' in the response.\n",
      "For example if the text contains word 'Fords' which is semantically similar to 'Mercedes' you should include 'Fords' in the response.\n",
      "Latvian text follows: \n",
      "Start time: 2025-02-04 10:41:11.928684\n",
      "Time taken: 0:00:05.551808\n"
     ]
    },
    {
     "name": "stderr",
     "output_type": "stream",
     "text": [
      " 85%|████████▌ | 17/20 [01:33<00:16,  5.43s/it]"
     ]
    },
    {
     "name": "stdout",
     "output_type": "stream",
     "text": [
      "Processing key: AustA_KaspG_948026\n",
      "Using model google/gemini-2.0-flash-thinking-exp:free\n",
      "System prompt: You are an expert on Latvian language and transportation.\n",
      "Analyze the following Latvian document and identify which terms are semantically similar in meaning to one of the following keywords:\n",
      "zirgs dzelzceļš ormanis pajūgs kariete kamanas velosipēds automašīna mašīna vilciens lokomotīve tramvajs bānītis Mercedes\n",
      "Display only the semantically related noun terms exactly as found in the text and nothing else. \n",
      "For example if the text contains the word 'zirgā' which is a form of 'zirgs' you should include 'zirgā' in the response.\n",
      "For example if the text contains word 'kučieris' which is related to 'zirgs' you should also include 'kučieris' in the response.\n",
      "For example if the text contains word 'Fords' which is semantically similar to 'Mercedes' you should include 'Fords' in the response.\n",
      "Latvian text follows: \n",
      "Start time: 2025-02-04 10:41:18.550514\n",
      "Time taken: 0:00:03.186671\n"
     ]
    },
    {
     "name": "stderr",
     "output_type": "stream",
     "text": [
      " 90%|█████████ | 18/20 [01:38<00:10,  5.08s/it]"
     ]
    },
    {
     "name": "stdout",
     "output_type": "stream",
     "text": [
      "Processing key: AustA_Puisk_1047362\n",
      "Using model google/gemini-2.0-flash-thinking-exp:free\n",
      "System prompt: You are an expert on Latvian language and transportation.\n",
      "Analyze the following Latvian document and identify which terms are semantically similar in meaning to one of the following keywords:\n",
      "zirgs dzelzceļš ormanis pajūgs kariete kamanas velosipēds automašīna mašīna vilciens lokomotīve tramvajs bānītis Mercedes\n",
      "Display only the semantically related noun terms exactly as found in the text and nothing else. \n",
      "For example if the text contains the word 'zirgā' which is a form of 'zirgs' you should include 'zirgā' in the response.\n",
      "For example if the text contains word 'kučieris' which is related to 'zirgs' you should also include 'kučieris' in the response.\n",
      "For example if the text contains word 'Fords' which is semantically similar to 'Mercedes' you should include 'Fords' in the response.\n",
      "Latvian text follows: \n",
      "Start time: 2025-02-04 10:41:22.743696\n"
     ]
    },
    {
     "name": "stderr",
     "output_type": "stream",
     "text": [
      " 95%|█████████▌| 19/20 [01:42<00:04,  4.72s/it]"
     ]
    },
    {
     "name": "stdout",
     "output_type": "stream",
     "text": [
      "Time taken: 0:00:02.894614\n",
      "Processing key: BaloP_DaugU_1051661\n",
      "Using model google/gemini-2.0-flash-thinking-exp:free\n",
      "System prompt: You are an expert on Latvian language and transportation.\n",
      "Analyze the following Latvian document and identify which terms are semantically similar in meaning to one of the following keywords:\n",
      "zirgs dzelzceļš ormanis pajūgs kariete kamanas velosipēds automašīna mašīna vilciens lokomotīve tramvajs bānītis Mercedes\n",
      "Display only the semantically related noun terms exactly as found in the text and nothing else. \n",
      "For example if the text contains the word 'zirgā' which is a form of 'zirgs' you should include 'zirgā' in the response.\n",
      "For example if the text contains word 'kučieris' which is related to 'zirgs' you should also include 'kučieris' in the response.\n",
      "For example if the text contains word 'Fords' which is semantically similar to 'Mercedes' you should include 'Fords' in the response.\n",
      "Latvian text follows: \n",
      "Start time: 2025-02-04 10:41:26.682479\n",
      "Time taken: 0:00:02.840303\n"
     ]
    },
    {
     "name": "stderr",
     "output_type": "stream",
     "text": [
      "100%|██████████| 20/20 [01:45<00:00,  5.30s/it]\n"
     ]
    }
   ],
   "source": [
    "# let's try gemini experimental\n",
    "gemini_exp_model = \"google/gemini-2.0-flash-thinking-exp:free\"\n",
    "# let's try 20 texts with gemini experimental model\n",
    "openai_chat_all(dict(list(texts.items())[:20]), prompt_with_terms, True, 0.2, 10, gemini_exp_model, responses_folder, \"with_terms\")"
   ]
  },
  {
   "cell_type": "code",
   "execution_count": 21,
   "metadata": {},
   "outputs": [
    {
     "name": "stdout",
     "output_type": "stream",
     "text": [
      "Prompt without terms:\n",
      "You are an expert on Latvian language and transportation.\n",
      "Please extract a comprehensive list of all mentioned land transportation vehicles from the given texts.\n",
      "Show all specific land transportation types found in the text as a list.\n",
      "No other information is needed, just the transportation terms as they appear in the text.\n",
      "Provide the terms only in Latvian, preserving their original transcription variants as they appear in the text. Latvian Text follows: \n"
     ]
    }
   ],
   "source": [
    "prompt_no_terms = system_prompt\n",
    "print(\"Prompt without terms:\")\n",
    "print(prompt_no_terms)"
   ]
  },
  {
   "cell_type": "code",
   "execution_count": 22,
   "metadata": {},
   "outputs": [
    {
     "name": "stdout",
     "output_type": "stream",
     "text": [
      "Subfolder: ..\\data\\responses\\2025_01_29_google_gemini-flash-1.5-8b_no_terms\n"
     ]
    },
    {
     "name": "stderr",
     "output_type": "stream",
     "text": [
      "  0%|          | 0/20 [00:00<?, ?it/s]"
     ]
    },
    {
     "name": "stdout",
     "output_type": "stream",
     "text": [
      "Processing key: AizsV_MilaU_1049452\n",
      "Using model google/gemini-flash-1.5-8b\n",
      "System prompt: You are an expert on Latvian language and transportation.\n",
      "Please extract a comprehensive list of all mentioned land transportation vehicles from the given texts.\n",
      "Show all specific land transportation types found in the text as a list.\n",
      "No other information is needed, just the transportation terms as they appear in the text.\n",
      "Provide the terms only in Latvian, preserving their original transcription variants as they appear in the text. Latvian Text follows: \n",
      "Start time: 2025-01-29 10:40:07.210005\n"
     ]
    },
    {
     "name": "stderr",
     "output_type": "stream",
     "text": [
      "  5%|▌         | 1/20 [00:07<02:18,  7.30s/it]"
     ]
    },
    {
     "name": "stdout",
     "output_type": "stream",
     "text": [
      "Time taken: 0:00:06.237332\n",
      "Processing key: AkurJ_DegoS_771400\n",
      "Using model google/gemini-flash-1.5-8b\n",
      "System prompt: You are an expert on Latvian language and transportation.\n",
      "Please extract a comprehensive list of all mentioned land transportation vehicles from the given texts.\n",
      "Show all specific land transportation types found in the text as a list.\n",
      "No other information is needed, just the transportation terms as they appear in the text.\n",
      "Provide the terms only in Latvian, preserving their original transcription variants as they appear in the text. Latvian Text follows: \n",
      "Start time: 2025-01-29 10:40:14.479043\n",
      "Time taken: 0:00:03.775122\n"
     ]
    },
    {
     "name": "stderr",
     "output_type": "stream",
     "text": [
      " 10%|█         | 2/20 [00:12<01:45,  5.84s/it]"
     ]
    },
    {
     "name": "stdout",
     "output_type": "stream",
     "text": [
      "Processing key: AkurJ_PeteD_886346\n",
      "Using model google/gemini-flash-1.5-8b\n",
      "System prompt: You are an expert on Latvian language and transportation.\n",
      "Please extract a comprehensive list of all mentioned land transportation vehicles from the given texts.\n",
      "Show all specific land transportation types found in the text as a list.\n",
      "No other information is needed, just the transportation terms as they appear in the text.\n",
      "Provide the terms only in Latvian, preserving their original transcription variants as they appear in the text. Latvian Text follows: \n",
      "Start time: 2025-01-29 10:40:19.259804\n",
      "Time taken: 0:00:08.182847\n"
     ]
    },
    {
     "name": "stderr",
     "output_type": "stream",
     "text": [
      " 15%|█▌        | 3/20 [00:21<02:05,  7.37s/it]"
     ]
    },
    {
     "name": "stdout",
     "output_type": "stream",
     "text": [
      "Processing key: AkurJ_UgunZ_1049441\n",
      "Using model google/gemini-flash-1.5-8b\n",
      "System prompt: You are an expert on Latvian language and transportation.\n",
      "Please extract a comprehensive list of all mentioned land transportation vehicles from the given texts.\n",
      "Show all specific land transportation types found in the text as a list.\n",
      "No other information is needed, just the transportation terms as they appear in the text.\n",
      "Provide the terms only in Latvian, preserving their original transcription variants as they appear in the text. Latvian Text follows: \n",
      "Start time: 2025-01-29 10:40:28.459678\n",
      "Time taken: 0:00:08.312861\n"
     ]
    },
    {
     "name": "stderr",
     "output_type": "stream",
     "text": [
      " 20%|██        | 4/20 [00:30<02:10,  8.14s/it]"
     ]
    },
    {
     "name": "stdout",
     "output_type": "stream",
     "text": [
      "Processing key: Andra_Elita_1053573\n",
      "Using model google/gemini-flash-1.5-8b\n",
      "System prompt: You are an expert on Latvian language and transportation.\n",
      "Please extract a comprehensive list of all mentioned land transportation vehicles from the given texts.\n",
      "Show all specific land transportation types found in the text as a list.\n",
      "No other information is needed, just the transportation terms as they appear in the text.\n",
      "Provide the terms only in Latvian, preserving their original transcription variants as they appear in the text. Latvian Text follows: \n",
      "Start time: 2025-01-29 10:40:37.729697\n",
      "Time taken: 0:00:07.591146\n"
     ]
    },
    {
     "name": "stderr",
     "output_type": "stream",
     "text": [
      " 25%|██▌       | 5/20 [00:39<02:04,  8.29s/it]"
     ]
    },
    {
     "name": "stdout",
     "output_type": "stream",
     "text": [
      "Processing key: Anoni_BandK_1333186\n",
      "Using model google/gemini-flash-1.5-8b\n",
      "System prompt: You are an expert on Latvian language and transportation.\n",
      "Please extract a comprehensive list of all mentioned land transportation vehicles from the given texts.\n",
      "Show all specific land transportation types found in the text as a list.\n",
      "No other information is needed, just the transportation terms as they appear in the text.\n",
      "Provide the terms only in Latvian, preserving their original transcription variants as they appear in the text. Latvian Text follows: \n",
      "Start time: 2025-01-29 10:40:46.315371\n",
      "Time taken: 0:00:39.861545\n"
     ]
    },
    {
     "name": "stderr",
     "output_type": "stream",
     "text": [
      " 30%|███       | 6/20 [01:20<04:31, 19.36s/it]"
     ]
    },
    {
     "name": "stdout",
     "output_type": "stream",
     "text": [
      "Processing key: Anoni_BandK_419229\n",
      "Using model google/gemini-flash-1.5-8b\n",
      "System prompt: You are an expert on Latvian language and transportation.\n",
      "Please extract a comprehensive list of all mentioned land transportation vehicles from the given texts.\n",
      "Show all specific land transportation types found in the text as a list.\n",
      "No other information is needed, just the transportation terms as they appear in the text.\n",
      "Provide the terms only in Latvian, preserving their original transcription variants as they appear in the text. Latvian Text follows: \n",
      "Start time: 2025-01-29 10:41:27.324114\n",
      "Time taken: 0:00:33.292759\n"
     ]
    },
    {
     "name": "stderr",
     "output_type": "stream",
     "text": [
      " 35%|███▌      | 7/20 [01:54<05:15, 24.29s/it]"
     ]
    },
    {
     "name": "stdout",
     "output_type": "stream",
     "text": [
      "Processing key: Anoni_KaptT_419839\n",
      "Using model google/gemini-flash-1.5-8b\n",
      "System prompt: You are an expert on Latvian language and transportation.\n",
      "Please extract a comprehensive list of all mentioned land transportation vehicles from the given texts.\n",
      "Show all specific land transportation types found in the text as a list.\n",
      "No other information is needed, just the transportation terms as they appear in the text.\n",
      "Provide the terms only in Latvian, preserving their original transcription variants as they appear in the text. Latvian Text follows: \n",
      "Start time: 2025-01-29 10:42:01.583005\n",
      "Time taken: 0:00:18.933177\n"
     ]
    },
    {
     "name": "stderr",
     "output_type": "stream",
     "text": [
      " 40%|████      | 8/20 [02:14<04:34, 22.90s/it]"
     ]
    },
    {
     "name": "stdout",
     "output_type": "stream",
     "text": [
      "Processing key: Anoni_SarkM_1350350\n",
      "Using model google/gemini-flash-1.5-8b\n",
      "System prompt: You are an expert on Latvian language and transportation.\n",
      "Please extract a comprehensive list of all mentioned land transportation vehicles from the given texts.\n",
      "Show all specific land transportation types found in the text as a list.\n",
      "No other information is needed, just the transportation terms as they appear in the text.\n",
      "Provide the terms only in Latvian, preserving their original transcription variants as they appear in the text. Latvian Text follows: \n",
      "Start time: 2025-01-29 10:42:21.498193\n",
      "Time taken: 0:00:03.353871\n"
     ]
    },
    {
     "name": "stderr",
     "output_type": "stream",
     "text": [
      " 45%|████▌     | 9/20 [02:18<03:07, 17.09s/it]"
     ]
    },
    {
     "name": "stdout",
     "output_type": "stream",
     "text": [
      "Processing key: ArdeE_ApLie_1051730\n",
      "Using model google/gemini-flash-1.5-8b\n",
      "System prompt: You are an expert on Latvian language and transportation.\n",
      "Please extract a comprehensive list of all mentioned land transportation vehicles from the given texts.\n",
      "Show all specific land transportation types found in the text as a list.\n",
      "No other information is needed, just the transportation terms as they appear in the text.\n",
      "Provide the terms only in Latvian, preserving their original transcription variants as they appear in the text. Latvian Text follows: \n",
      "Start time: 2025-01-29 10:42:25.818392\n",
      "Time taken: 0:00:10.564573\n"
     ]
    },
    {
     "name": "stderr",
     "output_type": "stream",
     "text": [
      " 50%|█████     | 10/20 [02:30<02:34, 15.47s/it]"
     ]
    },
    {
     "name": "stdout",
     "output_type": "stream",
     "text": [
      "Processing key: ArdeE_SvetA_1046832\n",
      "Using model google/gemini-flash-1.5-8b\n",
      "System prompt: You are an expert on Latvian language and transportation.\n",
      "Please extract a comprehensive list of all mentioned land transportation vehicles from the given texts.\n",
      "Show all specific land transportation types found in the text as a list.\n",
      "No other information is needed, just the transportation terms as they appear in the text.\n",
      "Provide the terms only in Latvian, preserving their original transcription variants as they appear in the text. Latvian Text follows: \n",
      "Start time: 2025-01-29 10:42:37.730790\n"
     ]
    },
    {
     "name": "stderr",
     "output_type": "stream",
     "text": [
      " 55%|█████▌    | 11/20 [02:39<02:00, 13.34s/it]"
     ]
    },
    {
     "name": "stdout",
     "output_type": "stream",
     "text": [
      "Time taken: 0:00:07.483849\n",
      "Processing key: ArdsL_TrijV_1053572\n",
      "Using model google/gemini-flash-1.5-8b\n",
      "System prompt: You are an expert on Latvian language and transportation.\n",
      "Please extract a comprehensive list of all mentioned land transportation vehicles from the given texts.\n",
      "Show all specific land transportation types found in the text as a list.\n",
      "No other information is needed, just the transportation terms as they appear in the text.\n",
      "Provide the terms only in Latvian, preserving their original transcription variants as they appear in the text. Latvian Text follows: \n",
      "Start time: 2025-01-29 10:42:46.254123\n",
      "Time taken: 0:00:04.587100\n"
     ]
    },
    {
     "name": "stderr",
     "output_type": "stream",
     "text": [
      " 60%|██████    | 12/20 [02:44<01:27, 11.00s/it]"
     ]
    },
    {
     "name": "stdout",
     "output_type": "stream",
     "text": [
      "Processing key: Arnis_AndrS_948028\n",
      "Using model google/gemini-flash-1.5-8b\n",
      "System prompt: You are an expert on Latvian language and transportation.\n",
      "Please extract a comprehensive list of all mentioned land transportation vehicles from the given texts.\n",
      "Show all specific land transportation types found in the text as a list.\n",
      "No other information is needed, just the transportation terms as they appear in the text.\n",
      "Provide the terms only in Latvian, preserving their original transcription variants as they appear in the text. Latvian Text follows: \n",
      "Start time: 2025-01-29 10:42:51.838382\n",
      "Time taken: 0:00:13.029951\n"
     ]
    },
    {
     "name": "stderr",
     "output_type": "stream",
     "text": [
      " 65%|██████▌   | 13/20 [02:58<01:23, 11.91s/it]"
     ]
    },
    {
     "name": "stdout",
     "output_type": "stream",
     "text": [
      "Processing key: Arnis_MilaL_1047332\n",
      "Using model google/gemini-flash-1.5-8b\n",
      "System prompt: You are an expert on Latvian language and transportation.\n",
      "Please extract a comprehensive list of all mentioned land transportation vehicles from the given texts.\n",
      "Show all specific land transportation types found in the text as a list.\n",
      "No other information is needed, just the transportation terms as they appear in the text.\n",
      "Provide the terms only in Latvian, preserving their original transcription variants as they appear in the text. Latvian Text follows: \n",
      "Start time: 2025-01-29 10:43:05.833611\n",
      "Time taken: 0:00:05.957497\n"
     ]
    },
    {
     "name": "stderr",
     "output_type": "stream",
     "text": [
      " 70%|███████   | 14/20 [03:05<01:02, 10.41s/it]"
     ]
    },
    {
     "name": "stdout",
     "output_type": "stream",
     "text": [
      "Processing key: Arnis_TaurK_1051711\n",
      "Using model google/gemini-flash-1.5-8b\n",
      "System prompt: You are an expert on Latvian language and transportation.\n",
      "Please extract a comprehensive list of all mentioned land transportation vehicles from the given texts.\n",
      "Show all specific land transportation types found in the text as a list.\n",
      "No other information is needed, just the transportation terms as they appear in the text.\n",
      "Provide the terms only in Latvian, preserving their original transcription variants as they appear in the text. Latvian Text follows: \n",
      "Start time: 2025-01-29 10:43:12.757124\n",
      "Time taken: 0:00:16.058270\n"
     ]
    },
    {
     "name": "stderr",
     "output_type": "stream",
     "text": [
      " 75%|███████▌  | 15/20 [03:22<01:02, 12.40s/it]"
     ]
    },
    {
     "name": "stdout",
     "output_type": "stream",
     "text": [
      "Processing key: Artis_ArNai_1053600\n",
      "Using model google/gemini-flash-1.5-8b\n",
      "System prompt: You are an expert on Latvian language and transportation.\n",
      "Please extract a comprehensive list of all mentioned land transportation vehicles from the given texts.\n",
      "Show all specific land transportation types found in the text as a list.\n",
      "No other information is needed, just the transportation terms as they appear in the text.\n",
      "Provide the terms only in Latvian, preserving their original transcription variants as they appear in the text. Latvian Text follows: \n",
      "Start time: 2025-01-29 10:43:29.786726\n",
      "Time taken: 0:00:13.617145\n"
     ]
    },
    {
     "name": "stderr",
     "output_type": "stream",
     "text": [
      " 80%|████████  | 16/20 [03:37<00:52, 13.15s/it]"
     ]
    },
    {
     "name": "stdout",
     "output_type": "stream",
     "text": [
      "Processing key: AustA_GaraJ_1025406\n",
      "Using model google/gemini-flash-1.5-8b\n",
      "System prompt: You are an expert on Latvian language and transportation.\n",
      "Please extract a comprehensive list of all mentioned land transportation vehicles from the given texts.\n",
      "Show all specific land transportation types found in the text as a list.\n",
      "No other information is needed, just the transportation terms as they appear in the text.\n",
      "Provide the terms only in Latvian, preserving their original transcription variants as they appear in the text. Latvian Text follows: \n",
      "Start time: 2025-01-29 10:43:44.654682\n",
      "Time taken: 0:01:03.882531\n"
     ]
    },
    {
     "name": "stderr",
     "output_type": "stream",
     "text": [
      " 85%|████████▌ | 17/20 [04:42<01:26, 28.70s/it]"
     ]
    },
    {
     "name": "stdout",
     "output_type": "stream",
     "text": [
      "Processing key: AustA_KaspG_948026\n",
      "Using model google/gemini-flash-1.5-8b\n",
      "System prompt: You are an expert on Latvian language and transportation.\n",
      "Please extract a comprehensive list of all mentioned land transportation vehicles from the given texts.\n",
      "Show all specific land transportation types found in the text as a list.\n",
      "No other information is needed, just the transportation terms as they appear in the text.\n",
      "Provide the terms only in Latvian, preserving their original transcription variants as they appear in the text. Latvian Text follows: \n",
      "Start time: 2025-01-29 10:44:49.536305\n",
      "Time taken: 0:00:05.223718\n"
     ]
    },
    {
     "name": "stderr",
     "output_type": "stream",
     "text": [
      " 90%|█████████ | 18/20 [04:48<00:43, 21.94s/it]"
     ]
    },
    {
     "name": "stdout",
     "output_type": "stream",
     "text": [
      "Processing key: AustA_Puisk_1047362\n",
      "Using model google/gemini-flash-1.5-8b\n",
      "System prompt: You are an expert on Latvian language and transportation.\n",
      "Please extract a comprehensive list of all mentioned land transportation vehicles from the given texts.\n",
      "Show all specific land transportation types found in the text as a list.\n",
      "No other information is needed, just the transportation terms as they appear in the text.\n",
      "Provide the terms only in Latvian, preserving their original transcription variants as they appear in the text. Latvian Text follows: \n",
      "Start time: 2025-01-29 10:44:55.741725\n",
      "Time taken: 0:00:15.183847\n"
     ]
    },
    {
     "name": "stderr",
     "output_type": "stream",
     "text": [
      " 95%|█████████▌| 19/20 [05:04<00:20, 20.21s/it]"
     ]
    },
    {
     "name": "stdout",
     "output_type": "stream",
     "text": [
      "Processing key: BaloP_DaugU_1051661\n",
      "Using model google/gemini-flash-1.5-8b\n",
      "System prompt: You are an expert on Latvian language and transportation.\n",
      "Please extract a comprehensive list of all mentioned land transportation vehicles from the given texts.\n",
      "Show all specific land transportation types found in the text as a list.\n",
      "No other information is needed, just the transportation terms as they appear in the text.\n",
      "Provide the terms only in Latvian, preserving their original transcription variants as they appear in the text. Latvian Text follows: \n",
      "Start time: 2025-01-29 10:45:11.935732\n",
      "Time taken: 0:00:15.350159\n"
     ]
    },
    {
     "name": "stderr",
     "output_type": "stream",
     "text": [
      "100%|██████████| 20/20 [05:21<00:00, 16.06s/it]\n"
     ]
    }
   ],
   "source": [
    "# now let's run first 20 texts without terms\n",
    "openai_chat_all(dict(list(texts.items())[:20]), prompt_no_terms, True, 0.2, 10, model, responses_folder, \"no_terms\")"
   ]
  },
  {
   "cell_type": "code",
   "execution_count": 23,
   "metadata": {},
   "outputs": [
    {
     "name": "stderr",
     "output_type": "stream",
     "text": [
      "100%|██████████| 433/433 [1:46:06<00:00, 14.70s/it]  \n"
     ]
    }
   ],
   "source": [
    "# now let's run rest in non verbose mode\n",
    "openai_chat_all(dict(list(texts.items())[20:]), prompt_no_terms, False, 0.1, 10, model, responses_folder, \"no_terms\")"
   ]
  },
  {
   "cell_type": "code",
   "execution_count": 27,
   "metadata": {},
   "outputs": [
    {
     "name": "stdout",
     "output_type": "stream",
     "text": [
      "You are an expert on Latvian language and transportation.\n",
      "1. Please identify which keywords similar to terms in given list of land transportaton vehicles are present in the given text.\n",
      "2. List of keywords: zirgs dzelzceļš ormanis pajūgs kariete kamanas velosipēds automašīna mašīna vilciens lokomotīve tramvajs bānītis\n",
      "3. Display the similar keywords as a list preserving their original transcription variants as they appear in the text. Text follows:\n"
     ]
    }
   ],
   "source": [
    "print(prompt_with_terms)"
   ]
  },
  {
   "cell_type": "code",
   "execution_count": 28,
   "metadata": {},
   "outputs": [
    {
     "name": "stdout",
     "output_type": "stream",
     "text": [
      "Subfolder: ..\\data\\responses\\2025_01_29_google_gemini-flash-1.5-8b_with_terms\n"
     ]
    },
    {
     "name": "stderr",
     "output_type": "stream",
     "text": [
      "  0%|          | 0/20 [00:00<?, ?it/s]"
     ]
    },
    {
     "name": "stdout",
     "output_type": "stream",
     "text": [
      "Processing key: AizsV_MilaU_1049452\n",
      "Using model google/gemini-flash-1.5-8b\n",
      "System prompt: You are an expert on Latvian language and transportation.\n",
      "1. Please identify which keywords similar to terms in given list of land transportaton vehicles are present in the given text.\n",
      "2. List of keywords: zirgs dzelzceļš ormanis pajūgs kariete kamanas velosipēds automašīna mašīna vilciens lokomotīve tramvajs bānītis\n",
      "3. Display the similar keywords as a list preserving their original transcription variants as they appear in the text. Text follows:\n",
      "Start time: 2025-01-29 18:18:31.196224\n",
      "Time taken: 0:00:08.651312\n"
     ]
    },
    {
     "name": "stderr",
     "output_type": "stream",
     "text": [
      "  5%|▌         | 1/20 [00:09<03:04,  9.72s/it]"
     ]
    },
    {
     "name": "stdout",
     "output_type": "stream",
     "text": [
      "Processing key: AkurJ_DegoS_771400\n",
      "Using model google/gemini-flash-1.5-8b\n",
      "System prompt: You are an expert on Latvian language and transportation.\n",
      "1. Please identify which keywords similar to terms in given list of land transportaton vehicles are present in the given text.\n",
      "2. List of keywords: zirgs dzelzceļš ormanis pajūgs kariete kamanas velosipēds automašīna mašīna vilciens lokomotīve tramvajs bānītis\n",
      "3. Display the similar keywords as a list preserving their original transcription variants as they appear in the text. Text follows:\n",
      "Start time: 2025-01-29 18:18:40.872988\n"
     ]
    },
    {
     "name": "stderr",
     "output_type": "stream",
     "text": [
      " 10%|█         | 2/20 [00:16<02:25,  8.07s/it]"
     ]
    },
    {
     "name": "stdout",
     "output_type": "stream",
     "text": [
      "Time taken: 0:00:05.900391\n",
      "Processing key: AkurJ_PeteD_886346\n",
      "Using model google/gemini-flash-1.5-8b\n",
      "System prompt: You are an expert on Latvian language and transportation.\n",
      "1. Please identify which keywords similar to terms in given list of land transportaton vehicles are present in the given text.\n",
      "2. List of keywords: zirgs dzelzceļš ormanis pajūgs kariete kamanas velosipēds automašīna mašīna vilciens lokomotīve tramvajs bānītis\n",
      "3. Display the similar keywords as a list preserving their original transcription variants as they appear in the text. Text follows:\n",
      "Start time: 2025-01-29 18:18:47.729473\n",
      "Time taken: 0:00:54.156200\n"
     ]
    },
    {
     "name": "stderr",
     "output_type": "stream",
     "text": [
      " 15%|█▌        | 3/20 [01:11<08:22, 29.55s/it]"
     ]
    },
    {
     "name": "stdout",
     "output_type": "stream",
     "text": [
      "Processing key: AkurJ_UgunZ_1049441\n",
      "Using model google/gemini-flash-1.5-8b\n",
      "System prompt: You are an expert on Latvian language and transportation.\n",
      "1. Please identify which keywords similar to terms in given list of land transportaton vehicles are present in the given text.\n",
      "2. List of keywords: zirgs dzelzceļš ormanis pajūgs kariete kamanas velosipēds automašīna mašīna vilciens lokomotīve tramvajs bānītis\n",
      "3. Display the similar keywords as a list preserving their original transcription variants as they appear in the text. Text follows:\n",
      "Start time: 2025-01-29 18:19:42.872961\n"
     ]
    },
    {
     "name": "stderr",
     "output_type": "stream",
     "text": [
      " 20%|██        | 4/20 [01:22<05:54, 22.14s/it]"
     ]
    },
    {
     "name": "stdout",
     "output_type": "stream",
     "text": [
      "Time taken: 0:00:09.789939\n",
      "Processing key: Andra_Elita_1053573\n",
      "Using model google/gemini-flash-1.5-8b\n",
      "System prompt: You are an expert on Latvian language and transportation.\n",
      "1. Please identify which keywords similar to terms in given list of land transportaton vehicles are present in the given text.\n",
      "2. List of keywords: zirgs dzelzceļš ormanis pajūgs kariete kamanas velosipēds automašīna mašīna vilciens lokomotīve tramvajs bānītis\n",
      "3. Display the similar keywords as a list preserving their original transcription variants as they appear in the text. Text follows:\n",
      "Start time: 2025-01-29 18:19:53.807475\n",
      "Time taken: 0:00:07.961298\n"
     ]
    },
    {
     "name": "stderr",
     "output_type": "stream",
     "text": [
      " 25%|██▌       | 5/20 [01:31<04:21, 17.44s/it]"
     ]
    },
    {
     "name": "stdout",
     "output_type": "stream",
     "text": [
      "Processing key: Anoni_BandK_1333186\n",
      "Using model google/gemini-flash-1.5-8b\n",
      "System prompt: You are an expert on Latvian language and transportation.\n",
      "1. Please identify which keywords similar to terms in given list of land transportaton vehicles are present in the given text.\n",
      "2. List of keywords: zirgs dzelzceļš ormanis pajūgs kariete kamanas velosipēds automašīna mašīna vilciens lokomotīve tramvajs bānītis\n",
      "3. Display the similar keywords as a list preserving their original transcription variants as they appear in the text. Text follows:\n",
      "Start time: 2025-01-29 18:20:02.737126\n",
      "Time taken: 0:00:34.847835\n"
     ]
    },
    {
     "name": "stderr",
     "output_type": "stream",
     "text": [
      " 30%|███       | 6/20 [02:07<05:31, 23.69s/it]"
     ]
    },
    {
     "name": "stdout",
     "output_type": "stream",
     "text": [
      "Processing key: Anoni_BandK_419229\n",
      "Using model google/gemini-flash-1.5-8b\n",
      "System prompt: You are an expert on Latvian language and transportation.\n",
      "1. Please identify which keywords similar to terms in given list of land transportaton vehicles are present in the given text.\n",
      "2. List of keywords: zirgs dzelzceļš ormanis pajūgs kariete kamanas velosipēds automašīna mašīna vilciens lokomotīve tramvajs bānītis\n",
      "3. Display the similar keywords as a list preserving their original transcription variants as they appear in the text. Text follows:\n",
      "Start time: 2025-01-29 18:20:38.568824\n",
      "Time taken: 0:00:33.867620\n"
     ]
    },
    {
     "name": "stderr",
     "output_type": "stream",
     "text": [
      " 35%|███▌      | 7/20 [02:42<05:55, 27.34s/it]"
     ]
    },
    {
     "name": "stdout",
     "output_type": "stream",
     "text": [
      "Processing key: Anoni_KaptT_419839\n",
      "Using model google/gemini-flash-1.5-8b\n",
      "System prompt: You are an expert on Latvian language and transportation.\n",
      "1. Please identify which keywords similar to terms in given list of land transportaton vehicles are present in the given text.\n",
      "2. List of keywords: zirgs dzelzceļš ormanis pajūgs kariete kamanas velosipēds automašīna mašīna vilciens lokomotīve tramvajs bānītis\n",
      "3. Display the similar keywords as a list preserving their original transcription variants as they appear in the text. Text follows:\n",
      "Start time: 2025-01-29 18:21:13.408749\n",
      "Time taken: 0:00:22.671692\n"
     ]
    },
    {
     "name": "stderr",
     "output_type": "stream",
     "text": [
      " 40%|████      | 8/20 [03:05<05:14, 26.17s/it]"
     ]
    },
    {
     "name": "stdout",
     "output_type": "stream",
     "text": [
      "Processing key: Anoni_SarkM_1350350\n",
      "Using model google/gemini-flash-1.5-8b\n",
      "System prompt: You are an expert on Latvian language and transportation.\n",
      "1. Please identify which keywords similar to terms in given list of land transportaton vehicles are present in the given text.\n",
      "2. List of keywords: zirgs dzelzceļš ormanis pajūgs kariete kamanas velosipēds automašīna mašīna vilciens lokomotīve tramvajs bānītis\n",
      "3. Display the similar keywords as a list preserving their original transcription variants as they appear in the text. Text follows:\n",
      "Start time: 2025-01-29 18:21:37.049199\n",
      "Time taken: 0:00:03.992574\n"
     ]
    },
    {
     "name": "stderr",
     "output_type": "stream",
     "text": [
      " 45%|████▌     | 9/20 [03:10<03:34, 19.53s/it]"
     ]
    },
    {
     "name": "stdout",
     "output_type": "stream",
     "text": [
      "Processing key: ArdeE_ApLie_1051730\n",
      "Using model google/gemini-flash-1.5-8b\n",
      "System prompt: You are an expert on Latvian language and transportation.\n",
      "1. Please identify which keywords similar to terms in given list of land transportaton vehicles are present in the given text.\n",
      "2. List of keywords: zirgs dzelzceļš ormanis pajūgs kariete kamanas velosipēds automašīna mašīna vilciens lokomotīve tramvajs bānītis\n",
      "3. Display the similar keywords as a list preserving their original transcription variants as they appear in the text. Text follows:\n",
      "Start time: 2025-01-29 18:21:42.067826\n",
      "Time taken: 0:00:10.941534\n"
     ]
    },
    {
     "name": "stderr",
     "output_type": "stream",
     "text": [
      " 50%|█████     | 10/20 [03:22<02:51, 17.20s/it]"
     ]
    },
    {
     "name": "stdout",
     "output_type": "stream",
     "text": [
      "Processing key: ArdeE_SvetA_1046832\n",
      "Using model google/gemini-flash-1.5-8b\n",
      "System prompt: You are an expert on Latvian language and transportation.\n",
      "1. Please identify which keywords similar to terms in given list of land transportaton vehicles are present in the given text.\n",
      "2. List of keywords: zirgs dzelzceļš ormanis pajūgs kariete kamanas velosipēds automašīna mašīna vilciens lokomotīve tramvajs bānītis\n",
      "3. Display the similar keywords as a list preserving their original transcription variants as they appear in the text. Text follows:\n",
      "Start time: 2025-01-29 18:21:54.005386\n",
      "Time taken: 0:00:29.543506\n"
     ]
    },
    {
     "name": "stderr",
     "output_type": "stream",
     "text": [
      " 55%|█████▌    | 11/20 [03:53<03:11, 21.28s/it]"
     ]
    },
    {
     "name": "stdout",
     "output_type": "stream",
     "text": [
      "Processing key: ArdsL_TrijV_1053572\n",
      "Using model google/gemini-flash-1.5-8b\n",
      "System prompt: You are an expert on Latvian language and transportation.\n",
      "1. Please identify which keywords similar to terms in given list of land transportaton vehicles are present in the given text.\n",
      "2. List of keywords: zirgs dzelzceļš ormanis pajūgs kariete kamanas velosipēds automašīna mašīna vilciens lokomotīve tramvajs bānītis\n",
      "3. Display the similar keywords as a list preserving their original transcription variants as they appear in the text. Text follows:\n",
      "Start time: 2025-01-29 18:22:24.532895\n"
     ]
    },
    {
     "name": "stderr",
     "output_type": "stream",
     "text": [
      " 60%|██████    | 12/20 [03:58<02:11, 16.46s/it]"
     ]
    },
    {
     "name": "stdout",
     "output_type": "stream",
     "text": [
      "Time taken: 0:00:04.453059\n",
      "Processing key: Arnis_AndrS_948028\n",
      "Using model google/gemini-flash-1.5-8b\n",
      "System prompt: You are an expert on Latvian language and transportation.\n",
      "1. Please identify which keywords similar to terms in given list of land transportaton vehicles are present in the given text.\n",
      "2. List of keywords: zirgs dzelzceļš ormanis pajūgs kariete kamanas velosipēds automašīna mašīna vilciens lokomotīve tramvajs bānītis\n",
      "3. Display the similar keywords as a list preserving their original transcription variants as they appear in the text. Text follows:\n",
      "Start time: 2025-01-29 18:22:29.985940\n",
      "Time taken: 0:00:14.625278\n"
     ]
    },
    {
     "name": "stderr",
     "output_type": "stream",
     "text": [
      " 65%|██████▌   | 13/20 [04:14<01:53, 16.21s/it]"
     ]
    },
    {
     "name": "stdout",
     "output_type": "stream",
     "text": [
      "Processing key: Arnis_MilaL_1047332\n",
      "Using model google/gemini-flash-1.5-8b\n",
      "System prompt: You are an expert on Latvian language and transportation.\n",
      "1. Please identify which keywords similar to terms in given list of land transportaton vehicles are present in the given text.\n",
      "2. List of keywords: zirgs dzelzceļš ormanis pajūgs kariete kamanas velosipēds automašīna mašīna vilciens lokomotīve tramvajs bānītis\n",
      "3. Display the similar keywords as a list preserving their original transcription variants as they appear in the text. Text follows:\n",
      "Start time: 2025-01-29 18:22:45.579619\n",
      "Time taken: 0:00:05.812588\n"
     ]
    },
    {
     "name": "stderr",
     "output_type": "stream",
     "text": [
      " 70%|███████   | 14/20 [04:21<01:20, 13.36s/it]"
     ]
    },
    {
     "name": "stdout",
     "output_type": "stream",
     "text": [
      "Processing key: Arnis_TaurK_1051711\n",
      "Using model google/gemini-flash-1.5-8b\n",
      "System prompt: You are an expert on Latvian language and transportation.\n",
      "1. Please identify which keywords similar to terms in given list of land transportaton vehicles are present in the given text.\n",
      "2. List of keywords: zirgs dzelzceļš ormanis pajūgs kariete kamanas velosipēds automašīna mašīna vilciens lokomotīve tramvajs bānītis\n",
      "3. Display the similar keywords as a list preserving their original transcription variants as they appear in the text. Text follows:\n",
      "Start time: 2025-01-29 18:22:52.454624\n",
      "Time taken: 0:00:18.258761\n"
     ]
    },
    {
     "name": "stderr",
     "output_type": "stream",
     "text": [
      " 75%|███████▌  | 15/20 [04:40<01:15, 15.16s/it]"
     ]
    },
    {
     "name": "stdout",
     "output_type": "stream",
     "text": [
      "Processing key: Artis_ArNai_1053600\n",
      "Using model google/gemini-flash-1.5-8b\n",
      "System prompt: You are an expert on Latvian language and transportation.\n",
      "1. Please identify which keywords similar to terms in given list of land transportaton vehicles are present in the given text.\n",
      "2. List of keywords: zirgs dzelzceļš ormanis pajūgs kariete kamanas velosipēds automašīna mašīna vilciens lokomotīve tramvajs bānītis\n",
      "3. Display the similar keywords as a list preserving their original transcription variants as they appear in the text. Text follows:\n",
      "Start time: 2025-01-29 18:23:11.673023\n"
     ]
    },
    {
     "name": "stderr",
     "output_type": "stream",
     "text": [
      " 80%|████████  | 16/20 [04:56<01:01, 15.32s/it]"
     ]
    },
    {
     "name": "stdout",
     "output_type": "stream",
     "text": [
      "Time taken: 0:00:14.734658\n",
      "Processing key: AustA_GaraJ_1025406\n",
      "Using model google/gemini-flash-1.5-8b\n",
      "System prompt: You are an expert on Latvian language and transportation.\n",
      "1. Please identify which keywords similar to terms in given list of land transportaton vehicles are present in the given text.\n",
      "2. List of keywords: zirgs dzelzceļš ormanis pajūgs kariete kamanas velosipēds automašīna mašīna vilciens lokomotīve tramvajs bānītis\n",
      "3. Display the similar keywords as a list preserving their original transcription variants as they appear in the text. Text follows:\n",
      "Start time: 2025-01-29 18:23:27.407459\n",
      "Time taken: 0:01:05.062102\n"
     ]
    },
    {
     "name": "stderr",
     "output_type": "stream",
     "text": [
      " 85%|████████▌ | 17/20 [06:02<01:31, 30.58s/it]"
     ]
    },
    {
     "name": "stdout",
     "output_type": "stream",
     "text": [
      "Processing key: AustA_KaspG_948026\n",
      "Using model google/gemini-flash-1.5-8b\n",
      "System prompt: You are an expert on Latvian language and transportation.\n",
      "1. Please identify which keywords similar to terms in given list of land transportaton vehicles are present in the given text.\n",
      "2. List of keywords: zirgs dzelzceļš ormanis pajūgs kariete kamanas velosipēds automašīna mašīna vilciens lokomotīve tramvajs bānītis\n",
      "3. Display the similar keywords as a list preserving their original transcription variants as they appear in the text. Text follows:\n",
      "Start time: 2025-01-29 18:24:33.489968\n",
      "Time taken: 0:00:06.166774\n"
     ]
    },
    {
     "name": "stderr",
     "output_type": "stream",
     "text": [
      " 90%|█████████ | 18/20 [06:09<00:47, 23.55s/it]"
     ]
    },
    {
     "name": "stdout",
     "output_type": "stream",
     "text": [
      "Processing key: AustA_Puisk_1047362\n",
      "Using model google/gemini-flash-1.5-8b\n",
      "System prompt: You are an expert on Latvian language and transportation.\n",
      "1. Please identify which keywords similar to terms in given list of land transportaton vehicles are present in the given text.\n",
      "2. List of keywords: zirgs dzelzceļš ormanis pajūgs kariete kamanas velosipēds automašīna mašīna vilciens lokomotīve tramvajs bānītis\n",
      "3. Display the similar keywords as a list preserving their original transcription variants as they appear in the text. Text follows:\n",
      "Start time: 2025-01-29 18:24:40.719144\n",
      "Time taken: 0:00:15.409495\n"
     ]
    },
    {
     "name": "stderr",
     "output_type": "stream",
     "text": [
      " 95%|█████████▌| 19/20 [06:25<00:21, 21.42s/it]"
     ]
    },
    {
     "name": "stdout",
     "output_type": "stream",
     "text": [
      "Processing key: BaloP_DaugU_1051661\n",
      "Using model google/gemini-flash-1.5-8b\n",
      "System prompt: You are an expert on Latvian language and transportation.\n",
      "1. Please identify which keywords similar to terms in given list of land transportaton vehicles are present in the given text.\n",
      "2. List of keywords: zirgs dzelzceļš ormanis pajūgs kariete kamanas velosipēds automašīna mašīna vilciens lokomotīve tramvajs bānītis\n",
      "3. Display the similar keywords as a list preserving their original transcription variants as they appear in the text. Text follows:\n",
      "Start time: 2025-01-29 18:24:57.140848\n",
      "Time taken: 0:00:16.578157\n"
     ]
    },
    {
     "name": "stderr",
     "output_type": "stream",
     "text": [
      "100%|██████████| 20/20 [06:43<00:00, 20.18s/it]\n"
     ]
    }
   ],
   "source": [
    "# let's try first 20 texts with terms\n",
    "openai_chat_all(dict(list(texts.items())[:20]), prompt_with_terms, True, 0.2, 10, model, responses_folder, \"with_terms\")"
   ]
  },
  {
   "cell_type": "code",
   "execution_count": null,
   "metadata": {},
   "outputs": [],
   "source": [
    "# now let's run rest in non verbose mode\n",
    "openai_chat_all(dict(list(texts.items())[20:]), prompt_with_terms, False, 0.1, 10, model, responses_folder, \"with_terms\")"
   ]
  },
  {
   "cell_type": "code",
   "execution_count": null,
   "metadata": {},
   "outputs": [],
   "source": [
    "# let's call the openai_chat function for each text and save response to responses folder using key as filename\n",
    "for key, text in tqdm(texts.items()):\n",
    "  response = openai_chat(text, system_prompt=system_prompt_3)\n",
    "  with open(responses_folder / f\"{key}.txt\", \"w\", encoding=\"utf-8\") as f:\n",
    "    f.write(response)\n",
    "    time.sleep(0.5)"
   ]
  },
  {
   "cell_type": "code",
   "execution_count": 15,
   "metadata": {},
   "outputs": [
    {
     "name": "stdout",
     "output_type": "stream",
     "text": [
      "Sieviete\n",
      "\n",
      "\n",
      "Pirmā daļa\n",
      "\n",
      "Guberņas rentejas ierēdnis Apse pamodās, kad pulkstens aiz sienas ēdamistabā sāka sist. Pusmiegā viņš skaitīja... un nevarēja saskaitīt. Bet tomēr beigās zināja, ka četri. Četri... viņš vairāk reižu domās atkārtoja šo skaitli. Tad vienreiz izrunāja balsī tā, ka pats varēja dzi\n"
     ]
    }
   ],
   "source": [
    "# let's open last file and read the content using utf-8 encoding\n",
    "file = files[-1]\n",
    "with open(file, encoding=\"utf-8\") as f:\n",
    "  text = f.read()\n",
    "# first 300 characters\n",
    "print(text[:300])"
   ]
  },
  {
   "cell_type": "code",
   "execution_count": 17,
   "metadata": {},
   "outputs": [
    {
     "name": "stdout",
     "output_type": "stream",
     "text": [
      "Using model google/gemini-2.0-flash-exp:free\n",
      "System prompt: Please extract a comprehensive list of all mentioned land transportation vehicles from the given texts.\n",
      "Include specific types (e.g., cars, trains, bicycles) as well as broader categories (e.g., public transportation).\n",
      "Provide the terms in Latvian, preserving their original transcription variants as they appear in the text. Text:\n",
      "Start time: 2025-01-23 10:22:22.422112\n",
      "Time taken: 0:00:11.144166\n",
      "Pēc dotā teksta, zemes transporta līdzekļi ir:\n",
      "\n",
      "*  zābaki (nav gan transportlīdzeklis, bet ir saistīts ar pārvietošanos pa zemi; zābaki, un arī kājas, bija bieži pieminēti)\n",
      "*  kamanas (gan vienjūga, gan divjūga kamanas)\n",
      "*  tramvaja vagons\n",
      "*  dzelzceļa vilciens (minēts caur sajūtām - \"vai sēd dzelzceļa vilcienā\")\n",
      "*  ekipaža (minēts kā nākotnes sapnis: \"brauks sava paša eķipažā\")\n",
      "*  automobiļi (nav tieši minēti, bet netieši pieņemti, ka tie varētu pastāvēt, kad runāts par \"pazīstamās automobiļu skaņām\")\n",
      "*  riteņi (saistīti ar velobraucējiem, bet konkrēts transports nav minēts, tika minēta \"vēja dzenātās vieglās sloksniņas.\" kā slidas)\n",
      "* sabiedriskais transports (plašāka kategorija, kur tramvaja vagons ir kā piemērs)\n",
      "\n",
      "Šie termini ir saglabāti tieši tā, kā tie parādījās tekstā (Latviešu valodā).\n",
      "\n"
     ]
    }
   ],
   "source": [
    "# lets test the function with the text\n",
    "response = openai_chat(text)\n",
    "print(response)"
   ]
  },
  {
   "cell_type": "code",
   "execution_count": 20,
   "metadata": {},
   "outputs": [
    {
     "name": "stdout",
     "output_type": "stream",
     "text": [
      "Please extract a comprehensive list of all mentioned land transportation vehicles from the given texts.\n",
      "Include specific types (e.g., cars, trains, bicycles) as well as broader categories (e.g., public transportation).\n",
      "Provide the terms in Latvian, preserving their original transcription variants as they appear in the text. Text:\n"
     ]
    }
   ],
   "source": [
    "print(system_prompt)"
   ]
  },
  {
   "cell_type": "code",
   "execution_count": 29,
   "metadata": {},
   "outputs": [],
   "source": [
    "system_prompt = \"\"\"You are an expert on Latvian language and transportation.\n",
    "Please extract a comprehensive list of all mentioned land transportation vehicles from the given texts.\n",
    "Show all specific land transportation types found in the text as a list.\n",
    "No other information is needed, just the transportation terms as they appear in the text.\n",
    "Provide the terms only in Latvian, preserving their original transcription variants as they appear in the text. Latvian Text follows: \"\"\""
   ]
  },
  {
   "cell_type": "code",
   "execution_count": 27,
   "metadata": {},
   "outputs": [
    {
     "name": "stdout",
     "output_type": "stream",
     "text": [
      "Using model google/gemini-2.0-flash-exp:free\n",
      "System prompt: You are an expert on Latvian language and transporation.\n",
      "Please extract a comprehensive list of all mentioned land transportation vehicles from the given texts.\n",
      "Show all specific land transportation types found in the text as a list.\n",
      "No other information is needed, just the transportation terms as they appear in the text.\n",
      "Provide the terms only in Latvian, preserving their original transcription variants as they appear in the text. Latvian Text follows: \n",
      "Start time: 2025-01-24 14:23:16.215333\n",
      "Time taken: 0:00:12.244052\n",
      "* zābakiem\n",
      "* gājēji\n",
      "* braucēji\n",
      "*  klavieres\n",
      "* krēsla\n",
      "*  vilciens\n",
      "* kamanu\n",
      "*  šoseju\n",
      "*  tramvaja\n",
      "* vagons\n",
      "* eķipažā\n",
      "*  dzelzceļa\n",
      "* slidotavu\n",
      "* pajūgu\n",
      "*  pulktiens\n",
      "*  ormani\n",
      "* autobuss\n",
      "\n"
     ]
    }
   ],
   "source": [
    "# lets test the function with the text\n",
    "response = openai_chat(text, system_prompt=system_prompt)\n",
    "print(response)"
   ]
  },
  {
   "cell_type": "code",
   "execution_count": 28,
   "metadata": {},
   "outputs": [
    {
     "data": {
      "text/plain": [
       "['Mercedes',\n",
       " 'automašīna',\n",
       " 'burinieks',\n",
       " 'bānītis',\n",
       " 'dzelzceļš',\n",
       " 'fords',\n",
       " 'kamanas',\n",
       " 'kariete',\n",
       " 'kuģis',\n",
       " 'laiva',\n",
       " 'lokomotīve',\n",
       " 'mašīna',\n",
       " 'ormanis',\n",
       " 'pajūgs',\n",
       " 'plosts',\n",
       " 'rati',\n",
       " 'stīmeris',\n",
       " 'tramvajs',\n",
       " 'tvaikonis',\n",
       " 'velosipēds',\n",
       " 'vilciens',\n",
       " 'vāģi',\n",
       " 'zirgs',\n",
       " 'zēģele']"
      ]
     },
     "execution_count": 28,
     "metadata": {},
     "output_type": "execute_result"
    }
   ],
   "source": [
    "transport_lemmas = sorted(\"\"\"zirgs\n",
    "dzelzceļš\n",
    "ormanis\n",
    "pajūgs\n",
    "rati\n",
    "kariete\n",
    "kamanas\n",
    "laiva\n",
    "plosts\n",
    "burinieks\n",
    "kuģis\n",
    "tvaikonis\n",
    "velosipēds\n",
    "automašīna\n",
    "mašīna\n",
    "vilciens\n",
    "lokomotīve\n",
    "tramvajs\n",
    "bānītis\n",
    "vāģi\n",
    "stīmeris\n",
    "zēģele\n",
    "fords\n",
    "Mercedes\n",
    "\"\"\".split())\n",
    "transport_lemmas"
   ]
  },
  {
   "cell_type": "code",
   "execution_count": 30,
   "metadata": {},
   "outputs": [],
   "source": [
    "system_prompt_2 = f\"\"\"You are an expert on Latvian language and transportation.\n",
    "1. Please identify which keywords from the given list of land transportaton vehicles are present in the given text.\n",
    "2. List of keywords: {\" \".join(transport_lemmas)}\n",
    "3. Identify all other land transportation vehicles in the given text.\n",
    "4. Provide terms in Latvian as a list, preserving their original spelling variants as they appear in the text.\"\"\""
   ]
  },
  {
   "cell_type": "code",
   "execution_count": 38,
   "metadata": {},
   "outputs": [
    {
     "name": "stdout",
     "output_type": "stream",
     "text": [
      "Using model google/gemini-2.0-flash-exp:free\n",
      "System prompt: You are an expert on Latvian language and transportation.\n",
      "1. Please identify which keywords from the given list of land transportaton vehicles are present in the given text.\n",
      "2. List of keywords: Mercedes automašīna burinieks bānītis dzelzceļš fords kamanas kariete kuģis laiva lokomotīve mašīna ormanis pajūgs plosts rati stīmeris tramvajs tvaikonis velosipēds vilciens vāģi zirgs zēģele\n",
      "3. Identify all other land transportation vehicles in the given text.\n",
      "4. Provide terms in Latvian as a list, preserving their original spelling variants as they appear in the text.\n",
      "Start time: 2025-01-24 14:33:04.955773\n",
      "Time taken: 0:00:06.156933\n",
      "Okay, I can help with that! Let's break down the text as you requested.\n",
      "\n",
      "**1. Keywords from the list found in the text:**\n",
      "\n",
      "From the provided keyword list, the following terms are present in the text:\n",
      "\n",
      "*   kamanas\n",
      "*    mašīna\n",
      "*   zirgs \n",
      "*   tramvajs\n",
      "*   vilciens\n",
      "*   vāģi\n",
      "\n",
      "**2. Additional Land Transportation Vehicles Identified:**\n",
      "\n",
      "Beyond the keywords, here are the other land transportation vehicles that appear in the story:\n",
      "\n",
      "*   pajūgs\n",
      "*   ekipaža\n",
      "\n",
      "**3. Latvian Terms with Original Spelling:**\n",
      "\n",
      "Here are the terms in Latvian exactly as they appear in the story:\n",
      "\n",
      "*   kamanas\n",
      "*    mašīna\n",
      "*   zirgs\n",
      "*   tramvaja\n",
      "*   vilcienā\n",
      "*    vāģi\n",
      "*   pajūgu\n",
      "*   ekipažā\n",
      "\n"
     ]
    }
   ],
   "source": [
    "# lets test the function with the text\n",
    "response = openai_chat(text, system_prompt=system_prompt_2)\n",
    "print(response)"
   ]
  },
  {
   "cell_type": "code",
   "execution_count": 39,
   "metadata": {},
   "outputs": [
    {
     "data": {
      "text/plain": [
       "[WindowsPath('../data/docs/JaunJ_Ziema_417458.txt'),\n",
       " WindowsPath('../data/docs/PaulM_ProfS_1051757.txt'),\n",
       " WindowsPath('../data/docs/UpitA_Sievi_771386.txt'),\n",
       " WindowsPath('../data/docs/UpitA_Siev_part_1.txt')]"
      ]
     },
     "execution_count": 39,
     "metadata": {},
     "output_type": "execute_result"
    }
   ],
   "source": [
    "files"
   ]
  },
  {
   "cell_type": "code",
   "execution_count": 40,
   "metadata": {},
   "outputs": [
    {
     "name": "stdout",
     "output_type": "stream",
     "text": [
      "title: Profesora Sūnas brīnišķīgais eleksīrs\n",
      "isPartOf:\n",
      "creator: Paulockis, Miķelis\n",
      "dateIssued: 1938\n",
      "publisher: Senatne\n",
      "publicationPlace: Rīga\n",
      "firstPublished:\n",
      "firstEdition: 1938\n",
      "dateModified:\n",
      "copyright:\n",
      "uri: http://dom.lndb.lv/data/obj/1051757\n",
      "normalization:\n",
      "ocrCorrection:\n",
      "verified:\n",
      "\n",
      "\n",
      "\n",
      "Profesora Sūna\n"
     ]
    }
   ],
   "source": [
    "# let's load second text in profesors variable\n",
    "profesors = files[1]\n",
    "with open(profesors, encoding=\"utf-8\") as f:\n",
    "  text = f.read()\n",
    "# first 300 characters\n",
    "print(text[:300])"
   ]
  },
  {
   "cell_type": "code",
   "execution_count": 41,
   "metadata": {},
   "outputs": [
    {
     "data": {
      "text/html": [
       "<div>\n",
       "<style scoped>\n",
       "    .dataframe tbody tr th:only-of-type {\n",
       "        vertical-align: middle;\n",
       "    }\n",
       "\n",
       "    .dataframe tbody tr th {\n",
       "        vertical-align: top;\n",
       "    }\n",
       "\n",
       "    .dataframe thead th {\n",
       "        text-align: right;\n",
       "    }\n",
       "</style>\n",
       "<table border=\"1\" class=\"dataframe\">\n",
       "  <thead>\n",
       "    <tr style=\"text-align: right;\">\n",
       "      <th></th>\n",
       "      <th>original</th>\n",
       "      <th>term</th>\n",
       "      <th>score</th>\n",
       "    </tr>\n",
       "  </thead>\n",
       "  <tbody>\n",
       "    <tr>\n",
       "      <th>0</th>\n",
       "      <td>zirgs</td>\n",
       "      <td>vezums</td>\n",
       "      <td>0.813284</td>\n",
       "    </tr>\n",
       "    <tr>\n",
       "      <th>1</th>\n",
       "      <td>zirgs</td>\n",
       "      <td>rats</td>\n",
       "      <td>0.804218</td>\n",
       "    </tr>\n",
       "    <tr>\n",
       "      <th>2</th>\n",
       "      <td>zirgs</td>\n",
       "      <td>kumeļš</td>\n",
       "      <td>0.764619</td>\n",
       "    </tr>\n",
       "    <tr>\n",
       "      <th>3</th>\n",
       "      <td>zirgs</td>\n",
       "      <td>bēris</td>\n",
       "      <td>0.740647</td>\n",
       "    </tr>\n",
       "    <tr>\n",
       "      <th>4</th>\n",
       "      <td>zirgs</td>\n",
       "      <td>zirdziņš</td>\n",
       "      <td>0.732735</td>\n",
       "    </tr>\n",
       "  </tbody>\n",
       "</table>\n",
       "</div>"
      ],
      "text/plain": [
       "  original      term     score\n",
       "0    zirgs    vezums  0.813284\n",
       "1    zirgs      rats  0.804218\n",
       "2    zirgs    kumeļš  0.764619\n",
       "3    zirgs     bēris  0.740647\n",
       "4    zirgs  zirdziņš  0.732735"
      ]
     },
     "execution_count": 41,
     "metadata": {},
     "output_type": "execute_result"
    }
   ],
   "source": [
    "# now let's use pandas to load last csv from csv subfolder\n",
    "import pandas as pd\n",
    "\n",
    "csv_folder = Path(\"../csv\")\n",
    "# assert csv_folder exists\n",
    "assert csv_folder.exists(), \"csv folder does not exist\"\n",
    "# list all files\n",
    "csv_files = list(csv_folder.glob(\"*.csv\"))\n",
    "# sort by last modified\n",
    "csv_files = sorted(csv_files, key=lambda x: x.stat().st_mtime)\n",
    "# get latest file\n",
    "csv_file = csv_files[-1]\n",
    "# read csv file\n",
    "df = pd.read_csv(csv_file)\n",
    "# print first 5 rows\n",
    "df.head()"
   ]
  },
  {
   "cell_type": "code",
   "execution_count": 42,
   "metadata": {},
   "outputs": [
    {
     "name": "stdout",
     "output_type": "stream",
     "text": [
      "['zirgs' 'dzelzceļš' 'ormanis' 'pajūgs' 'kariete' 'kamanas' 'laiva'\n",
      " 'plosts' 'burinieks' 'kuģis' 'tvaikonis' 'velosipēds' 'automašīna'\n",
      " 'mašīna' 'vilciens' 'lokomotīve' 'tramvajs' 'bānītis' 'stīmeris' 'zēģele']\n"
     ]
    }
   ],
   "source": [
    "# get unique values from first column\n",
    "unique_values = df.iloc[:, 0].unique()\n",
    "# print unique values\n",
    "print(unique_values)"
   ]
  },
  {
   "cell_type": "code",
   "execution_count": 50,
   "metadata": {},
   "outputs": [
    {
     "name": "stdout",
     "output_type": "stream",
     "text": [
      "title: Ziema\n",
      "isPartOf:\n",
      "creator: Jaunsudrabiņš, Jānis, 1877-1962\n",
      "dateIssued: 1925\n",
      "publisher: Valters un Rapa\n",
      "publicationPlace: Rīga\n",
      "firstPublished:\n",
      "firstEdition: 1925\n",
      "dateModified: 26.06.2024\n",
      "copyright:\n",
      "uri: http://dom.lndb.lv/data/obj/417458\n",
      "normalization:\n",
      "ocrCorrection: Jā\n",
      "verified: 26.06.2024, And\n"
     ]
    }
   ],
   "source": [
    "# let's load last first file as text\n",
    "ziema_file = files[0]\n",
    "with open(ziema_file, encoding=\"utf-8\") as f:\n",
    "  text = f.read()\n",
    "# first 300 characters\n",
    "print(text[:300])"
   ]
  },
  {
   "cell_type": "code",
   "execution_count": 51,
   "metadata": {},
   "outputs": [
    {
     "name": "stdout",
     "output_type": "stream",
     "text": [
      "Using model google/gemini-2.0-flash-exp:free\n",
      "System prompt: You are an expert on Latvian language and transportation.\n",
      "1. Please identify which keywords from the given list of land transportaton vehicles are present in the given text.\n",
      "2. List of keywords: zirgs dzelzceļš ormanis pajūgs kariete kamanas velosipēds automašīna mašīna vilciens lokomotīve tramvajs bānītis\n",
      "3. Identify all other land transportation vehicles in the given text.\n",
      "4. Provide terms in Latvian as a list, preserving their original spelling variants as they appear in the text.\n",
      "Start time: 2025-01-24 14:57:33.166346\n",
      "Time taken: 0:00:11.862424\n",
      "Okay, here's the breakdown of land transportation terms from the provided text, based on your criteria:\n",
      "\n",
      "**1. Keywords present in the text:**\n",
      "\n",
      "Based on the provided list of keywords, the following are present in the text:\n",
      "*   zirgs\n",
      "*   velosipēds (not directly, but implied when referencing Pakalns and his method for obtaining water)\n",
      "*   automašīna (not directly, but implied when referencing Pakalns and his method for obtaining water)\n",
      "*  mašīna (implied)\n",
      "*   vilciens (not directly, but when Jānis refers to Rīga as a city, it implies the presence of railroads/trains)\n",
      "\n",
      "*Note: While velosipēds and automašīna are not explicitly mentioned as specific words, the text alludes to the use of more advanced methods of transportation (referring to Pakalns and his usage of moving water by a machine) in comparison to other characters who mostly used horses and manual methods of transportation. Railroads and trains are inferred when referencing Riga as a city and not from directly mentioning them within the text.*\n",
      "\n",
      "**2. Keywords not present in the text:**\n",
      "\n",
      "Based on the provided list, the following keywords are not present in the text:\n",
      "* ormanis\n",
      "* pajūgs\n",
      "* kariete\n",
      "* kamanas\n",
      "* lokomotīve\n",
      "* tramvajs\n",
      "* bānītis\n",
      "\n",
      "**3. Other land transportation vehicles in the text:**\n",
      "\n",
      "*   rati (appears in multiple instances)\n",
      "*   droška (mentioned in passing, not as the main mode of transport)\n",
      "\n",
      "**4. Terms in Latvian (preserving original spelling):**\n",
      "\n",
      "*   zirgs\n",
      "*   rati\n",
      "*   droška\n",
      "\n",
      "I hope this is helpful. Let me know if you have other questions.\n",
      "\n"
     ]
    }
   ],
   "source": [
    "# let's test the function with profesors text and system_prompt_3\n",
    "response = openai_chat(text, system_prompt=system_prompt_3)\n",
    "print(response)"
   ]
  },
  {
   "cell_type": "code",
   "execution_count": 9,
   "metadata": {},
   "outputs": [
    {
     "name": "stdout",
     "output_type": "stream",
     "text": [
      "Here's a list of transportation terms in the Latvian language:\n",
      "\n",
      "1. Auto (Car) - Auto\n",
      "2. Autoceļš (Highway) - Autoceļš\n",
      "3. Velosipēds (Bicycle) - Velosipēds\n",
      "4. Riteņbraucējs (Cyclist) - Riteņbraucējs\n",
      "5. Būve (Construction) - Būve\n",
      "6. Dzelzceļš (Railway) - Dzelzceļš\n",
      "7. Vilciens (Train) - Vilciens\n",
      "8. Lidmašīna (Airplane) - Lidmašīna\n",
      "9. Osta (Port) - Osta\n",
      "10. Kuģis (Ship) - Kuģis\n",
      "11. Autobuss (Bus) - Autobuss\n",
      "12. Trolejbuss (Trolleybus) - Trolejbuss\n",
      "13. Tramvajs (Tram) - Tramvajs\n",
      "14. Taksi (Taxi) - Taksi\n",
      "15. Stacija (Station) - Stacija\n",
      "16. Pietura (Stop) - Pietura\n",
      "17. Brauciens (Trip) - Brauciens\n",
      "18. Reiss (Journey) - Ceļojums (more common term for journey)\n",
      "19. Maršruts (Route) - Maršruts\n",
      "20. Satiksme (Transportation) - Satiksme\n",
      "\n",
      "Additionally, here are some common phrases related to transportation:\n",
      "\n",
      "- \"Kā piesāpināt?\" (How to get there?) - Kā piesāpināt?\n",
      "- \"Kā braukt?\" (How to travel?) - Kā braukt?\n",
      "- \"Cik ilgi?\" (How long does it take?) - Cik ilgi?\n",
      "- \"Cik daudz maksā?\" (How much does it cost?) - Cik daudz maksā?\n"
     ]
    }
   ],
   "source": [
    "# now let's try the same prompt but with a different model\n",
    "# we will use the following model meta-llama/llama-3.3-70b-instruct\n",
    "model = \"meta-llama/llama-3.3-70b-instruct\"\n",
    "response = openai_chat(prompt, model=model)\n",
    "print(response)"
   ]
  },
  {
   "cell_type": "code",
   "execution_count": 10,
   "metadata": {},
   "outputs": [
    {
     "name": "stdout",
     "output_type": "stream",
     "text": [
      "Here's a list of common transportation terms in Latvian:\n",
      "\n",
      "1. Transport - transports (transportation)\n",
      "2. Autobuss - autobus (bus)\n",
      "3. Viena - vilciens (train)\n",
      "4. Lidmašīna - lidmašīna (airplane)\n",
      "5. Kuģis - kuģis (ship)\n",
      "6. Laiva - laiva (boat)\n",
      "7. Riteņbraucējs - riteņbraucējs (bicyclist)\n",
      "8. Velosipēds - velosipēds (bicycle)\n",
      "9. Motocikls - motocikls (motorcycle)\n",
      "10. Automobiļi - mašīna (car)\n",
      "11. Taksi - taksometrs (taxi)\n",
      "12. Metro - metro (subway)\n",
      "13. Tramvajs - tramvajs (tram)\n",
      "14. Elektrovilciens - elektrības vilciens (electric train)\n",
      "15. Starptautiskā lidosta - starptautiskā lidosta (international airport)\n",
      "16. Tuksneša mašīna - kutermašīna (jeep)\n",
      "17. Gājējs - gājējs (pedestrian)\n",
      "18. Ceļš - ceļš (road)\n",
      "19. Automaģistrāle - automaģistrāle (highway)\n",
      "20. Tilts - tilts (bridge).\n",
      "\n",
      "Note: Latvian language uses its specific characters, but they were not used here for easier search. Example of those would be:\n",
      "ā (in transportation - transports), \n",
      "ē (in ceļš - road),\n",
      "ī (in lidmašīna - airplane),\n",
      "ū (in kuģis - ship),\n",
      "ū (in laiva - boat).\n"
     ]
    }
   ],
   "source": [
    "# let's try the same prompt but with a different model\n",
    "# we will use the following model meta-llama/llama-3.2-90b-vision-instruct:free \n",
    "model = \"meta-llama/llama-3.2-90b-vision-instruct:free\"\n",
    "response = openai_chat(prompt, model=model)\n",
    "print(response)"
   ]
  },
  {
   "cell_type": "code",
   "execution_count": 11,
   "metadata": {},
   "outputs": [
    {
     "name": "stdout",
     "output_type": "stream",
     "text": [
      "Here is a list of transportation-related terms in Latvian:\n",
      "\n",
      "1. **Automašīna** – Car  \n",
      "2. **Autobuss** – Bus  \n",
      "3. **Vilciens** – Train  \n",
      "4. **Lidmašīna** – Airplane  \n",
      "5. **Kuģis** – Ship  \n",
      "6. **Velosipēds** – Bicycle  \n",
      "7. **Motocikls** – Motorcycle  \n",
      "8. **Skrejritenis** – Scooter  \n",
      "9. **Taksometrs (Taksi)** – Taxi  \n",
      "10. **Kravas automašīna** – Truck  \n",
      "11. **Laiva** – Boat  \n",
      "12. **Tramvajs** – Tram  \n",
      "13. **Trolejbuss** – Trolleybus  \n",
      "14. **Helikopters** – Helicopter  \n",
      "15. **Metro** – Subway  \n",
      "16. **Automaģistrāle** – Highway  \n",
      "17. **Satiksmes līdzeklis** – Means of transport  \n",
      "18. **Ceļš** – Road  \n",
      "19. **Maršruts** – Route  \n",
      "20. **Stacija** – Station  \n",
      "21. **Pietura** – Stop  \n",
      "22. **Autoosta** – Bus station  \n",
      "23. **Osta** – Port  \n",
      "24. **Lidosta** – Airport  \n",
      "25. **Ceļojums** – Journey  \n",
      "26. **Biļete** – Ticket  \n",
      "27. **Ātrums** – Speed  \n",
      "28. **Degviela** – Fuel  \n",
      "29. **Pasažieris** – Passenger  \n",
      "30. **Vadītājs** – Driver  \n",
      "31. **Stūre** – Steering wheel  \n",
      "32. **Bagāža** – Luggage  \n",
      "33. **Ceļa zīme** – Road sign  \n",
      "34. **Līzings** – Leasing  \n",
      "35. **Satiksme** – Traffic\n",
      "\n",
      "I hope you find this helpful! Let me know if you'd like a specific focus on any mode of transport.\n"
     ]
    }
   ],
   "source": [
    "# now let's try with latest GPT-4o model\n",
    "model = \"openai/gpt-4o-2024-11-20\"\n",
    "response = openai_chat(prompt, model=model)\n",
    "print(response)"
   ]
  },
  {
   "cell_type": "code",
   "execution_count": 12,
   "metadata": {},
   "outputs": [
    {
     "data": {
      "text/plain": [
       "'Provide a list of transportation terms in Latvian language'"
      ]
     },
     "execution_count": 12,
     "metadata": {},
     "output_type": "execute_result"
    }
   ],
   "source": [
    "prompt"
   ]
  },
  {
   "cell_type": "code",
   "execution_count": 21,
   "metadata": {},
   "outputs": [
    {
     "data": {
      "text/plain": [
       "'google/gemini-flash-1.5'"
      ]
     },
     "execution_count": 21,
     "metadata": {},
     "output_type": "execute_result"
    }
   ],
   "source": [
    "model"
   ]
  },
  {
   "cell_type": "code",
   "execution_count": 25,
   "metadata": {},
   "outputs": [
    {
     "name": "stdout",
     "output_type": "stream",
     "text": [
      "We have 4 text files in the data/docs folder\n",
      "Name of first file: ..\\data\\docs\\JaunJ_Ziema_417458.txt\n",
      "Name of second file: ..\\data\\docs\\PaulM_ProfS_1051757.txt\n",
      "Name of last file: ..\\data\\docs\\UpitA_Siev_part_1.txt\n"
     ]
    }
   ],
   "source": [
    "# let's get list of all txt files in data docs folder\n",
    "from pathlib import Path\n",
    "text_files = list(Path(\"../data/docs\").rglob(\"*.txt\"))\n",
    "print(f\"We have {len(text_files)} text files in the data/docs folder\")\n",
    "# first one\n",
    "print(f\"Name of first file: {text_files[0]}\")\n",
    "# 2nd one\n",
    "print(f\"Name of second file: {text_files[1]}\")\n",
    "# last one \n",
    "print(f\"Name of last file: {text_files[-1]}\")"
   ]
  },
  {
   "cell_type": "code",
   "execution_count": 18,
   "metadata": {},
   "outputs": [
    {
     "name": "stdout",
     "output_type": "stream",
     "text": [
      "Number of characters in the text: 163835\n"
     ]
    }
   ],
   "source": [
    "# let's read text of last file using utf-8 encoding\n",
    "with open(text_files[-1], \"r\", encoding=\"utf-8\") as file:\n",
    "  text = file.read()\n",
    "# how many characters in the text\n",
    "print(f\"Number of characters in the text: {len(text)}\")"
   ]
  },
  {
   "cell_type": "code",
   "execution_count": 23,
   "metadata": {},
   "outputs": [
    {
     "name": "stdout",
     "output_type": "stream",
     "text": [
      "Please extract a comprehensive list of all mentioned land transportation vehicles from the given texts.\n",
      "Include specific types (e.g., cars, trains, bicycles) as well as broader categories (e.g., public transportation).\n",
      "Provide the terms in Latvian, preserving their original transcription variants as they appear in the text. Text:\n"
     ]
    }
   ],
   "source": [
    "print(system_prompt)"
   ]
  },
  {
   "cell_type": "code",
   "execution_count": 24,
   "metadata": {},
   "outputs": [
    {
     "name": "stdout",
     "output_type": "stream",
     "text": [
      "The provided text mentions the following land transportation vehicles in Latvian:\n",
      "\n",
      "* **kamanas** (sleds)\n",
      "* **tramvaja vagons** (tram)\n",
      "* **ormanis** (sleigh, specifically referring to a horse-drawn sleigh in this context)\n",
      "* **kamanu slieces** (sled runners)\n",
      "* **dzelzceļa vilciens** (train)\n",
      "\n",
      "\n",
      "There is no mention of cars or bicycles.  The broader category of \"public transportation\" is not explicitly mentioned although \"tramvajs\" falls under this category.\n",
      "\n"
     ]
    }
   ],
   "source": [
    "# let's use text as a prompt\n",
    "response = openai_chat(text)\n",
    "print(response)"
   ]
  },
  {
   "cell_type": "code",
   "execution_count": 29,
   "metadata": {},
   "outputs": [
    {
     "name": "stdout",
     "output_type": "stream",
     "text": [
      "Number of characters in the text: 188657\n",
      "title: Profesora Sūnas brīnišķīgais eleksīrs\n",
      "isPartOf:\n",
      "creator: Paulockis, Miķelis\n",
      "dateIssued: 1938\n",
      "publisher: Senatne\n",
      "publicationPlace: Rīga\n",
      "firstPublished:\n",
      "firstEdition: 1938\n",
      "dateModified:\n",
      "copyright:\n",
      "uri: http://dom.lndb.lv/data/obj/1051757\n",
      "normalization:\n",
      "ocrCorrection:\n",
      "verified:\n",
      "\n",
      "\n",
      "\n",
      "Profesora Sūnas brīnišķīgais eleksīrs\n",
      "\n",
      "M. Paulockis\n",
      "\n",
      "Romāns\n",
      "\n",
      "IZDEVNIECĪBA „SENĀTNE*, RĪGĀ\n",
      "\n",
      "Sp. „STAR* Rīgā,\n",
      "Jumara\n"
     ]
    }
   ],
   "source": [
    "elixir_text = Path(r\"..\\data\\docs\\PaulM_ProfS_1051757.txt\").read_text(encoding=\"utf-8\")\n",
    "# how many characters in the text\n",
    "print(f\"Number of characters in the text: {len(elixir_text)}\")\n",
    "# first 200 characters\n",
    "print(elixir_text[:400])"
   ]
  },
  {
   "cell_type": "code",
   "execution_count": 30,
   "metadata": {},
   "outputs": [
    {
     "name": "stdout",
     "output_type": "stream",
     "text": [
      "The provided text mentions the following land transportation vehicles in Latvian:\n",
      "\n",
      "* auto-limuzīna\n",
      "* tramvaji\n",
      "* taksometrs\n",
      "* autobuss\n",
      "* vilcienos (plural - trains)\n",
      "* lokomotīves (plural - locomotives)\n",
      "* auto (plural - cars)\n",
      "* elektrovāģis\n",
      "\n",
      "\n",
      "Note that \"automobīļus\" (plural - automobiles) appears in the text within a sentence describing how people adapted to a changing world, not as a specific event in the narrative.  Therefore it's not included above, as a direct mention of a vehicle type in function within the story is required to be included in the list.\n",
      "\n"
     ]
    }
   ],
   "source": [
    "response = openai_chat(elixir_text)\n",
    "print(response)"
   ]
  },
  {
   "cell_type": "code",
   "execution_count": 32,
   "metadata": {},
   "outputs": [
    {
     "name": "stdout",
     "output_type": "stream",
     "text": [
      "Please extract a comprehensive list of all mentioned land transportation vehicles from the given texts.\n",
      "Include specific types (e.g., cars, trains, bicycles) as well as broader categories (e.g., public transportation).\n",
      "Provide the terms in Latvian, preserving their original transcription variants as they appear in the text. Text:\n"
     ]
    }
   ],
   "source": [
    "print(system_prompt)"
   ]
  },
  {
   "cell_type": "code",
   "execution_count": 35,
   "metadata": {},
   "outputs": [],
   "source": [
    "# # let's try different model - google/gemini-2.0-flash-exp:free\n",
    "# model = \"google/gemini-2.0-flash-exp:free\"\n",
    "# model = \"google/gemini-exp-1206:free\"\n",
    "\n",
    "# response = openai_chat(elixir_text, model=model)\n",
    "# print(response)"
   ]
  },
  {
   "cell_type": "code",
   "execution_count": 37,
   "metadata": {},
   "outputs": [
    {
     "name": "stdout",
     "output_type": "stream",
     "text": [
      "Based on the provided text, here is a comprehensive list of mentioned land transportation vehicles, both specific types and broader categories in Latvian:\n",
      "\n",
      "1. **Automobiļi** (Cars)\n",
      "2. **Tramvaji** (Trams)\n",
      "3. **Taksometri** (Taxis)\n",
      "4. **Dzelzceļš** (Railway/Train)\n",
      "5. **Vilciens** (Train)\n",
      "6. **Centrālapkures katls** (Central Heating Boiler) - indirectly related as part of infrastructure\n",
      "7. **Gaisa dzelzceļš** (Aerial Cableway) - mentioned in the context of transportation infrastructure\n",
      "\n",
      "Broader categories and terms:\n",
      "8. **Sabiedriskā transporta** (Public Transportation)\n",
      "9. **Līdzekļi** (Vehicles/Means of Transportation)\n",
      "\n",
      "This list includes various forms of land transportation cited directly in the text and captures the essence of the broader transportation context as discussed.\n"
     ]
    }
   ],
   "source": [
    "model = \"openai/gpt-4o-mini\"\n",
    "response = openai_chat(elixir_text, model=model)\n",
    "print(response)"
   ]
  },
  {
   "cell_type": "code",
   "execution_count": 38,
   "metadata": {},
   "outputs": [
    {
     "name": "stdout",
     "output_type": "stream",
     "text": [
      "Using model openai/gpt-4o-mini\n",
      "Here is a comprehensive list of the land transportation vehicles mentioned in the provided text:\n",
      "\n",
      "1. **vilciens** (train)\n",
      "2. **tramvajs** (tram)\n",
      "3. **taksometrs** (taxi)\n",
      "4. **divritenis** (bicycle)\n",
      "5. **auto** (car)\n",
      "6. **gaisa dzelzceļš** (aerial tramway)\n",
      "7. **dzelzceļš** (railway)\n",
      "   \n",
      "Broader categories:\n",
      "1. **sabiedriskais transports** (public transportation) \n",
      "\n",
      "Please note that the terms are preserved in their original spelling as they appear in the text.\n"
     ]
    }
   ],
   "source": [
    "system_prompt = \"\"\"You are an expert on Latvian language and transporation.\n",
    "Please extract a comprehensive list of all mentioned land transportation vehicles from the given Latvian document.\n",
    "Include all specific types (e.g., vilciens, tramvajs, divritenis, ormanis) as well as broader categories (e.g., dzelceļš, sabiedriskais transports).\n",
    "Provide the terms solely in Latvian, preserving their original spelling as they appear in the text. Text: \n",
    "\"\"\"\n",
    "print(f\"Using model {model}\")\n",
    "response = openai_chat(elixir_text, system_prompt=system_prompt, model=model)\n",
    "print(response)"
   ]
  },
  {
   "cell_type": "code",
   "execution_count": 39,
   "metadata": {},
   "outputs": [
    {
     "name": "stdout",
     "output_type": "stream",
     "text": [
      "Using model google/gemini-2.0-flash-exp:free\n",
      "Okay, here's the comprehensive list of land transportation vehicles mentioned in the provided Latvian text, presented solely in Latvian:\n",
      "\n",
      "*   sabiedriskais transports\n",
      "*   auto-limuzīnā\n",
      "*   taksometram\n",
      "*   taksometra\n",
      "*   tramvaja\n",
      "*   tramvaji\n",
      "*   dzelzceļpārbrauktuvi\n",
      "*   dzelzceļš\n",
      "*   vilciens\n",
      "*   sliedēm\n",
      "*   auto\n",
      "\n"
     ]
    }
   ],
   "source": [
    "# let's try with Gemini model\n",
    "model = \"google/gemini-2.0-flash-exp:free\"\n",
    "print(f\"Using model {model}\")\n",
    "response = openai_chat(elixir_text, system_prompt=system_prompt, model=model)\n",
    "print(response)"
   ]
  }
 ],
 "metadata": {
  "kernelspec": {
   "display_name": "venv312",
   "language": "python",
   "name": "python3"
  },
  "language_info": {
   "codemirror_mode": {
    "name": "ipython",
    "version": 3
   },
   "file_extension": ".py",
   "mimetype": "text/x-python",
   "name": "python",
   "nbconvert_exporter": "python",
   "pygments_lexer": "ipython3",
   "version": "3.12.6"
  }
 },
 "nbformat": 4,
 "nbformat_minor": 2
}
