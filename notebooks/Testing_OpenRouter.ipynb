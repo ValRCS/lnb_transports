{
 "cells": [
  {
   "cell_type": "markdown",
   "metadata": {},
   "source": [
    "# Testing OpenRouter models\n",
    "\n",
    "We will be testing how well various models available on OpenRouter perform extraction of transport related information from text.\n",
    "\n",
    "We will be using OPENAI style API to access the models."
   ]
  },
  {
   "cell_type": "code",
   "execution_count": 11,
   "metadata": {},
   "outputs": [
    {
     "name": "stdout",
     "output_type": "stream",
     "text": [
      "Date: 2025-01-23 10:16:36.492319\n",
      "Python version: 3.12.6 (tags/v3.12.6:a4a2d2b, Sep  6 2024, 20:11:23) [MSC v.1940 64 bit (AMD64)]\n",
      "Requests version: 2.32.3\n",
      "OpenAI version: 1.59.9\n",
      "We have the OPENROUTER_API_KEY should be good to go\n"
     ]
    }
   ],
   "source": [
    "# first we need to import the basic libraries\n",
    "# date\n",
    "from datetime import datetime\n",
    "now = datetime.now()\n",
    "print(f\"Date: {now}\")\n",
    "# python version\n",
    "import sys\n",
    "print(f\"Python version: {sys.version}\")\n",
    "from pathlib import Path\n",
    "import json\n",
    "import requests\n",
    "# print version\n",
    "print(f\"Requests version: {requests.__version__}\")\n",
    "# import OpenAI\n",
    "# let's try using OpenAI API\n",
    "from openai import OpenAI\n",
    "# import openai version\n",
    "from openai import __version__ as openai_version\n",
    "print(f\"OpenAI version: {openai_version}\")\n",
    "\n",
    "# load OPENROUTER_API key from system environment\n",
    "import os\n",
    "openrouter_api_key = os.getenv('OPENROUTER_API_KEY')\n",
    "# assert key is not None\n",
    "assert openrouter_api_key is not None, \"OPENROUTER_API_KEY is not set\"\n",
    "print(\"We have the OPENROUTER_API_KEY should be good to go\")"
   ]
  },
  {
   "cell_type": "code",
   "execution_count": 7,
   "metadata": {},
   "outputs": [
    {
     "name": "stdout",
     "output_type": "stream",
     "text": [
      "{'id': 'gen-1737619944-weNIM6vfs4oTmlWvCRGb', 'provider': 'OpenAI', 'model': 'openai/gpt-3.5-turbo', 'object': 'chat.completion', 'created': 1737619944, 'choices': [{'logprobs': None, 'finish_reason': 'stop', 'native_finish_reason': 'stop', 'index': 0, 'message': {'role': 'assistant', 'content': 'The meaning of life is a deeply philosophical and personal question that has been debated and contemplated by humans for centuries. Different individuals and cultures may have their own interpretations and beliefs about the purpose and significance of life. Some may believe that the meaning of life is to find happiness and fulfillment, to serve others, to seek spiritual enlightenment, to pursue personal growth and self-improvement, or to contribute to the greater good of society. Ultimately, the meaning of life is subjective and can vary greatly from person to person.', 'refusal': None}}], 'system_fingerprint': None, 'usage': {'prompt_tokens': 14, 'completion_tokens': 102, 'total_tokens': 116}}\n"
     ]
    }
   ],
   "source": [
    "# let's make a request to the OpenRouter API\n",
    "response = requests.post(\n",
    "  url=\"https://openrouter.ai/api/v1/chat/completions\",\n",
    "  headers={\n",
    "    \"Authorization\": f\"Bearer {openrouter_api_key}\",\n",
    "    \"HTTP-Referer\": \"VSAU\", # Optional. Site URL for rankings on openrouter.ai.\n",
    "    \"X-Title\": \"VSAU\", # Optional. Site title for rankings on openrouter.ai.\n",
    "  },\n",
    "  data=json.dumps({\n",
    "    \"model\": \"openai/gpt-3.5-turbo\", # Optional\n",
    "    \"messages\": [\n",
    "      {\n",
    "        \"role\": \"user\",\n",
    "        \"content\": \"What is the meaning of life?\"\n",
    "      }\n",
    "    ]\n",
    "    \n",
    "  })\n",
    ")\n",
    "# print the response\n",
    "print(response.json())"
   ]
  },
  {
   "cell_type": "code",
   "execution_count": 4,
   "metadata": {},
   "outputs": [
    {
     "name": "stdout",
     "output_type": "stream",
     "text": [
      "The meaning of life is a philosophical question that has been debated for centuries. Some believe that the meaning of life is to seek happiness and fulfillment, others believe it is to serve a higher purpose or follow a specific set of beliefs or values. Ultimately, the meaning of life is subjective and can vary from person to person. It is up to each individual to determine their own meaning and purpose in life.\n"
     ]
    }
   ],
   "source": [
    "# print actual content\n",
    "print(response.json()['choices'][0]['message']['content'])"
   ]
  },
  {
   "cell_type": "code",
   "execution_count": 8,
   "metadata": {},
   "outputs": [
    {
     "name": "stdout",
     "output_type": "stream",
     "text": [
      "The meaning of life is a deeply philosophical question with many different interpretations. Some believe that the meaning of life is to seek happiness and fulfillment, others believe it is to fulfill a specific purpose or destiny, and some believe that life has no inherent meaning and it is up to each individual to create their own meaning. Ultimately, the meaning of life is subjective and can vary greatly from person to person.\n"
     ]
    }
   ],
   "source": [
    "# let's try using OpenAI API\n",
    "# from openai import OpenAI\n",
    "\n",
    "client = OpenAI(\n",
    "  base_url=\"https://openrouter.ai/api/v1\",\n",
    "  api_key=openrouter_api_key,\n",
    ")\n",
    "\n",
    "completion = client.chat.completions.create(\n",
    "  extra_headers={\n",
    "    \"HTTP-Referer\": \"VSAU\", # Optional. Site URL for rankings on openrouter.ai.\n",
    "    \"X-Title\": \"VSAU\", # Optional. Site title for rankings on openrouter.ai.\n",
    "  },\n",
    "  model=\"openai/gpt-3.5-turbo\",\n",
    "  messages=[\n",
    "    {\n",
    "      \"role\": \"user\",\n",
    "      \"content\": \"What is the meaning of life?\"\n",
    "    }\n",
    "  ]\n",
    ")\n",
    "print(completion.choices[0].message.content)"
   ]
  },
  {
   "cell_type": "code",
   "execution_count": 14,
   "metadata": {},
   "outputs": [
    {
     "name": "stdout",
     "output_type": "stream",
     "text": [
      "Using model google/gemini-2.0-flash-exp:free\n"
     ]
    }
   ],
   "source": [
    "# let's make a function that calls the OpenAI API, function will have following parameters:\n",
    "# base_url, api_key, model, messages, headers\n",
    "base_url = \"https://openrouter.ai/api/v1\"\n",
    "api_key = openrouter_api_key\n",
    "model = \"google/gemini-flash-1.5\"\n",
    "model = \"google/gemini-2.0-flash-exp:free\"\n",
    "print(f\"Using model {model}\")\n",
    "role = \"user\"\n",
    "headers = {\n",
    "  \"HTTP-Referer\": \"VSAU\", # Optional. Site URL for rankings on openrouter.ai.\n",
    "  \"X-Title\": \"VSAU\", # Optional. Site title for rankings on openrouter.ai.\n",
    "}\n",
    "\n",
    "system_prompt = \"\"\"Please extract a comprehensive list of all mentioned land transportation vehicles from the given texts.\n",
    "Include specific types (e.g., cars, trains, bicycles) as well as broader categories (e.g., public transportation).\n",
    "Provide the terms in Latvian, preserving their original transcription variants as they appear in the text. Text:\"\"\"\n",
    "\n",
    "\n",
    "def openai_chat(user_prompt, \n",
    "                system_prompt=system_prompt, \n",
    "                base_url=base_url,\n",
    "                api_key=api_key, \n",
    "                model=model, \n",
    "                headers=headers,\n",
    "                verbose=True):\n",
    "  client = OpenAI(\n",
    "    base_url=base_url,\n",
    "    api_key=api_key,\n",
    "  )\n",
    "  messages = [\n",
    "        {\n",
    "        \"role\": \"system\",\n",
    "        \"content\": system_prompt\n",
    "        },\n",
    "        {\n",
    "        \"role\": \"user\",\n",
    "        \"content\": user_prompt\n",
    "        }\n",
    "    ]\n",
    "  # if verbose let's show model, system_prompt and start time for request\n",
    "  if verbose:\n",
    "    print(f\"Using model {model}\")\n",
    "    print(f\"System prompt: {system_prompt}\")\n",
    "    start_time = datetime.now()\n",
    "    print(f\"Start time: {start_time}\")\n",
    "  completion = client.chat.completions.create(\n",
    "    extra_headers=headers,\n",
    "    model=model,\n",
    "    messages=messages\n",
    "  )\n",
    "  if verbose:\n",
    "    print(f\"Time taken: {datetime.now() - start_time}\")\n",
    "  return completion.choices[0].message.content\n"
   ]
  },
  {
   "cell_type": "code",
   "execution_count": 10,
   "metadata": {},
   "outputs": [
    {
     "name": "stdout",
     "output_type": "stream",
     "text": [
      "* sabiedriskais transports\n",
      "* autobuss\n",
      "\n"
     ]
    }
   ],
   "source": [
    "# let's test the function with a prompt\n",
    "prompt = \"\"\"Pa ceļu gāja cilvēks ar suni, bet viņš bija ļoti noguris, tāpēc viņš nolēma izmantot sabiedrisko transportu. \n",
    "Vēlāk viņš sēdēja autobusā un skatījās uz logu.\n",
    "Šis cilvēks sapņoja par jūru un pludmali, bet viņam bija jābrauc uz darbu.\n",
    "Cik labī būtu bijis sēdēt laiva, makšķerēt zivis un baudīt sauli!\"\"\"\n",
    "response = openai_chat(prompt)\n",
    "print(response)"
   ]
  },
  {
   "cell_type": "code",
   "execution_count": 13,
   "metadata": {},
   "outputs": [
    {
     "name": "stdout",
     "output_type": "stream",
     "text": [
      "..\\data\\docs\\JaunJ_Ziema_417458.txt\n",
      "..\\data\\docs\\PaulM_ProfS_1051757.txt\n",
      "..\\data\\docs\\UpitA_Sievi_771386.txt\n",
      "..\\data\\docs\\UpitA_Siev_part_1.txt\n"
     ]
    }
   ],
   "source": [
    "# let's list all text files in data/docs folder\n",
    "data_folder = Path(\"../data/docs\")\n",
    "# list all files\n",
    "files = list(data_folder.glob(\"*.txt\"))\n",
    "# print all files\n",
    "print(*files, sep=\"\\n\")\n"
   ]
  },
  {
   "cell_type": "code",
   "execution_count": 15,
   "metadata": {},
   "outputs": [
    {
     "name": "stdout",
     "output_type": "stream",
     "text": [
      "Sieviete\n",
      "\n",
      "\n",
      "Pirmā daļa\n",
      "\n",
      "Guberņas rentejas ierēdnis Apse pamodās, kad pulkstens aiz sienas ēdamistabā sāka sist. Pusmiegā viņš skaitīja... un nevarēja saskaitīt. Bet tomēr beigās zināja, ka četri. Četri... viņš vairāk reižu domās atkārtoja šo skaitli. Tad vienreiz izrunāja balsī tā, ka pats varēja dzi\n"
     ]
    }
   ],
   "source": [
    "# let's open last file and read the content using utf-8 encoding\n",
    "file = files[-1]\n",
    "with open(file, encoding=\"utf-8\") as f:\n",
    "  text = f.read()\n",
    "# first 300 characters\n",
    "print(text[:300])"
   ]
  },
  {
   "cell_type": "code",
   "execution_count": 17,
   "metadata": {},
   "outputs": [
    {
     "name": "stdout",
     "output_type": "stream",
     "text": [
      "Using model google/gemini-2.0-flash-exp:free\n",
      "System prompt: Please extract a comprehensive list of all mentioned land transportation vehicles from the given texts.\n",
      "Include specific types (e.g., cars, trains, bicycles) as well as broader categories (e.g., public transportation).\n",
      "Provide the terms in Latvian, preserving their original transcription variants as they appear in the text. Text:\n",
      "Start time: 2025-01-23 10:22:22.422112\n",
      "Time taken: 0:00:11.144166\n",
      "Pēc dotā teksta, zemes transporta līdzekļi ir:\n",
      "\n",
      "*  zābaki (nav gan transportlīdzeklis, bet ir saistīts ar pārvietošanos pa zemi; zābaki, un arī kājas, bija bieži pieminēti)\n",
      "*  kamanas (gan vienjūga, gan divjūga kamanas)\n",
      "*  tramvaja vagons\n",
      "*  dzelzceļa vilciens (minēts caur sajūtām - \"vai sēd dzelzceļa vilcienā\")\n",
      "*  ekipaža (minēts kā nākotnes sapnis: \"brauks sava paša eķipažā\")\n",
      "*  automobiļi (nav tieši minēti, bet netieši pieņemti, ka tie varētu pastāvēt, kad runāts par \"pazīstamās automobiļu skaņām\")\n",
      "*  riteņi (saistīti ar velobraucējiem, bet konkrēts transports nav minēts, tika minēta \"vēja dzenātās vieglās sloksniņas.\" kā slidas)\n",
      "* sabiedriskais transports (plašāka kategorija, kur tramvaja vagons ir kā piemērs)\n",
      "\n",
      "Šie termini ir saglabāti tieši tā, kā tie parādījās tekstā (Latviešu valodā).\n",
      "\n"
     ]
    }
   ],
   "source": [
    "# lets test the function with the text\n",
    "response = openai_chat(text)\n",
    "print(response)"
   ]
  },
  {
   "cell_type": "code",
   "execution_count": 9,
   "metadata": {},
   "outputs": [
    {
     "name": "stdout",
     "output_type": "stream",
     "text": [
      "Here's a list of transportation terms in the Latvian language:\n",
      "\n",
      "1. Auto (Car) - Auto\n",
      "2. Autoceļš (Highway) - Autoceļš\n",
      "3. Velosipēds (Bicycle) - Velosipēds\n",
      "4. Riteņbraucējs (Cyclist) - Riteņbraucējs\n",
      "5. Būve (Construction) - Būve\n",
      "6. Dzelzceļš (Railway) - Dzelzceļš\n",
      "7. Vilciens (Train) - Vilciens\n",
      "8. Lidmašīna (Airplane) - Lidmašīna\n",
      "9. Osta (Port) - Osta\n",
      "10. Kuģis (Ship) - Kuģis\n",
      "11. Autobuss (Bus) - Autobuss\n",
      "12. Trolejbuss (Trolleybus) - Trolejbuss\n",
      "13. Tramvajs (Tram) - Tramvajs\n",
      "14. Taksi (Taxi) - Taksi\n",
      "15. Stacija (Station) - Stacija\n",
      "16. Pietura (Stop) - Pietura\n",
      "17. Brauciens (Trip) - Brauciens\n",
      "18. Reiss (Journey) - Ceļojums (more common term for journey)\n",
      "19. Maršruts (Route) - Maršruts\n",
      "20. Satiksme (Transportation) - Satiksme\n",
      "\n",
      "Additionally, here are some common phrases related to transportation:\n",
      "\n",
      "- \"Kā piesāpināt?\" (How to get there?) - Kā piesāpināt?\n",
      "- \"Kā braukt?\" (How to travel?) - Kā braukt?\n",
      "- \"Cik ilgi?\" (How long does it take?) - Cik ilgi?\n",
      "- \"Cik daudz maksā?\" (How much does it cost?) - Cik daudz maksā?\n"
     ]
    }
   ],
   "source": [
    "# now let's try the same prompt but with a different model\n",
    "# we will use the following model meta-llama/llama-3.3-70b-instruct\n",
    "model = \"meta-llama/llama-3.3-70b-instruct\"\n",
    "response = openai_chat(prompt, model=model)\n",
    "print(response)"
   ]
  },
  {
   "cell_type": "code",
   "execution_count": 10,
   "metadata": {},
   "outputs": [
    {
     "name": "stdout",
     "output_type": "stream",
     "text": [
      "Here's a list of common transportation terms in Latvian:\n",
      "\n",
      "1. Transport - transports (transportation)\n",
      "2. Autobuss - autobus (bus)\n",
      "3. Viena - vilciens (train)\n",
      "4. Lidmašīna - lidmašīna (airplane)\n",
      "5. Kuģis - kuģis (ship)\n",
      "6. Laiva - laiva (boat)\n",
      "7. Riteņbraucējs - riteņbraucējs (bicyclist)\n",
      "8. Velosipēds - velosipēds (bicycle)\n",
      "9. Motocikls - motocikls (motorcycle)\n",
      "10. Automobiļi - mašīna (car)\n",
      "11. Taksi - taksometrs (taxi)\n",
      "12. Metro - metro (subway)\n",
      "13. Tramvajs - tramvajs (tram)\n",
      "14. Elektrovilciens - elektrības vilciens (electric train)\n",
      "15. Starptautiskā lidosta - starptautiskā lidosta (international airport)\n",
      "16. Tuksneša mašīna - kutermašīna (jeep)\n",
      "17. Gājējs - gājējs (pedestrian)\n",
      "18. Ceļš - ceļš (road)\n",
      "19. Automaģistrāle - automaģistrāle (highway)\n",
      "20. Tilts - tilts (bridge).\n",
      "\n",
      "Note: Latvian language uses its specific characters, but they were not used here for easier search. Example of those would be:\n",
      "ā (in transportation - transports), \n",
      "ē (in ceļš - road),\n",
      "ī (in lidmašīna - airplane),\n",
      "ū (in kuģis - ship),\n",
      "ū (in laiva - boat).\n"
     ]
    }
   ],
   "source": [
    "# let's try the same prompt but with a different model\n",
    "# we will use the following model meta-llama/llama-3.2-90b-vision-instruct:free \n",
    "model = \"meta-llama/llama-3.2-90b-vision-instruct:free\"\n",
    "response = openai_chat(prompt, model=model)\n",
    "print(response)"
   ]
  },
  {
   "cell_type": "code",
   "execution_count": 11,
   "metadata": {},
   "outputs": [
    {
     "name": "stdout",
     "output_type": "stream",
     "text": [
      "Here is a list of transportation-related terms in Latvian:\n",
      "\n",
      "1. **Automašīna** – Car  \n",
      "2. **Autobuss** – Bus  \n",
      "3. **Vilciens** – Train  \n",
      "4. **Lidmašīna** – Airplane  \n",
      "5. **Kuģis** – Ship  \n",
      "6. **Velosipēds** – Bicycle  \n",
      "7. **Motocikls** – Motorcycle  \n",
      "8. **Skrejritenis** – Scooter  \n",
      "9. **Taksometrs (Taksi)** – Taxi  \n",
      "10. **Kravas automašīna** – Truck  \n",
      "11. **Laiva** – Boat  \n",
      "12. **Tramvajs** – Tram  \n",
      "13. **Trolejbuss** – Trolleybus  \n",
      "14. **Helikopters** – Helicopter  \n",
      "15. **Metro** – Subway  \n",
      "16. **Automaģistrāle** – Highway  \n",
      "17. **Satiksmes līdzeklis** – Means of transport  \n",
      "18. **Ceļš** – Road  \n",
      "19. **Maršruts** – Route  \n",
      "20. **Stacija** – Station  \n",
      "21. **Pietura** – Stop  \n",
      "22. **Autoosta** – Bus station  \n",
      "23. **Osta** – Port  \n",
      "24. **Lidosta** – Airport  \n",
      "25. **Ceļojums** – Journey  \n",
      "26. **Biļete** – Ticket  \n",
      "27. **Ātrums** – Speed  \n",
      "28. **Degviela** – Fuel  \n",
      "29. **Pasažieris** – Passenger  \n",
      "30. **Vadītājs** – Driver  \n",
      "31. **Stūre** – Steering wheel  \n",
      "32. **Bagāža** – Luggage  \n",
      "33. **Ceļa zīme** – Road sign  \n",
      "34. **Līzings** – Leasing  \n",
      "35. **Satiksme** – Traffic\n",
      "\n",
      "I hope you find this helpful! Let me know if you'd like a specific focus on any mode of transport.\n"
     ]
    }
   ],
   "source": [
    "# now let's try with latest GPT-4o model\n",
    "model = \"openai/gpt-4o-2024-11-20\"\n",
    "response = openai_chat(prompt, model=model)\n",
    "print(response)"
   ]
  },
  {
   "cell_type": "code",
   "execution_count": 12,
   "metadata": {},
   "outputs": [
    {
     "data": {
      "text/plain": [
       "'Provide a list of transportation terms in Latvian language'"
      ]
     },
     "execution_count": 12,
     "metadata": {},
     "output_type": "execute_result"
    }
   ],
   "source": [
    "prompt"
   ]
  },
  {
   "cell_type": "code",
   "execution_count": 21,
   "metadata": {},
   "outputs": [
    {
     "data": {
      "text/plain": [
       "'google/gemini-flash-1.5'"
      ]
     },
     "execution_count": 21,
     "metadata": {},
     "output_type": "execute_result"
    }
   ],
   "source": [
    "model"
   ]
  },
  {
   "cell_type": "code",
   "execution_count": 25,
   "metadata": {},
   "outputs": [
    {
     "name": "stdout",
     "output_type": "stream",
     "text": [
      "We have 4 text files in the data/docs folder\n",
      "Name of first file: ..\\data\\docs\\JaunJ_Ziema_417458.txt\n",
      "Name of second file: ..\\data\\docs\\PaulM_ProfS_1051757.txt\n",
      "Name of last file: ..\\data\\docs\\UpitA_Siev_part_1.txt\n"
     ]
    }
   ],
   "source": [
    "# let's get list of all txt files in data docs folder\n",
    "from pathlib import Path\n",
    "text_files = list(Path(\"../data/docs\").rglob(\"*.txt\"))\n",
    "print(f\"We have {len(text_files)} text files in the data/docs folder\")\n",
    "# first one\n",
    "print(f\"Name of first file: {text_files[0]}\")\n",
    "# 2nd one\n",
    "print(f\"Name of second file: {text_files[1]}\")\n",
    "# last one \n",
    "print(f\"Name of last file: {text_files[-1]}\")"
   ]
  },
  {
   "cell_type": "code",
   "execution_count": 18,
   "metadata": {},
   "outputs": [
    {
     "name": "stdout",
     "output_type": "stream",
     "text": [
      "Number of characters in the text: 163835\n"
     ]
    }
   ],
   "source": [
    "# let's read text of last file using utf-8 encoding\n",
    "with open(text_files[-1], \"r\", encoding=\"utf-8\") as file:\n",
    "  text = file.read()\n",
    "# how many characters in the text\n",
    "print(f\"Number of characters in the text: {len(text)}\")"
   ]
  },
  {
   "cell_type": "code",
   "execution_count": 23,
   "metadata": {},
   "outputs": [
    {
     "name": "stdout",
     "output_type": "stream",
     "text": [
      "Please extract a comprehensive list of all mentioned land transportation vehicles from the given texts.\n",
      "Include specific types (e.g., cars, trains, bicycles) as well as broader categories (e.g., public transportation).\n",
      "Provide the terms in Latvian, preserving their original transcription variants as they appear in the text. Text:\n"
     ]
    }
   ],
   "source": [
    "print(system_prompt)"
   ]
  },
  {
   "cell_type": "code",
   "execution_count": 24,
   "metadata": {},
   "outputs": [
    {
     "name": "stdout",
     "output_type": "stream",
     "text": [
      "The provided text mentions the following land transportation vehicles in Latvian:\n",
      "\n",
      "* **kamanas** (sleds)\n",
      "* **tramvaja vagons** (tram)\n",
      "* **ormanis** (sleigh, specifically referring to a horse-drawn sleigh in this context)\n",
      "* **kamanu slieces** (sled runners)\n",
      "* **dzelzceļa vilciens** (train)\n",
      "\n",
      "\n",
      "There is no mention of cars or bicycles.  The broader category of \"public transportation\" is not explicitly mentioned although \"tramvajs\" falls under this category.\n",
      "\n"
     ]
    }
   ],
   "source": [
    "# let's use text as a prompt\n",
    "response = openai_chat(text)\n",
    "print(response)"
   ]
  },
  {
   "cell_type": "code",
   "execution_count": 29,
   "metadata": {},
   "outputs": [
    {
     "name": "stdout",
     "output_type": "stream",
     "text": [
      "Number of characters in the text: 188657\n",
      "title: Profesora Sūnas brīnišķīgais eleksīrs\n",
      "isPartOf:\n",
      "creator: Paulockis, Miķelis\n",
      "dateIssued: 1938\n",
      "publisher: Senatne\n",
      "publicationPlace: Rīga\n",
      "firstPublished:\n",
      "firstEdition: 1938\n",
      "dateModified:\n",
      "copyright:\n",
      "uri: http://dom.lndb.lv/data/obj/1051757\n",
      "normalization:\n",
      "ocrCorrection:\n",
      "verified:\n",
      "\n",
      "\n",
      "\n",
      "Profesora Sūnas brīnišķīgais eleksīrs\n",
      "\n",
      "M. Paulockis\n",
      "\n",
      "Romāns\n",
      "\n",
      "IZDEVNIECĪBA „SENĀTNE*, RĪGĀ\n",
      "\n",
      "Sp. „STAR* Rīgā,\n",
      "Jumara\n"
     ]
    }
   ],
   "source": [
    "elixir_text = Path(r\"..\\data\\docs\\PaulM_ProfS_1051757.txt\").read_text(encoding=\"utf-8\")\n",
    "# how many characters in the text\n",
    "print(f\"Number of characters in the text: {len(elixir_text)}\")\n",
    "# first 200 characters\n",
    "print(elixir_text[:400])"
   ]
  },
  {
   "cell_type": "code",
   "execution_count": 30,
   "metadata": {},
   "outputs": [
    {
     "name": "stdout",
     "output_type": "stream",
     "text": [
      "The provided text mentions the following land transportation vehicles in Latvian:\n",
      "\n",
      "* auto-limuzīna\n",
      "* tramvaji\n",
      "* taksometrs\n",
      "* autobuss\n",
      "* vilcienos (plural - trains)\n",
      "* lokomotīves (plural - locomotives)\n",
      "* auto (plural - cars)\n",
      "* elektrovāģis\n",
      "\n",
      "\n",
      "Note that \"automobīļus\" (plural - automobiles) appears in the text within a sentence describing how people adapted to a changing world, not as a specific event in the narrative.  Therefore it's not included above, as a direct mention of a vehicle type in function within the story is required to be included in the list.\n",
      "\n"
     ]
    }
   ],
   "source": [
    "response = openai_chat(elixir_text)\n",
    "print(response)"
   ]
  },
  {
   "cell_type": "code",
   "execution_count": 32,
   "metadata": {},
   "outputs": [
    {
     "name": "stdout",
     "output_type": "stream",
     "text": [
      "Please extract a comprehensive list of all mentioned land transportation vehicles from the given texts.\n",
      "Include specific types (e.g., cars, trains, bicycles) as well as broader categories (e.g., public transportation).\n",
      "Provide the terms in Latvian, preserving their original transcription variants as they appear in the text. Text:\n"
     ]
    }
   ],
   "source": [
    "print(system_prompt)"
   ]
  },
  {
   "cell_type": "code",
   "execution_count": 35,
   "metadata": {},
   "outputs": [],
   "source": [
    "# # let's try different model - google/gemini-2.0-flash-exp:free\n",
    "# model = \"google/gemini-2.0-flash-exp:free\"\n",
    "# model = \"google/gemini-exp-1206:free\"\n",
    "\n",
    "# response = openai_chat(elixir_text, model=model)\n",
    "# print(response)"
   ]
  },
  {
   "cell_type": "code",
   "execution_count": 37,
   "metadata": {},
   "outputs": [
    {
     "name": "stdout",
     "output_type": "stream",
     "text": [
      "Based on the provided text, here is a comprehensive list of mentioned land transportation vehicles, both specific types and broader categories in Latvian:\n",
      "\n",
      "1. **Automobiļi** (Cars)\n",
      "2. **Tramvaji** (Trams)\n",
      "3. **Taksometri** (Taxis)\n",
      "4. **Dzelzceļš** (Railway/Train)\n",
      "5. **Vilciens** (Train)\n",
      "6. **Centrālapkures katls** (Central Heating Boiler) - indirectly related as part of infrastructure\n",
      "7. **Gaisa dzelzceļš** (Aerial Cableway) - mentioned in the context of transportation infrastructure\n",
      "\n",
      "Broader categories and terms:\n",
      "8. **Sabiedriskā transporta** (Public Transportation)\n",
      "9. **Līdzekļi** (Vehicles/Means of Transportation)\n",
      "\n",
      "This list includes various forms of land transportation cited directly in the text and captures the essence of the broader transportation context as discussed.\n"
     ]
    }
   ],
   "source": [
    "model = \"openai/gpt-4o-mini\"\n",
    "response = openai_chat(elixir_text, model=model)\n",
    "print(response)"
   ]
  },
  {
   "cell_type": "code",
   "execution_count": 38,
   "metadata": {},
   "outputs": [
    {
     "name": "stdout",
     "output_type": "stream",
     "text": [
      "Using model openai/gpt-4o-mini\n",
      "Here is a comprehensive list of the land transportation vehicles mentioned in the provided text:\n",
      "\n",
      "1. **vilciens** (train)\n",
      "2. **tramvajs** (tram)\n",
      "3. **taksometrs** (taxi)\n",
      "4. **divritenis** (bicycle)\n",
      "5. **auto** (car)\n",
      "6. **gaisa dzelzceļš** (aerial tramway)\n",
      "7. **dzelzceļš** (railway)\n",
      "   \n",
      "Broader categories:\n",
      "1. **sabiedriskais transports** (public transportation) \n",
      "\n",
      "Please note that the terms are preserved in their original spelling as they appear in the text.\n"
     ]
    }
   ],
   "source": [
    "system_prompt = \"\"\"You are an expert on Latvian language and transporation.\n",
    "Please extract a comprehensive list of all mentioned land transportation vehicles from the given Latvian document.\n",
    "Include all specific types (e.g., vilciens, tramvajs, divritenis, ormanis) as well as broader categories (e.g., dzelceļš, sabiedriskais transports).\n",
    "Provide the terms solely in Latvian, preserving their original spelling as they appear in the text. Text: \n",
    "\"\"\"\n",
    "print(f\"Using model {model}\")\n",
    "response = openai_chat(elixir_text, system_prompt=system_prompt, model=model)\n",
    "print(response)"
   ]
  },
  {
   "cell_type": "code",
   "execution_count": 39,
   "metadata": {},
   "outputs": [
    {
     "name": "stdout",
     "output_type": "stream",
     "text": [
      "Using model google/gemini-2.0-flash-exp:free\n",
      "Okay, here's the comprehensive list of land transportation vehicles mentioned in the provided Latvian text, presented solely in Latvian:\n",
      "\n",
      "*   sabiedriskais transports\n",
      "*   auto-limuzīnā\n",
      "*   taksometram\n",
      "*   taksometra\n",
      "*   tramvaja\n",
      "*   tramvaji\n",
      "*   dzelzceļpārbrauktuvi\n",
      "*   dzelzceļš\n",
      "*   vilciens\n",
      "*   sliedēm\n",
      "*   auto\n",
      "\n"
     ]
    }
   ],
   "source": [
    "# let's try with Gemini model\n",
    "model = \"google/gemini-2.0-flash-exp:free\"\n",
    "print(f\"Using model {model}\")\n",
    "response = openai_chat(elixir_text, system_prompt=system_prompt, model=model)\n",
    "print(response)"
   ]
  }
 ],
 "metadata": {
  "kernelspec": {
   "display_name": "venv312",
   "language": "python",
   "name": "python3"
  },
  "language_info": {
   "codemirror_mode": {
    "name": "ipython",
    "version": 3
   },
   "file_extension": ".py",
   "mimetype": "text/x-python",
   "name": "python",
   "nbconvert_exporter": "python",
   "pygments_lexer": "ipython3",
   "version": "3.12.6"
  }
 },
 "nbformat": 4,
 "nbformat_minor": 2
}
