{
 "cells": [
  {
   "cell_type": "markdown",
   "id": "67717b5f",
   "metadata": {},
   "source": [
    "# Visualize Top N Authors\n",
    "\n",
    "We will be visualizing the top N authors for specific terms."
   ]
  },
  {
   "cell_type": "markdown",
   "id": "b3fdae1e",
   "metadata": {},
   "source": [
    "## Loading Libraries"
   ]
  },
  {
   "cell_type": "code",
   "execution_count": 1,
   "id": "bc0af8cf",
   "metadata": {},
   "outputs": [
    {
     "name": "stdout",
     "output_type": "stream",
     "text": [
      "Python version:  3.12.6 (tags/v3.12.6:a4a2d2b, Sep  6 2024, 20:11:23) [MSC v.1940 64 bit (AMD64)]\n",
      "Python executable:  c:\\pyenvs\\venv312\\Scripts\\python.exe\n",
      "Date and time:  29/05/2025 13:15:50\n",
      "Pandas version:  2.2.1\n",
      "Plotly version:  5.19.0\n"
     ]
    }
   ],
   "source": [
    "# first python and pandas versions\n",
    "\n",
    "import sys\n",
    "from pathlib import Path\n",
    "import pickle\n",
    "import math\n",
    "import pandas as pd\n",
    "from tqdm import tqdm\n",
    "\n",
    "print('Python version: ', sys.version)\n",
    "# python execution path\n",
    "print('Python executable: ', sys.executable)\n",
    "# get current date and time\n",
    "from datetime import datetime\n",
    "now = datetime.now()\n",
    "print('Date and time: ', now.strftime(\"%d/%m/%Y %H:%M:%S\"))\n",
    "\n",
    "print('Pandas version: ', pd.__version__)\n",
    "\n",
    "# load plotly\n",
    "import plotly.express as px\n",
    "import plotly.graph_objects as go\n",
    "import plotly\n",
    "from plotly.subplots import make_subplots\n",
    "# print version\n",
    "print('Plotly version: ', plotly.__version__)"
   ]
  },
  {
   "cell_type": "markdown",
   "id": "1574d80f",
   "metadata": {},
   "source": [
    "## Load Big Data"
   ]
  },
  {
   "cell_type": "code",
   "execution_count": 2,
   "id": "961a9b97",
   "metadata": {},
   "outputs": [],
   "source": [
    "# src = Path(\"../../not_repo/latsenrom_2025_05_09.parquet\")\n",
    "\n",
    "# # assert src.exists()\n",
    "# assert src.is_file(), f\"File not found: {src}\"\n",
    "# # loading\n",
    "# print(f\"Loading from {src}\")\n",
    "# df = pd.read_parquet(src)\n",
    "# # check the dataframe\n",
    "# # shape\n",
    "# print(f\"df.shape: {df.shape}\")\n",
    "# # head\n",
    "# df.head()"
   ]
  },
  {
   "cell_type": "markdown",
   "id": "6e8f4933",
   "metadata": {},
   "source": [
    "## Define terms and translations"
   ]
  },
  {
   "cell_type": "code",
   "execution_count": 3,
   "id": "0f5d7f6c",
   "metadata": {},
   "outputs": [
    {
     "name": "stdout",
     "output_type": "stream",
     "text": [
      "We have 12 original terms translations.\n"
     ]
    }
   ],
   "source": [
    "original_terms_translations = {\n",
    "    \"auto\": \"auto\",\t\n",
    "    \"autobuss\": \"autobus\",\n",
    "    \"automobilis\": \"automobile\",\n",
    "    \"dzelzceļš\": \"railway\",\n",
    "    \"mašīna\": \"machine\",\n",
    "    \"motocikls\": \"motorcycle\",\n",
    "    \"ormanis\": \"horse-drawn cab\",\n",
    "    \"pajūgs\": \"carriage\",\n",
    "    \"taksometrs\": \"taxi\",\n",
    "    \"tramvajs\": \"tram\",\n",
    "    \"velosipēds\": \"bicycle\",\n",
    "    \"vezums\": \"wagon\",\n",
    "}\n",
    "print(f\"We have {len(original_terms_translations)} original terms translations.\")"
   ]
  },
  {
   "cell_type": "markdown",
   "id": "260af31b",
   "metadata": {},
   "source": [
    "## Functions for top n authors for each term as histogram"
   ]
  },
  {
   "cell_type": "code",
   "execution_count": 4,
   "id": "0124320e",
   "metadata": {},
   "outputs": [],
   "source": [
    "def get_top_n_authors_df(df, term, n=5, verbose=True):\n",
    "    # find top n authors with most term\n",
    "    top_authors = df[df.lemma == term].groupby('author').size().nlargest(n)\n",
    "    # create a histogram of top n authors with most term\n",
    "    vis_df = top_authors.head(n)\n",
    "    return vis_df\n",
    "# let's get trace given we already have a authors_df\n",
    "def get_authors_trace(authors_df, term, y_range_max=None, font_size=18, color=\"rgb(0, 61, 165)\", term_dict=None):\n",
    "    if term_dict:\n",
    "        name = term_dict[term]\n",
    "        print(f\"Will use name: {name} instead of {term}\")\n",
    "    else:\n",
    "        name = term\n",
    "        print(f\"Will use name: {name} as is {term}\")\n",
    "    \n",
    "    trace = go.Bar(\n",
    "        x=authors_df.index,\n",
    "        y=authors_df.values,\n",
    "        name=name,\n",
    "        # font size\n",
    "        textfont=dict(size=font_size),\n",
    "        # marker color\n",
    "        marker_color=color,\n",
    "    )\n",
    "    return trace\n",
    "# let's create a function that takes df and term_list and returns a figure with subplots for each term\n",
    "def term_top_authors_subplots(df, \n",
    "                              term_list, \n",
    "                              top_n = 5, \n",
    "                              sort=True, \n",
    "                              height_per_trace=300, \n",
    "                              columns=3, \n",
    "                              get_y_range_max=True, \n",
    "                              turn_off_legend=True,\n",
    "                              font_size=18,\n",
    "                              width = 1242,\n",
    "                              term_dict=None,\n",
    "                              top_authors_dfs=None,\n",
    "                              colors=None):\n",
    "    if not top_authors_dfs:\n",
    "        top_authors_dfs= [get_top_n_authors_df(df, term, top_n) for term in term_list]\n",
    "    # create a list of traces\n",
    "    # get top_n authors for each term as df\n",
    "    if sort:\n",
    "        # we will sort term_list alphabetically\n",
    "        # however we also need to match top_authors_dfs to term_list\n",
    "        # so we will sort top_authors_dfs as well\n",
    "        if colors is not None:\n",
    "            assert len(colors) == len(term_list), \"Colors list must match term_list length\"\n",
    "            term_list, top_authors_dfs, colors = zip(*sorted(zip(term_list, top_authors_dfs, colors)))\n",
    "        else:\n",
    "            term_list, top_authors_dfs = zip(*sorted(zip(term_list, top_authors_dfs)))\n",
    "\n",
    "    if get_y_range_max:\n",
    "        # get maximum y value\n",
    "        y_max = max([df.max() for df in top_authors_dfs])\n",
    "        # round up to nearest 10\n",
    "        y_max = math.ceil(y_max / 10) * 10\n",
    "    else:\n",
    "        y_max = None\n",
    "    traces = []\n",
    "\n",
    "    if colors is None:\n",
    "\n",
    "        for term, authors_df in tqdm(zip(term_list, top_authors_dfs)):\n",
    "            trace = get_authors_trace(authors_df, term, y_max, term_dict=term_dict)\n",
    "            traces.append(trace)\n",
    "    else:\n",
    "        # we will use colors for each term\n",
    "        for term, authors_df, color in tqdm(zip(term_list, top_authors_dfs, colors)):\n",
    "            trace = get_authors_trace(authors_df, term, y_max, term_dict=term_dict, color=color)\n",
    "            traces.append(trace)\n",
    "    # create a subplot\n",
    "    fig = make_subplots(rows=math.ceil(len(term_list)/columns), cols=columns, subplot_titles=term_list)\n",
    "    fig.update_layout(height=height_per_trace * len(term_list) // columns)\n",
    "    # width\n",
    "    fig.update_layout(width=width)\n",
    "    if y_max:\n",
    "        # fig.update_layout(yaxis=dict(range=[0, y_max]))\n",
    "        print(f\"update yaxis range to [0, {y_max}]\")\n",
    "        fig.update_yaxes(range=[0, y_max])\n",
    "    # fig.print_grid()\n",
    "    # add each fig to the subplot\n",
    "    for i, trace in enumerate(traces):\n",
    "        fig.append_trace(trace, row=i//columns+1, col=i%columns+1)\n",
    "    # update height to 3000\n",
    "    # fig.update_layout(height=3000)\n",
    "    # return fig\n",
    "    # change font size\n",
    "    fig.update_layout(font=dict(size=font_size, color=\"black\"))\n",
    "    if turn_off_legend:\n",
    "        fig.update_layout(showlegend=False)\n",
    "    # update annotation font size\n",
    "    fig.update_layout(annotations=[dict(font=dict(size=font_size))])\n",
    "    return fig"
   ]
  },
  {
   "cell_type": "markdown",
   "id": "27d5e51b",
   "metadata": {},
   "source": [
    "## Create top n authors for each term\n"
   ]
  },
  {
   "cell_type": "code",
   "execution_count": 5,
   "id": "0efc0cb5",
   "metadata": {},
   "outputs": [],
   "source": [
    "N = 5\n",
    "# top_authors_df_dict = {term: get_top_n_authors_df(df, term, n=N) for term in tqdm(original_terms_translations.keys())}\n"
   ]
  },
  {
   "cell_type": "code",
   "execution_count": 6,
   "id": "114d237f",
   "metadata": {},
   "outputs": [],
   "source": [
    "# show first term results\n",
    "# term = list(original_terms_translations.keys())[0]\n",
    "# print(f\"Top {N} authors for term '{term}':\")\n",
    "# top_authors_df_dict[term].head(N)"
   ]
  },
  {
   "cell_type": "code",
   "execution_count": 7,
   "id": "2d598e4f",
   "metadata": {},
   "outputs": [],
   "source": [
    "# let's save all dataframes individually\n",
    "# output_dir = Path(\"../parquet/top_authors_dfs\")\n",
    "# # create directory if not exists\n",
    "# output_dir.mkdir(parents=True, exist_ok=True)\n",
    "# # let's make csv directory as well\n",
    "# csv_output_dir = Path(\"../csv/top_authors_dfs\")\n",
    "# # create directory if not exists\n",
    "# csv_output_dir.mkdir(parents=True, exist_ok=True)\n",
    "# # save each dataframe to a parquet file\n",
    "# for term, authors_df in tqdm(top_authors_df_dict.items()):\n",
    "#     # save to parquet\n",
    "#     authors_df.to_frame().to_parquet(output_dir / f\"{term}_top_{N}.parquet\")\n",
    "#     # also save to csv\n",
    "#     authors_df.to_frame().to_csv(csv_output_dir / f\"{term}_top_{N}.csv\", index=True)\n",
    "#     # # also save to pickle\n",
    "#     # with open(output_dir / f\"{term}.pkl\", \"wb\") as f:\n",
    "#     #     pickle.dump(authors_df, f)"
   ]
  },
  {
   "cell_type": "markdown",
   "id": "a4439bb5",
   "metadata": {},
   "source": [
    "## Loading Data for Visualization"
   ]
  },
  {
   "cell_type": "code",
   "execution_count": 14,
   "id": "e6019445",
   "metadata": {},
   "outputs": [
    {
     "name": "stdout",
     "output_type": "stream",
     "text": [
      "We have 12 parquet files in ..\\parquet\\top_authors_dfs\n"
     ]
    },
    {
     "name": "stderr",
     "output_type": "stream",
     "text": [
      "100%|██████████| 12/12 [00:00<00:00, 221.76it/s]"
     ]
    },
    {
     "name": "stdout",
     "output_type": "stream",
     "text": [
      "Top authors df dictionary keys: ['autobuss', 'automobilis', 'auto', 'dzelzceļš', 'mašīna', 'motocikls', 'ormanis', 'pajūgs', 'taksometrs', 'tramvajs']... (total 12)\n",
      "We are good, top authors df dictionary keys match original terms translations keys.\n"
     ]
    },
    {
     "name": "stderr",
     "output_type": "stream",
     "text": [
      "\n"
     ]
    }
   ],
   "source": [
    "output_dir = Path(\"../parquet/top_authors_dfs\")\n",
    "# how many parquet files do we have?\n",
    "parquet_files = list(output_dir.glob(\"*.parquet\"))\n",
    "print(f\"We have {len(parquet_files)} parquet files in {output_dir}\")\n",
    "# we will save the them in a dictionary with term being the first part of filename when split by _\n",
    "top_authors_series_dict = {}\n",
    "for file in tqdm(parquet_files):\n",
    "    # get term from filename\n",
    "    term = file.stem.split(\"_\")[0]\n",
    "    # load dataframe\n",
    "    df = pd.read_parquet(file)\n",
    "    # add to dictionary\n",
    "    top_authors_series_dict[term] = df.squeeze()  # use squeeze to convert single-column DataFrame to Series\n",
    "# print keys for verification\n",
    "print(f\"Top authors df dictionary keys: {list(top_authors_series_dict.keys())[:10]}... (total {len(top_authors_series_dict)})\")\n",
    "# assert they match original_terms_translations\n",
    "assert set(top_authors_series_dict.keys()) == set(original_terms_translations.keys()), \"Top authors df dictionary keys do not match original terms translations keys\"\n",
    "print(f\"We are good, top authors df dictionary keys match original terms translations keys.\")"
   ]
  },
  {
   "cell_type": "code",
   "execution_count": null,
   "id": "825fdcb7",
   "metadata": {},
   "outputs": [],
   "source": []
  },
  {
   "cell_type": "markdown",
   "id": "bf213e3a",
   "metadata": {},
   "source": [
    "## Visualizing top n authors within subplots"
   ]
  },
  {
   "cell_type": "code",
   "execution_count": 15,
   "id": "a62e8f9a",
   "metadata": {},
   "outputs": [
    {
     "name": "stderr",
     "output_type": "stream",
     "text": [
      "12it [00:00, 1844.19it/s]"
     ]
    },
    {
     "name": "stdout",
     "output_type": "stream",
     "text": [
      "Will use name: auto as is auto\n",
      "Will use name: autobus as is autobus\n",
      "Will use name: automobile as is automobile\n",
      "Will use name: bicycle as is bicycle\n",
      "Will use name: carriage as is carriage\n",
      "Will use name: horse-drawn cab as is horse-drawn cab\n",
      "Will use name: machine as is machine\n",
      "Will use name: motorcycle as is motorcycle\n",
      "Will use name: railway as is railway\n",
      "Will use name: taxi as is taxi\n",
      "Will use name: tram as is tram\n",
      "Will use name: wagon as is wagon\n",
      "update yaxis range to [0, 440]\n"
     ]
    },
    {
     "name": "stderr",
     "output_type": "stream",
     "text": [
      "\n"
     ]
    },
    {
     "data": {
      "application/vnd.plotly.v1+json": {
       "config": {
        "plotlyServerURL": "https://plot.ly"
       },
       "data": [
        {
         "marker": {
          "color": "rgb(0, 61, 165)"
         },
         "name": "auto",
         "textfont": {
          "size": 18
         },
         "type": "bar",
         "x": [
          "LaciV",
          "PaulM",
          "SartJ",
          "SverE",
          "UpitA"
         ],
         "xaxis": "x",
         "y": [
          36,
          21,
          20,
          17,
          13
         ],
         "yaxis": "y"
        },
        {
         "marker": {
          "color": "rgb(0, 61, 165)"
         },
         "name": "autobus",
         "textfont": {
          "size": 18
         },
         "type": "bar",
         "x": [
          "GulbA",
          "NiedAi",
          "UpitA",
          "IeviK",
          "RoziP"
         ],
         "xaxis": "x2",
         "y": [
          226,
          96,
          95,
          69,
          62
         ],
         "yaxis": "y2"
        },
        {
         "marker": {
          "color": "rgb(0, 61, 165)"
         },
         "name": "automobile",
         "textfont": {
          "size": 18
         },
         "type": "bar",
         "x": [
          "PaulM",
          "SartJ",
          "LaciV",
          "MiltK",
          "VanaA"
         ],
         "xaxis": "x3",
         "y": [
          208,
          142,
          136,
          94,
          64
         ],
         "yaxis": "y3"
        },
        {
         "marker": {
          "color": "rgb(0, 61, 165)"
         },
         "name": "bicycle",
         "textfont": {
          "size": 18
         },
         "type": "bar",
         "x": [
          "FimbK",
          "AustA",
          "GrinJ",
          "UpitA",
          "EgliA"
         ],
         "xaxis": "x4",
         "y": [
          16,
          4,
          4,
          4,
          3
         ],
         "yaxis": "y4"
        },
        {
         "marker": {
          "color": "rgb(0, 61, 165)"
         },
         "name": "carriage",
         "textfont": {
          "size": 18
         },
         "type": "bar",
         "x": [
          "FimbK",
          "JekaK",
          "LaciV",
          "NiedAi",
          "GulbA"
         ],
         "xaxis": "x5",
         "y": [
          133,
          78,
          67,
          61,
          57
         ],
         "yaxis": "y5"
        },
        {
         "marker": {
          "color": "rgb(0, 61, 165)"
         },
         "name": "horse-drawn cab",
         "textfont": {
          "size": 18
         },
         "type": "bar",
         "x": [
          "UpitA",
          "LapiK",
          "LesiVi",
          "ZeibJ",
          "ZariK"
         ],
         "xaxis": "x6",
         "y": [
          181,
          61,
          55,
          40,
          38
         ],
         "yaxis": "y6"
        },
        {
         "marker": {
          "color": "rgb(0, 61, 165)"
         },
         "name": "machine",
         "textfont": {
          "size": 18
         },
         "type": "bar",
         "x": [
          "SartJ",
          "CelmV",
          "PaulM",
          "LaciV",
          "FimbK"
         ],
         "xaxis": "x7",
         "y": [
          200,
          162,
          111,
          103,
          88
         ],
         "yaxis": "y7"
        },
        {
         "marker": {
          "color": "rgb(0, 61, 165)"
         },
         "name": "motorcycle",
         "textfont": {
          "size": 18
         },
         "type": "bar",
         "x": [
          "LaciV",
          "PaulM",
          "SartJ",
          "ZibeV",
          "ErssA"
         ],
         "xaxis": "x8",
         "y": [
          23,
          21,
          15,
          12,
          6
         ],
         "yaxis": "y8"
        },
        {
         "marker": {
          "color": "rgb(0, 61, 165)"
         },
         "name": "railway",
         "textfont": {
          "size": 18
         },
         "type": "bar",
         "x": [
          "UpitA",
          "LankA",
          "NiedAn",
          "GulbA",
          "LaciV"
         ],
         "xaxis": "x9",
         "y": [
          109,
          62,
          62,
          55,
          48
         ],
         "yaxis": "y9"
        },
        {
         "marker": {
          "color": "rgb(0, 61, 165)"
         },
         "name": "taxi",
         "textfont": {
          "size": 18
         },
         "type": "bar",
         "x": [
          "PaulM",
          "SpriJ",
          "GrigA",
          "ZiemV",
          "VeseJ"
         ],
         "xaxis": "x10",
         "y": [
          26,
          6,
          5,
          5,
          4
         ],
         "yaxis": "y10"
        },
        {
         "marker": {
          "color": "rgb(0, 61, 165)"
         },
         "name": "tram",
         "textfont": {
          "size": 18
         },
         "type": "bar",
         "x": [
          "LaciV",
          "UpitA",
          "VeseJ",
          "JaunJ",
          "LapiK"
         ],
         "xaxis": "x11",
         "y": [
          62,
          58,
          22,
          21,
          20
         ],
         "yaxis": "y11"
        },
        {
         "marker": {
          "color": "rgb(0, 61, 165)"
         },
         "name": "wagon",
         "textfont": {
          "size": 18
         },
         "type": "bar",
         "x": [
          "UpitA",
          "FimbK",
          "GrinA",
          "LaciV",
          "NiedAi"
         ],
         "xaxis": "x12",
         "y": [
          437,
          182,
          141,
          135,
          131
         ],
         "yaxis": "y12"
        }
       ],
       "layout": {
        "annotations": [
         {
          "font": {
           "size": 22
          },
          "showarrow": false,
          "text": "auto",
          "x": 0.14444444444444446,
          "xanchor": "center",
          "xref": "paper",
          "y": 1,
          "yanchor": "bottom",
          "yref": "paper"
         },
         {
          "font": {
           "size": 22
          },
          "showarrow": false,
          "text": "autobus",
          "x": 0.5,
          "xanchor": "center",
          "xref": "paper",
          "y": 1,
          "yanchor": "bottom",
          "yref": "paper"
         },
         {
          "font": {
           "size": 22
          },
          "showarrow": false,
          "text": "automobile",
          "x": 0.8555555555555556,
          "xanchor": "center",
          "xref": "paper",
          "y": 1,
          "yanchor": "bottom",
          "yref": "paper"
         },
         {
          "font": {
           "size": 22
          },
          "showarrow": false,
          "text": "bicycle",
          "x": 0.14444444444444446,
          "xanchor": "center",
          "xref": "paper",
          "y": 0.71875,
          "yanchor": "bottom",
          "yref": "paper"
         },
         {
          "font": {
           "size": 22
          },
          "showarrow": false,
          "text": "carriage",
          "x": 0.5,
          "xanchor": "center",
          "xref": "paper",
          "y": 0.71875,
          "yanchor": "bottom",
          "yref": "paper"
         },
         {
          "font": {
           "size": 22
          },
          "showarrow": false,
          "text": "horse-drawn cab",
          "x": 0.8555555555555556,
          "xanchor": "center",
          "xref": "paper",
          "y": 0.71875,
          "yanchor": "bottom",
          "yref": "paper"
         },
         {
          "font": {
           "size": 22
          },
          "showarrow": false,
          "text": "machine",
          "x": 0.14444444444444446,
          "xanchor": "center",
          "xref": "paper",
          "y": 0.4375,
          "yanchor": "bottom",
          "yref": "paper"
         },
         {
          "font": {
           "size": 22
          },
          "showarrow": false,
          "text": "motorcycle",
          "x": 0.5,
          "xanchor": "center",
          "xref": "paper",
          "y": 0.4375,
          "yanchor": "bottom",
          "yref": "paper"
         },
         {
          "font": {
           "size": 22
          },
          "showarrow": false,
          "text": "railway",
          "x": 0.8555555555555556,
          "xanchor": "center",
          "xref": "paper",
          "y": 0.4375,
          "yanchor": "bottom",
          "yref": "paper"
         },
         {
          "font": {
           "size": 22
          },
          "showarrow": false,
          "text": "taxi",
          "x": 0.14444444444444446,
          "xanchor": "center",
          "xref": "paper",
          "y": 0.15625,
          "yanchor": "bottom",
          "yref": "paper"
         },
         {
          "font": {
           "size": 22
          },
          "showarrow": false,
          "text": "tram",
          "x": 0.5,
          "xanchor": "center",
          "xref": "paper",
          "y": 0.15625,
          "yanchor": "bottom",
          "yref": "paper"
         },
         {
          "font": {
           "size": 22
          },
          "showarrow": false,
          "text": "wagon",
          "x": 0.8555555555555556,
          "xanchor": "center",
          "xref": "paper",
          "y": 0.15625,
          "yanchor": "bottom",
          "yref": "paper"
         }
        ],
        "font": {
         "color": "black",
         "size": 22
        },
        "height": 1140,
        "showlegend": false,
        "template": {
         "data": {
          "bar": [
           {
            "error_x": {
             "color": "#2a3f5f"
            },
            "error_y": {
             "color": "#2a3f5f"
            },
            "marker": {
             "line": {
              "color": "#E5ECF6",
              "width": 0.5
             },
             "pattern": {
              "fillmode": "overlay",
              "size": 10,
              "solidity": 0.2
             }
            },
            "type": "bar"
           }
          ],
          "barpolar": [
           {
            "marker": {
             "line": {
              "color": "#E5ECF6",
              "width": 0.5
             },
             "pattern": {
              "fillmode": "overlay",
              "size": 10,
              "solidity": 0.2
             }
            },
            "type": "barpolar"
           }
          ],
          "carpet": [
           {
            "aaxis": {
             "endlinecolor": "#2a3f5f",
             "gridcolor": "white",
             "linecolor": "white",
             "minorgridcolor": "white",
             "startlinecolor": "#2a3f5f"
            },
            "baxis": {
             "endlinecolor": "#2a3f5f",
             "gridcolor": "white",
             "linecolor": "white",
             "minorgridcolor": "white",
             "startlinecolor": "#2a3f5f"
            },
            "type": "carpet"
           }
          ],
          "choropleth": [
           {
            "colorbar": {
             "outlinewidth": 0,
             "ticks": ""
            },
            "type": "choropleth"
           }
          ],
          "contour": [
           {
            "colorbar": {
             "outlinewidth": 0,
             "ticks": ""
            },
            "colorscale": [
             [
              0,
              "#0d0887"
             ],
             [
              0.1111111111111111,
              "#46039f"
             ],
             [
              0.2222222222222222,
              "#7201a8"
             ],
             [
              0.3333333333333333,
              "#9c179e"
             ],
             [
              0.4444444444444444,
              "#bd3786"
             ],
             [
              0.5555555555555556,
              "#d8576b"
             ],
             [
              0.6666666666666666,
              "#ed7953"
             ],
             [
              0.7777777777777778,
              "#fb9f3a"
             ],
             [
              0.8888888888888888,
              "#fdca26"
             ],
             [
              1,
              "#f0f921"
             ]
            ],
            "type": "contour"
           }
          ],
          "contourcarpet": [
           {
            "colorbar": {
             "outlinewidth": 0,
             "ticks": ""
            },
            "type": "contourcarpet"
           }
          ],
          "heatmap": [
           {
            "colorbar": {
             "outlinewidth": 0,
             "ticks": ""
            },
            "colorscale": [
             [
              0,
              "#0d0887"
             ],
             [
              0.1111111111111111,
              "#46039f"
             ],
             [
              0.2222222222222222,
              "#7201a8"
             ],
             [
              0.3333333333333333,
              "#9c179e"
             ],
             [
              0.4444444444444444,
              "#bd3786"
             ],
             [
              0.5555555555555556,
              "#d8576b"
             ],
             [
              0.6666666666666666,
              "#ed7953"
             ],
             [
              0.7777777777777778,
              "#fb9f3a"
             ],
             [
              0.8888888888888888,
              "#fdca26"
             ],
             [
              1,
              "#f0f921"
             ]
            ],
            "type": "heatmap"
           }
          ],
          "heatmapgl": [
           {
            "colorbar": {
             "outlinewidth": 0,
             "ticks": ""
            },
            "colorscale": [
             [
              0,
              "#0d0887"
             ],
             [
              0.1111111111111111,
              "#46039f"
             ],
             [
              0.2222222222222222,
              "#7201a8"
             ],
             [
              0.3333333333333333,
              "#9c179e"
             ],
             [
              0.4444444444444444,
              "#bd3786"
             ],
             [
              0.5555555555555556,
              "#d8576b"
             ],
             [
              0.6666666666666666,
              "#ed7953"
             ],
             [
              0.7777777777777778,
              "#fb9f3a"
             ],
             [
              0.8888888888888888,
              "#fdca26"
             ],
             [
              1,
              "#f0f921"
             ]
            ],
            "type": "heatmapgl"
           }
          ],
          "histogram": [
           {
            "marker": {
             "pattern": {
              "fillmode": "overlay",
              "size": 10,
              "solidity": 0.2
             }
            },
            "type": "histogram"
           }
          ],
          "histogram2d": [
           {
            "colorbar": {
             "outlinewidth": 0,
             "ticks": ""
            },
            "colorscale": [
             [
              0,
              "#0d0887"
             ],
             [
              0.1111111111111111,
              "#46039f"
             ],
             [
              0.2222222222222222,
              "#7201a8"
             ],
             [
              0.3333333333333333,
              "#9c179e"
             ],
             [
              0.4444444444444444,
              "#bd3786"
             ],
             [
              0.5555555555555556,
              "#d8576b"
             ],
             [
              0.6666666666666666,
              "#ed7953"
             ],
             [
              0.7777777777777778,
              "#fb9f3a"
             ],
             [
              0.8888888888888888,
              "#fdca26"
             ],
             [
              1,
              "#f0f921"
             ]
            ],
            "type": "histogram2d"
           }
          ],
          "histogram2dcontour": [
           {
            "colorbar": {
             "outlinewidth": 0,
             "ticks": ""
            },
            "colorscale": [
             [
              0,
              "#0d0887"
             ],
             [
              0.1111111111111111,
              "#46039f"
             ],
             [
              0.2222222222222222,
              "#7201a8"
             ],
             [
              0.3333333333333333,
              "#9c179e"
             ],
             [
              0.4444444444444444,
              "#bd3786"
             ],
             [
              0.5555555555555556,
              "#d8576b"
             ],
             [
              0.6666666666666666,
              "#ed7953"
             ],
             [
              0.7777777777777778,
              "#fb9f3a"
             ],
             [
              0.8888888888888888,
              "#fdca26"
             ],
             [
              1,
              "#f0f921"
             ]
            ],
            "type": "histogram2dcontour"
           }
          ],
          "mesh3d": [
           {
            "colorbar": {
             "outlinewidth": 0,
             "ticks": ""
            },
            "type": "mesh3d"
           }
          ],
          "parcoords": [
           {
            "line": {
             "colorbar": {
              "outlinewidth": 0,
              "ticks": ""
             }
            },
            "type": "parcoords"
           }
          ],
          "pie": [
           {
            "automargin": true,
            "type": "pie"
           }
          ],
          "scatter": [
           {
            "fillpattern": {
             "fillmode": "overlay",
             "size": 10,
             "solidity": 0.2
            },
            "type": "scatter"
           }
          ],
          "scatter3d": [
           {
            "line": {
             "colorbar": {
              "outlinewidth": 0,
              "ticks": ""
             }
            },
            "marker": {
             "colorbar": {
              "outlinewidth": 0,
              "ticks": ""
             }
            },
            "type": "scatter3d"
           }
          ],
          "scattercarpet": [
           {
            "marker": {
             "colorbar": {
              "outlinewidth": 0,
              "ticks": ""
             }
            },
            "type": "scattercarpet"
           }
          ],
          "scattergeo": [
           {
            "marker": {
             "colorbar": {
              "outlinewidth": 0,
              "ticks": ""
             }
            },
            "type": "scattergeo"
           }
          ],
          "scattergl": [
           {
            "marker": {
             "colorbar": {
              "outlinewidth": 0,
              "ticks": ""
             }
            },
            "type": "scattergl"
           }
          ],
          "scattermapbox": [
           {
            "marker": {
             "colorbar": {
              "outlinewidth": 0,
              "ticks": ""
             }
            },
            "type": "scattermapbox"
           }
          ],
          "scatterpolar": [
           {
            "marker": {
             "colorbar": {
              "outlinewidth": 0,
              "ticks": ""
             }
            },
            "type": "scatterpolar"
           }
          ],
          "scatterpolargl": [
           {
            "marker": {
             "colorbar": {
              "outlinewidth": 0,
              "ticks": ""
             }
            },
            "type": "scatterpolargl"
           }
          ],
          "scatterternary": [
           {
            "marker": {
             "colorbar": {
              "outlinewidth": 0,
              "ticks": ""
             }
            },
            "type": "scatterternary"
           }
          ],
          "surface": [
           {
            "colorbar": {
             "outlinewidth": 0,
             "ticks": ""
            },
            "colorscale": [
             [
              0,
              "#0d0887"
             ],
             [
              0.1111111111111111,
              "#46039f"
             ],
             [
              0.2222222222222222,
              "#7201a8"
             ],
             [
              0.3333333333333333,
              "#9c179e"
             ],
             [
              0.4444444444444444,
              "#bd3786"
             ],
             [
              0.5555555555555556,
              "#d8576b"
             ],
             [
              0.6666666666666666,
              "#ed7953"
             ],
             [
              0.7777777777777778,
              "#fb9f3a"
             ],
             [
              0.8888888888888888,
              "#fdca26"
             ],
             [
              1,
              "#f0f921"
             ]
            ],
            "type": "surface"
           }
          ],
          "table": [
           {
            "cells": {
             "fill": {
              "color": "#EBF0F8"
             },
             "line": {
              "color": "white"
             }
            },
            "header": {
             "fill": {
              "color": "#C8D4E3"
             },
             "line": {
              "color": "white"
             }
            },
            "type": "table"
           }
          ]
         },
         "layout": {
          "annotationdefaults": {
           "arrowcolor": "#2a3f5f",
           "arrowhead": 0,
           "arrowwidth": 1
          },
          "autotypenumbers": "strict",
          "coloraxis": {
           "colorbar": {
            "outlinewidth": 0,
            "ticks": ""
           }
          },
          "colorscale": {
           "diverging": [
            [
             0,
             "#8e0152"
            ],
            [
             0.1,
             "#c51b7d"
            ],
            [
             0.2,
             "#de77ae"
            ],
            [
             0.3,
             "#f1b6da"
            ],
            [
             0.4,
             "#fde0ef"
            ],
            [
             0.5,
             "#f7f7f7"
            ],
            [
             0.6,
             "#e6f5d0"
            ],
            [
             0.7,
             "#b8e186"
            ],
            [
             0.8,
             "#7fbc41"
            ],
            [
             0.9,
             "#4d9221"
            ],
            [
             1,
             "#276419"
            ]
           ],
           "sequential": [
            [
             0,
             "#0d0887"
            ],
            [
             0.1111111111111111,
             "#46039f"
            ],
            [
             0.2222222222222222,
             "#7201a8"
            ],
            [
             0.3333333333333333,
             "#9c179e"
            ],
            [
             0.4444444444444444,
             "#bd3786"
            ],
            [
             0.5555555555555556,
             "#d8576b"
            ],
            [
             0.6666666666666666,
             "#ed7953"
            ],
            [
             0.7777777777777778,
             "#fb9f3a"
            ],
            [
             0.8888888888888888,
             "#fdca26"
            ],
            [
             1,
             "#f0f921"
            ]
           ],
           "sequentialminus": [
            [
             0,
             "#0d0887"
            ],
            [
             0.1111111111111111,
             "#46039f"
            ],
            [
             0.2222222222222222,
             "#7201a8"
            ],
            [
             0.3333333333333333,
             "#9c179e"
            ],
            [
             0.4444444444444444,
             "#bd3786"
            ],
            [
             0.5555555555555556,
             "#d8576b"
            ],
            [
             0.6666666666666666,
             "#ed7953"
            ],
            [
             0.7777777777777778,
             "#fb9f3a"
            ],
            [
             0.8888888888888888,
             "#fdca26"
            ],
            [
             1,
             "#f0f921"
            ]
           ]
          },
          "colorway": [
           "#636efa",
           "#EF553B",
           "#00cc96",
           "#ab63fa",
           "#FFA15A",
           "#19d3f3",
           "#FF6692",
           "#B6E880",
           "#FF97FF",
           "#FECB52"
          ],
          "font": {
           "color": "#2a3f5f"
          },
          "geo": {
           "bgcolor": "white",
           "lakecolor": "white",
           "landcolor": "#E5ECF6",
           "showlakes": true,
           "showland": true,
           "subunitcolor": "white"
          },
          "hoverlabel": {
           "align": "left"
          },
          "hovermode": "closest",
          "mapbox": {
           "style": "light"
          },
          "paper_bgcolor": "white",
          "plot_bgcolor": "#E5ECF6",
          "polar": {
           "angularaxis": {
            "gridcolor": "white",
            "linecolor": "white",
            "ticks": ""
           },
           "bgcolor": "#E5ECF6",
           "radialaxis": {
            "gridcolor": "white",
            "linecolor": "white",
            "ticks": ""
           }
          },
          "scene": {
           "xaxis": {
            "backgroundcolor": "#E5ECF6",
            "gridcolor": "white",
            "gridwidth": 2,
            "linecolor": "white",
            "showbackground": true,
            "ticks": "",
            "zerolinecolor": "white"
           },
           "yaxis": {
            "backgroundcolor": "#E5ECF6",
            "gridcolor": "white",
            "gridwidth": 2,
            "linecolor": "white",
            "showbackground": true,
            "ticks": "",
            "zerolinecolor": "white"
           },
           "zaxis": {
            "backgroundcolor": "#E5ECF6",
            "gridcolor": "white",
            "gridwidth": 2,
            "linecolor": "white",
            "showbackground": true,
            "ticks": "",
            "zerolinecolor": "white"
           }
          },
          "shapedefaults": {
           "line": {
            "color": "#2a3f5f"
           }
          },
          "ternary": {
           "aaxis": {
            "gridcolor": "white",
            "linecolor": "white",
            "ticks": ""
           },
           "baxis": {
            "gridcolor": "white",
            "linecolor": "white",
            "ticks": ""
           },
           "bgcolor": "#E5ECF6",
           "caxis": {
            "gridcolor": "white",
            "linecolor": "white",
            "ticks": ""
           }
          },
          "title": {
           "x": 0.05
          },
          "xaxis": {
           "automargin": true,
           "gridcolor": "white",
           "linecolor": "white",
           "ticks": "",
           "title": {
            "standoff": 15
           },
           "zerolinecolor": "white",
           "zerolinewidth": 2
          },
          "yaxis": {
           "automargin": true,
           "gridcolor": "white",
           "linecolor": "white",
           "ticks": "",
           "title": {
            "standoff": 15
           },
           "zerolinecolor": "white",
           "zerolinewidth": 2
          }
         }
        },
        "width": 1480,
        "xaxis": {
         "anchor": "y",
         "domain": [
          0,
          0.2888888888888889
         ]
        },
        "xaxis10": {
         "anchor": "y10",
         "domain": [
          0,
          0.2888888888888889
         ]
        },
        "xaxis11": {
         "anchor": "y11",
         "domain": [
          0.35555555555555557,
          0.6444444444444445
         ]
        },
        "xaxis12": {
         "anchor": "y12",
         "domain": [
          0.7111111111111111,
          1
         ]
        },
        "xaxis2": {
         "anchor": "y2",
         "domain": [
          0.35555555555555557,
          0.6444444444444445
         ]
        },
        "xaxis3": {
         "anchor": "y3",
         "domain": [
          0.7111111111111111,
          1
         ]
        },
        "xaxis4": {
         "anchor": "y4",
         "domain": [
          0,
          0.2888888888888889
         ]
        },
        "xaxis5": {
         "anchor": "y5",
         "domain": [
          0.35555555555555557,
          0.6444444444444445
         ]
        },
        "xaxis6": {
         "anchor": "y6",
         "domain": [
          0.7111111111111111,
          1
         ]
        },
        "xaxis7": {
         "anchor": "y7",
         "domain": [
          0,
          0.2888888888888889
         ]
        },
        "xaxis8": {
         "anchor": "y8",
         "domain": [
          0.35555555555555557,
          0.6444444444444445
         ]
        },
        "xaxis9": {
         "anchor": "y9",
         "domain": [
          0.7111111111111111,
          1
         ]
        },
        "yaxis": {
         "anchor": "x",
         "domain": [
          0.84375,
          1
         ],
         "range": [
          0,
          440
         ]
        },
        "yaxis10": {
         "anchor": "x10",
         "domain": [
          0,
          0.15625
         ],
         "range": [
          0,
          440
         ]
        },
        "yaxis11": {
         "anchor": "x11",
         "domain": [
          0,
          0.15625
         ],
         "range": [
          0,
          440
         ]
        },
        "yaxis12": {
         "anchor": "x12",
         "domain": [
          0,
          0.15625
         ],
         "range": [
          0,
          440
         ]
        },
        "yaxis2": {
         "anchor": "x2",
         "domain": [
          0.84375,
          1
         ],
         "range": [
          0,
          440
         ]
        },
        "yaxis3": {
         "anchor": "x3",
         "domain": [
          0.84375,
          1
         ],
         "range": [
          0,
          440
         ]
        },
        "yaxis4": {
         "anchor": "x4",
         "domain": [
          0.5625,
          0.71875
         ],
         "range": [
          0,
          440
         ]
        },
        "yaxis5": {
         "anchor": "x5",
         "domain": [
          0.5625,
          0.71875
         ],
         "range": [
          0,
          440
         ]
        },
        "yaxis6": {
         "anchor": "x6",
         "domain": [
          0.5625,
          0.71875
         ],
         "range": [
          0,
          440
         ]
        },
        "yaxis7": {
         "anchor": "x7",
         "domain": [
          0.28125,
          0.4375
         ],
         "range": [
          0,
          440
         ]
        },
        "yaxis8": {
         "anchor": "x8",
         "domain": [
          0.28125,
          0.4375
         ],
         "range": [
          0,
          440
         ]
        },
        "yaxis9": {
         "anchor": "x9",
         "domain": [
          0.28125,
          0.4375
         ],
         "range": [
          0,
          440
         ]
        }
       }
      }
     },
     "metadata": {},
     "output_type": "display_data"
    }
   ],
   "source": [
    "# let's use values from translation dictionary\n",
    "term_translations = list(original_terms_translations.values())\n",
    "# terms 1 fig\n",
    "fig = term_top_authors_subplots(df, term_translations, font_size=22, top_authors_dfs=top_authors_series_dict.values())\n",
    "height = 1140 # 285 * 4\n",
    "width = 1480 # 370 * 4\n",
    "# update height and width\n",
    "\n",
    "fig.update_layout(height=height)\n",
    "fig.update_layout(width=width)\n",
    "SAVE_HTML = False\n",
    "# save\n",
    "if SAVE_HTML:\n",
    "    fig.write_html(\"../html/terms_1_top_5_authors.html\")\n",
    "fig.show()"
   ]
  },
  {
   "cell_type": "markdown",
   "id": "92e85dc0",
   "metadata": {},
   "source": [
    "## Visualizing with color coding for horse and motor"
   ]
  },
  {
   "cell_type": "code",
   "execution_count": 12,
   "id": "e5240432",
   "metadata": {},
   "outputs": [],
   "source": [
    "moto_color = \"rgb(0, 61, 165)\" # Pantone 293\n",
    "horse_color = \"rgb(255, 194, 90)\" # complimentary color to Pantone 293\n",
    "term_colors = {\n",
    "    \"auto\": moto_color,\t\n",
    "    \"autobuss\": moto_color,\n",
    "    \"automobilis\": moto_color,\n",
    "    \"dzelzceļš\": moto_color,\n",
    "    \"mašīna\": moto_color,\n",
    "    \"motocikls\": moto_color,\n",
    "    \"ormanis\": horse_color,\n",
    "    \"pajūgs\": horse_color,\n",
    "    \"taksometrs\": moto_color,\n",
    "    \"tramvajs\": moto_color,\n",
    "    \"velosipēds\": moto_color, # techically this would be self-propelled, but we will use moto color for consistency with previous visualizations\n",
    "    \"vezums\": horse_color,\n",
    "}\n",
    "\n"
   ]
  },
  {
   "cell_type": "code",
   "execution_count": 16,
   "id": "da856963",
   "metadata": {},
   "outputs": [
    {
     "name": "stderr",
     "output_type": "stream",
     "text": [
      "12it [00:00, 24350.10it/s]"
     ]
    },
    {
     "name": "stdout",
     "output_type": "stream",
     "text": [
      "Will use name: auto as is auto\n",
      "Will use name: autobus as is autobus\n",
      "Will use name: automobile as is automobile\n",
      "Will use name: bicycle as is bicycle\n",
      "Will use name: carriage as is carriage\n",
      "Will use name: horse-drawn cab as is horse-drawn cab\n",
      "Will use name: machine as is machine\n",
      "Will use name: motorcycle as is motorcycle\n",
      "Will use name: railway as is railway\n",
      "Will use name: taxi as is taxi\n",
      "Will use name: tram as is tram\n",
      "Will use name: wagon as is wagon\n",
      "update yaxis range to [0, 440]\n"
     ]
    },
    {
     "name": "stderr",
     "output_type": "stream",
     "text": [
      "\n"
     ]
    },
    {
     "data": {
      "application/vnd.plotly.v1+json": {
       "config": {
        "plotlyServerURL": "https://plot.ly"
       },
       "data": [
        {
         "marker": {
          "color": "rgb(0, 61, 165)"
         },
         "name": "auto",
         "textfont": {
          "size": 18
         },
         "type": "bar",
         "x": [
          "LaciV",
          "PaulM",
          "SartJ",
          "SverE",
          "UpitA"
         ],
         "xaxis": "x",
         "y": [
          36,
          21,
          20,
          17,
          13
         ],
         "yaxis": "y"
        },
        {
         "marker": {
          "color": "rgb(0, 61, 165)"
         },
         "name": "autobus",
         "textfont": {
          "size": 18
         },
         "type": "bar",
         "x": [
          "GulbA",
          "NiedAi",
          "UpitA",
          "IeviK",
          "RoziP"
         ],
         "xaxis": "x2",
         "y": [
          226,
          96,
          95,
          69,
          62
         ],
         "yaxis": "y2"
        },
        {
         "marker": {
          "color": "rgb(0, 61, 165)"
         },
         "name": "automobile",
         "textfont": {
          "size": 18
         },
         "type": "bar",
         "x": [
          "PaulM",
          "SartJ",
          "LaciV",
          "MiltK",
          "VanaA"
         ],
         "xaxis": "x3",
         "y": [
          208,
          142,
          136,
          94,
          64
         ],
         "yaxis": "y3"
        },
        {
         "marker": {
          "color": "rgb(0, 61, 165)"
         },
         "name": "bicycle",
         "textfont": {
          "size": 18
         },
         "type": "bar",
         "x": [
          "FimbK",
          "AustA",
          "GrinJ",
          "UpitA",
          "EgliA"
         ],
         "xaxis": "x4",
         "y": [
          16,
          4,
          4,
          4,
          3
         ],
         "yaxis": "y4"
        },
        {
         "marker": {
          "color": "rgb(255, 194, 90)"
         },
         "name": "carriage",
         "textfont": {
          "size": 18
         },
         "type": "bar",
         "x": [
          "FimbK",
          "JekaK",
          "LaciV",
          "NiedAi",
          "GulbA"
         ],
         "xaxis": "x5",
         "y": [
          133,
          78,
          67,
          61,
          57
         ],
         "yaxis": "y5"
        },
        {
         "marker": {
          "color": "rgb(255, 194, 90)"
         },
         "name": "horse-drawn cab",
         "textfont": {
          "size": 18
         },
         "type": "bar",
         "x": [
          "UpitA",
          "LapiK",
          "LesiVi",
          "ZeibJ",
          "ZariK"
         ],
         "xaxis": "x6",
         "y": [
          181,
          61,
          55,
          40,
          38
         ],
         "yaxis": "y6"
        },
        {
         "marker": {
          "color": "rgb(0, 61, 165)"
         },
         "name": "machine",
         "textfont": {
          "size": 18
         },
         "type": "bar",
         "x": [
          "SartJ",
          "CelmV",
          "PaulM",
          "LaciV",
          "FimbK"
         ],
         "xaxis": "x7",
         "y": [
          200,
          162,
          111,
          103,
          88
         ],
         "yaxis": "y7"
        },
        {
         "marker": {
          "color": "rgb(0, 61, 165)"
         },
         "name": "motorcycle",
         "textfont": {
          "size": 18
         },
         "type": "bar",
         "x": [
          "LaciV",
          "PaulM",
          "SartJ",
          "ZibeV",
          "ErssA"
         ],
         "xaxis": "x8",
         "y": [
          23,
          21,
          15,
          12,
          6
         ],
         "yaxis": "y8"
        },
        {
         "marker": {
          "color": "rgb(0, 61, 165)"
         },
         "name": "railway",
         "textfont": {
          "size": 18
         },
         "type": "bar",
         "x": [
          "UpitA",
          "LankA",
          "NiedAn",
          "GulbA",
          "LaciV"
         ],
         "xaxis": "x9",
         "y": [
          109,
          62,
          62,
          55,
          48
         ],
         "yaxis": "y9"
        },
        {
         "marker": {
          "color": "rgb(0, 61, 165)"
         },
         "name": "taxi",
         "textfont": {
          "size": 18
         },
         "type": "bar",
         "x": [
          "PaulM",
          "SpriJ",
          "GrigA",
          "ZiemV",
          "VeseJ"
         ],
         "xaxis": "x10",
         "y": [
          26,
          6,
          5,
          5,
          4
         ],
         "yaxis": "y10"
        },
        {
         "marker": {
          "color": "rgb(0, 61, 165)"
         },
         "name": "tram",
         "textfont": {
          "size": 18
         },
         "type": "bar",
         "x": [
          "LaciV",
          "UpitA",
          "VeseJ",
          "JaunJ",
          "LapiK"
         ],
         "xaxis": "x11",
         "y": [
          62,
          58,
          22,
          21,
          20
         ],
         "yaxis": "y11"
        },
        {
         "marker": {
          "color": "rgb(255, 194, 90)"
         },
         "name": "wagon",
         "textfont": {
          "size": 18
         },
         "type": "bar",
         "x": [
          "UpitA",
          "FimbK",
          "GrinA",
          "LaciV",
          "NiedAi"
         ],
         "xaxis": "x12",
         "y": [
          437,
          182,
          141,
          135,
          131
         ],
         "yaxis": "y12"
        }
       ],
       "layout": {
        "annotations": [
         {
          "font": {
           "size": 22
          },
          "showarrow": false,
          "text": "auto",
          "x": 0.14444444444444446,
          "xanchor": "center",
          "xref": "paper",
          "y": 1,
          "yanchor": "bottom",
          "yref": "paper"
         },
         {
          "font": {
           "size": 22
          },
          "showarrow": false,
          "text": "autobus",
          "x": 0.5,
          "xanchor": "center",
          "xref": "paper",
          "y": 1,
          "yanchor": "bottom",
          "yref": "paper"
         },
         {
          "font": {
           "size": 22
          },
          "showarrow": false,
          "text": "automobile",
          "x": 0.8555555555555556,
          "xanchor": "center",
          "xref": "paper",
          "y": 1,
          "yanchor": "bottom",
          "yref": "paper"
         },
         {
          "font": {
           "size": 22
          },
          "showarrow": false,
          "text": "bicycle",
          "x": 0.14444444444444446,
          "xanchor": "center",
          "xref": "paper",
          "y": 0.71875,
          "yanchor": "bottom",
          "yref": "paper"
         },
         {
          "font": {
           "size": 22
          },
          "showarrow": false,
          "text": "carriage",
          "x": 0.5,
          "xanchor": "center",
          "xref": "paper",
          "y": 0.71875,
          "yanchor": "bottom",
          "yref": "paper"
         },
         {
          "font": {
           "size": 22
          },
          "showarrow": false,
          "text": "horse-drawn cab",
          "x": 0.8555555555555556,
          "xanchor": "center",
          "xref": "paper",
          "y": 0.71875,
          "yanchor": "bottom",
          "yref": "paper"
         },
         {
          "font": {
           "size": 22
          },
          "showarrow": false,
          "text": "machine",
          "x": 0.14444444444444446,
          "xanchor": "center",
          "xref": "paper",
          "y": 0.4375,
          "yanchor": "bottom",
          "yref": "paper"
         },
         {
          "font": {
           "size": 22
          },
          "showarrow": false,
          "text": "motorcycle",
          "x": 0.5,
          "xanchor": "center",
          "xref": "paper",
          "y": 0.4375,
          "yanchor": "bottom",
          "yref": "paper"
         },
         {
          "font": {
           "size": 22
          },
          "showarrow": false,
          "text": "railway",
          "x": 0.8555555555555556,
          "xanchor": "center",
          "xref": "paper",
          "y": 0.4375,
          "yanchor": "bottom",
          "yref": "paper"
         },
         {
          "font": {
           "size": 22
          },
          "showarrow": false,
          "text": "taxi",
          "x": 0.14444444444444446,
          "xanchor": "center",
          "xref": "paper",
          "y": 0.15625,
          "yanchor": "bottom",
          "yref": "paper"
         },
         {
          "font": {
           "size": 22
          },
          "showarrow": false,
          "text": "tram",
          "x": 0.5,
          "xanchor": "center",
          "xref": "paper",
          "y": 0.15625,
          "yanchor": "bottom",
          "yref": "paper"
         },
         {
          "font": {
           "size": 22
          },
          "showarrow": false,
          "text": "wagon",
          "x": 0.8555555555555556,
          "xanchor": "center",
          "xref": "paper",
          "y": 0.15625,
          "yanchor": "bottom",
          "yref": "paper"
         }
        ],
        "font": {
         "color": "black",
         "size": 22
        },
        "height": 1140,
        "showlegend": false,
        "template": {
         "data": {
          "bar": [
           {
            "error_x": {
             "color": "#2a3f5f"
            },
            "error_y": {
             "color": "#2a3f5f"
            },
            "marker": {
             "line": {
              "color": "#E5ECF6",
              "width": 0.5
             },
             "pattern": {
              "fillmode": "overlay",
              "size": 10,
              "solidity": 0.2
             }
            },
            "type": "bar"
           }
          ],
          "barpolar": [
           {
            "marker": {
             "line": {
              "color": "#E5ECF6",
              "width": 0.5
             },
             "pattern": {
              "fillmode": "overlay",
              "size": 10,
              "solidity": 0.2
             }
            },
            "type": "barpolar"
           }
          ],
          "carpet": [
           {
            "aaxis": {
             "endlinecolor": "#2a3f5f",
             "gridcolor": "white",
             "linecolor": "white",
             "minorgridcolor": "white",
             "startlinecolor": "#2a3f5f"
            },
            "baxis": {
             "endlinecolor": "#2a3f5f",
             "gridcolor": "white",
             "linecolor": "white",
             "minorgridcolor": "white",
             "startlinecolor": "#2a3f5f"
            },
            "type": "carpet"
           }
          ],
          "choropleth": [
           {
            "colorbar": {
             "outlinewidth": 0,
             "ticks": ""
            },
            "type": "choropleth"
           }
          ],
          "contour": [
           {
            "colorbar": {
             "outlinewidth": 0,
             "ticks": ""
            },
            "colorscale": [
             [
              0,
              "#0d0887"
             ],
             [
              0.1111111111111111,
              "#46039f"
             ],
             [
              0.2222222222222222,
              "#7201a8"
             ],
             [
              0.3333333333333333,
              "#9c179e"
             ],
             [
              0.4444444444444444,
              "#bd3786"
             ],
             [
              0.5555555555555556,
              "#d8576b"
             ],
             [
              0.6666666666666666,
              "#ed7953"
             ],
             [
              0.7777777777777778,
              "#fb9f3a"
             ],
             [
              0.8888888888888888,
              "#fdca26"
             ],
             [
              1,
              "#f0f921"
             ]
            ],
            "type": "contour"
           }
          ],
          "contourcarpet": [
           {
            "colorbar": {
             "outlinewidth": 0,
             "ticks": ""
            },
            "type": "contourcarpet"
           }
          ],
          "heatmap": [
           {
            "colorbar": {
             "outlinewidth": 0,
             "ticks": ""
            },
            "colorscale": [
             [
              0,
              "#0d0887"
             ],
             [
              0.1111111111111111,
              "#46039f"
             ],
             [
              0.2222222222222222,
              "#7201a8"
             ],
             [
              0.3333333333333333,
              "#9c179e"
             ],
             [
              0.4444444444444444,
              "#bd3786"
             ],
             [
              0.5555555555555556,
              "#d8576b"
             ],
             [
              0.6666666666666666,
              "#ed7953"
             ],
             [
              0.7777777777777778,
              "#fb9f3a"
             ],
             [
              0.8888888888888888,
              "#fdca26"
             ],
             [
              1,
              "#f0f921"
             ]
            ],
            "type": "heatmap"
           }
          ],
          "heatmapgl": [
           {
            "colorbar": {
             "outlinewidth": 0,
             "ticks": ""
            },
            "colorscale": [
             [
              0,
              "#0d0887"
             ],
             [
              0.1111111111111111,
              "#46039f"
             ],
             [
              0.2222222222222222,
              "#7201a8"
             ],
             [
              0.3333333333333333,
              "#9c179e"
             ],
             [
              0.4444444444444444,
              "#bd3786"
             ],
             [
              0.5555555555555556,
              "#d8576b"
             ],
             [
              0.6666666666666666,
              "#ed7953"
             ],
             [
              0.7777777777777778,
              "#fb9f3a"
             ],
             [
              0.8888888888888888,
              "#fdca26"
             ],
             [
              1,
              "#f0f921"
             ]
            ],
            "type": "heatmapgl"
           }
          ],
          "histogram": [
           {
            "marker": {
             "pattern": {
              "fillmode": "overlay",
              "size": 10,
              "solidity": 0.2
             }
            },
            "type": "histogram"
           }
          ],
          "histogram2d": [
           {
            "colorbar": {
             "outlinewidth": 0,
             "ticks": ""
            },
            "colorscale": [
             [
              0,
              "#0d0887"
             ],
             [
              0.1111111111111111,
              "#46039f"
             ],
             [
              0.2222222222222222,
              "#7201a8"
             ],
             [
              0.3333333333333333,
              "#9c179e"
             ],
             [
              0.4444444444444444,
              "#bd3786"
             ],
             [
              0.5555555555555556,
              "#d8576b"
             ],
             [
              0.6666666666666666,
              "#ed7953"
             ],
             [
              0.7777777777777778,
              "#fb9f3a"
             ],
             [
              0.8888888888888888,
              "#fdca26"
             ],
             [
              1,
              "#f0f921"
             ]
            ],
            "type": "histogram2d"
           }
          ],
          "histogram2dcontour": [
           {
            "colorbar": {
             "outlinewidth": 0,
             "ticks": ""
            },
            "colorscale": [
             [
              0,
              "#0d0887"
             ],
             [
              0.1111111111111111,
              "#46039f"
             ],
             [
              0.2222222222222222,
              "#7201a8"
             ],
             [
              0.3333333333333333,
              "#9c179e"
             ],
             [
              0.4444444444444444,
              "#bd3786"
             ],
             [
              0.5555555555555556,
              "#d8576b"
             ],
             [
              0.6666666666666666,
              "#ed7953"
             ],
             [
              0.7777777777777778,
              "#fb9f3a"
             ],
             [
              0.8888888888888888,
              "#fdca26"
             ],
             [
              1,
              "#f0f921"
             ]
            ],
            "type": "histogram2dcontour"
           }
          ],
          "mesh3d": [
           {
            "colorbar": {
             "outlinewidth": 0,
             "ticks": ""
            },
            "type": "mesh3d"
           }
          ],
          "parcoords": [
           {
            "line": {
             "colorbar": {
              "outlinewidth": 0,
              "ticks": ""
             }
            },
            "type": "parcoords"
           }
          ],
          "pie": [
           {
            "automargin": true,
            "type": "pie"
           }
          ],
          "scatter": [
           {
            "fillpattern": {
             "fillmode": "overlay",
             "size": 10,
             "solidity": 0.2
            },
            "type": "scatter"
           }
          ],
          "scatter3d": [
           {
            "line": {
             "colorbar": {
              "outlinewidth": 0,
              "ticks": ""
             }
            },
            "marker": {
             "colorbar": {
              "outlinewidth": 0,
              "ticks": ""
             }
            },
            "type": "scatter3d"
           }
          ],
          "scattercarpet": [
           {
            "marker": {
             "colorbar": {
              "outlinewidth": 0,
              "ticks": ""
             }
            },
            "type": "scattercarpet"
           }
          ],
          "scattergeo": [
           {
            "marker": {
             "colorbar": {
              "outlinewidth": 0,
              "ticks": ""
             }
            },
            "type": "scattergeo"
           }
          ],
          "scattergl": [
           {
            "marker": {
             "colorbar": {
              "outlinewidth": 0,
              "ticks": ""
             }
            },
            "type": "scattergl"
           }
          ],
          "scattermapbox": [
           {
            "marker": {
             "colorbar": {
              "outlinewidth": 0,
              "ticks": ""
             }
            },
            "type": "scattermapbox"
           }
          ],
          "scatterpolar": [
           {
            "marker": {
             "colorbar": {
              "outlinewidth": 0,
              "ticks": ""
             }
            },
            "type": "scatterpolar"
           }
          ],
          "scatterpolargl": [
           {
            "marker": {
             "colorbar": {
              "outlinewidth": 0,
              "ticks": ""
             }
            },
            "type": "scatterpolargl"
           }
          ],
          "scatterternary": [
           {
            "marker": {
             "colorbar": {
              "outlinewidth": 0,
              "ticks": ""
             }
            },
            "type": "scatterternary"
           }
          ],
          "surface": [
           {
            "colorbar": {
             "outlinewidth": 0,
             "ticks": ""
            },
            "colorscale": [
             [
              0,
              "#0d0887"
             ],
             [
              0.1111111111111111,
              "#46039f"
             ],
             [
              0.2222222222222222,
              "#7201a8"
             ],
             [
              0.3333333333333333,
              "#9c179e"
             ],
             [
              0.4444444444444444,
              "#bd3786"
             ],
             [
              0.5555555555555556,
              "#d8576b"
             ],
             [
              0.6666666666666666,
              "#ed7953"
             ],
             [
              0.7777777777777778,
              "#fb9f3a"
             ],
             [
              0.8888888888888888,
              "#fdca26"
             ],
             [
              1,
              "#f0f921"
             ]
            ],
            "type": "surface"
           }
          ],
          "table": [
           {
            "cells": {
             "fill": {
              "color": "#EBF0F8"
             },
             "line": {
              "color": "white"
             }
            },
            "header": {
             "fill": {
              "color": "#C8D4E3"
             },
             "line": {
              "color": "white"
             }
            },
            "type": "table"
           }
          ]
         },
         "layout": {
          "annotationdefaults": {
           "arrowcolor": "#2a3f5f",
           "arrowhead": 0,
           "arrowwidth": 1
          },
          "autotypenumbers": "strict",
          "coloraxis": {
           "colorbar": {
            "outlinewidth": 0,
            "ticks": ""
           }
          },
          "colorscale": {
           "diverging": [
            [
             0,
             "#8e0152"
            ],
            [
             0.1,
             "#c51b7d"
            ],
            [
             0.2,
             "#de77ae"
            ],
            [
             0.3,
             "#f1b6da"
            ],
            [
             0.4,
             "#fde0ef"
            ],
            [
             0.5,
             "#f7f7f7"
            ],
            [
             0.6,
             "#e6f5d0"
            ],
            [
             0.7,
             "#b8e186"
            ],
            [
             0.8,
             "#7fbc41"
            ],
            [
             0.9,
             "#4d9221"
            ],
            [
             1,
             "#276419"
            ]
           ],
           "sequential": [
            [
             0,
             "#0d0887"
            ],
            [
             0.1111111111111111,
             "#46039f"
            ],
            [
             0.2222222222222222,
             "#7201a8"
            ],
            [
             0.3333333333333333,
             "#9c179e"
            ],
            [
             0.4444444444444444,
             "#bd3786"
            ],
            [
             0.5555555555555556,
             "#d8576b"
            ],
            [
             0.6666666666666666,
             "#ed7953"
            ],
            [
             0.7777777777777778,
             "#fb9f3a"
            ],
            [
             0.8888888888888888,
             "#fdca26"
            ],
            [
             1,
             "#f0f921"
            ]
           ],
           "sequentialminus": [
            [
             0,
             "#0d0887"
            ],
            [
             0.1111111111111111,
             "#46039f"
            ],
            [
             0.2222222222222222,
             "#7201a8"
            ],
            [
             0.3333333333333333,
             "#9c179e"
            ],
            [
             0.4444444444444444,
             "#bd3786"
            ],
            [
             0.5555555555555556,
             "#d8576b"
            ],
            [
             0.6666666666666666,
             "#ed7953"
            ],
            [
             0.7777777777777778,
             "#fb9f3a"
            ],
            [
             0.8888888888888888,
             "#fdca26"
            ],
            [
             1,
             "#f0f921"
            ]
           ]
          },
          "colorway": [
           "#636efa",
           "#EF553B",
           "#00cc96",
           "#ab63fa",
           "#FFA15A",
           "#19d3f3",
           "#FF6692",
           "#B6E880",
           "#FF97FF",
           "#FECB52"
          ],
          "font": {
           "color": "#2a3f5f"
          },
          "geo": {
           "bgcolor": "white",
           "lakecolor": "white",
           "landcolor": "#E5ECF6",
           "showlakes": true,
           "showland": true,
           "subunitcolor": "white"
          },
          "hoverlabel": {
           "align": "left"
          },
          "hovermode": "closest",
          "mapbox": {
           "style": "light"
          },
          "paper_bgcolor": "white",
          "plot_bgcolor": "#E5ECF6",
          "polar": {
           "angularaxis": {
            "gridcolor": "white",
            "linecolor": "white",
            "ticks": ""
           },
           "bgcolor": "#E5ECF6",
           "radialaxis": {
            "gridcolor": "white",
            "linecolor": "white",
            "ticks": ""
           }
          },
          "scene": {
           "xaxis": {
            "backgroundcolor": "#E5ECF6",
            "gridcolor": "white",
            "gridwidth": 2,
            "linecolor": "white",
            "showbackground": true,
            "ticks": "",
            "zerolinecolor": "white"
           },
           "yaxis": {
            "backgroundcolor": "#E5ECF6",
            "gridcolor": "white",
            "gridwidth": 2,
            "linecolor": "white",
            "showbackground": true,
            "ticks": "",
            "zerolinecolor": "white"
           },
           "zaxis": {
            "backgroundcolor": "#E5ECF6",
            "gridcolor": "white",
            "gridwidth": 2,
            "linecolor": "white",
            "showbackground": true,
            "ticks": "",
            "zerolinecolor": "white"
           }
          },
          "shapedefaults": {
           "line": {
            "color": "#2a3f5f"
           }
          },
          "ternary": {
           "aaxis": {
            "gridcolor": "white",
            "linecolor": "white",
            "ticks": ""
           },
           "baxis": {
            "gridcolor": "white",
            "linecolor": "white",
            "ticks": ""
           },
           "bgcolor": "#E5ECF6",
           "caxis": {
            "gridcolor": "white",
            "linecolor": "white",
            "ticks": ""
           }
          },
          "title": {
           "x": 0.05
          },
          "xaxis": {
           "automargin": true,
           "gridcolor": "white",
           "linecolor": "white",
           "ticks": "",
           "title": {
            "standoff": 15
           },
           "zerolinecolor": "white",
           "zerolinewidth": 2
          },
          "yaxis": {
           "automargin": true,
           "gridcolor": "white",
           "linecolor": "white",
           "ticks": "",
           "title": {
            "standoff": 15
           },
           "zerolinecolor": "white",
           "zerolinewidth": 2
          }
         }
        },
        "width": 1480,
        "xaxis": {
         "anchor": "y",
         "domain": [
          0,
          0.2888888888888889
         ]
        },
        "xaxis10": {
         "anchor": "y10",
         "domain": [
          0,
          0.2888888888888889
         ]
        },
        "xaxis11": {
         "anchor": "y11",
         "domain": [
          0.35555555555555557,
          0.6444444444444445
         ]
        },
        "xaxis12": {
         "anchor": "y12",
         "domain": [
          0.7111111111111111,
          1
         ]
        },
        "xaxis2": {
         "anchor": "y2",
         "domain": [
          0.35555555555555557,
          0.6444444444444445
         ]
        },
        "xaxis3": {
         "anchor": "y3",
         "domain": [
          0.7111111111111111,
          1
         ]
        },
        "xaxis4": {
         "anchor": "y4",
         "domain": [
          0,
          0.2888888888888889
         ]
        },
        "xaxis5": {
         "anchor": "y5",
         "domain": [
          0.35555555555555557,
          0.6444444444444445
         ]
        },
        "xaxis6": {
         "anchor": "y6",
         "domain": [
          0.7111111111111111,
          1
         ]
        },
        "xaxis7": {
         "anchor": "y7",
         "domain": [
          0,
          0.2888888888888889
         ]
        },
        "xaxis8": {
         "anchor": "y8",
         "domain": [
          0.35555555555555557,
          0.6444444444444445
         ]
        },
        "xaxis9": {
         "anchor": "y9",
         "domain": [
          0.7111111111111111,
          1
         ]
        },
        "yaxis": {
         "anchor": "x",
         "domain": [
          0.84375,
          1
         ],
         "range": [
          0,
          440
         ]
        },
        "yaxis10": {
         "anchor": "x10",
         "domain": [
          0,
          0.15625
         ],
         "range": [
          0,
          440
         ]
        },
        "yaxis11": {
         "anchor": "x11",
         "domain": [
          0,
          0.15625
         ],
         "range": [
          0,
          440
         ]
        },
        "yaxis12": {
         "anchor": "x12",
         "domain": [
          0,
          0.15625
         ],
         "range": [
          0,
          440
         ]
        },
        "yaxis2": {
         "anchor": "x2",
         "domain": [
          0.84375,
          1
         ],
         "range": [
          0,
          440
         ]
        },
        "yaxis3": {
         "anchor": "x3",
         "domain": [
          0.84375,
          1
         ],
         "range": [
          0,
          440
         ]
        },
        "yaxis4": {
         "anchor": "x4",
         "domain": [
          0.5625,
          0.71875
         ],
         "range": [
          0,
          440
         ]
        },
        "yaxis5": {
         "anchor": "x5",
         "domain": [
          0.5625,
          0.71875
         ],
         "range": [
          0,
          440
         ]
        },
        "yaxis6": {
         "anchor": "x6",
         "domain": [
          0.5625,
          0.71875
         ],
         "range": [
          0,
          440
         ]
        },
        "yaxis7": {
         "anchor": "x7",
         "domain": [
          0.28125,
          0.4375
         ],
         "range": [
          0,
          440
         ]
        },
        "yaxis8": {
         "anchor": "x8",
         "domain": [
          0.28125,
          0.4375
         ],
         "range": [
          0,
          440
         ]
        },
        "yaxis9": {
         "anchor": "x9",
         "domain": [
          0.28125,
          0.4375
         ],
         "range": [
          0,
          440
         ]
        }
       }
      }
     },
     "metadata": {},
     "output_type": "display_data"
    }
   ],
   "source": [
    "# now let's create the same visualization but with colors\n",
    "fig = term_top_authors_subplots(df, \n",
    "                                 term_translations, \n",
    "                                 font_size=22, \n",
    "                                 top_authors_dfs=top_authors_series_dict.values(),\n",
    "                                 colors=list(term_colors.values()))\n",
    "height = 1140 # 285 * 4\n",
    "width = 1480 # 370 * 4\n",
    "# update height and width\n",
    "fig.update_layout(height=height)\n",
    "fig.update_layout(width=width)\n",
    "fig.show()"
   ]
  }
 ],
 "metadata": {
  "kernelspec": {
   "display_name": "venv312",
   "language": "python",
   "name": "python3"
  },
  "language_info": {
   "codemirror_mode": {
    "name": "ipython",
    "version": 3
   },
   "file_extension": ".py",
   "mimetype": "text/x-python",
   "name": "python",
   "nbconvert_exporter": "python",
   "pygments_lexer": "ipython3",
   "version": "3.12.6"
  }
 },
 "nbformat": 4,
 "nbformat_minor": 5
}
