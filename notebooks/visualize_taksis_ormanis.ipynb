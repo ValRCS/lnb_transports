{
 "cells": [
  {
   "cell_type": "markdown",
   "id": "53088e30",
   "metadata": {},
   "source": [
    "# Visualize taksometrs versus ormanis\n",
    "\n",
    "In this notebook, we will compare two different types of transportation: taksometrs and ormanis. We will visualize the differences in their usage and characteristics using a line plot.\n",
    "\n",
    "## Idea\n",
    "\n",
    "Main idea is to show trends in the usage of taksometrs and ormanis over time. We will use a line plot to visualize the data, with the x-axis representing time and the y-axis representing the number of taksometrs and ormanis used.\n",
    "\n",
    "We will use document frequency to show the trends in usage. Document frequency is a measure of how often a term appears in a set of documents. In this case, we will use document frequency to show how often taksometrs and ormanis are mentioned in the text.\n",
    "\n",
    "To represent different number of documents in each year we will create relative frequencies. Relative frequency is a measure of how often a term appears in a set of documents, relative to the total number of documents. In this case, we will use relative frequency to show how often taksometrs and ormanis are mentioned in the text, relative to the total number of documents.\n",
    "\n",
    "## Related terms\n",
    "\n",
    "Our taksomets and ormanis counts will include some related terms such as fūrmanis and važonis for ormanis and taksītis, taksitis for taksometrs. We will also include some other related terms such as taksometra and ormaņa.\n",
    "\n",
    "## Possible gotchas\n",
    "\n",
    "We have to be careful not to include in our document frequency terms when used in a different non transportation context.\n",
    "\n",
    "For example \"taksītis\" could refer not only to a taxi but also to a type of dog. We will have to filter out these cases.\n",
    "Anda has done manual labeling of suspected false positives. We will use this data to filter out the false positives.\n"
   ]
  }
 ],
 "metadata": {
  "language_info": {
   "name": "python"
  }
 },
 "nbformat": 4,
 "nbformat_minor": 5
}
