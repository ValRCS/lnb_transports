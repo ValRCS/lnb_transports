{
 "cells": [
  {
   "cell_type": "markdown",
   "id": "53088e30",
   "metadata": {},
   "source": [
    "# Visualize taksometrs versus ormanis\n",
    "\n",
    "In this notebook, we will compare two different types of transportation: taksometrs and ormanis. We will visualize the differences in their usage and characteristics using a line plot.\n",
    "\n",
    "## Idea\n",
    "\n",
    "Main idea is to show trends in the usage of taksometrs and ormanis over time. We will use a line plot to visualize the data, with the x-axis representing time and the y-axis representing the number of taksometrs and ormanis used.\n",
    "\n",
    "We will use document frequency to show the trends in usage. Document frequency is a measure of how often a term appears in a set of documents. In this case, we will use document frequency to show how often taksometrs and ormanis are mentioned in the text.\n",
    "\n",
    "To represent different number of documents in each year we will create relative frequencies. Relative frequency is a measure of how often a term appears in a set of documents, relative to the total number of documents. In this case, we will use relative frequency to show how often taksometrs and ormanis are mentioned in the text, relative to the total number of documents.\n",
    "\n",
    "### Related terms\n",
    "\n",
    "Our taksomets and ormanis counts will include some related terms such as fūrmanis and važonis for ormanis and taksītis, taksitis for taksometrs. We will also include some other related terms such as taksometra and ormaņa.\n",
    "\n",
    "### Possible gotchas\n",
    "\n",
    "We have to be careful not to include in our document frequency terms when used in a different non transportation context.\n",
    "\n",
    "For example \"taksītis\" could refer not only to a taxi but also to a type of dog. We will have to filter out these cases.\n",
    "Anda has done manual labeling of suspected false positives. We will use this data to filter out the false positives.\n"
   ]
  },
  {
   "cell_type": "markdown",
   "id": "3d19f045",
   "metadata": {},
   "source": [
    "## Loading Libraries and showing hardware used"
   ]
  },
  {
   "cell_type": "code",
   "execution_count": 1,
   "id": "daca7cf1",
   "metadata": {},
   "outputs": [
    {
     "name": "stdout",
     "output_type": "stream",
     "text": [
      "Python version: 3.12.6 (tags/v3.12.6:a4a2d2b, Sep  6 2024, 20:11:23) [MSC v.1940 64 bit (AMD64)]\n",
      "Run date: 2025-05-23 10:04:53.642817\n",
      "Project root: C:\\Users\\vsaules\\Github\\lnb_transports\n",
      "Computer name: 11P00694\n",
      "CPU architecture: AMD64\n",
      "CPU type Intel64 Family 6 Model 60 Stepping 3, GenuineIntel\n",
      "CPU count: 8\n",
      "CPU name: Intel(R) Xeon(R) CPU E3-1245 v3 @ 3.40GHz\n",
      "OS name: Windows\n",
      "OS version: 10.0.19045\n",
      "Memory: 31.80 GB : free - 22.91 GB\n",
      "Swap memory: 4.75 GB : free - 4.69 GB\n",
      "Disk space: 222.96 GB : free - 56.50 GB\n",
      "EXTERNAL libraries\n",
      "tqdm version: 4.66.2\n",
      "Pandas version: 2.2.1\n",
      "Plotly version: 5.19.0\n"
     ]
    }
   ],
   "source": [
    "# Show Python version\n",
    "import sys\n",
    "print(f\"Python version: {sys.version}\")\n",
    "from datetime import datetime\n",
    "print(f\"Run date: {datetime.now()}\")\n",
    "from pathlib import Path\n",
    "import os\n",
    "\n",
    "# Get the project root by going one level up from the current notebook directory\n",
    "project_root = Path().resolve().parent\n",
    "print(f\"Project root: {project_root}\")\n",
    "# what computer are we on?\n",
    "import socket\n",
    "print(f\"Computer name: {socket.gethostname()}\")\n",
    "# CPU architecture\n",
    "import platform\n",
    "print(f\"CPU architecture: {platform.machine()}\")\n",
    "# CPU type\n",
    "print(f\"CPU type {platform.processor()}\")\n",
    "# CPU count\n",
    "print(f\"CPU count: {os.cpu_count()}\")\n",
    "# let's import wmi to get the CPU name\n",
    "try:\n",
    "    import wmi\n",
    "    c = wmi.WMI()\n",
    "    for cpu in c.Win32_Processor():\n",
    "        print(f\"CPU name: {cpu.Name}\")\n",
    "except ImportError:\n",
    "    print(\"wmi not installed\")\n",
    "    print(\"Please install wmi with 'pip install WMI'\")\n",
    "\n",
    "# OS name and version\n",
    "print(f\"OS name: {platform.system()}\")\n",
    "print(f\"OS version: {platform.version()}\")\n",
    "# memory and disk space\n",
    "import psutil\n",
    "print(f\"Memory: {psutil.virtual_memory().total / (1024 ** 3):.2f} GB : free - {psutil.virtual_memory().available / (1024 ** 3):.2f} GB\")\n",
    "print(f\"Swap memory: {psutil.swap_memory().total / (1024 ** 3):.2f} GB : free - {psutil.swap_memory().free / (1024 ** 3):.2f} GB\")\n",
    "print(f\"Disk space: {psutil.disk_usage('/').total / (1024 ** 3):.2f} GB : free - {psutil.disk_usage('/').free / (1024 ** 3):.2f} GB\")\n",
    "\n",
    "# try importing the libraries we need\n",
    "print(\"EXTERNAL libraries\")\n",
    "\n",
    "try:\n",
    "    from tqdm import tqdm\n",
    "    from tqdm import __version__ as tqdm_version\n",
    "    print(f\"tqdm version: {tqdm_version}\")\n",
    "except ImportError:\n",
    "    print(\"tqdm not installed\")\n",
    "    print(\"Please install tqdm with 'pip install tqdm'\")\n",
    "\n",
    "#Pandas\n",
    "try:\n",
    "    import pandas as pd\n",
    "    from pandas import __version__ as pandas_version\n",
    "    print(f\"Pandas version: {pandas_version}\")\n",
    "except ImportError:\n",
    "    print(\"Pandas not installed\")\n",
    "    print(\"\"\"Please install pandas with 'pip install \"pandas[excel,parquet]\"'\"\"\")\n",
    "\n",
    "# now plotly\n",
    "try:\n",
    "    from plotly import express as px\n",
    "    from plotly import graph_objects as go\n",
    "    from plotly import __version__ as plotly_version\n",
    "    print(f\"Plotly version: {plotly_version}\")\n",
    "except ImportError:\n",
    "    print(\"Plotly not installed\")\n",
    "    print(\"Please install plotly with 'pip install plotly'\")\n"
   ]
  },
  {
   "cell_type": "markdown",
   "id": "14ab55fd",
   "metadata": {},
   "source": [
    "## Loading Full Dataset"
   ]
  },
  {
   "cell_type": "code",
   "execution_count": 2,
   "id": "23aa7cae",
   "metadata": {},
   "outputs": [
    {
     "name": "stdout",
     "output_type": "stream",
     "text": [
      "Loading from ..\\..\\not_repo\\latsenrom_2025_05_09.parquet\n",
      "df.shape: (37605476, 17)\n"
     ]
    },
    {
     "data": {
      "text/html": [
       "<div>\n",
       "<style scoped>\n",
       "    .dataframe tbody tr th:only-of-type {\n",
       "        vertical-align: middle;\n",
       "    }\n",
       "\n",
       "    .dataframe tbody tr th {\n",
       "        vertical-align: top;\n",
       "    }\n",
       "\n",
       "    .dataframe thead th {\n",
       "        text-align: right;\n",
       "    }\n",
       "</style>\n",
       "<table border=\"1\" class=\"dataframe\">\n",
       "  <thead>\n",
       "    <tr style=\"text-align: right;\">\n",
       "      <th></th>\n",
       "      <th>deprel</th>\n",
       "      <th>form</th>\n",
       "      <th>index</th>\n",
       "      <th>lemma</th>\n",
       "      <th>parent</th>\n",
       "      <th>pos</th>\n",
       "      <th>tag</th>\n",
       "      <th>ufeats</th>\n",
       "      <th>upos</th>\n",
       "      <th>sent_ndx</th>\n",
       "      <th>author</th>\n",
       "      <th>title</th>\n",
       "      <th>dom_id</th>\n",
       "      <th>file_stem</th>\n",
       "      <th>file_stem_short</th>\n",
       "      <th>firstEdition</th>\n",
       "      <th>term</th>\n",
       "    </tr>\n",
       "  </thead>\n",
       "  <tbody>\n",
       "    <tr>\n",
       "      <th>0</th>\n",
       "      <td>nmod</td>\n",
       "      <td>Mīlas</td>\n",
       "      <td>1</td>\n",
       "      <td>mīla</td>\n",
       "      <td>2.0</td>\n",
       "      <td>ncfsg_</td>\n",
       "      <td>ncfsg4</td>\n",
       "      <td>Case=Gen|Gender=Fem|Number=Sing</td>\n",
       "      <td>NOUN</td>\n",
       "      <td>0</td>\n",
       "      <td>AizsV</td>\n",
       "      <td>MilaU</td>\n",
       "      <td>1049452</td>\n",
       "      <td>AizsV_MilaU_1049452</td>\n",
       "      <td>AizsV_MilaU</td>\n",
       "      <td>1933</td>\n",
       "      <td>mīla</td>\n",
       "    </tr>\n",
       "    <tr>\n",
       "      <th>1</th>\n",
       "      <td>nmod</td>\n",
       "      <td>ārprāta</td>\n",
       "      <td>2</td>\n",
       "      <td>ārprāts</td>\n",
       "      <td>3.0</td>\n",
       "      <td>ncmsg_</td>\n",
       "      <td>ncmsg1</td>\n",
       "      <td>Case=Gen|Gender=Masc|Number=Sing</td>\n",
       "      <td>NOUN</td>\n",
       "      <td>0</td>\n",
       "      <td>AizsV</td>\n",
       "      <td>MilaU</td>\n",
       "      <td>1049452</td>\n",
       "      <td>AizsV_MilaU_1049452</td>\n",
       "      <td>AizsV_MilaU</td>\n",
       "      <td>1933</td>\n",
       "      <td>ārprāts</td>\n",
       "    </tr>\n",
       "    <tr>\n",
       "      <th>2</th>\n",
       "      <td>obl</td>\n",
       "      <td>varā</td>\n",
       "      <td>3</td>\n",
       "      <td>vara</td>\n",
       "      <td>6.0</td>\n",
       "      <td>ncfsl_</td>\n",
       "      <td>ncfsl4</td>\n",
       "      <td>Case=Loc|Gender=Fem|Number=Sing</td>\n",
       "      <td>NOUN</td>\n",
       "      <td>0</td>\n",
       "      <td>AizsV</td>\n",
       "      <td>MilaU</td>\n",
       "      <td>1049452</td>\n",
       "      <td>AizsV_MilaU_1049452</td>\n",
       "      <td>AizsV_MilaU</td>\n",
       "      <td>1933</td>\n",
       "      <td>vara</td>\n",
       "    </tr>\n",
       "    <tr>\n",
       "      <th>3</th>\n",
       "      <td>nmod</td>\n",
       "      <td>ROMĀNS</td>\n",
       "      <td>4</td>\n",
       "      <td>Romāns</td>\n",
       "      <td>6.0</td>\n",
       "      <td>npmsn_</td>\n",
       "      <td>npmsn1</td>\n",
       "      <td>Case=Nom|Gender=Masc|Number=Sing</td>\n",
       "      <td>PROPN</td>\n",
       "      <td>0</td>\n",
       "      <td>AizsV</td>\n",
       "      <td>MilaU</td>\n",
       "      <td>1049452</td>\n",
       "      <td>AizsV_MilaU_1049452</td>\n",
       "      <td>AizsV_MilaU</td>\n",
       "      <td>1933</td>\n",
       "      <td>Romāns</td>\n",
       "    </tr>\n",
       "    <tr>\n",
       "      <th>4</th>\n",
       "      <td>punct</td>\n",
       "      <td>„</td>\n",
       "      <td>5</td>\n",
       "      <td>\"</td>\n",
       "      <td>6.0</td>\n",
       "      <td>zq</td>\n",
       "      <td>zq</td>\n",
       "      <td>_</td>\n",
       "      <td>PUNCT</td>\n",
       "      <td>0</td>\n",
       "      <td>AizsV</td>\n",
       "      <td>MilaU</td>\n",
       "      <td>1049452</td>\n",
       "      <td>AizsV_MilaU_1049452</td>\n",
       "      <td>AizsV_MilaU</td>\n",
       "      <td>1933</td>\n",
       "      <td>\"</td>\n",
       "    </tr>\n",
       "  </tbody>\n",
       "</table>\n",
       "</div>"
      ],
      "text/plain": [
       "  deprel     form  index    lemma  parent     pos     tag  \\\n",
       "0   nmod    Mīlas      1     mīla     2.0  ncfsg_  ncfsg4   \n",
       "1   nmod  ārprāta      2  ārprāts     3.0  ncmsg_  ncmsg1   \n",
       "2    obl     varā      3     vara     6.0  ncfsl_  ncfsl4   \n",
       "3   nmod   ROMĀNS      4   Romāns     6.0  npmsn_  npmsn1   \n",
       "4  punct        „      5        \"     6.0      zq      zq   \n",
       "\n",
       "                             ufeats   upos  sent_ndx author  title   dom_id  \\\n",
       "0   Case=Gen|Gender=Fem|Number=Sing   NOUN         0  AizsV  MilaU  1049452   \n",
       "1  Case=Gen|Gender=Masc|Number=Sing   NOUN         0  AizsV  MilaU  1049452   \n",
       "2   Case=Loc|Gender=Fem|Number=Sing   NOUN         0  AizsV  MilaU  1049452   \n",
       "3  Case=Nom|Gender=Masc|Number=Sing  PROPN         0  AizsV  MilaU  1049452   \n",
       "4                                 _  PUNCT         0  AizsV  MilaU  1049452   \n",
       "\n",
       "             file_stem file_stem_short  firstEdition     term  \n",
       "0  AizsV_MilaU_1049452     AizsV_MilaU          1933     mīla  \n",
       "1  AizsV_MilaU_1049452     AizsV_MilaU          1933  ārprāts  \n",
       "2  AizsV_MilaU_1049452     AizsV_MilaU          1933     vara  \n",
       "3  AizsV_MilaU_1049452     AizsV_MilaU          1933   Romāns  \n",
       "4  AizsV_MilaU_1049452     AizsV_MilaU          1933        \"  "
      ]
     },
     "execution_count": 2,
     "metadata": {},
     "output_type": "execute_result"
    }
   ],
   "source": [
    "src = Path(\"../../not_repo/latsenrom_2025_05_09.parquet\")\n",
    "\n",
    "# assert src.exists()\n",
    "assert src.is_file(), f\"File not found: {src}\"\n",
    "# loading\n",
    "print(f\"Loading from {src}\")\n",
    "df = pd.read_parquet(src)\n",
    "# check the dataframe\n",
    "# shape\n",
    "print(f\"df.shape: {df.shape}\")\n",
    "# head\n",
    "df.head()"
   ]
  },
  {
   "cell_type": "markdown",
   "id": "c8418b5f",
   "metadata": {},
   "source": [
    "### Extracting ormanis"
   ]
  },
  {
   "cell_type": "code",
   "execution_count": 3,
   "id": "9e93f64d",
   "metadata": {},
   "outputs": [
    {
     "name": "stdout",
     "output_type": "stream",
     "text": [
      "ormanis_df.shape: (1478, 17)\n"
     ]
    },
    {
     "data": {
      "text/html": [
       "<div>\n",
       "<style scoped>\n",
       "    .dataframe tbody tr th:only-of-type {\n",
       "        vertical-align: middle;\n",
       "    }\n",
       "\n",
       "    .dataframe tbody tr th {\n",
       "        vertical-align: top;\n",
       "    }\n",
       "\n",
       "    .dataframe thead th {\n",
       "        text-align: right;\n",
       "    }\n",
       "</style>\n",
       "<table border=\"1\" class=\"dataframe\">\n",
       "  <thead>\n",
       "    <tr style=\"text-align: right;\">\n",
       "      <th></th>\n",
       "      <th>deprel</th>\n",
       "      <th>form</th>\n",
       "      <th>index</th>\n",
       "      <th>lemma</th>\n",
       "      <th>parent</th>\n",
       "      <th>pos</th>\n",
       "      <th>tag</th>\n",
       "      <th>ufeats</th>\n",
       "      <th>upos</th>\n",
       "      <th>sent_ndx</th>\n",
       "      <th>author</th>\n",
       "      <th>title</th>\n",
       "      <th>dom_id</th>\n",
       "      <th>file_stem</th>\n",
       "      <th>file_stem_short</th>\n",
       "      <th>firstEdition</th>\n",
       "      <th>term</th>\n",
       "    </tr>\n",
       "  </thead>\n",
       "  <tbody>\n",
       "    <tr>\n",
       "      <th>39464</th>\n",
       "      <td>iobj</td>\n",
       "      <td>ormanim</td>\n",
       "      <td>3</td>\n",
       "      <td>ormanis</td>\n",
       "      <td>2.0</td>\n",
       "      <td>ncmsd_</td>\n",
       "      <td>ncmsd2</td>\n",
       "      <td>Case=Dat|Gender=Masc|Number=Sing</td>\n",
       "      <td>NOUN</td>\n",
       "      <td>14</td>\n",
       "      <td>AkurJ</td>\n",
       "      <td>DegoS</td>\n",
       "      <td>771400</td>\n",
       "      <td>AkurJ_DegoS_771400</td>\n",
       "      <td>AkurJ_DegoS</td>\n",
       "      <td>1912</td>\n",
       "      <td>ormanis</td>\n",
       "    </tr>\n",
       "    <tr>\n",
       "      <th>73314</th>\n",
       "      <td>obj</td>\n",
       "      <td>ormani</td>\n",
       "      <td>9</td>\n",
       "      <td>ormanis</td>\n",
       "      <td>7.0</td>\n",
       "      <td>ncmsa_</td>\n",
       "      <td>ncmsa2</td>\n",
       "      <td>Case=Acc|Gender=Masc|Number=Sing</td>\n",
       "      <td>NOUN</td>\n",
       "      <td>556</td>\n",
       "      <td>AkurJ</td>\n",
       "      <td>PeteD</td>\n",
       "      <td>886346</td>\n",
       "      <td>AkurJ_PeteD_886346</td>\n",
       "      <td>AkurJ_PeteD</td>\n",
       "      <td>1921</td>\n",
       "      <td>ormanis</td>\n",
       "    </tr>\n",
       "    <tr>\n",
       "      <th>304692</th>\n",
       "      <td>nsubj</td>\n",
       "      <td>važoņi</td>\n",
       "      <td>23</td>\n",
       "      <td>važonis</td>\n",
       "      <td>20.0</td>\n",
       "      <td>ncmpn_</td>\n",
       "      <td>ncmpn2</td>\n",
       "      <td>Case=Nom|Gender=Masc|Number=Plur</td>\n",
       "      <td>NOUN</td>\n",
       "      <td>555</td>\n",
       "      <td>ArdeE</td>\n",
       "      <td>ApLie</td>\n",
       "      <td>1051730</td>\n",
       "      <td>ArdeE_ApLie_1051730</td>\n",
       "      <td>ArdeE_ApLie</td>\n",
       "      <td>1926</td>\n",
       "      <td>ormanis</td>\n",
       "    </tr>\n",
       "    <tr>\n",
       "      <th>308387</th>\n",
       "      <td>nsubj:pass</td>\n",
       "      <td>ormaņi</td>\n",
       "      <td>10</td>\n",
       "      <td>ormanis</td>\n",
       "      <td>6.0</td>\n",
       "      <td>ncmpn_</td>\n",
       "      <td>ncmpn2</td>\n",
       "      <td>Case=Nom|Gender=Masc|Number=Plur</td>\n",
       "      <td>NOUN</td>\n",
       "      <td>777</td>\n",
       "      <td>ArdeE</td>\n",
       "      <td>ApLie</td>\n",
       "      <td>1051730</td>\n",
       "      <td>ArdeE_ApLie_1051730</td>\n",
       "      <td>ArdeE_ApLie</td>\n",
       "      <td>1926</td>\n",
       "      <td>ormanis</td>\n",
       "    </tr>\n",
       "    <tr>\n",
       "      <th>357535</th>\n",
       "      <td>obl</td>\n",
       "      <td>ormaņa</td>\n",
       "      <td>13</td>\n",
       "      <td>ormanis</td>\n",
       "      <td>9.0</td>\n",
       "      <td>ncmsg_</td>\n",
       "      <td>ncmsg2</td>\n",
       "      <td>Case=Gen|Gender=Masc|Number=Sing</td>\n",
       "      <td>NOUN</td>\n",
       "      <td>317</td>\n",
       "      <td>ArdeE</td>\n",
       "      <td>SvetA</td>\n",
       "      <td>1046832</td>\n",
       "      <td>ArdeE_SvetA_1046832</td>\n",
       "      <td>ArdeE_SvetA</td>\n",
       "      <td>1924</td>\n",
       "      <td>ormanis</td>\n",
       "    </tr>\n",
       "  </tbody>\n",
       "</table>\n",
       "</div>"
      ],
      "text/plain": [
       "            deprel     form  index    lemma  parent     pos     tag  \\\n",
       "39464         iobj  ormanim      3  ormanis     2.0  ncmsd_  ncmsd2   \n",
       "73314          obj   ormani      9  ormanis     7.0  ncmsa_  ncmsa2   \n",
       "304692       nsubj   važoņi     23  važonis    20.0  ncmpn_  ncmpn2   \n",
       "308387  nsubj:pass   ormaņi     10  ormanis     6.0  ncmpn_  ncmpn2   \n",
       "357535         obl   ormaņa     13  ormanis     9.0  ncmsg_  ncmsg2   \n",
       "\n",
       "                                  ufeats  upos  sent_ndx author  title  \\\n",
       "39464   Case=Dat|Gender=Masc|Number=Sing  NOUN        14  AkurJ  DegoS   \n",
       "73314   Case=Acc|Gender=Masc|Number=Sing  NOUN       556  AkurJ  PeteD   \n",
       "304692  Case=Nom|Gender=Masc|Number=Plur  NOUN       555  ArdeE  ApLie   \n",
       "308387  Case=Nom|Gender=Masc|Number=Plur  NOUN       777  ArdeE  ApLie   \n",
       "357535  Case=Gen|Gender=Masc|Number=Sing  NOUN       317  ArdeE  SvetA   \n",
       "\n",
       "         dom_id            file_stem file_stem_short  firstEdition     term  \n",
       "39464    771400   AkurJ_DegoS_771400     AkurJ_DegoS          1912  ormanis  \n",
       "73314    886346   AkurJ_PeteD_886346     AkurJ_PeteD          1921  ormanis  \n",
       "304692  1051730  ArdeE_ApLie_1051730     ArdeE_ApLie          1926  ormanis  \n",
       "308387  1051730  ArdeE_ApLie_1051730     ArdeE_ApLie          1926  ormanis  \n",
       "357535  1046832  ArdeE_SvetA_1046832     ArdeE_SvetA          1924  ormanis  "
      ]
     },
     "execution_count": 3,
     "metadata": {},
     "output_type": "execute_result"
    }
   ],
   "source": [
    "ormanis_lemmas = (\"ormanis\",\"fūrmanis\", \"važonis\")\n",
    "# let's filter the dataframe for the lemmas\n",
    "ormanis_df = df[df[\"lemma\"].isin(ormanis_lemmas)]\n",
    "# shape\n",
    "print(f\"ormanis_df.shape: {ormanis_df.shape}\")\n",
    "# head\n",
    "ormanis_df.head()"
   ]
  },
  {
   "cell_type": "code",
   "execution_count": 4,
   "id": "31434793",
   "metadata": {},
   "outputs": [
    {
     "data": {
      "text/plain": [
       "lemma\n",
       "ormanis     971\n",
       "važonis     390\n",
       "fūrmanis    117\n",
       "Name: count, dtype: int64"
      ]
     },
     "execution_count": 4,
     "metadata": {},
     "output_type": "execute_result"
    }
   ],
   "source": [
    "# let's see value counts for the lemma\n",
    "ormanis_df[\"lemma\"].value_counts()"
   ]
  },
  {
   "cell_type": "markdown",
   "id": "6aac2946",
   "metadata": {},
   "source": [
    "### Saving ormanis"
   ]
  },
  {
   "cell_type": "code",
   "execution_count": 5,
   "id": "d6ada86c",
   "metadata": {},
   "outputs": [],
   "source": [
    "# let's save ormanis in our parquet directly which is a sibling directory to our notebook\n",
    "# ormanis_df.to_parquet(\"../parquet/ormanis.parquet\", index=False)"
   ]
  },
  {
   "cell_type": "markdown",
   "id": "e97cd1d1",
   "metadata": {},
   "source": [
    "### Extracting taksometrs\n",
    "\n",
    "For this our task will be harder as we also have to consider true positives"
   ]
  },
  {
   "cell_type": "code",
   "execution_count": 16,
   "id": "5f7ff108",
   "metadata": {},
   "outputs": [
    {
     "name": "stdout",
     "output_type": "stream",
     "text": [
      "true_taxi_df.shape: (231, 4)\n"
     ]
    },
    {
     "data": {
      "text/html": [
       "<div>\n",
       "<style scoped>\n",
       "    .dataframe tbody tr th:only-of-type {\n",
       "        vertical-align: middle;\n",
       "    }\n",
       "\n",
       "    .dataframe tbody tr th {\n",
       "        vertical-align: top;\n",
       "    }\n",
       "\n",
       "    .dataframe thead th {\n",
       "        text-align: right;\n",
       "    }\n",
       "</style>\n",
       "<table border=\"1\" class=\"dataframe\">\n",
       "  <thead>\n",
       "    <tr style=\"text-align: right;\">\n",
       "      <th></th>\n",
       "      <th>Aut</th>\n",
       "      <th>NoslT</th>\n",
       "      <th>Gads</th>\n",
       "      <th>Forma</th>\n",
       "    </tr>\n",
       "  </thead>\n",
       "  <tbody>\n",
       "    <tr>\n",
       "      <th>0</th>\n",
       "      <td>Andra</td>\n",
       "      <td>Elita</td>\n",
       "      <td>1930</td>\n",
       "      <td>taksī</td>\n",
       "    </tr>\n",
       "    <tr>\n",
       "      <th>1</th>\n",
       "      <td>Andra</td>\n",
       "      <td>Elita</td>\n",
       "      <td>1930</td>\n",
       "      <td>taksī</td>\n",
       "    </tr>\n",
       "    <tr>\n",
       "      <th>2</th>\n",
       "      <td>Andra</td>\n",
       "      <td>Elita</td>\n",
       "      <td>1930</td>\n",
       "      <td>taksis</td>\n",
       "    </tr>\n",
       "    <tr>\n",
       "      <th>3</th>\n",
       "      <td>Andra</td>\n",
       "      <td>Elita</td>\n",
       "      <td>1930</td>\n",
       "      <td>taksī</td>\n",
       "    </tr>\n",
       "    <tr>\n",
       "      <th>4</th>\n",
       "      <td>Anoni</td>\n",
       "      <td>KaptT</td>\n",
       "      <td>1926</td>\n",
       "      <td>taksim</td>\n",
       "    </tr>\n",
       "  </tbody>\n",
       "</table>\n",
       "</div>"
      ],
      "text/plain": [
       "     Aut  NoslT  Gads   Forma\n",
       "0  Andra  Elita  1930   taksī\n",
       "1  Andra  Elita  1930   taksī\n",
       "2  Andra  Elita  1930  taksis\n",
       "3  Andra  Elita  1930   taksī\n",
       "4  Anoni  KaptT  1926  taksim"
      ]
     },
     "execution_count": 16,
     "metadata": {},
     "output_type": "execute_result"
    }
   ],
   "source": [
    "# first let's load the xlsx file that Anda provided with true positives for taksis and taksītis\n",
    "# note that taksometrs / taksometris / taksomotors are always true positives as those terms are always related to taxis\n",
    "true_taxi_df = pd.read_excel(\"../xlsx/Taxi-docF-redig.xlsx\", sheet_name=\"True positives\")\n",
    "# shape\n",
    "print(f\"true_taxi_df.shape: {true_taxi_df.shape}\")\n",
    "# head\n",
    "true_taxi_df.head()"
   ]
  },
  {
   "cell_type": "code",
   "execution_count": 17,
   "id": "544ffefa",
   "metadata": {},
   "outputs": [
    {
     "data": {
      "text/html": [
       "<div>\n",
       "<style scoped>\n",
       "    .dataframe tbody tr th:only-of-type {\n",
       "        vertical-align: middle;\n",
       "    }\n",
       "\n",
       "    .dataframe tbody tr th {\n",
       "        vertical-align: top;\n",
       "    }\n",
       "\n",
       "    .dataframe thead th {\n",
       "        text-align: right;\n",
       "    }\n",
       "</style>\n",
       "<table border=\"1\" class=\"dataframe\">\n",
       "  <thead>\n",
       "    <tr style=\"text-align: right;\">\n",
       "      <th></th>\n",
       "      <th>Aut</th>\n",
       "      <th>NoslT</th>\n",
       "      <th>Gads</th>\n",
       "      <th>Forma</th>\n",
       "      <th>file_stem_short</th>\n",
       "    </tr>\n",
       "  </thead>\n",
       "  <tbody>\n",
       "    <tr>\n",
       "      <th>0</th>\n",
       "      <td>Andra</td>\n",
       "      <td>Elita</td>\n",
       "      <td>1930</td>\n",
       "      <td>taksī</td>\n",
       "      <td>Andra_Elita</td>\n",
       "    </tr>\n",
       "    <tr>\n",
       "      <th>1</th>\n",
       "      <td>Andra</td>\n",
       "      <td>Elita</td>\n",
       "      <td>1930</td>\n",
       "      <td>taksī</td>\n",
       "      <td>Andra_Elita</td>\n",
       "    </tr>\n",
       "    <tr>\n",
       "      <th>2</th>\n",
       "      <td>Andra</td>\n",
       "      <td>Elita</td>\n",
       "      <td>1930</td>\n",
       "      <td>taksis</td>\n",
       "      <td>Andra_Elita</td>\n",
       "    </tr>\n",
       "    <tr>\n",
       "      <th>3</th>\n",
       "      <td>Andra</td>\n",
       "      <td>Elita</td>\n",
       "      <td>1930</td>\n",
       "      <td>taksī</td>\n",
       "      <td>Andra_Elita</td>\n",
       "    </tr>\n",
       "    <tr>\n",
       "      <th>4</th>\n",
       "      <td>Anoni</td>\n",
       "      <td>KaptT</td>\n",
       "      <td>1926</td>\n",
       "      <td>taksim</td>\n",
       "      <td>Anoni_KaptT</td>\n",
       "    </tr>\n",
       "  </tbody>\n",
       "</table>\n",
       "</div>"
      ],
      "text/plain": [
       "     Aut  NoslT  Gads   Forma file_stem_short\n",
       "0  Andra  Elita  1930   taksī     Andra_Elita\n",
       "1  Andra  Elita  1930   taksī     Andra_Elita\n",
       "2  Andra  Elita  1930  taksis     Andra_Elita\n",
       "3  Andra  Elita  1930   taksī     Andra_Elita\n",
       "4  Anoni  KaptT  1926  taksim     Anoni_KaptT"
      ]
     },
     "execution_count": 17,
     "metadata": {},
     "output_type": "execute_result"
    }
   ],
   "source": [
    "# let's create a file_stem_short column for the true_taxi_df\n",
    "# this will be concatanation of Autors and Nosaukums using _ as separator\n",
    "true_taxi_df[\"file_stem\"] = true_taxi_df[\"Aut\"] + \"_\" + true_taxi_df[\"NoslT\"]\n",
    "# rename the column to file_stem_short\n",
    "true_taxi_df.rename(columns={\"file_stem\": \"file_stem_short\"}, inplace=True)\n",
    "# head\n",
    "true_taxi_df.head()"
   ]
  },
  {
   "cell_type": "code",
   "execution_count": 18,
   "id": "a6c18a42",
   "metadata": {},
   "outputs": [
    {
     "name": "stdout",
     "output_type": "stream",
     "text": [
      "true_taxi_df.file_stem_short.nunique(): 83\n",
      "len(true_taxi_set): 83\n"
     ]
    }
   ],
   "source": [
    "# how many unique file_stem_short values do we have?\n",
    "print(f\"true_taxi_df.file_stem_short.nunique(): {true_taxi_df.file_stem_short.nunique()}\")\n",
    "# get these unique values as a set\n",
    "true_taxi_set = set(true_taxi_df.file_stem_short)\n",
    "# length of the set\n",
    "print(f\"len(true_taxi_set): {len(true_taxi_set)}\")"
   ]
  },
  {
   "cell_type": "code",
   "execution_count": 19,
   "id": "c4fe50de",
   "metadata": {},
   "outputs": [
    {
     "name": "stdout",
     "output_type": "stream",
     "text": [
      "taxi_df.shape: (111, 17)\n"
     ]
    },
    {
     "data": {
      "text/html": [
       "<div>\n",
       "<style scoped>\n",
       "    .dataframe tbody tr th:only-of-type {\n",
       "        vertical-align: middle;\n",
       "    }\n",
       "\n",
       "    .dataframe tbody tr th {\n",
       "        vertical-align: top;\n",
       "    }\n",
       "\n",
       "    .dataframe thead th {\n",
       "        text-align: right;\n",
       "    }\n",
       "</style>\n",
       "<table border=\"1\" class=\"dataframe\">\n",
       "  <thead>\n",
       "    <tr style=\"text-align: right;\">\n",
       "      <th></th>\n",
       "      <th>deprel</th>\n",
       "      <th>form</th>\n",
       "      <th>index</th>\n",
       "      <th>lemma</th>\n",
       "      <th>parent</th>\n",
       "      <th>pos</th>\n",
       "      <th>tag</th>\n",
       "      <th>ufeats</th>\n",
       "      <th>upos</th>\n",
       "      <th>sent_ndx</th>\n",
       "      <th>author</th>\n",
       "      <th>title</th>\n",
       "      <th>dom_id</th>\n",
       "      <th>file_stem</th>\n",
       "      <th>file_stem_short</th>\n",
       "      <th>firstEdition</th>\n",
       "      <th>term</th>\n",
       "    </tr>\n",
       "  </thead>\n",
       "  <tbody>\n",
       "    <tr>\n",
       "      <th>482494</th>\n",
       "      <td>None</td>\n",
       "      <td>taksometri</td>\n",
       "      <td>9</td>\n",
       "      <td>taksometrs</td>\n",
       "      <td>NaN</td>\n",
       "      <td>ncmpn_</td>\n",
       "      <td>ncmpn1</td>\n",
       "      <td>None</td>\n",
       "      <td>None</td>\n",
       "      <td>131</td>\n",
       "      <td>Arnis</td>\n",
       "      <td>AndrS</td>\n",
       "      <td>948028</td>\n",
       "      <td>Arnis_AndrS_948028</td>\n",
       "      <td>Arnis_AndrS</td>\n",
       "      <td>1928</td>\n",
       "      <td>taksometrs</td>\n",
       "    </tr>\n",
       "    <tr>\n",
       "      <th>488046</th>\n",
       "      <td>None</td>\n",
       "      <td>taksomotoru</td>\n",
       "      <td>14</td>\n",
       "      <td>taksomotors</td>\n",
       "      <td>NaN</td>\n",
       "      <td>ncmsa_</td>\n",
       "      <td>ncmsa1</td>\n",
       "      <td>None</td>\n",
       "      <td>None</td>\n",
       "      <td>697</td>\n",
       "      <td>Arnis</td>\n",
       "      <td>AndrS</td>\n",
       "      <td>948028</td>\n",
       "      <td>Arnis_AndrS_948028</td>\n",
       "      <td>Arnis_AndrS</td>\n",
       "      <td>1928</td>\n",
       "      <td>taksomotors</td>\n",
       "    </tr>\n",
       "    <tr>\n",
       "      <th>598018</th>\n",
       "      <td>conj</td>\n",
       "      <td>taksometros</td>\n",
       "      <td>13</td>\n",
       "      <td>taksometrs</td>\n",
       "      <td>11.0</td>\n",
       "      <td>ncmpl_</td>\n",
       "      <td>ncmpl1</td>\n",
       "      <td>Case=Loc|Gender=Masc|Number=Plur</td>\n",
       "      <td>NOUN</td>\n",
       "      <td>432</td>\n",
       "      <td>Arnis</td>\n",
       "      <td>TaurK</td>\n",
       "      <td>1051711</td>\n",
       "      <td>Arnis_TaurK_1051711</td>\n",
       "      <td>Arnis_TaurK</td>\n",
       "      <td>1933</td>\n",
       "      <td>taksometrs</td>\n",
       "    </tr>\n",
       "    <tr>\n",
       "      <th>617771</th>\n",
       "      <td>nmod</td>\n",
       "      <td>taksometru</td>\n",
       "      <td>9</td>\n",
       "      <td>taksometrs</td>\n",
       "      <td>10.0</td>\n",
       "      <td>ncmpg_</td>\n",
       "      <td>ncmpg1</td>\n",
       "      <td>Case=Gen|Gender=Masc|Number=Plur</td>\n",
       "      <td>NOUN</td>\n",
       "      <td>685</td>\n",
       "      <td>Arnis</td>\n",
       "      <td>TaurK</td>\n",
       "      <td>1051711</td>\n",
       "      <td>Arnis_TaurK_1051711</td>\n",
       "      <td>Arnis_TaurK</td>\n",
       "      <td>1933</td>\n",
       "      <td>taksometrs</td>\n",
       "    </tr>\n",
       "    <tr>\n",
       "      <th>1402411</th>\n",
       "      <td>nmod</td>\n",
       "      <td>Taksometra</td>\n",
       "      <td>1</td>\n",
       "      <td>taksometrs</td>\n",
       "      <td>2.0</td>\n",
       "      <td>ncmsg_</td>\n",
       "      <td>ncmsg1</td>\n",
       "      <td>Case=Gen|Gender=Masc|Number=Sing</td>\n",
       "      <td>NOUN</td>\n",
       "      <td>784</td>\n",
       "      <td>BaloP</td>\n",
       "      <td>UzleS</td>\n",
       "      <td>1025418</td>\n",
       "      <td>BaloP_UzleS_1025418</td>\n",
       "      <td>BaloP_UzleS</td>\n",
       "      <td>1929</td>\n",
       "      <td>taksometrs</td>\n",
       "    </tr>\n",
       "  </tbody>\n",
       "</table>\n",
       "</div>"
      ],
      "text/plain": [
       "        deprel         form  index        lemma  parent     pos     tag  \\\n",
       "482494    None   taksometri      9   taksometrs     NaN  ncmpn_  ncmpn1   \n",
       "488046    None  taksomotoru     14  taksomotors     NaN  ncmsa_  ncmsa1   \n",
       "598018    conj  taksometros     13   taksometrs    11.0  ncmpl_  ncmpl1   \n",
       "617771    nmod   taksometru      9   taksometrs    10.0  ncmpg_  ncmpg1   \n",
       "1402411   nmod   Taksometra      1   taksometrs     2.0  ncmsg_  ncmsg1   \n",
       "\n",
       "                                   ufeats  upos  sent_ndx author  title  \\\n",
       "482494                               None  None       131  Arnis  AndrS   \n",
       "488046                               None  None       697  Arnis  AndrS   \n",
       "598018   Case=Loc|Gender=Masc|Number=Plur  NOUN       432  Arnis  TaurK   \n",
       "617771   Case=Gen|Gender=Masc|Number=Plur  NOUN       685  Arnis  TaurK   \n",
       "1402411  Case=Gen|Gender=Masc|Number=Sing  NOUN       784  BaloP  UzleS   \n",
       "\n",
       "          dom_id            file_stem file_stem_short  firstEdition  \\\n",
       "482494    948028   Arnis_AndrS_948028     Arnis_AndrS          1928   \n",
       "488046    948028   Arnis_AndrS_948028     Arnis_AndrS          1928   \n",
       "598018   1051711  Arnis_TaurK_1051711     Arnis_TaurK          1933   \n",
       "617771   1051711  Arnis_TaurK_1051711     Arnis_TaurK          1933   \n",
       "1402411  1025418  BaloP_UzleS_1025418     BaloP_UzleS          1929   \n",
       "\n",
       "                term  \n",
       "482494    taksometrs  \n",
       "488046   taksomotors  \n",
       "598018    taksometrs  \n",
       "617771    taksometrs  \n",
       "1402411   taksometrs  "
      ]
     },
     "execution_count": 19,
     "metadata": {},
     "output_type": "execute_result"
    }
   ],
   "source": [
    "sure_taxi_terms = (\"taksometrs\",  \" taksometris\",  \"taksomotors\")\n",
    "# first let's get the sure taxi terms if they are exactly in lemma column\n",
    "taxi_df = df[df[\"lemma\"].isin(sure_taxi_terms)]\n",
    "# shape\n",
    "print(f\"taxi_df.shape: {taxi_df.shape}\")\n",
    "# head\n",
    "taxi_df.head()"
   ]
  },
  {
   "cell_type": "code",
   "execution_count": 20,
   "id": "09533fc8",
   "metadata": {},
   "outputs": [
    {
     "name": "stdout",
     "output_type": "stream",
     "text": [
      "extra_taxi_df.shape: (181, 17)\n",
      "extra_taxi_df.shape: (113, 17)\n"
     ]
    },
    {
     "data": {
      "text/html": [
       "<div>\n",
       "<style scoped>\n",
       "    .dataframe tbody tr th:only-of-type {\n",
       "        vertical-align: middle;\n",
       "    }\n",
       "\n",
       "    .dataframe tbody tr th {\n",
       "        vertical-align: top;\n",
       "    }\n",
       "\n",
       "    .dataframe thead th {\n",
       "        text-align: right;\n",
       "    }\n",
       "</style>\n",
       "<table border=\"1\" class=\"dataframe\">\n",
       "  <thead>\n",
       "    <tr style=\"text-align: right;\">\n",
       "      <th></th>\n",
       "      <th>deprel</th>\n",
       "      <th>form</th>\n",
       "      <th>index</th>\n",
       "      <th>lemma</th>\n",
       "      <th>parent</th>\n",
       "      <th>pos</th>\n",
       "      <th>tag</th>\n",
       "      <th>ufeats</th>\n",
       "      <th>upos</th>\n",
       "      <th>sent_ndx</th>\n",
       "      <th>author</th>\n",
       "      <th>title</th>\n",
       "      <th>dom_id</th>\n",
       "      <th>file_stem</th>\n",
       "      <th>file_stem_short</th>\n",
       "      <th>firstEdition</th>\n",
       "      <th>term</th>\n",
       "    </tr>\n",
       "  </thead>\n",
       "  <tbody>\n",
       "    <tr>\n",
       "      <th>202074</th>\n",
       "      <td>obl</td>\n",
       "      <td>taksī</td>\n",
       "      <td>25</td>\n",
       "      <td>taksis</td>\n",
       "      <td>26.0</td>\n",
       "      <td>ncmsl_</td>\n",
       "      <td>ncmsl2</td>\n",
       "      <td>Case=Loc|Gender=Masc|Number=Sing</td>\n",
       "      <td>NOUN</td>\n",
       "      <td>912</td>\n",
       "      <td>Andra</td>\n",
       "      <td>Elita</td>\n",
       "      <td>1053573</td>\n",
       "      <td>Andra_Elita_1053573</td>\n",
       "      <td>Andra_Elita</td>\n",
       "      <td>1930</td>\n",
       "      <td>taksometrs</td>\n",
       "    </tr>\n",
       "    <tr>\n",
       "      <th>205569</th>\n",
       "      <td>obl</td>\n",
       "      <td>taksī</td>\n",
       "      <td>13</td>\n",
       "      <td>taksis</td>\n",
       "      <td>12.0</td>\n",
       "      <td>ncmsl_</td>\n",
       "      <td>ncmsl2</td>\n",
       "      <td>Case=Loc|Gender=Masc|Number=Sing</td>\n",
       "      <td>NOUN</td>\n",
       "      <td>1257</td>\n",
       "      <td>Andra</td>\n",
       "      <td>Elita</td>\n",
       "      <td>1053573</td>\n",
       "      <td>Andra_Elita_1053573</td>\n",
       "      <td>Andra_Elita</td>\n",
       "      <td>1930</td>\n",
       "      <td>taksometrs</td>\n",
       "    </tr>\n",
       "    <tr>\n",
       "      <th>220176</th>\n",
       "      <td>nsubj</td>\n",
       "      <td>taksis</td>\n",
       "      <td>5</td>\n",
       "      <td>taksis</td>\n",
       "      <td>6.0</td>\n",
       "      <td>ncmsn_</td>\n",
       "      <td>ncmsn2</td>\n",
       "      <td>Case=Nom|Gender=Masc|Number=Sing</td>\n",
       "      <td>NOUN</td>\n",
       "      <td>845</td>\n",
       "      <td>Andra</td>\n",
       "      <td>Elita</td>\n",
       "      <td>1053573</td>\n",
       "      <td>Andra_Elita_1053573</td>\n",
       "      <td>Andra_Elita</td>\n",
       "      <td>1930</td>\n",
       "      <td>taksometrs</td>\n",
       "    </tr>\n",
       "    <tr>\n",
       "      <th>247803</th>\n",
       "      <td>obl</td>\n",
       "      <td>taksī</td>\n",
       "      <td>4</td>\n",
       "      <td>taksis</td>\n",
       "      <td>5.0</td>\n",
       "      <td>ncmsl_</td>\n",
       "      <td>ncmsl2</td>\n",
       "      <td>Case=Loc|Gender=Masc|Number=Sing</td>\n",
       "      <td>NOUN</td>\n",
       "      <td>255</td>\n",
       "      <td>Andra</td>\n",
       "      <td>Elita</td>\n",
       "      <td>1053573</td>\n",
       "      <td>Andra_Elita_1053573</td>\n",
       "      <td>Andra_Elita</td>\n",
       "      <td>1930</td>\n",
       "      <td>taksometrs</td>\n",
       "    </tr>\n",
       "    <tr>\n",
       "      <th>382236</th>\n",
       "      <td>iobj</td>\n",
       "      <td>taksīti</td>\n",
       "      <td>3</td>\n",
       "      <td>taksītis</td>\n",
       "      <td>1.0</td>\n",
       "      <td>ncmsa_</td>\n",
       "      <td>ncmsa2</td>\n",
       "      <td>Case=Acc|Gender=Masc|Number=Sing</td>\n",
       "      <td>NOUN</td>\n",
       "      <td>1537</td>\n",
       "      <td>ArdsL</td>\n",
       "      <td>TrijV</td>\n",
       "      <td>1053572</td>\n",
       "      <td>ArdsL_TrijV_1053572</td>\n",
       "      <td>ArdsL_TrijV</td>\n",
       "      <td>1933</td>\n",
       "      <td>taksometrs</td>\n",
       "    </tr>\n",
       "    <tr>\n",
       "      <th>390401</th>\n",
       "      <td>obl</td>\n",
       "      <td>taksīšos</td>\n",
       "      <td>4</td>\n",
       "      <td>taksītis</td>\n",
       "      <td>6.0</td>\n",
       "      <td>ncmpl_</td>\n",
       "      <td>ncmpl2</td>\n",
       "      <td>Case=Loc|Gender=Masc|Number=Plur</td>\n",
       "      <td>NOUN</td>\n",
       "      <td>416</td>\n",
       "      <td>ArdsL</td>\n",
       "      <td>TrijV</td>\n",
       "      <td>1053572</td>\n",
       "      <td>ArdsL_TrijV_1053572</td>\n",
       "      <td>ArdsL_TrijV</td>\n",
       "      <td>1933</td>\n",
       "      <td>taksometrs</td>\n",
       "    </tr>\n",
       "    <tr>\n",
       "      <th>390418</th>\n",
       "      <td>iobj</td>\n",
       "      <td>taksīšiem</td>\n",
       "      <td>21</td>\n",
       "      <td>taksītis</td>\n",
       "      <td>24.0</td>\n",
       "      <td>ncmpd_</td>\n",
       "      <td>ncmpd2</td>\n",
       "      <td>Case=Dat|Gender=Masc|Number=Plur</td>\n",
       "      <td>NOUN</td>\n",
       "      <td>416</td>\n",
       "      <td>ArdsL</td>\n",
       "      <td>TrijV</td>\n",
       "      <td>1053572</td>\n",
       "      <td>ArdsL_TrijV_1053572</td>\n",
       "      <td>ArdsL_TrijV</td>\n",
       "      <td>1933</td>\n",
       "      <td>taksometrs</td>\n",
       "    </tr>\n",
       "    <tr>\n",
       "      <th>661359</th>\n",
       "      <td>None</td>\n",
       "      <td>taksīši</td>\n",
       "      <td>2</td>\n",
       "      <td>taksītis</td>\n",
       "      <td>NaN</td>\n",
       "      <td>ncmpn_</td>\n",
       "      <td>ncmpn2</td>\n",
       "      <td>None</td>\n",
       "      <td>None</td>\n",
       "      <td>428</td>\n",
       "      <td>Artis</td>\n",
       "      <td>ArNai</td>\n",
       "      <td>1053600</td>\n",
       "      <td>Artis_ArNai_1053600</td>\n",
       "      <td>Artis_ArNai</td>\n",
       "      <td>1940</td>\n",
       "      <td>taksometrs</td>\n",
       "    </tr>\n",
       "    <tr>\n",
       "      <th>729830</th>\n",
       "      <td>None</td>\n",
       "      <td>taksīšiem</td>\n",
       "      <td>5</td>\n",
       "      <td>taksītis</td>\n",
       "      <td>NaN</td>\n",
       "      <td>ncmpd_</td>\n",
       "      <td>ncmpd2</td>\n",
       "      <td>None</td>\n",
       "      <td>None</td>\n",
       "      <td>543</td>\n",
       "      <td>Artis</td>\n",
       "      <td>ArNai</td>\n",
       "      <td>1053600</td>\n",
       "      <td>Artis_ArNai_1053600</td>\n",
       "      <td>Artis_ArNai</td>\n",
       "      <td>1940</td>\n",
       "      <td>taksometrs</td>\n",
       "    </tr>\n",
       "    <tr>\n",
       "      <th>729857</th>\n",
       "      <td>None</td>\n",
       "      <td>taksīti</td>\n",
       "      <td>26</td>\n",
       "      <td>taksītis</td>\n",
       "      <td>NaN</td>\n",
       "      <td>ncmsa_</td>\n",
       "      <td>ncmsa2</td>\n",
       "      <td>None</td>\n",
       "      <td>None</td>\n",
       "      <td>544</td>\n",
       "      <td>Artis</td>\n",
       "      <td>ArNai</td>\n",
       "      <td>1053600</td>\n",
       "      <td>Artis_ArNai_1053600</td>\n",
       "      <td>Artis_ArNai</td>\n",
       "      <td>1940</td>\n",
       "      <td>taksometrs</td>\n",
       "    </tr>\n",
       "    <tr>\n",
       "      <th>1924487</th>\n",
       "      <td>None</td>\n",
       "      <td>taksītis</td>\n",
       "      <td>4</td>\n",
       "      <td>taksītis</td>\n",
       "      <td>NaN</td>\n",
       "      <td>ncmsn_</td>\n",
       "      <td>ncmsn2</td>\n",
       "      <td>None</td>\n",
       "      <td>None</td>\n",
       "      <td>4</td>\n",
       "      <td>BorkR</td>\n",
       "      <td>JaunL</td>\n",
       "      <td>1047341</td>\n",
       "      <td>BorkR_JaunL_1047341</td>\n",
       "      <td>BorkR_JaunL</td>\n",
       "      <td>1936</td>\n",
       "      <td>taksometrs</td>\n",
       "    </tr>\n",
       "    <tr>\n",
       "      <th>2215078</th>\n",
       "      <td>None</td>\n",
       "      <td>taksi</td>\n",
       "      <td>3</td>\n",
       "      <td>taksis</td>\n",
       "      <td>NaN</td>\n",
       "      <td>ncmsa_</td>\n",
       "      <td>ncmsa2</td>\n",
       "      <td>None</td>\n",
       "      <td>None</td>\n",
       "      <td>234</td>\n",
       "      <td>BremH</td>\n",
       "      <td>BaltM</td>\n",
       "      <td>1049458</td>\n",
       "      <td>BremH_BaltM_1049458</td>\n",
       "      <td>BremH_BaltM</td>\n",
       "      <td>1935</td>\n",
       "      <td>taksometrs</td>\n",
       "    </tr>\n",
       "    <tr>\n",
       "      <th>5440672</th>\n",
       "      <td>None</td>\n",
       "      <td>taksis</td>\n",
       "      <td>6</td>\n",
       "      <td>taksis</td>\n",
       "      <td>NaN</td>\n",
       "      <td>ncmsn_</td>\n",
       "      <td>ncmsn2</td>\n",
       "      <td>None</td>\n",
       "      <td>None</td>\n",
       "      <td>648</td>\n",
       "      <td>DzilA</td>\n",
       "      <td>VirsD</td>\n",
       "      <td>1051786</td>\n",
       "      <td>DzilA_VirsD_1051786</td>\n",
       "      <td>DzilA_VirsD</td>\n",
       "      <td>1939</td>\n",
       "      <td>taksis</td>\n",
       "    </tr>\n",
       "    <tr>\n",
       "      <th>5742425</th>\n",
       "      <td>None</td>\n",
       "      <td>taksi</td>\n",
       "      <td>29</td>\n",
       "      <td>taksis</td>\n",
       "      <td>NaN</td>\n",
       "      <td>ncmsa_</td>\n",
       "      <td>ncmsa2</td>\n",
       "      <td>None</td>\n",
       "      <td>None</td>\n",
       "      <td>830</td>\n",
       "      <td>EgliA</td>\n",
       "      <td>LigaM</td>\n",
       "      <td>419430</td>\n",
       "      <td>EgliA_LigaM_419430</td>\n",
       "      <td>EgliA_LigaM</td>\n",
       "      <td>1940</td>\n",
       "      <td>taksometrs</td>\n",
       "    </tr>\n",
       "    <tr>\n",
       "      <th>6710508</th>\n",
       "      <td>None</td>\n",
       "      <td>taksī</td>\n",
       "      <td>25</td>\n",
       "      <td>taksis</td>\n",
       "      <td>NaN</td>\n",
       "      <td>ncmsl_</td>\n",
       "      <td>ncmsl2</td>\n",
       "      <td>None</td>\n",
       "      <td>None</td>\n",
       "      <td>442</td>\n",
       "      <td>ErssA</td>\n",
       "      <td>AgloD</td>\n",
       "      <td>1046834</td>\n",
       "      <td>ErssA_AgloD_1046834</td>\n",
       "      <td>ErssA_AgloD</td>\n",
       "      <td>1927</td>\n",
       "      <td>taksometrs</td>\n",
       "    </tr>\n",
       "  </tbody>\n",
       "</table>\n",
       "</div>"
      ],
      "text/plain": [
       "        deprel       form  index     lemma  parent     pos     tag  \\\n",
       "202074     obl      taksī     25    taksis    26.0  ncmsl_  ncmsl2   \n",
       "205569     obl      taksī     13    taksis    12.0  ncmsl_  ncmsl2   \n",
       "220176   nsubj     taksis      5    taksis     6.0  ncmsn_  ncmsn2   \n",
       "247803     obl      taksī      4    taksis     5.0  ncmsl_  ncmsl2   \n",
       "382236    iobj    taksīti      3  taksītis     1.0  ncmsa_  ncmsa2   \n",
       "390401     obl   taksīšos      4  taksītis     6.0  ncmpl_  ncmpl2   \n",
       "390418    iobj  taksīšiem     21  taksītis    24.0  ncmpd_  ncmpd2   \n",
       "661359    None    taksīši      2  taksītis     NaN  ncmpn_  ncmpn2   \n",
       "729830    None  taksīšiem      5  taksītis     NaN  ncmpd_  ncmpd2   \n",
       "729857    None    taksīti     26  taksītis     NaN  ncmsa_  ncmsa2   \n",
       "1924487   None   taksītis      4  taksītis     NaN  ncmsn_  ncmsn2   \n",
       "2215078   None      taksi      3    taksis     NaN  ncmsa_  ncmsa2   \n",
       "5440672   None     taksis      6    taksis     NaN  ncmsn_  ncmsn2   \n",
       "5742425   None      taksi     29    taksis     NaN  ncmsa_  ncmsa2   \n",
       "6710508   None      taksī     25    taksis     NaN  ncmsl_  ncmsl2   \n",
       "\n",
       "                                   ufeats  upos  sent_ndx author  title  \\\n",
       "202074   Case=Loc|Gender=Masc|Number=Sing  NOUN       912  Andra  Elita   \n",
       "205569   Case=Loc|Gender=Masc|Number=Sing  NOUN      1257  Andra  Elita   \n",
       "220176   Case=Nom|Gender=Masc|Number=Sing  NOUN       845  Andra  Elita   \n",
       "247803   Case=Loc|Gender=Masc|Number=Sing  NOUN       255  Andra  Elita   \n",
       "382236   Case=Acc|Gender=Masc|Number=Sing  NOUN      1537  ArdsL  TrijV   \n",
       "390401   Case=Loc|Gender=Masc|Number=Plur  NOUN       416  ArdsL  TrijV   \n",
       "390418   Case=Dat|Gender=Masc|Number=Plur  NOUN       416  ArdsL  TrijV   \n",
       "661359                               None  None       428  Artis  ArNai   \n",
       "729830                               None  None       543  Artis  ArNai   \n",
       "729857                               None  None       544  Artis  ArNai   \n",
       "1924487                              None  None         4  BorkR  JaunL   \n",
       "2215078                              None  None       234  BremH  BaltM   \n",
       "5440672                              None  None       648  DzilA  VirsD   \n",
       "5742425                              None  None       830  EgliA  LigaM   \n",
       "6710508                              None  None       442  ErssA  AgloD   \n",
       "\n",
       "          dom_id            file_stem file_stem_short  firstEdition  \\\n",
       "202074   1053573  Andra_Elita_1053573     Andra_Elita          1930   \n",
       "205569   1053573  Andra_Elita_1053573     Andra_Elita          1930   \n",
       "220176   1053573  Andra_Elita_1053573     Andra_Elita          1930   \n",
       "247803   1053573  Andra_Elita_1053573     Andra_Elita          1930   \n",
       "382236   1053572  ArdsL_TrijV_1053572     ArdsL_TrijV          1933   \n",
       "390401   1053572  ArdsL_TrijV_1053572     ArdsL_TrijV          1933   \n",
       "390418   1053572  ArdsL_TrijV_1053572     ArdsL_TrijV          1933   \n",
       "661359   1053600  Artis_ArNai_1053600     Artis_ArNai          1940   \n",
       "729830   1053600  Artis_ArNai_1053600     Artis_ArNai          1940   \n",
       "729857   1053600  Artis_ArNai_1053600     Artis_ArNai          1940   \n",
       "1924487  1047341  BorkR_JaunL_1047341     BorkR_JaunL          1936   \n",
       "2215078  1049458  BremH_BaltM_1049458     BremH_BaltM          1935   \n",
       "5440672  1051786  DzilA_VirsD_1051786     DzilA_VirsD          1939   \n",
       "5742425   419430   EgliA_LigaM_419430     EgliA_LigaM          1940   \n",
       "6710508  1046834  ErssA_AgloD_1046834     ErssA_AgloD          1927   \n",
       "\n",
       "               term  \n",
       "202074   taksometrs  \n",
       "205569   taksometrs  \n",
       "220176   taksometrs  \n",
       "247803   taksometrs  \n",
       "382236   taksometrs  \n",
       "390401   taksometrs  \n",
       "390418   taksometrs  \n",
       "661359   taksometrs  \n",
       "729830   taksometrs  \n",
       "729857   taksometrs  \n",
       "1924487  taksometrs  \n",
       "2215078  taksometrs  \n",
       "5440672      taksis  \n",
       "5742425  taksometrs  \n",
       "6710508  taksometrs  "
      ]
     },
     "execution_count": 20,
     "metadata": {},
     "output_type": "execute_result"
    }
   ],
   "source": [
    "unsure_taxi_terms = (\"taksis\", \"taksītis\")\n",
    "# for these we also have to check if the file_stem_short is in the true_taxi_set\n",
    "# we already have a file_stem_short column in the dataframe\n",
    "extra_taxi_df = df[df[\"lemma\"].isin(unsure_taxi_terms)]\n",
    "# shape before filtering for true_taxi_set\n",
    "print(f\"extra_taxi_df.shape: {extra_taxi_df.shape}\")\n",
    "# let's filter the dataframe for the true_taxi_set\n",
    "extra_taxi_df = extra_taxi_df[extra_taxi_df[\"file_stem_short\"].isin(true_taxi_set)]\n",
    "# shape after filtering for true_taxi_set\n",
    "print(f\"extra_taxi_df.shape: {extra_taxi_df.shape}\")\n",
    "# head 15\n",
    "extra_taxi_df.head(15)"
   ]
  },
  {
   "cell_type": "code",
   "execution_count": 21,
   "id": "942400cf",
   "metadata": {},
   "outputs": [
    {
     "name": "stdout",
     "output_type": "stream",
     "text": [
      "len(unique_file_stem_short): 463\n",
      "All sure_taxi_terms are in unique_file_stem_short: {'LapiK_StudF', 'BremH_BaltM', 'NiedAi_SarkV', 'EgliA_LigaM', 'LapiK_CekaG', 'LankA_Inzen', 'BaloP_UzleS', 'ZamaL_DireK', 'CukuH_StarZ', 'SkujF_SidrS', 'PeteM_DzivS', 'ZariE_PapaZ', 'GulbA_DruvU', 'LaciV_AkmeC', 'PrusE_TaleV', 'VindG_NaveI', 'JaunJ_NeskS', 'PaulM_MilaA', 'PaulM_SirdP', 'UpitA_SmaiL', 'BaltJ_KadNa', 'SukuO_MilaA', 'BaltV_LielU', 'LapiK_AtplL', 'SpriJ_SaloL', 'UpitA_JanaR', 'Andra_Elita', 'VeseJ_CilvS', 'GingJ_NoslT', 'TormJ_Lasti', 'LapiK_DodaU', 'PaulM_VecaB', 'SukuO_Oglra', 'GulbA_JaunV', 'MiltK_Peter', 'JaunJ_Kapri', 'SpriJ_ManGr', 'SterF_MezkP', 'JureJ_DzivV', 'BankJ_DivaD', 'JaunJ_JaunU', 'Arnis_AndrS', 'Artis_ArNai', 'SkalK_SirdK', 'Arnis_TaurK', 'LapiK_Pagri', 'ZiemV_MilaF', 'ZeltT_RigaG', 'PerlL_LudiD', 'RoziE_BezTe', 'PaulM_ProfS', 'GregV_LatvK', 'MiltK_Mazur', 'SartJ_FabrM', 'LaciV_PutnB', 'LesiVi_LiktR', 'UpitA_PaVar', 'ZibeV_LielI', 'ArdsL_TrijV', 'MoorH_Rauls', 'ZariK_Vaini', 'NiedAi_CilvA', 'LapiK_NemiU', 'PavlA_CeloP', 'VeseJ_DienK', 'GulbA_FantM', 'GrigA_CilvD', 'UpitA_MasaG', 'ZariK_PelnV', 'ZiemV_MilaU', 'ErssA_AgloD', 'ZiemV_SievA', 'KukuJ_Laimi', 'BorkR_JaunL', 'MiltK_Regin', 'Anoni_KaptT', 'ZariK_SpigP', 'CelmV_TuksG', 'PaulM_DejoN', 'RoziP_Cepli', 'VecoJ_DansT', 'DzilK_Dauga', 'DzilA_VirsD'} <= {'ErssA_Muizn', 'LapiK_ManaD', 'PuraJ_SavsK', 'EldgH_SudrS', 'MezsA_BaltK', 'GulbA_Fanta', 'KarkV_KaraK', 'AkurJ_PeteD', 'GrinA_PeleJ', 'LapiK_CekaG', 'FimbK_MelnB', 'LapsA_JaunM', 'RutkT_MukuB', 'JannK_DzivM', 'SkujF_SidrS', 'LapiJ_JaniP', 'ZariE_PapaZ', 'KurmA_ParVi', 'FimbK_KadNa', 'DeglA_VecaP', 'JaunJ_NeskS', 'PuraJ_JaunS', 'FimbK_PecPu', 'PaulM_MilaA', 'BreiL_Maldu', 'SpanV_BaltB', 'BeikD_MezaG', 'SverE_GrekK', 'SukuO_MilaA', 'BaltV_LielU', 'UpitA_JanaR', 'MezsA_SavaL', 'PrusE_KuniK', 'VeseJ_EngeU', 'TormJ_Lasti', 'JekaK_MuizM', 'UpitA_ZemNa', 'KarkV_MopaD', 'JansJ_Banda', 'JatnG_TevPi', 'PuraJ_PasaL', 'SudrE_MaitP', 'MiesJ_BerzG', 'PaegL_KursM', 'LaivA_SaulU', 'EgliV_Lidzv', 'UpitA_Reneg', 'IeviK_CinaA', 'RutkT_BendM', 'PlauJ_Iesle', 'LaciV_AtbrZ', 'SpriJ_ManGr', 'SterF_MezkP', 'PaulM_UzDzi', 'KarlE_InvaA', 'FimbK_KlanL', 'RungA_SataB', 'ErssA_ZemeB', 'NiedAi_Sieva', 'Arnis_AndrS', 'PoruJ_Riga', 'MateJ_PatrU', 'ZariK_DzivU', 'NiedAn_Siksp', 'JuskJ_ZobeP', 'SukuO_FengU', 'KlotA_SievU', 'RoziE_BezTe', 'Vilib_KasUz', 'GulbA_Zigf', 'GulbA_PecSi', 'GulbA_Zigfr', 'NiedAi_Salna', 'Zeltm_Likte', 'VeseJ_TiruL', 'UpitA_Pludi', 'RutkT_SumpC', 'ZariK_Vaini', 'BrauH_ValmK', 'GrinJ_DzivZ', 'VecoJ_Dzidr', 'PaulM_SalaD', 'VeseJ_DienK', 'NiedAi_PieAz', 'UpitA_MasaG', 'SudrE_PirmV', 'Zeltm_GrekI', 'NiedAn_KadMe', 'GulbA_OlgeS', 'BorkR_JaunL', 'TissP_StreP', 'EldgH_ZvaiN', 'AkurJ_DegoS', 'EideR_Ielen', 'LapiK_TajoT', 'DizeB_DzelB', 'Zemza_TumsE', 'KleiR_UzDru', 'PaulM_DejoN', 'FimbK_TiltP', 'IeviK_SievM', 'ZiemV_ZemBe', 'SartJ_Pagar', 'RutkT_Gambi', 'SpanV_AveMa', 'FimbK_PeleZ', 'KuncV_SpieF', 'LapiK_RevoM', 'BremH_BaltM', 'PeteR_VaroC', 'LeitA_TrimA', 'SartJ_Zieda', 'PuraJ_LeisS', 'BuciR_SadrD', 'VetrM_DivDu', 'EgliA_LigaM', 'GrinA_MezaB', 'SpilK_MeznS', 'UpitA_ZiemV', 'UpitA_PirmN', 'ZamaL_DireK', 'RutkT_DumpR', 'JaunJ_NaveD', 'BaloP_MaksU', 'TalmE_SapnU', 'GulbA_DruvU', 'GrinA_KrusG', 'LeitA_TaigS', 'KlauR_PaTum', 'PrusE_TaleV', 'CiliK_SkaiA', 'VindG_NaveI', 'Valdi_JuriB', 'LesiVi_Uzvar', 'AustA_Puisk', 'GrinJ_SmaiD', 'PaulM_SirdP', 'StraK_Kars', 'LapiK_NemiP', 'ZvirJ_AizmV', 'ArdeE_ApLie', 'VeldV_DeliU', 'MezsA_ApbuP', 'EgliV_DomaR', 'LapiK_DodaU', 'ZeibJ_Likte', 'JansJ_LaimB', 'IeviK_LatvZ', 'JekaK_NikoI', 'ErssA_SatiU', 'MurnJ_PersU', 'ZeibJ_BaroB', 'SukuO_Oglra', 'OssJa_JuraM', 'PrusE_PumpR', 'JansJ_MezvL', 'PlauJ_Zieme', 'MednE_SkepU', 'JaunJ_Atbal', 'JaunJ_Kapri', 'JekaK_BrilK', 'SvabA_Vards', 'OssJa_JuriM', 'UpitA_JaunA', 'JaunJ_JaunU', 'OzolA_VirpD', 'KaijI_Sfink', 'SartJ_KrusD', 'VecoJ_ViktI', 'Zemza_MantA', 'KaijI_Dzint', 'RoziP_ValmP', 'PaulM_VienV', 'Artis_ArNai', 'VeldV_Dizmu', 'DruvA_KlusE', 'SartJ_Ruki', 'ZiemV_MilaF', 'Arnis_MilaL', 'RukiH_KaraD', 'LemaI_CietR', 'JaunJ_Aija', 'Elita_SestB', 'ZeltT_RigaG', 'ErssA_MileV', 'JansJ_CeliU', 'PilsJ_PravG', 'UpitA_Sievi', 'JansP_Latsv', 'PaulM_ProfS', 'LaciV_CeloU', 'SartJ_FabrM', 'MednV_TevuZ', 'ErglR_PeleB', 'PaulM_PasaG', 'UpitA_PaVar', 'GrinA_NameG', 'JaunJ_BaltG', 'ZibeV_LielI', 'LesiVi_LiktR', 'MoorH_Rauls', 'LaciV_PiecP', 'DzilA_RazeA', 'JureJ_JuraK', 'NiedAi_CilvA', 'MateJ_SadzV', 'GrigA_CilvD', 'Zemza_KrusU', 'ZariK_PelnV', 'JansJ_Ligav', 'SaleE_JautR', 'ZiemV_MilaU', 'LaciV_CilvM', 'LaicL_KlieK', 'IeviK_PieTe', 'CeplA_Nolie', 'BergS_ZiemP', 'ValdR_DeviV', 'VeseJ_DievG', 'BerzM_GirtT', 'KalnJ_ArPas', 'LaciV_PasaJ', 'SpriJ_NaveL', 'BrigA_SkarV', 'LiciP_LidaE', 'IeviK_GuntU', 'CimzA_LiesA', 'LapiK_StudF', 'ErglR_Viest', 'ErglR_VirsM', 'KleiR_MiroB', 'Elita_BezGi', 'RumaP_KadaZ', 'VeseL_StarS', 'LaciV_SencA', 'ZiedZ_VasaU', 'VanaA_DekaP', 'KaijI_Juga', 'BaloP_UzleS', 'RozeL_StipK', 'CukuH_StarZ', 'Tirzm_ZemDz', 'PeteM_DzivS', 'VentA_DepuT', 'FimbK_ReinG', 'BrigA_DievD', 'PaulM_PieLi', 'DeglA_LabaF', 'RoziP_DivaS', 'BaltJ_KadNa', 'UpitA_SmaiL', 'NiedAi_PiekB', 'VirzE_Strau', 'AustA_GaraJ', 'KurcA_Cukga', 'BankJ_GrafK', 'KociE_Darzn', 'SpriJ_SaloL', 'Andra_Elita', 'LesiVi_Satan', 'VeseJ_CilvS', 'GingJ_NoslT', 'TalrM_Baris', 'NiedAi_RuzuK', 'SkujF_MilaU', 'LaviV_PulaE', 'DeglA_Patri', 'EgliV_SkolK', 'BrigA_AkmeS', 'GrinA_DvesP', 'RutkT_LatvU', 'KaijI_IedzG', 'DruvA_MuzaM', 'JureJ_Zemga', 'UpitA_ZidaT', 'DeglA_Liesm', 'PielE_SievM', 'KunsJ_DarbA', 'IeviK_MezrM', 'SausA_EmilD', 'SartJ_Vieno', 'SterE_AndrZ', 'CiliK_SkaiC', 'JureJ_DzivV', 'SartJ_MezaM', 'BirkA_Pedag', 'LaciV_ZvejD', 'RutkT_KlibS', 'PrusE_Itali', 'ZamaL_KokaD', 'ZariK_Kaugu', 'DekeA_MezaL', 'UpitA_PerkP', 'EgliV_RitaB', 'GrevV_NamsR', 'LapiK_Pagri', 'JaunJ_Ursul', 'PaulM_Elks', 'SkujF_UzTam', 'SudrE_Dumbr', 'GrinA_SarkJ', 'Anoni_SarkM', 'Anoni_BandK', 'DzilA_GaisL', 'RutkT_AklaV', 'LaciV_ZemeU', 'AustA_KaspG', 'CeplA_Zeme1', 'LaciV_PulaE', 'BranV_KaujN', 'NiedJ_UzDau', 'KaudM_Izjur', 'DeglA_Zelte', 'LapiK_NemiU', 'PavlA_CeloP', 'RoziP_ZemeP', 'KurcA_DzivV', 'ZiemV_SievA', 'LapiK_Sabru', 'ValdR_JuraV', 'MellK_VectS', 'RudzE_CaurE', 'MednV_RigaT', 'LaciV_VecaJ', 'JansJ_Dzim', 'KabeV_DzelD', 'SartJ_Mara', 'CelmV_TuksG', 'IeviK_JaunC', 'KaudR_MernL', 'UpitA_LaikG', 'KrumJ_Mila', 'VecoJ_DansT', 'KalnM_Zieme', 'LiepM_DzivV', 'DzilK_Dauga', 'DzilA_VirsD', 'Zeltm_MileA', 'SartJ_ZalaS', 'JekaK_KrisU', 'ZariK_BralD', 'NiedAi_AnnaD', 'GrinA_AtdzC', 'NiedAi_CiemS', 'EgliV_NenoL', 'Elita_MilaZ', 'NiedAi_SarkV', 'AizsV_MilaU', 'UpitA_PedeL', 'KlotA_KadSi', 'SartJ_KurSt', 'NiedAi_Vinde', 'DievR_GodsU', 'LankA_Inzen', 'IeviK_PutrD', 'ErglR_Seli', 'GulbA_Gaidi', 'Elita_SadeD', 'SukuO_KalnE', 'TukuV_KaraD', 'LaciV_AkmeC', 'UpitA_Zelts', 'JaunJ_VejaZ', 'PaulM_TrauB', 'DeglA_JaunP', 'AkurJ_UgunZ', 'JekaK_HeinR', 'NiedAn_LiduD', 'LaciV_RotaV', 'CeplA_MaliV', 'NiedJ_Vikin', 'LapiK_AtplL', 'VeseJ_SaulK', 'DinsE_ViriK', 'ZandO_Ruda', 'ArdeE_SvetA', 'MezsE_DzivC', 'LapsJ_DamuP', 'MurnJ_NaveG', 'BankJ_TrisZ', 'PaulM_VecaB', 'DubuJ_SmilS', 'RutkT_MuksB', 'LaciJ_MuzaM', 'GiruJ_EkspZ', 'KalnI_AktrR', 'BaloP_DaugU', 'JekaK_Nikol', 'JannK_Ideal', 'OssJa_ZeltD', 'GulbA_JaunV', 'MiltK_Peter', 'KaudM_JaunM', 'RoziP_UgunC', 'LigoJ_ReinL', 'SartJ_DruvS', 'LapiK_RepuG', 'BankJ_DivaD', 'LaicL_Limit', 'RungA_LielM', 'ZamaL_CigaU', 'Kauka_IndrJ', 'PaulM_Likte', 'BrigA_KvelL', 'GrinA_Tobag', 'RihtO_MeziS', 'IeviK_DvesR', 'ErssA_KrusC', 'DzilK_JaniR', 'SkalK_SirdK', 'SkujR_ZvaiB', 'Arnis_TaurK', 'CeplA_Kalpi', 'PlauJ_Gimna', 'DzilK_GarlM', 'PerlL_LudiD', 'VeseJ_TrisL', 'JaunJ_Ziema', 'EgliV_DvesV', 'DeglA_StarD', 'KelpJ_TeviA', 'GregV_LatvK', 'FimbK_SaulK', 'MiltK_Mazur', 'PaegL_Izpos', 'GruzP_Bursa', 'VecoJ_LaiNa', 'KleiR_Erika', 'ValnH_Zero', 'LaciV_PutnB', 'EgliV_TiltU', 'LaicL_Emigr', 'ArdsL_TrijV', 'BaltJ_VaidM', 'ErssA_SkirC', 'JansJ_LaukU', 'DambV_GaitC', 'PoruJ_PerlZ', 'NiedAi_Uguni', 'PipiB_LejaM', 'GulbA_FantM', 'DekeA_KaisA', 'GrinA_MelnJ', 'GrinA_TrisV', 'SkujF_ZeltR', 'ErssA_AgloD', 'UpitA_VecaE', 'KukuJ_Laimi', 'MiltK_Regin', 'JaunJ_Augsz', 'ZariK_SpigP', 'Anoni_KaptT', 'JekaK_SievG', 'SkujF_ZemSa', 'ZeibJ_UdenB', 'TiruA_ParDz', 'RoziP_Cepli', 'ZaliA_Dauga', 'SvabA_Darbs', 'ZariK_DarzM', 'LesiVa_SlimD', 'NiedAi_GrekA', 'VeseL_BrivK'}\n"
     ]
    }
   ],
   "source": [
    "# something is not quite right we should have hit more than 12 terms\n",
    "# let's check how many unique file_stem_short values we have we have in original dataframe and how\n",
    "unique_file_stem_short = set(df.file_stem_short.unique())\n",
    "# length of the set\n",
    "print(f\"len(unique_file_stem_short): {len(unique_file_stem_short)}\")\n",
    "# let's assert that all sure_taxi_terms are in unique_file_stem_short\n",
    "if not true_taxi_set <= unique_file_stem_short:\n",
    "    print(f\"Not all sure_taxi_terms are in unique_file_stem_short: {true_taxi_set} <= {unique_file_stem_short}\")\n",
    "    # which ones are missing\n",
    "    missing_terms = true_taxi_set - unique_file_stem_short\n",
    "    print(f\"Missing terms: {missing_terms}\")\n",
    "else:\n",
    "    print(f\"All sure_taxi_terms are in unique_file_stem_short: {true_taxi_set} <= {unique_file_stem_short}\")"
   ]
  },
  {
   "cell_type": "code",
   "execution_count": 22,
   "id": "ca4a27f4",
   "metadata": {},
   "outputs": [],
   "source": [
    "# let's check autor PavlA in df\n",
    "unique_autors = set(df.author.unique())\n",
    "assert \"PavlA\" in unique_autors, f\"PavlA not in unique_autors: {unique_autors}\"\n",
    "# check SkujF\n",
    "assert \"SkujF\" in unique_autors, f\"SkujF not in unique_autors: {unique_autors}\"\n",
    "# check if we have any duplicates in the dataframe\n"
   ]
  },
  {
   "cell_type": "code",
   "execution_count": 23,
   "id": "4bf97285",
   "metadata": {},
   "outputs": [
    {
     "name": "stdout",
     "output_type": "stream",
     "text": [
      "pavla_df.shape: (103135, 17)\n",
      "pavla_titles: {'CeloP'}\n"
     ]
    }
   ],
   "source": [
    "# # TODO check titles for PavlA and SkujF since they are present in our big dataframe\n",
    "# # unique works for PavlA\n",
    "# pavla_df = df[df[\"author\"] == \"PavlA\"]\n",
    "# # shape\n",
    "# print(f\"pavla_df.shape: {pavla_df.shape}\")\n",
    "# # print unique titles\n",
    "# pavla_titles = set(pavla_df.title.unique())\n",
    "# print(f\"pavla_titles: {pavla_titles}\")"
   ]
  },
  {
   "cell_type": "code",
   "execution_count": 24,
   "id": "7c2a6015",
   "metadata": {},
   "outputs": [
    {
     "name": "stdout",
     "output_type": "stream",
     "text": [
      "skujf_df.shape: (470843, 17)\n",
      "skujf_titles: {'UzTam', 'ZeltR', 'MilaU', 'SidrS', 'ZemSa'}\n"
     ]
    }
   ],
   "source": [
    "# # now let's check SkujF\n",
    "# skujf_df = df[df[\"author\"] == \"SkujF\"]\n",
    "# # shape\n",
    "# print(f\"skujf_df.shape: {skujf_df.shape}\")\n",
    "# # print unique titles\n",
    "# skujf_titles = set(skujf_df.title.unique())\n",
    "# print(f\"skujf_titles: {skujf_titles}\")"
   ]
  },
  {
   "cell_type": "markdown",
   "id": "58585863",
   "metadata": {},
   "source": [
    "### Combining sure taksomerts with extra taxi term dfs"
   ]
  },
  {
   "cell_type": "code",
   "execution_count": 25,
   "id": "1dc3859a",
   "metadata": {},
   "outputs": [
    {
     "name": "stdout",
     "output_type": "stream",
     "text": [
      "full_taxi_df.shape: (224, 17)\n",
      "duplicates.shape: (0, 17)\n"
     ]
    }
   ],
   "source": [
    "# let's create full_taxi_df by combining taxi_df and extra_taxi_df\n",
    "full_taxi_df = pd.concat([taxi_df, extra_taxi_df], ignore_index=True)\n",
    "# shape\n",
    "print(f\"full_taxi_df.shape: {full_taxi_df.shape}\")\n",
    "# check for duplicates where row is the same\n",
    "duplicates = full_taxi_df[full_taxi_df.duplicated(keep=False)]\n",
    "# shape\n",
    "print(f\"duplicates.shape: {duplicates.shape}\")"
   ]
  },
  {
   "cell_type": "markdown",
   "id": "bfe47b9f",
   "metadata": {},
   "source": [
    "### Saving taksometrs"
   ]
  },
  {
   "cell_type": "code",
   "execution_count": null,
   "id": "f3c6a6f7",
   "metadata": {},
   "outputs": [],
   "source": [
    "# now let's save the full_taxi_df to parquet\n",
    "# full_taxi_df.to_parquet(\"../parquet/taxi.parquet\", index=False)"
   ]
  },
  {
   "cell_type": "markdown",
   "id": "8ac6d3b4",
   "metadata": {},
   "source": [
    "## Extract document frequency total over years"
   ]
  },
  {
   "cell_type": "code",
   "execution_count": 28,
   "id": "0a560fdd",
   "metadata": {},
   "outputs": [
    {
     "data": {
      "text/plain": [
       "firstEdition\n",
       "1879    2\n",
       "1890    1\n",
       "1891    3\n",
       "1892    1\n",
       "1893    1\n",
       "1895    3\n",
       "1899    1\n",
       "1900    1\n",
       "1901    1\n",
       "1902    2\n",
       "Name: count, dtype: int64"
      ]
     },
     "execution_count": 28,
     "metadata": {},
     "output_type": "execute_result"
    }
   ],
   "source": [
    "# let's get document frequency over years in whole dataframe\n",
    "# we will  group by short_title_stem then get first for firstEdition column\n",
    "# group by file_stem_short and then get firstEdition\n",
    "first_edition = df.groupby('file_stem_short')['firstEdition'].first()\n",
    "first_edition_over_years = first_edition.value_counts().sort_index()\n",
    "# show the first 10\n",
    "first_edition_over_years.head(10)\n"
   ]
  },
  {
   "cell_type": "code",
   "execution_count": 29,
   "id": "3bac2b47",
   "metadata": {},
   "outputs": [
    {
     "data": {
      "text/plain": [
       "firstEdition\n",
       "1931    22\n",
       "1932    16\n",
       "1933    24\n",
       "1934    19\n",
       "1935    36\n",
       "1936    45\n",
       "1937    27\n",
       "1938    36\n",
       "1939    27\n",
       "1940    16\n",
       "Name: count, dtype: int64"
      ]
     },
     "execution_count": 29,
     "metadata": {},
     "output_type": "execute_result"
    }
   ],
   "source": [
    "# last 10\n",
    "first_edition_over_years.tail(10)"
   ]
  },
  {
   "cell_type": "code",
   "execution_count": 36,
   "id": "131316be",
   "metadata": {},
   "outputs": [
    {
     "data": {
      "text/html": [
       "<div>\n",
       "<style scoped>\n",
       "    .dataframe tbody tr th:only-of-type {\n",
       "        vertical-align: middle;\n",
       "    }\n",
       "\n",
       "    .dataframe tbody tr th {\n",
       "        vertical-align: top;\n",
       "    }\n",
       "\n",
       "    .dataframe thead th {\n",
       "        text-align: right;\n",
       "    }\n",
       "</style>\n",
       "<table border=\"1\" class=\"dataframe\">\n",
       "  <thead>\n",
       "    <tr style=\"text-align: right;\">\n",
       "      <th></th>\n",
       "      <th>firstEditionCount</th>\n",
       "    </tr>\n",
       "    <tr>\n",
       "      <th>year</th>\n",
       "      <th></th>\n",
       "    </tr>\n",
       "  </thead>\n",
       "  <tbody>\n",
       "    <tr>\n",
       "      <th>1879</th>\n",
       "      <td>2</td>\n",
       "    </tr>\n",
       "    <tr>\n",
       "      <th>1890</th>\n",
       "      <td>1</td>\n",
       "    </tr>\n",
       "    <tr>\n",
       "      <th>1891</th>\n",
       "      <td>3</td>\n",
       "    </tr>\n",
       "    <tr>\n",
       "      <th>1892</th>\n",
       "      <td>1</td>\n",
       "    </tr>\n",
       "    <tr>\n",
       "      <th>1893</th>\n",
       "      <td>1</td>\n",
       "    </tr>\n",
       "    <tr>\n",
       "      <th>1895</th>\n",
       "      <td>3</td>\n",
       "    </tr>\n",
       "    <tr>\n",
       "      <th>1899</th>\n",
       "      <td>1</td>\n",
       "    </tr>\n",
       "    <tr>\n",
       "      <th>1900</th>\n",
       "      <td>1</td>\n",
       "    </tr>\n",
       "    <tr>\n",
       "      <th>1901</th>\n",
       "      <td>1</td>\n",
       "    </tr>\n",
       "    <tr>\n",
       "      <th>1902</th>\n",
       "      <td>2</td>\n",
       "    </tr>\n",
       "  </tbody>\n",
       "</table>\n",
       "</div>"
      ],
      "text/plain": [
       "      firstEditionCount\n",
       "year                   \n",
       "1879                  2\n",
       "1890                  1\n",
       "1891                  3\n",
       "1892                  1\n",
       "1893                  1\n",
       "1895                  3\n",
       "1899                  1\n",
       "1900                  1\n",
       "1901                  1\n",
       "1902                  2"
      ]
     },
     "execution_count": 36,
     "metadata": {},
     "output_type": "execute_result"
    }
   ],
   "source": [
    "# let's convert first_edition_over_years to a dataframe\n",
    "first_edition_over_years_df = first_edition_over_years.to_frame()\n",
    "# index should be called year\n",
    "first_edition_over_years_df.index.name = 'year'\n",
    "first_edition_over_years_df.columns = ['firstEditionCount']\n",
    "# show\n",
    "first_edition_over_years_df.head(10)"
   ]
  },
  {
   "cell_type": "code",
   "execution_count": null,
   "id": "905f4ff6",
   "metadata": {},
   "outputs": [],
   "source": [
    "## let's save first_edition_over_years to parquet\n",
    "# first convert to dataframe\n",
    "\n",
    "# first_edition_over_years_df.to_parquet(\"../parquet/first_edition_over_years.parquet\", index=True)"
   ]
  },
  {
   "cell_type": "code",
   "execution_count": 38,
   "id": "8bfe3c85",
   "metadata": {},
   "outputs": [
    {
     "data": {
      "application/vnd.plotly.v1+json": {
       "config": {
        "plotlyServerURL": "https://plot.ly"
       },
       "data": [
        {
         "alignmentgroup": "True",
         "hovertemplate": "variable=firstEditionCount<br>year=%{x}<br>value=%{y}<extra></extra>",
         "legendgroup": "firstEditionCount",
         "marker": {
          "color": "#636efa",
          "pattern": {
           "shape": ""
          }
         },
         "name": "firstEditionCount",
         "offsetgroup": "firstEditionCount",
         "orientation": "v",
         "showlegend": true,
         "textposition": "auto",
         "type": "bar",
         "x": [
          1879,
          1890,
          1891,
          1892,
          1893,
          1895,
          1899,
          1900,
          1901,
          1902,
          1903,
          1904,
          1905,
          1907,
          1908,
          1909,
          1910,
          1911,
          1912,
          1913,
          1914,
          1915,
          1919,
          1920,
          1921,
          1922,
          1923,
          1924,
          1925,
          1926,
          1927,
          1928,
          1929,
          1930,
          1931,
          1932,
          1933,
          1934,
          1935,
          1936,
          1937,
          1938,
          1939,
          1940
         ],
         "xaxis": "x",
         "y": [
          2,
          1,
          3,
          1,
          1,
          3,
          1,
          1,
          1,
          2,
          2,
          3,
          2,
          3,
          3,
          4,
          2,
          3,
          6,
          2,
          2,
          1,
          1,
          4,
          15,
          8,
          7,
          15,
          7,
          18,
          16,
          16,
          18,
          21,
          22,
          16,
          24,
          19,
          36,
          45,
          27,
          36,
          27,
          16
         ],
         "yaxis": "y"
        }
       ],
       "layout": {
        "barmode": "relative",
        "font": {
         "size": 18
        },
        "legend": {
         "title": {
          "text": "variable"
         },
         "tracegroupgap": 0
        },
        "showlegend": false,
        "template": {
         "data": {
          "bar": [
           {
            "error_x": {
             "color": "#2a3f5f"
            },
            "error_y": {
             "color": "#2a3f5f"
            },
            "marker": {
             "line": {
              "color": "#E5ECF6",
              "width": 0.5
             },
             "pattern": {
              "fillmode": "overlay",
              "size": 10,
              "solidity": 0.2
             }
            },
            "type": "bar"
           }
          ],
          "barpolar": [
           {
            "marker": {
             "line": {
              "color": "#E5ECF6",
              "width": 0.5
             },
             "pattern": {
              "fillmode": "overlay",
              "size": 10,
              "solidity": 0.2
             }
            },
            "type": "barpolar"
           }
          ],
          "carpet": [
           {
            "aaxis": {
             "endlinecolor": "#2a3f5f",
             "gridcolor": "white",
             "linecolor": "white",
             "minorgridcolor": "white",
             "startlinecolor": "#2a3f5f"
            },
            "baxis": {
             "endlinecolor": "#2a3f5f",
             "gridcolor": "white",
             "linecolor": "white",
             "minorgridcolor": "white",
             "startlinecolor": "#2a3f5f"
            },
            "type": "carpet"
           }
          ],
          "choropleth": [
           {
            "colorbar": {
             "outlinewidth": 0,
             "ticks": ""
            },
            "type": "choropleth"
           }
          ],
          "contour": [
           {
            "colorbar": {
             "outlinewidth": 0,
             "ticks": ""
            },
            "colorscale": [
             [
              0,
              "#0d0887"
             ],
             [
              0.1111111111111111,
              "#46039f"
             ],
             [
              0.2222222222222222,
              "#7201a8"
             ],
             [
              0.3333333333333333,
              "#9c179e"
             ],
             [
              0.4444444444444444,
              "#bd3786"
             ],
             [
              0.5555555555555556,
              "#d8576b"
             ],
             [
              0.6666666666666666,
              "#ed7953"
             ],
             [
              0.7777777777777778,
              "#fb9f3a"
             ],
             [
              0.8888888888888888,
              "#fdca26"
             ],
             [
              1,
              "#f0f921"
             ]
            ],
            "type": "contour"
           }
          ],
          "contourcarpet": [
           {
            "colorbar": {
             "outlinewidth": 0,
             "ticks": ""
            },
            "type": "contourcarpet"
           }
          ],
          "heatmap": [
           {
            "colorbar": {
             "outlinewidth": 0,
             "ticks": ""
            },
            "colorscale": [
             [
              0,
              "#0d0887"
             ],
             [
              0.1111111111111111,
              "#46039f"
             ],
             [
              0.2222222222222222,
              "#7201a8"
             ],
             [
              0.3333333333333333,
              "#9c179e"
             ],
             [
              0.4444444444444444,
              "#bd3786"
             ],
             [
              0.5555555555555556,
              "#d8576b"
             ],
             [
              0.6666666666666666,
              "#ed7953"
             ],
             [
              0.7777777777777778,
              "#fb9f3a"
             ],
             [
              0.8888888888888888,
              "#fdca26"
             ],
             [
              1,
              "#f0f921"
             ]
            ],
            "type": "heatmap"
           }
          ],
          "heatmapgl": [
           {
            "colorbar": {
             "outlinewidth": 0,
             "ticks": ""
            },
            "colorscale": [
             [
              0,
              "#0d0887"
             ],
             [
              0.1111111111111111,
              "#46039f"
             ],
             [
              0.2222222222222222,
              "#7201a8"
             ],
             [
              0.3333333333333333,
              "#9c179e"
             ],
             [
              0.4444444444444444,
              "#bd3786"
             ],
             [
              0.5555555555555556,
              "#d8576b"
             ],
             [
              0.6666666666666666,
              "#ed7953"
             ],
             [
              0.7777777777777778,
              "#fb9f3a"
             ],
             [
              0.8888888888888888,
              "#fdca26"
             ],
             [
              1,
              "#f0f921"
             ]
            ],
            "type": "heatmapgl"
           }
          ],
          "histogram": [
           {
            "marker": {
             "pattern": {
              "fillmode": "overlay",
              "size": 10,
              "solidity": 0.2
             }
            },
            "type": "histogram"
           }
          ],
          "histogram2d": [
           {
            "colorbar": {
             "outlinewidth": 0,
             "ticks": ""
            },
            "colorscale": [
             [
              0,
              "#0d0887"
             ],
             [
              0.1111111111111111,
              "#46039f"
             ],
             [
              0.2222222222222222,
              "#7201a8"
             ],
             [
              0.3333333333333333,
              "#9c179e"
             ],
             [
              0.4444444444444444,
              "#bd3786"
             ],
             [
              0.5555555555555556,
              "#d8576b"
             ],
             [
              0.6666666666666666,
              "#ed7953"
             ],
             [
              0.7777777777777778,
              "#fb9f3a"
             ],
             [
              0.8888888888888888,
              "#fdca26"
             ],
             [
              1,
              "#f0f921"
             ]
            ],
            "type": "histogram2d"
           }
          ],
          "histogram2dcontour": [
           {
            "colorbar": {
             "outlinewidth": 0,
             "ticks": ""
            },
            "colorscale": [
             [
              0,
              "#0d0887"
             ],
             [
              0.1111111111111111,
              "#46039f"
             ],
             [
              0.2222222222222222,
              "#7201a8"
             ],
             [
              0.3333333333333333,
              "#9c179e"
             ],
             [
              0.4444444444444444,
              "#bd3786"
             ],
             [
              0.5555555555555556,
              "#d8576b"
             ],
             [
              0.6666666666666666,
              "#ed7953"
             ],
             [
              0.7777777777777778,
              "#fb9f3a"
             ],
             [
              0.8888888888888888,
              "#fdca26"
             ],
             [
              1,
              "#f0f921"
             ]
            ],
            "type": "histogram2dcontour"
           }
          ],
          "mesh3d": [
           {
            "colorbar": {
             "outlinewidth": 0,
             "ticks": ""
            },
            "type": "mesh3d"
           }
          ],
          "parcoords": [
           {
            "line": {
             "colorbar": {
              "outlinewidth": 0,
              "ticks": ""
             }
            },
            "type": "parcoords"
           }
          ],
          "pie": [
           {
            "automargin": true,
            "type": "pie"
           }
          ],
          "scatter": [
           {
            "fillpattern": {
             "fillmode": "overlay",
             "size": 10,
             "solidity": 0.2
            },
            "type": "scatter"
           }
          ],
          "scatter3d": [
           {
            "line": {
             "colorbar": {
              "outlinewidth": 0,
              "ticks": ""
             }
            },
            "marker": {
             "colorbar": {
              "outlinewidth": 0,
              "ticks": ""
             }
            },
            "type": "scatter3d"
           }
          ],
          "scattercarpet": [
           {
            "marker": {
             "colorbar": {
              "outlinewidth": 0,
              "ticks": ""
             }
            },
            "type": "scattercarpet"
           }
          ],
          "scattergeo": [
           {
            "marker": {
             "colorbar": {
              "outlinewidth": 0,
              "ticks": ""
             }
            },
            "type": "scattergeo"
           }
          ],
          "scattergl": [
           {
            "marker": {
             "colorbar": {
              "outlinewidth": 0,
              "ticks": ""
             }
            },
            "type": "scattergl"
           }
          ],
          "scattermapbox": [
           {
            "marker": {
             "colorbar": {
              "outlinewidth": 0,
              "ticks": ""
             }
            },
            "type": "scattermapbox"
           }
          ],
          "scatterpolar": [
           {
            "marker": {
             "colorbar": {
              "outlinewidth": 0,
              "ticks": ""
             }
            },
            "type": "scatterpolar"
           }
          ],
          "scatterpolargl": [
           {
            "marker": {
             "colorbar": {
              "outlinewidth": 0,
              "ticks": ""
             }
            },
            "type": "scatterpolargl"
           }
          ],
          "scatterternary": [
           {
            "marker": {
             "colorbar": {
              "outlinewidth": 0,
              "ticks": ""
             }
            },
            "type": "scatterternary"
           }
          ],
          "surface": [
           {
            "colorbar": {
             "outlinewidth": 0,
             "ticks": ""
            },
            "colorscale": [
             [
              0,
              "#0d0887"
             ],
             [
              0.1111111111111111,
              "#46039f"
             ],
             [
              0.2222222222222222,
              "#7201a8"
             ],
             [
              0.3333333333333333,
              "#9c179e"
             ],
             [
              0.4444444444444444,
              "#bd3786"
             ],
             [
              0.5555555555555556,
              "#d8576b"
             ],
             [
              0.6666666666666666,
              "#ed7953"
             ],
             [
              0.7777777777777778,
              "#fb9f3a"
             ],
             [
              0.8888888888888888,
              "#fdca26"
             ],
             [
              1,
              "#f0f921"
             ]
            ],
            "type": "surface"
           }
          ],
          "table": [
           {
            "cells": {
             "fill": {
              "color": "#EBF0F8"
             },
             "line": {
              "color": "white"
             }
            },
            "header": {
             "fill": {
              "color": "#C8D4E3"
             },
             "line": {
              "color": "white"
             }
            },
            "type": "table"
           }
          ]
         },
         "layout": {
          "annotationdefaults": {
           "arrowcolor": "#2a3f5f",
           "arrowhead": 0,
           "arrowwidth": 1
          },
          "autotypenumbers": "strict",
          "coloraxis": {
           "colorbar": {
            "outlinewidth": 0,
            "ticks": ""
           }
          },
          "colorscale": {
           "diverging": [
            [
             0,
             "#8e0152"
            ],
            [
             0.1,
             "#c51b7d"
            ],
            [
             0.2,
             "#de77ae"
            ],
            [
             0.3,
             "#f1b6da"
            ],
            [
             0.4,
             "#fde0ef"
            ],
            [
             0.5,
             "#f7f7f7"
            ],
            [
             0.6,
             "#e6f5d0"
            ],
            [
             0.7,
             "#b8e186"
            ],
            [
             0.8,
             "#7fbc41"
            ],
            [
             0.9,
             "#4d9221"
            ],
            [
             1,
             "#276419"
            ]
           ],
           "sequential": [
            [
             0,
             "#0d0887"
            ],
            [
             0.1111111111111111,
             "#46039f"
            ],
            [
             0.2222222222222222,
             "#7201a8"
            ],
            [
             0.3333333333333333,
             "#9c179e"
            ],
            [
             0.4444444444444444,
             "#bd3786"
            ],
            [
             0.5555555555555556,
             "#d8576b"
            ],
            [
             0.6666666666666666,
             "#ed7953"
            ],
            [
             0.7777777777777778,
             "#fb9f3a"
            ],
            [
             0.8888888888888888,
             "#fdca26"
            ],
            [
             1,
             "#f0f921"
            ]
           ],
           "sequentialminus": [
            [
             0,
             "#0d0887"
            ],
            [
             0.1111111111111111,
             "#46039f"
            ],
            [
             0.2222222222222222,
             "#7201a8"
            ],
            [
             0.3333333333333333,
             "#9c179e"
            ],
            [
             0.4444444444444444,
             "#bd3786"
            ],
            [
             0.5555555555555556,
             "#d8576b"
            ],
            [
             0.6666666666666666,
             "#ed7953"
            ],
            [
             0.7777777777777778,
             "#fb9f3a"
            ],
            [
             0.8888888888888888,
             "#fdca26"
            ],
            [
             1,
             "#f0f921"
            ]
           ]
          },
          "colorway": [
           "#636efa",
           "#EF553B",
           "#00cc96",
           "#ab63fa",
           "#FFA15A",
           "#19d3f3",
           "#FF6692",
           "#B6E880",
           "#FF97FF",
           "#FECB52"
          ],
          "font": {
           "color": "#2a3f5f"
          },
          "geo": {
           "bgcolor": "white",
           "lakecolor": "white",
           "landcolor": "#E5ECF6",
           "showlakes": true,
           "showland": true,
           "subunitcolor": "white"
          },
          "hoverlabel": {
           "align": "left"
          },
          "hovermode": "closest",
          "mapbox": {
           "style": "light"
          },
          "paper_bgcolor": "white",
          "plot_bgcolor": "#E5ECF6",
          "polar": {
           "angularaxis": {
            "gridcolor": "white",
            "linecolor": "white",
            "ticks": ""
           },
           "bgcolor": "#E5ECF6",
           "radialaxis": {
            "gridcolor": "white",
            "linecolor": "white",
            "ticks": ""
           }
          },
          "scene": {
           "xaxis": {
            "backgroundcolor": "#E5ECF6",
            "gridcolor": "white",
            "gridwidth": 2,
            "linecolor": "white",
            "showbackground": true,
            "ticks": "",
            "zerolinecolor": "white"
           },
           "yaxis": {
            "backgroundcolor": "#E5ECF6",
            "gridcolor": "white",
            "gridwidth": 2,
            "linecolor": "white",
            "showbackground": true,
            "ticks": "",
            "zerolinecolor": "white"
           },
           "zaxis": {
            "backgroundcolor": "#E5ECF6",
            "gridcolor": "white",
            "gridwidth": 2,
            "linecolor": "white",
            "showbackground": true,
            "ticks": "",
            "zerolinecolor": "white"
           }
          },
          "shapedefaults": {
           "line": {
            "color": "#2a3f5f"
           }
          },
          "ternary": {
           "aaxis": {
            "gridcolor": "white",
            "linecolor": "white",
            "ticks": ""
           },
           "baxis": {
            "gridcolor": "white",
            "linecolor": "white",
            "ticks": ""
           },
           "bgcolor": "#E5ECF6",
           "caxis": {
            "gridcolor": "white",
            "linecolor": "white",
            "ticks": ""
           }
          },
          "title": {
           "x": 0.05
          },
          "xaxis": {
           "automargin": true,
           "gridcolor": "white",
           "linecolor": "white",
           "ticks": "",
           "title": {
            "standoff": 15
           },
           "zerolinecolor": "white",
           "zerolinewidth": 2
          },
          "yaxis": {
           "automargin": true,
           "gridcolor": "white",
           "linecolor": "white",
           "ticks": "",
           "title": {
            "standoff": 15
           },
           "zerolinecolor": "white",
           "zerolinewidth": 2
          }
         }
        },
        "title": {
         "text": ""
        },
        "width": 1242,
        "xaxis": {
         "anchor": "y",
         "domain": [
          0,
          1
         ],
         "dtick": 5,
         "gridcolor": "white",
         "gridwidth": 1,
         "showgrid": true,
         "tick0": 0,
         "title": {
          "text": "First Edition"
         }
        },
        "yaxis": {
         "anchor": "x",
         "domain": [
          0,
          1
         ],
         "title": {
          "text": "Number of Works"
         }
        }
       }
      }
     },
     "metadata": {},
     "output_type": "display_data"
    }
   ],
   "source": [
    "# let's plot first_edition_over_years_df\n",
    "plot_df = first_edition_over_years_df\n",
    "fig = px.bar(plot_df, title=\"First edition value counts\")\n",
    "# turn of legend\n",
    "fig.update_layout(showlegend=False)\n",
    "# turn off title\n",
    "fig.update_layout(title=\"\")\n",
    "# y axis title \"Darbu skaits\"\n",
    "# fig.update_yaxes(title=\"Darbu skaits\")\n",
    "fig.update_yaxes(title=\"Number of Works\")\n",
    "# x axis title \"Pirmizdevums grāmatā\n",
    "# fig.update_xaxes(title=\"Pirmizdevums grāmatā\")\n",
    "fig.update_xaxes(title=\"First Edition\")\n",
    "# save html\n",
    "SAVE_HTML = False\n",
    "if SAVE_HTML:\n",
    "    fig.write_html(\"../html/first_edition_value_counts.html\")\n",
    "# fig.write_html(\"../html/first_edition_value_counts.html\")\n",
    "# save img\n",
    "# fig.write_image(\"../img/first_edition_value_counts.png\")\n",
    "# font size 18\n",
    "fig.update_layout(font=dict(size=18))\n",
    "# show years every 5\n",
    "fig.update_xaxes(tick0=0, dtick=5)\n",
    "# let's make x gridlines every 10 years\n",
    "fig.update_xaxes(showgrid=True, gridwidth=1, gridcolor='white')\n",
    "# width 1000\n",
    "fig.update_layout(width=1242)\n",
    "# save as png\n",
    "# fig.write_image(\"../img/first_edition_value_counts.png\") # FIXME kaleido not installed\n",
    "fig.show()"
   ]
  },
  {
   "cell_type": "markdown",
   "id": "9d921226",
   "metadata": {},
   "source": [
    "## Getting Document Freqency for ormanis and taksometrs over years"
   ]
  },
  {
   "cell_type": "code",
   "execution_count": 32,
   "id": "b4d3625f",
   "metadata": {},
   "outputs": [
    {
     "data": {
      "text/plain": [
       "firstEdition\n",
       "1879    1\n",
       "1891    1\n",
       "1892    1\n",
       "1895    1\n",
       "1899    1\n",
       "1900    1\n",
       "1901    1\n",
       "1902    2\n",
       "1904    2\n",
       "1905    2\n",
       "Name: count, dtype: int64"
      ]
     },
     "execution_count": 32,
     "metadata": {},
     "output_type": "execute_result"
    }
   ],
   "source": [
    "# now let's create ormanis_over_years\n",
    "# we will  group by short_title_stem then get first for firstEdition column\n",
    "ormanis_grouped = ormanis_df.groupby('file_stem_short')['firstEdition'].first()\n",
    "ormanis_over_years = ormanis_grouped.value_counts().sort_index()\n",
    "# show the first 10\n",
    "ormanis_over_years.head(10)"
   ]
  },
  {
   "cell_type": "code",
   "execution_count": 39,
   "id": "fb2c52e5",
   "metadata": {},
   "outputs": [
    {
     "data": {
      "text/plain": [
       "firstEdition\n",
       "1924    1\n",
       "1925    1\n",
       "1926    1\n",
       "1927    4\n",
       "1928    4\n",
       "1929    3\n",
       "1930    5\n",
       "1931    8\n",
       "1932    6\n",
       "1933    5\n",
       "Name: count, dtype: int64"
      ]
     },
     "execution_count": 39,
     "metadata": {},
     "output_type": "execute_result"
    }
   ],
   "source": [
    "# now let's get taxi_over_years\n",
    "# we will  group by short_title_stem then get first for firstEdition column\n",
    "taxi_grouped = full_taxi_df.groupby('file_stem_short')['firstEdition'].first()\n",
    "taxi_over_years = taxi_grouped.value_counts().sort_index()\n",
    "# show the first 10\n",
    "taxi_over_years.head(10)"
   ]
  },
  {
   "cell_type": "code",
   "execution_count": 43,
   "id": "f53611d1",
   "metadata": {},
   "outputs": [
    {
     "data": {
      "text/html": [
       "<div>\n",
       "<style scoped>\n",
       "    .dataframe tbody tr th:only-of-type {\n",
       "        vertical-align: middle;\n",
       "    }\n",
       "\n",
       "    .dataframe tbody tr th {\n",
       "        vertical-align: top;\n",
       "    }\n",
       "\n",
       "    .dataframe thead th {\n",
       "        text-align: right;\n",
       "    }\n",
       "</style>\n",
       "<table border=\"1\" class=\"dataframe\">\n",
       "  <thead>\n",
       "    <tr style=\"text-align: right;\">\n",
       "      <th></th>\n",
       "      <th>ormanisDocFreq</th>\n",
       "    </tr>\n",
       "    <tr>\n",
       "      <th>year</th>\n",
       "      <th></th>\n",
       "    </tr>\n",
       "  </thead>\n",
       "  <tbody>\n",
       "    <tr>\n",
       "      <th>1879</th>\n",
       "      <td>1</td>\n",
       "    </tr>\n",
       "    <tr>\n",
       "      <th>1891</th>\n",
       "      <td>1</td>\n",
       "    </tr>\n",
       "    <tr>\n",
       "      <th>1892</th>\n",
       "      <td>1</td>\n",
       "    </tr>\n",
       "    <tr>\n",
       "      <th>1895</th>\n",
       "      <td>1</td>\n",
       "    </tr>\n",
       "    <tr>\n",
       "      <th>1899</th>\n",
       "      <td>1</td>\n",
       "    </tr>\n",
       "    <tr>\n",
       "      <th>1900</th>\n",
       "      <td>1</td>\n",
       "    </tr>\n",
       "    <tr>\n",
       "      <th>1901</th>\n",
       "      <td>1</td>\n",
       "    </tr>\n",
       "    <tr>\n",
       "      <th>1902</th>\n",
       "      <td>2</td>\n",
       "    </tr>\n",
       "    <tr>\n",
       "      <th>1904</th>\n",
       "      <td>2</td>\n",
       "    </tr>\n",
       "    <tr>\n",
       "      <th>1905</th>\n",
       "      <td>2</td>\n",
       "    </tr>\n",
       "  </tbody>\n",
       "</table>\n",
       "</div>"
      ],
      "text/plain": [
       "      ormanisDocFreq\n",
       "year                \n",
       "1879               1\n",
       "1891               1\n",
       "1892               1\n",
       "1895               1\n",
       "1899               1\n",
       "1900               1\n",
       "1901               1\n",
       "1902               2\n",
       "1904               2\n",
       "1905               2"
      ]
     },
     "execution_count": 43,
     "metadata": {},
     "output_type": "execute_result"
    }
   ],
   "source": [
    "# now let's add ormanis_over_years and taxi_over_years to the first_edition_over_years_df\n",
    "# first convert to dataframe\n",
    "ormanis_over_years_df = ormanis_over_years.to_frame()\n",
    "# index should be called year\n",
    "ormanis_over_years_df.index.name = 'year'\n",
    "ormanis_over_years_df.columns = ['ormanisDocFreq']\n",
    "# show\n",
    "ormanis_over_years_df.head(10)"
   ]
  },
  {
   "cell_type": "code",
   "execution_count": 44,
   "id": "095881e0",
   "metadata": {},
   "outputs": [
    {
     "data": {
      "text/html": [
       "<div>\n",
       "<style scoped>\n",
       "    .dataframe tbody tr th:only-of-type {\n",
       "        vertical-align: middle;\n",
       "    }\n",
       "\n",
       "    .dataframe tbody tr th {\n",
       "        vertical-align: top;\n",
       "    }\n",
       "\n",
       "    .dataframe thead th {\n",
       "        text-align: right;\n",
       "    }\n",
       "</style>\n",
       "<table border=\"1\" class=\"dataframe\">\n",
       "  <thead>\n",
       "    <tr style=\"text-align: right;\">\n",
       "      <th></th>\n",
       "      <th>taxiDocFreq</th>\n",
       "    </tr>\n",
       "    <tr>\n",
       "      <th>year</th>\n",
       "      <th></th>\n",
       "    </tr>\n",
       "  </thead>\n",
       "  <tbody>\n",
       "    <tr>\n",
       "      <th>1924</th>\n",
       "      <td>1</td>\n",
       "    </tr>\n",
       "    <tr>\n",
       "      <th>1925</th>\n",
       "      <td>1</td>\n",
       "    </tr>\n",
       "    <tr>\n",
       "      <th>1926</th>\n",
       "      <td>1</td>\n",
       "    </tr>\n",
       "    <tr>\n",
       "      <th>1927</th>\n",
       "      <td>4</td>\n",
       "    </tr>\n",
       "    <tr>\n",
       "      <th>1928</th>\n",
       "      <td>4</td>\n",
       "    </tr>\n",
       "    <tr>\n",
       "      <th>1929</th>\n",
       "      <td>3</td>\n",
       "    </tr>\n",
       "    <tr>\n",
       "      <th>1930</th>\n",
       "      <td>5</td>\n",
       "    </tr>\n",
       "    <tr>\n",
       "      <th>1931</th>\n",
       "      <td>8</td>\n",
       "    </tr>\n",
       "    <tr>\n",
       "      <th>1932</th>\n",
       "      <td>6</td>\n",
       "    </tr>\n",
       "    <tr>\n",
       "      <th>1933</th>\n",
       "      <td>5</td>\n",
       "    </tr>\n",
       "  </tbody>\n",
       "</table>\n",
       "</div>"
      ],
      "text/plain": [
       "      taxiDocFreq\n",
       "year             \n",
       "1924            1\n",
       "1925            1\n",
       "1926            1\n",
       "1927            4\n",
       "1928            4\n",
       "1929            3\n",
       "1930            5\n",
       "1931            8\n",
       "1932            6\n",
       "1933            5"
      ]
     },
     "execution_count": 44,
     "metadata": {},
     "output_type": "execute_result"
    }
   ],
   "source": [
    "# now let's create taxi_over_years_df\n",
    "taxi_over_years_df = taxi_over_years.to_frame()\n",
    "# index should be called year\n",
    "taxi_over_years_df.index.name = 'year'\n",
    "taxi_over_years_df.columns = ['taxiDocFreq']\n",
    "# show\n",
    "taxi_over_years_df.head(10)"
   ]
  },
  {
   "cell_type": "code",
   "execution_count": 45,
   "id": "d97a136b",
   "metadata": {},
   "outputs": [
    {
     "data": {
      "text/html": [
       "<div>\n",
       "<style scoped>\n",
       "    .dataframe tbody tr th:only-of-type {\n",
       "        vertical-align: middle;\n",
       "    }\n",
       "\n",
       "    .dataframe tbody tr th {\n",
       "        vertical-align: top;\n",
       "    }\n",
       "\n",
       "    .dataframe thead th {\n",
       "        text-align: right;\n",
       "    }\n",
       "</style>\n",
       "<table border=\"1\" class=\"dataframe\">\n",
       "  <thead>\n",
       "    <tr style=\"text-align: right;\">\n",
       "      <th></th>\n",
       "      <th>firstEditionCount</th>\n",
       "      <th>ormanisDocFreq</th>\n",
       "      <th>taxiDocFreq</th>\n",
       "    </tr>\n",
       "    <tr>\n",
       "      <th>year</th>\n",
       "      <th></th>\n",
       "      <th></th>\n",
       "      <th></th>\n",
       "    </tr>\n",
       "  </thead>\n",
       "  <tbody>\n",
       "    <tr>\n",
       "      <th>1879</th>\n",
       "      <td>2</td>\n",
       "      <td>1.0</td>\n",
       "      <td>0.0</td>\n",
       "    </tr>\n",
       "    <tr>\n",
       "      <th>1890</th>\n",
       "      <td>1</td>\n",
       "      <td>0.0</td>\n",
       "      <td>0.0</td>\n",
       "    </tr>\n",
       "    <tr>\n",
       "      <th>1891</th>\n",
       "      <td>3</td>\n",
       "      <td>1.0</td>\n",
       "      <td>0.0</td>\n",
       "    </tr>\n",
       "    <tr>\n",
       "      <th>1892</th>\n",
       "      <td>1</td>\n",
       "      <td>1.0</td>\n",
       "      <td>0.0</td>\n",
       "    </tr>\n",
       "    <tr>\n",
       "      <th>1893</th>\n",
       "      <td>1</td>\n",
       "      <td>0.0</td>\n",
       "      <td>0.0</td>\n",
       "    </tr>\n",
       "    <tr>\n",
       "      <th>1895</th>\n",
       "      <td>3</td>\n",
       "      <td>1.0</td>\n",
       "      <td>0.0</td>\n",
       "    </tr>\n",
       "    <tr>\n",
       "      <th>1899</th>\n",
       "      <td>1</td>\n",
       "      <td>1.0</td>\n",
       "      <td>0.0</td>\n",
       "    </tr>\n",
       "    <tr>\n",
       "      <th>1900</th>\n",
       "      <td>1</td>\n",
       "      <td>1.0</td>\n",
       "      <td>0.0</td>\n",
       "    </tr>\n",
       "    <tr>\n",
       "      <th>1901</th>\n",
       "      <td>1</td>\n",
       "      <td>1.0</td>\n",
       "      <td>0.0</td>\n",
       "    </tr>\n",
       "    <tr>\n",
       "      <th>1902</th>\n",
       "      <td>2</td>\n",
       "      <td>2.0</td>\n",
       "      <td>0.0</td>\n",
       "    </tr>\n",
       "  </tbody>\n",
       "</table>\n",
       "</div>"
      ],
      "text/plain": [
       "      firstEditionCount  ormanisDocFreq  taxiDocFreq\n",
       "year                                                \n",
       "1879                  2             1.0          0.0\n",
       "1890                  1             0.0          0.0\n",
       "1891                  3             1.0          0.0\n",
       "1892                  1             1.0          0.0\n",
       "1893                  1             0.0          0.0\n",
       "1895                  3             1.0          0.0\n",
       "1899                  1             1.0          0.0\n",
       "1900                  1             1.0          0.0\n",
       "1901                  1             1.0          0.0\n",
       "1902                  2             2.0          0.0"
      ]
     },
     "execution_count": 45,
     "metadata": {},
     "output_type": "execute_result"
    }
   ],
   "source": [
    "# now let's add these two dataframes to the first_edition_over_years_df\n",
    "# if no year is present in the index then add 0\n",
    "# first add ormanis_over_years_df to first_edition_over_years_df\n",
    "first_edition_over_years_df = first_edition_over_years_df.join(ormanis_over_years_df, how='left')\n",
    "# fillna with 0\n",
    "first_edition_over_years_df.fillna(0, inplace=True)\n",
    "# now add taxi_over_years_df to first_edition_over_years_df\n",
    "first_edition_over_years_df = first_edition_over_years_df.join(taxi_over_years_df, how='left')\n",
    "# fillna with 0\n",
    "first_edition_over_years_df.fillna(0, inplace=True)\n",
    "# show the first 10\n",
    "first_edition_over_years_df.head(10)"
   ]
  },
  {
   "cell_type": "code",
   "execution_count": 46,
   "id": "290f7054",
   "metadata": {},
   "outputs": [
    {
     "data": {
      "text/html": [
       "<div>\n",
       "<style scoped>\n",
       "    .dataframe tbody tr th:only-of-type {\n",
       "        vertical-align: middle;\n",
       "    }\n",
       "\n",
       "    .dataframe tbody tr th {\n",
       "        vertical-align: top;\n",
       "    }\n",
       "\n",
       "    .dataframe thead th {\n",
       "        text-align: right;\n",
       "    }\n",
       "</style>\n",
       "<table border=\"1\" class=\"dataframe\">\n",
       "  <thead>\n",
       "    <tr style=\"text-align: right;\">\n",
       "      <th></th>\n",
       "      <th>firstEditionCount</th>\n",
       "      <th>ormanisDocFreq</th>\n",
       "      <th>taxiDocFreq</th>\n",
       "      <th>ormanisRelDocFreq</th>\n",
       "      <th>taxiRelDocFreq</th>\n",
       "    </tr>\n",
       "    <tr>\n",
       "      <th>year</th>\n",
       "      <th></th>\n",
       "      <th></th>\n",
       "      <th></th>\n",
       "      <th></th>\n",
       "      <th></th>\n",
       "    </tr>\n",
       "  </thead>\n",
       "  <tbody>\n",
       "    <tr>\n",
       "      <th>1879</th>\n",
       "      <td>2</td>\n",
       "      <td>1.0</td>\n",
       "      <td>0.0</td>\n",
       "      <td>0.500000</td>\n",
       "      <td>0.0</td>\n",
       "    </tr>\n",
       "    <tr>\n",
       "      <th>1890</th>\n",
       "      <td>1</td>\n",
       "      <td>0.0</td>\n",
       "      <td>0.0</td>\n",
       "      <td>0.000000</td>\n",
       "      <td>0.0</td>\n",
       "    </tr>\n",
       "    <tr>\n",
       "      <th>1891</th>\n",
       "      <td>3</td>\n",
       "      <td>1.0</td>\n",
       "      <td>0.0</td>\n",
       "      <td>0.333333</td>\n",
       "      <td>0.0</td>\n",
       "    </tr>\n",
       "    <tr>\n",
       "      <th>1892</th>\n",
       "      <td>1</td>\n",
       "      <td>1.0</td>\n",
       "      <td>0.0</td>\n",
       "      <td>1.000000</td>\n",
       "      <td>0.0</td>\n",
       "    </tr>\n",
       "    <tr>\n",
       "      <th>1893</th>\n",
       "      <td>1</td>\n",
       "      <td>0.0</td>\n",
       "      <td>0.0</td>\n",
       "      <td>0.000000</td>\n",
       "      <td>0.0</td>\n",
       "    </tr>\n",
       "    <tr>\n",
       "      <th>1895</th>\n",
       "      <td>3</td>\n",
       "      <td>1.0</td>\n",
       "      <td>0.0</td>\n",
       "      <td>0.333333</td>\n",
       "      <td>0.0</td>\n",
       "    </tr>\n",
       "    <tr>\n",
       "      <th>1899</th>\n",
       "      <td>1</td>\n",
       "      <td>1.0</td>\n",
       "      <td>0.0</td>\n",
       "      <td>1.000000</td>\n",
       "      <td>0.0</td>\n",
       "    </tr>\n",
       "    <tr>\n",
       "      <th>1900</th>\n",
       "      <td>1</td>\n",
       "      <td>1.0</td>\n",
       "      <td>0.0</td>\n",
       "      <td>1.000000</td>\n",
       "      <td>0.0</td>\n",
       "    </tr>\n",
       "    <tr>\n",
       "      <th>1901</th>\n",
       "      <td>1</td>\n",
       "      <td>1.0</td>\n",
       "      <td>0.0</td>\n",
       "      <td>1.000000</td>\n",
       "      <td>0.0</td>\n",
       "    </tr>\n",
       "    <tr>\n",
       "      <th>1902</th>\n",
       "      <td>2</td>\n",
       "      <td>2.0</td>\n",
       "      <td>0.0</td>\n",
       "      <td>1.000000</td>\n",
       "      <td>0.0</td>\n",
       "    </tr>\n",
       "  </tbody>\n",
       "</table>\n",
       "</div>"
      ],
      "text/plain": [
       "      firstEditionCount  ormanisDocFreq  taxiDocFreq  ormanisRelDocFreq  \\\n",
       "year                                                                      \n",
       "1879                  2             1.0          0.0           0.500000   \n",
       "1890                  1             0.0          0.0           0.000000   \n",
       "1891                  3             1.0          0.0           0.333333   \n",
       "1892                  1             1.0          0.0           1.000000   \n",
       "1893                  1             0.0          0.0           0.000000   \n",
       "1895                  3             1.0          0.0           0.333333   \n",
       "1899                  1             1.0          0.0           1.000000   \n",
       "1900                  1             1.0          0.0           1.000000   \n",
       "1901                  1             1.0          0.0           1.000000   \n",
       "1902                  2             2.0          0.0           1.000000   \n",
       "\n",
       "      taxiRelDocFreq  \n",
       "year                  \n",
       "1879             0.0  \n",
       "1890             0.0  \n",
       "1891             0.0  \n",
       "1892             0.0  \n",
       "1893             0.0  \n",
       "1895             0.0  \n",
       "1899             0.0  \n",
       "1900             0.0  \n",
       "1901             0.0  \n",
       "1902             0.0  "
      ]
     },
     "execution_count": 46,
     "metadata": {},
     "output_type": "execute_result"
    }
   ],
   "source": [
    "# let's calculate relative frequencies for ormanis and taxi\n",
    "first_edition_over_years_df[\"ormanisRelDocFreq\"] = first_edition_over_years_df[\"ormanisDocFreq\"] / first_edition_over_years_df[\"firstEditionCount\"]\n",
    "first_edition_over_years_df[\"taxiRelDocFreq\"] = first_edition_over_years_df[\"taxiDocFreq\"] / first_edition_over_years_df[\"firstEditionCount\"]\n",
    "# show the first 10\n",
    "first_edition_over_years_df.head(10)\n"
   ]
  },
  {
   "cell_type": "code",
   "execution_count": 47,
   "id": "996fd67b",
   "metadata": {},
   "outputs": [
    {
     "data": {
      "text/html": [
       "<div>\n",
       "<style scoped>\n",
       "    .dataframe tbody tr th:only-of-type {\n",
       "        vertical-align: middle;\n",
       "    }\n",
       "\n",
       "    .dataframe tbody tr th {\n",
       "        vertical-align: top;\n",
       "    }\n",
       "\n",
       "    .dataframe thead th {\n",
       "        text-align: right;\n",
       "    }\n",
       "</style>\n",
       "<table border=\"1\" class=\"dataframe\">\n",
       "  <thead>\n",
       "    <tr style=\"text-align: right;\">\n",
       "      <th></th>\n",
       "      <th>firstEditionCount</th>\n",
       "      <th>ormanisDocFreq</th>\n",
       "      <th>ormanisRelDocFreq</th>\n",
       "      <th>taxiDocFreq</th>\n",
       "      <th>taxiRelDocFreq</th>\n",
       "    </tr>\n",
       "    <tr>\n",
       "      <th>year</th>\n",
       "      <th></th>\n",
       "      <th></th>\n",
       "      <th></th>\n",
       "      <th></th>\n",
       "      <th></th>\n",
       "    </tr>\n",
       "  </thead>\n",
       "  <tbody>\n",
       "    <tr>\n",
       "      <th>1879</th>\n",
       "      <td>2</td>\n",
       "      <td>1.0</td>\n",
       "      <td>0.500000</td>\n",
       "      <td>0.0</td>\n",
       "      <td>0.0</td>\n",
       "    </tr>\n",
       "    <tr>\n",
       "      <th>1890</th>\n",
       "      <td>1</td>\n",
       "      <td>0.0</td>\n",
       "      <td>0.000000</td>\n",
       "      <td>0.0</td>\n",
       "      <td>0.0</td>\n",
       "    </tr>\n",
       "    <tr>\n",
       "      <th>1891</th>\n",
       "      <td>3</td>\n",
       "      <td>1.0</td>\n",
       "      <td>0.333333</td>\n",
       "      <td>0.0</td>\n",
       "      <td>0.0</td>\n",
       "    </tr>\n",
       "    <tr>\n",
       "      <th>1892</th>\n",
       "      <td>1</td>\n",
       "      <td>1.0</td>\n",
       "      <td>1.000000</td>\n",
       "      <td>0.0</td>\n",
       "      <td>0.0</td>\n",
       "    </tr>\n",
       "    <tr>\n",
       "      <th>1893</th>\n",
       "      <td>1</td>\n",
       "      <td>0.0</td>\n",
       "      <td>0.000000</td>\n",
       "      <td>0.0</td>\n",
       "      <td>0.0</td>\n",
       "    </tr>\n",
       "    <tr>\n",
       "      <th>1895</th>\n",
       "      <td>3</td>\n",
       "      <td>1.0</td>\n",
       "      <td>0.333333</td>\n",
       "      <td>0.0</td>\n",
       "      <td>0.0</td>\n",
       "    </tr>\n",
       "    <tr>\n",
       "      <th>1899</th>\n",
       "      <td>1</td>\n",
       "      <td>1.0</td>\n",
       "      <td>1.000000</td>\n",
       "      <td>0.0</td>\n",
       "      <td>0.0</td>\n",
       "    </tr>\n",
       "    <tr>\n",
       "      <th>1900</th>\n",
       "      <td>1</td>\n",
       "      <td>1.0</td>\n",
       "      <td>1.000000</td>\n",
       "      <td>0.0</td>\n",
       "      <td>0.0</td>\n",
       "    </tr>\n",
       "    <tr>\n",
       "      <th>1901</th>\n",
       "      <td>1</td>\n",
       "      <td>1.0</td>\n",
       "      <td>1.000000</td>\n",
       "      <td>0.0</td>\n",
       "      <td>0.0</td>\n",
       "    </tr>\n",
       "    <tr>\n",
       "      <th>1902</th>\n",
       "      <td>2</td>\n",
       "      <td>2.0</td>\n",
       "      <td>1.000000</td>\n",
       "      <td>0.0</td>\n",
       "      <td>0.0</td>\n",
       "    </tr>\n",
       "  </tbody>\n",
       "</table>\n",
       "</div>"
      ],
      "text/plain": [
       "      firstEditionCount  ormanisDocFreq  ormanisRelDocFreq  taxiDocFreq  \\\n",
       "year                                                                      \n",
       "1879                  2             1.0           0.500000          0.0   \n",
       "1890                  1             0.0           0.000000          0.0   \n",
       "1891                  3             1.0           0.333333          0.0   \n",
       "1892                  1             1.0           1.000000          0.0   \n",
       "1893                  1             0.0           0.000000          0.0   \n",
       "1895                  3             1.0           0.333333          0.0   \n",
       "1899                  1             1.0           1.000000          0.0   \n",
       "1900                  1             1.0           1.000000          0.0   \n",
       "1901                  1             1.0           1.000000          0.0   \n",
       "1902                  2             2.0           1.000000          0.0   \n",
       "\n",
       "      taxiRelDocFreq  \n",
       "year                  \n",
       "1879             0.0  \n",
       "1890             0.0  \n",
       "1891             0.0  \n",
       "1892             0.0  \n",
       "1893             0.0  \n",
       "1895             0.0  \n",
       "1899             0.0  \n",
       "1900             0.0  \n",
       "1901             0.0  \n",
       "1902             0.0  "
      ]
     },
     "execution_count": 47,
     "metadata": {},
     "output_type": "execute_result"
    }
   ],
   "source": [
    "# now let's rearrange the columns in alphabetical order - this will work nicely in this case\n",
    "first_edition_over_years_df = first_edition_over_years_df[sorted(first_edition_over_years_df.columns)]\n",
    "# show the first 10\n",
    "first_edition_over_years_df.head(10)"
   ]
  },
  {
   "cell_type": "code",
   "execution_count": 48,
   "id": "404ca1bd",
   "metadata": {},
   "outputs": [
    {
     "data": {
      "text/html": [
       "<div>\n",
       "<style scoped>\n",
       "    .dataframe tbody tr th:only-of-type {\n",
       "        vertical-align: middle;\n",
       "    }\n",
       "\n",
       "    .dataframe tbody tr th {\n",
       "        vertical-align: top;\n",
       "    }\n",
       "\n",
       "    .dataframe thead th {\n",
       "        text-align: right;\n",
       "    }\n",
       "</style>\n",
       "<table border=\"1\" class=\"dataframe\">\n",
       "  <thead>\n",
       "    <tr style=\"text-align: right;\">\n",
       "      <th></th>\n",
       "      <th>firstEditionCount</th>\n",
       "      <th>ormanisDocFreq</th>\n",
       "      <th>ormanisRelDocFreq</th>\n",
       "      <th>taxiDocFreq</th>\n",
       "      <th>taxiRelDocFreq</th>\n",
       "    </tr>\n",
       "    <tr>\n",
       "      <th>year</th>\n",
       "      <th></th>\n",
       "      <th></th>\n",
       "      <th></th>\n",
       "      <th></th>\n",
       "      <th></th>\n",
       "    </tr>\n",
       "  </thead>\n",
       "  <tbody>\n",
       "    <tr>\n",
       "      <th>1931</th>\n",
       "      <td>22</td>\n",
       "      <td>12.0</td>\n",
       "      <td>0.545455</td>\n",
       "      <td>8.0</td>\n",
       "      <td>0.363636</td>\n",
       "    </tr>\n",
       "    <tr>\n",
       "      <th>1932</th>\n",
       "      <td>16</td>\n",
       "      <td>10.0</td>\n",
       "      <td>0.625000</td>\n",
       "      <td>6.0</td>\n",
       "      <td>0.375000</td>\n",
       "    </tr>\n",
       "    <tr>\n",
       "      <th>1933</th>\n",
       "      <td>24</td>\n",
       "      <td>14.0</td>\n",
       "      <td>0.583333</td>\n",
       "      <td>5.0</td>\n",
       "      <td>0.208333</td>\n",
       "    </tr>\n",
       "    <tr>\n",
       "      <th>1934</th>\n",
       "      <td>19</td>\n",
       "      <td>7.0</td>\n",
       "      <td>0.368421</td>\n",
       "      <td>3.0</td>\n",
       "      <td>0.157895</td>\n",
       "    </tr>\n",
       "    <tr>\n",
       "      <th>1935</th>\n",
       "      <td>36</td>\n",
       "      <td>17.0</td>\n",
       "      <td>0.472222</td>\n",
       "      <td>6.0</td>\n",
       "      <td>0.166667</td>\n",
       "    </tr>\n",
       "    <tr>\n",
       "      <th>1936</th>\n",
       "      <td>45</td>\n",
       "      <td>25.0</td>\n",
       "      <td>0.555556</td>\n",
       "      <td>8.0</td>\n",
       "      <td>0.177778</td>\n",
       "    </tr>\n",
       "    <tr>\n",
       "      <th>1937</th>\n",
       "      <td>27</td>\n",
       "      <td>10.0</td>\n",
       "      <td>0.370370</td>\n",
       "      <td>6.0</td>\n",
       "      <td>0.222222</td>\n",
       "    </tr>\n",
       "    <tr>\n",
       "      <th>1938</th>\n",
       "      <td>36</td>\n",
       "      <td>11.0</td>\n",
       "      <td>0.305556</td>\n",
       "      <td>5.0</td>\n",
       "      <td>0.138889</td>\n",
       "    </tr>\n",
       "    <tr>\n",
       "      <th>1939</th>\n",
       "      <td>27</td>\n",
       "      <td>12.0</td>\n",
       "      <td>0.444444</td>\n",
       "      <td>9.0</td>\n",
       "      <td>0.333333</td>\n",
       "    </tr>\n",
       "    <tr>\n",
       "      <th>1940</th>\n",
       "      <td>16</td>\n",
       "      <td>4.0</td>\n",
       "      <td>0.250000</td>\n",
       "      <td>6.0</td>\n",
       "      <td>0.375000</td>\n",
       "    </tr>\n",
       "  </tbody>\n",
       "</table>\n",
       "</div>"
      ],
      "text/plain": [
       "      firstEditionCount  ormanisDocFreq  ormanisRelDocFreq  taxiDocFreq  \\\n",
       "year                                                                      \n",
       "1931                 22            12.0           0.545455          8.0   \n",
       "1932                 16            10.0           0.625000          6.0   \n",
       "1933                 24            14.0           0.583333          5.0   \n",
       "1934                 19             7.0           0.368421          3.0   \n",
       "1935                 36            17.0           0.472222          6.0   \n",
       "1936                 45            25.0           0.555556          8.0   \n",
       "1937                 27            10.0           0.370370          6.0   \n",
       "1938                 36            11.0           0.305556          5.0   \n",
       "1939                 27            12.0           0.444444          9.0   \n",
       "1940                 16             4.0           0.250000          6.0   \n",
       "\n",
       "      taxiRelDocFreq  \n",
       "year                  \n",
       "1931        0.363636  \n",
       "1932        0.375000  \n",
       "1933        0.208333  \n",
       "1934        0.157895  \n",
       "1935        0.166667  \n",
       "1936        0.177778  \n",
       "1937        0.222222  \n",
       "1938        0.138889  \n",
       "1939        0.333333  \n",
       "1940        0.375000  "
      ]
     },
     "execution_count": 48,
     "metadata": {},
     "output_type": "execute_result"
    }
   ],
   "source": [
    "# tail\n",
    "first_edition_over_years_df.tail(10)"
   ]
  },
  {
   "cell_type": "markdown",
   "id": "da7719a9",
   "metadata": {},
   "source": [
    "### Saving combined taxi and ormani df to parquet and csv"
   ]
  },
  {
   "cell_type": "code",
   "execution_count": 49,
   "id": "dbd7f943",
   "metadata": {},
   "outputs": [],
   "source": [
    "# let's save first_edition_over_years_df to parquet\n",
    "first_edition_over_years_df.to_parquet(\"../parquet/first_edition_ormanis_taxi_over_years.parquet\", index=True)\n",
    "# let's save first_edition_over_years_df to csv\n",
    "first_edition_over_years_df.to_csv(\"../csv/first_edition_ormanis_taxi_over_years.csv\", index=True)"
   ]
  },
  {
   "cell_type": "markdown",
   "id": "c5e28a49",
   "metadata": {},
   "source": [
    "## Loading ormanis taxi from parquet for plotting"
   ]
  },
  {
   "cell_type": "code",
   "execution_count": null,
   "id": "15333d4d",
   "metadata": {},
   "outputs": [
    {
     "name": "stdout",
     "output_type": "stream",
     "text": [
      "ormanis_taxi_df.shape: (44, 5)\n"
     ]
    },
    {
     "data": {
      "text/html": [
       "<div>\n",
       "<style scoped>\n",
       "    .dataframe tbody tr th:only-of-type {\n",
       "        vertical-align: middle;\n",
       "    }\n",
       "\n",
       "    .dataframe tbody tr th {\n",
       "        vertical-align: top;\n",
       "    }\n",
       "\n",
       "    .dataframe thead th {\n",
       "        text-align: right;\n",
       "    }\n",
       "</style>\n",
       "<table border=\"1\" class=\"dataframe\">\n",
       "  <thead>\n",
       "    <tr style=\"text-align: right;\">\n",
       "      <th></th>\n",
       "      <th>firstEditionCount</th>\n",
       "      <th>ormanisDocFreq</th>\n",
       "      <th>ormanisRelDocFreq</th>\n",
       "      <th>taxiDocFreq</th>\n",
       "      <th>taxiRelDocFreq</th>\n",
       "    </tr>\n",
       "    <tr>\n",
       "      <th>year</th>\n",
       "      <th></th>\n",
       "      <th></th>\n",
       "      <th></th>\n",
       "      <th></th>\n",
       "      <th></th>\n",
       "    </tr>\n",
       "  </thead>\n",
       "  <tbody>\n",
       "    <tr>\n",
       "      <th>1931</th>\n",
       "      <td>22</td>\n",
       "      <td>12.0</td>\n",
       "      <td>0.545455</td>\n",
       "      <td>8.0</td>\n",
       "      <td>0.363636</td>\n",
       "    </tr>\n",
       "    <tr>\n",
       "      <th>1932</th>\n",
       "      <td>16</td>\n",
       "      <td>10.0</td>\n",
       "      <td>0.625000</td>\n",
       "      <td>6.0</td>\n",
       "      <td>0.375000</td>\n",
       "    </tr>\n",
       "    <tr>\n",
       "      <th>1933</th>\n",
       "      <td>24</td>\n",
       "      <td>14.0</td>\n",
       "      <td>0.583333</td>\n",
       "      <td>5.0</td>\n",
       "      <td>0.208333</td>\n",
       "    </tr>\n",
       "    <tr>\n",
       "      <th>1934</th>\n",
       "      <td>19</td>\n",
       "      <td>7.0</td>\n",
       "      <td>0.368421</td>\n",
       "      <td>3.0</td>\n",
       "      <td>0.157895</td>\n",
       "    </tr>\n",
       "    <tr>\n",
       "      <th>1935</th>\n",
       "      <td>36</td>\n",
       "      <td>17.0</td>\n",
       "      <td>0.472222</td>\n",
       "      <td>6.0</td>\n",
       "      <td>0.166667</td>\n",
       "    </tr>\n",
       "    <tr>\n",
       "      <th>1936</th>\n",
       "      <td>45</td>\n",
       "      <td>25.0</td>\n",
       "      <td>0.555556</td>\n",
       "      <td>8.0</td>\n",
       "      <td>0.177778</td>\n",
       "    </tr>\n",
       "    <tr>\n",
       "      <th>1937</th>\n",
       "      <td>27</td>\n",
       "      <td>10.0</td>\n",
       "      <td>0.370370</td>\n",
       "      <td>6.0</td>\n",
       "      <td>0.222222</td>\n",
       "    </tr>\n",
       "    <tr>\n",
       "      <th>1938</th>\n",
       "      <td>36</td>\n",
       "      <td>11.0</td>\n",
       "      <td>0.305556</td>\n",
       "      <td>5.0</td>\n",
       "      <td>0.138889</td>\n",
       "    </tr>\n",
       "    <tr>\n",
       "      <th>1939</th>\n",
       "      <td>27</td>\n",
       "      <td>12.0</td>\n",
       "      <td>0.444444</td>\n",
       "      <td>9.0</td>\n",
       "      <td>0.333333</td>\n",
       "    </tr>\n",
       "    <tr>\n",
       "      <th>1940</th>\n",
       "      <td>16</td>\n",
       "      <td>4.0</td>\n",
       "      <td>0.250000</td>\n",
       "      <td>6.0</td>\n",
       "      <td>0.375000</td>\n",
       "    </tr>\n",
       "  </tbody>\n",
       "</table>\n",
       "</div>"
      ],
      "text/plain": [
       "      firstEditionCount  ormanisDocFreq  ormanisRelDocFreq  taxiDocFreq  \\\n",
       "year                                                                      \n",
       "1931                 22            12.0           0.545455          8.0   \n",
       "1932                 16            10.0           0.625000          6.0   \n",
       "1933                 24            14.0           0.583333          5.0   \n",
       "1934                 19             7.0           0.368421          3.0   \n",
       "1935                 36            17.0           0.472222          6.0   \n",
       "1936                 45            25.0           0.555556          8.0   \n",
       "1937                 27            10.0           0.370370          6.0   \n",
       "1938                 36            11.0           0.305556          5.0   \n",
       "1939                 27            12.0           0.444444          9.0   \n",
       "1940                 16             4.0           0.250000          6.0   \n",
       "\n",
       "      taxiRelDocFreq  \n",
       "year                  \n",
       "1931        0.363636  \n",
       "1932        0.375000  \n",
       "1933        0.208333  \n",
       "1934        0.157895  \n",
       "1935        0.166667  \n",
       "1936        0.177778  \n",
       "1937        0.222222  \n",
       "1938        0.138889  \n",
       "1939        0.333333  \n",
       "1940        0.375000  "
      ]
     },
     "execution_count": 2,
     "metadata": {},
     "output_type": "execute_result"
    }
   ],
   "source": [
    "ormanis_taxi_df  = pd.read_parquet(\"../parquet/first_edition_ormanis_taxi_over_years.parquet\")\n",
    "# let's assert that it is equal to the one we just saved - we will not need to check again\n",
    "# assert first_edition_over_years_df.equals(ormanis_taxi_df), \"Dataframes are not equal\"\n",
    "\n",
    "# print shape\n",
    "print(f\"ormanis_taxi_df.shape: {ormanis_taxi_df.shape}\")\n",
    "# tail\n",
    "ormanis_taxi_df.tail(10)"
   ]
  },
  {
   "cell_type": "code",
   "execution_count": 4,
   "id": "a7e8d8d7",
   "metadata": {},
   "outputs": [
    {
     "name": "stdout",
     "output_type": "stream",
     "text": [
      "ormanis_taxi_df.columns: Index(['firstEditionCount', 'ormanisDocFreq', 'ormanisRelDocFreq',\n",
      "       'taxiDocFreq', 'taxiRelDocFreq'],\n",
      "      dtype='object')\n"
     ]
    }
   ],
   "source": [
    "# columns\n",
    "print(f\"ormanis_taxi_df.columns: {ormanis_taxi_df.columns}\")"
   ]
  },
  {
   "cell_type": "markdown",
   "id": "14a88201",
   "metadata": {},
   "source": [
    "## Plotting ormanixs and taksometrs over years\n",
    "\n",
    "### Colors"
   ]
  },
  {
   "cell_type": "code",
   "execution_count": null,
   "id": "9289a51f",
   "metadata": {},
   "outputs": [
    {
     "name": "stdout",
     "output_type": "stream",
     "text": [
      "moto_color: rgb(0, 61, 165)\n",
      "horse_color: rgb(255, 194, 90)\n"
     ]
    }
   ],
   "source": []
  },
  {
   "cell_type": "code",
   "execution_count": 22,
   "id": "7d7f9b3a",
   "metadata": {},
   "outputs": [
    {
     "name": "stdout",
     "output_type": "stream",
     "text": [
      "moto_color: rgb(0, 61, 165)\n",
      "horse_color: rgb(255, 194, 90)\n"
     ]
    },
    {
     "data": {
      "application/vnd.plotly.v1+json": {
       "config": {
        "plotlyServerURL": "https://plot.ly"
       },
       "data": [
        {
         "hovertemplate": "variable=horse-drawn cab<br>year=%{x}<br>value=%{y}<extra></extra>",
         "legendgroup": "horse-drawn cab",
         "line": {
          "color": "rgb(255, 194, 90)",
          "dash": "solid",
          "width": 6
         },
         "marker": {
          "color": "rgb(255, 194, 90)",
          "symbol": "circle"
         },
         "mode": "lines",
         "name": "horse-drawn cab",
         "orientation": "v",
         "showlegend": true,
         "type": "scatter",
         "x": [
          1879,
          1890,
          1891,
          1892,
          1893,
          1895,
          1899,
          1900,
          1901,
          1902,
          1903,
          1904,
          1905,
          1907,
          1908,
          1909,
          1910,
          1911,
          1912,
          1913,
          1914,
          1915,
          1919,
          1920,
          1921,
          1922,
          1923,
          1924,
          1925,
          1926,
          1927,
          1928,
          1929,
          1930,
          1931,
          1932,
          1933,
          1934,
          1935,
          1936,
          1937,
          1938,
          1939,
          1940
         ],
         "xaxis": "x",
         "y": [
          0.5,
          0,
          0.3333333333333333,
          1,
          0,
          0.3333333333333333,
          1,
          1,
          1,
          1,
          0,
          0.6666666666666666,
          1,
          0.6666666666666666,
          0.6666666666666666,
          0.25,
          0.5,
          0.6666666666666666,
          0.8333333333333334,
          1,
          0.5,
          0,
          1,
          0.75,
          0.4666666666666667,
          0.625,
          0.42857142857142855,
          0.6666666666666666,
          0.7142857142857143,
          0.6666666666666666,
          0.6875,
          0.6875,
          0.5,
          0.47619047619047616,
          0.5454545454545454,
          0.625,
          0.5833333333333334,
          0.3684210526315789,
          0.4722222222222222,
          0.5555555555555556,
          0.37037037037037035,
          0.3055555555555556,
          0.4444444444444444,
          0.25
         ],
         "yaxis": "y"
        },
        {
         "hovertemplate": "variable=taxi<br>year=%{x}<br>value=%{y}<extra></extra>",
         "legendgroup": "taxi",
         "line": {
          "color": "rgb(0, 61, 165)",
          "dash": "solid",
          "width": 6
         },
         "marker": {
          "color": "rgb(0, 61, 165)",
          "symbol": "circle"
         },
         "mode": "lines",
         "name": "taxi",
         "orientation": "v",
         "showlegend": true,
         "type": "scatter",
         "x": [
          1879,
          1890,
          1891,
          1892,
          1893,
          1895,
          1899,
          1900,
          1901,
          1902,
          1903,
          1904,
          1905,
          1907,
          1908,
          1909,
          1910,
          1911,
          1912,
          1913,
          1914,
          1915,
          1919,
          1920,
          1921,
          1922,
          1923,
          1924,
          1925,
          1926,
          1927,
          1928,
          1929,
          1930,
          1931,
          1932,
          1933,
          1934,
          1935,
          1936,
          1937,
          1938,
          1939,
          1940
         ],
         "xaxis": "x",
         "y": [
          0,
          0,
          0,
          0,
          0,
          0,
          0,
          0,
          0,
          0,
          0,
          0,
          0,
          0,
          0,
          0,
          0,
          0,
          0,
          0,
          0,
          0,
          0,
          0,
          0,
          0,
          0,
          0.06666666666666667,
          0.14285714285714285,
          0.05555555555555555,
          0.25,
          0.25,
          0.16666666666666666,
          0.23809523809523808,
          0.36363636363636365,
          0.375,
          0.20833333333333334,
          0.15789473684210525,
          0.16666666666666666,
          0.17777777777777778,
          0.2222222222222222,
          0.1388888888888889,
          0.3333333333333333,
          0.375
         ],
         "yaxis": "y"
        }
       ],
       "layout": {
        "font": {
         "size": 18
        },
        "height": 765,
        "legend": {
         "font": {
          "color": "rgb(0, 61, 165)",
          "size": 18
         },
         "title": {
          "text": ""
         },
         "tracegroupgap": 0,
         "x": 0,
         "xanchor": "left",
         "y": 1.1,
         "yanchor": "top"
        },
        "margin": {
         "b": 75,
         "l": 75,
         "r": 75,
         "t": 75
        },
        "showlegend": true,
        "template": {
         "data": {
          "bar": [
           {
            "error_x": {
             "color": "#2a3f5f"
            },
            "error_y": {
             "color": "#2a3f5f"
            },
            "marker": {
             "line": {
              "color": "#E5ECF6",
              "width": 0.5
             },
             "pattern": {
              "fillmode": "overlay",
              "size": 10,
              "solidity": 0.2
             }
            },
            "type": "bar"
           }
          ],
          "barpolar": [
           {
            "marker": {
             "line": {
              "color": "#E5ECF6",
              "width": 0.5
             },
             "pattern": {
              "fillmode": "overlay",
              "size": 10,
              "solidity": 0.2
             }
            },
            "type": "barpolar"
           }
          ],
          "carpet": [
           {
            "aaxis": {
             "endlinecolor": "#2a3f5f",
             "gridcolor": "white",
             "linecolor": "white",
             "minorgridcolor": "white",
             "startlinecolor": "#2a3f5f"
            },
            "baxis": {
             "endlinecolor": "#2a3f5f",
             "gridcolor": "white",
             "linecolor": "white",
             "minorgridcolor": "white",
             "startlinecolor": "#2a3f5f"
            },
            "type": "carpet"
           }
          ],
          "choropleth": [
           {
            "colorbar": {
             "outlinewidth": 0,
             "ticks": ""
            },
            "type": "choropleth"
           }
          ],
          "contour": [
           {
            "colorbar": {
             "outlinewidth": 0,
             "ticks": ""
            },
            "colorscale": [
             [
              0,
              "#0d0887"
             ],
             [
              0.1111111111111111,
              "#46039f"
             ],
             [
              0.2222222222222222,
              "#7201a8"
             ],
             [
              0.3333333333333333,
              "#9c179e"
             ],
             [
              0.4444444444444444,
              "#bd3786"
             ],
             [
              0.5555555555555556,
              "#d8576b"
             ],
             [
              0.6666666666666666,
              "#ed7953"
             ],
             [
              0.7777777777777778,
              "#fb9f3a"
             ],
             [
              0.8888888888888888,
              "#fdca26"
             ],
             [
              1,
              "#f0f921"
             ]
            ],
            "type": "contour"
           }
          ],
          "contourcarpet": [
           {
            "colorbar": {
             "outlinewidth": 0,
             "ticks": ""
            },
            "type": "contourcarpet"
           }
          ],
          "heatmap": [
           {
            "colorbar": {
             "outlinewidth": 0,
             "ticks": ""
            },
            "colorscale": [
             [
              0,
              "#0d0887"
             ],
             [
              0.1111111111111111,
              "#46039f"
             ],
             [
              0.2222222222222222,
              "#7201a8"
             ],
             [
              0.3333333333333333,
              "#9c179e"
             ],
             [
              0.4444444444444444,
              "#bd3786"
             ],
             [
              0.5555555555555556,
              "#d8576b"
             ],
             [
              0.6666666666666666,
              "#ed7953"
             ],
             [
              0.7777777777777778,
              "#fb9f3a"
             ],
             [
              0.8888888888888888,
              "#fdca26"
             ],
             [
              1,
              "#f0f921"
             ]
            ],
            "type": "heatmap"
           }
          ],
          "heatmapgl": [
           {
            "colorbar": {
             "outlinewidth": 0,
             "ticks": ""
            },
            "colorscale": [
             [
              0,
              "#0d0887"
             ],
             [
              0.1111111111111111,
              "#46039f"
             ],
             [
              0.2222222222222222,
              "#7201a8"
             ],
             [
              0.3333333333333333,
              "#9c179e"
             ],
             [
              0.4444444444444444,
              "#bd3786"
             ],
             [
              0.5555555555555556,
              "#d8576b"
             ],
             [
              0.6666666666666666,
              "#ed7953"
             ],
             [
              0.7777777777777778,
              "#fb9f3a"
             ],
             [
              0.8888888888888888,
              "#fdca26"
             ],
             [
              1,
              "#f0f921"
             ]
            ],
            "type": "heatmapgl"
           }
          ],
          "histogram": [
           {
            "marker": {
             "pattern": {
              "fillmode": "overlay",
              "size": 10,
              "solidity": 0.2
             }
            },
            "type": "histogram"
           }
          ],
          "histogram2d": [
           {
            "colorbar": {
             "outlinewidth": 0,
             "ticks": ""
            },
            "colorscale": [
             [
              0,
              "#0d0887"
             ],
             [
              0.1111111111111111,
              "#46039f"
             ],
             [
              0.2222222222222222,
              "#7201a8"
             ],
             [
              0.3333333333333333,
              "#9c179e"
             ],
             [
              0.4444444444444444,
              "#bd3786"
             ],
             [
              0.5555555555555556,
              "#d8576b"
             ],
             [
              0.6666666666666666,
              "#ed7953"
             ],
             [
              0.7777777777777778,
              "#fb9f3a"
             ],
             [
              0.8888888888888888,
              "#fdca26"
             ],
             [
              1,
              "#f0f921"
             ]
            ],
            "type": "histogram2d"
           }
          ],
          "histogram2dcontour": [
           {
            "colorbar": {
             "outlinewidth": 0,
             "ticks": ""
            },
            "colorscale": [
             [
              0,
              "#0d0887"
             ],
             [
              0.1111111111111111,
              "#46039f"
             ],
             [
              0.2222222222222222,
              "#7201a8"
             ],
             [
              0.3333333333333333,
              "#9c179e"
             ],
             [
              0.4444444444444444,
              "#bd3786"
             ],
             [
              0.5555555555555556,
              "#d8576b"
             ],
             [
              0.6666666666666666,
              "#ed7953"
             ],
             [
              0.7777777777777778,
              "#fb9f3a"
             ],
             [
              0.8888888888888888,
              "#fdca26"
             ],
             [
              1,
              "#f0f921"
             ]
            ],
            "type": "histogram2dcontour"
           }
          ],
          "mesh3d": [
           {
            "colorbar": {
             "outlinewidth": 0,
             "ticks": ""
            },
            "type": "mesh3d"
           }
          ],
          "parcoords": [
           {
            "line": {
             "colorbar": {
              "outlinewidth": 0,
              "ticks": ""
             }
            },
            "type": "parcoords"
           }
          ],
          "pie": [
           {
            "automargin": true,
            "type": "pie"
           }
          ],
          "scatter": [
           {
            "fillpattern": {
             "fillmode": "overlay",
             "size": 10,
             "solidity": 0.2
            },
            "type": "scatter"
           }
          ],
          "scatter3d": [
           {
            "line": {
             "colorbar": {
              "outlinewidth": 0,
              "ticks": ""
             }
            },
            "marker": {
             "colorbar": {
              "outlinewidth": 0,
              "ticks": ""
             }
            },
            "type": "scatter3d"
           }
          ],
          "scattercarpet": [
           {
            "marker": {
             "colorbar": {
              "outlinewidth": 0,
              "ticks": ""
             }
            },
            "type": "scattercarpet"
           }
          ],
          "scattergeo": [
           {
            "marker": {
             "colorbar": {
              "outlinewidth": 0,
              "ticks": ""
             }
            },
            "type": "scattergeo"
           }
          ],
          "scattergl": [
           {
            "marker": {
             "colorbar": {
              "outlinewidth": 0,
              "ticks": ""
             }
            },
            "type": "scattergl"
           }
          ],
          "scattermapbox": [
           {
            "marker": {
             "colorbar": {
              "outlinewidth": 0,
              "ticks": ""
             }
            },
            "type": "scattermapbox"
           }
          ],
          "scatterpolar": [
           {
            "marker": {
             "colorbar": {
              "outlinewidth": 0,
              "ticks": ""
             }
            },
            "type": "scatterpolar"
           }
          ],
          "scatterpolargl": [
           {
            "marker": {
             "colorbar": {
              "outlinewidth": 0,
              "ticks": ""
             }
            },
            "type": "scatterpolargl"
           }
          ],
          "scatterternary": [
           {
            "marker": {
             "colorbar": {
              "outlinewidth": 0,
              "ticks": ""
             }
            },
            "type": "scatterternary"
           }
          ],
          "surface": [
           {
            "colorbar": {
             "outlinewidth": 0,
             "ticks": ""
            },
            "colorscale": [
             [
              0,
              "#0d0887"
             ],
             [
              0.1111111111111111,
              "#46039f"
             ],
             [
              0.2222222222222222,
              "#7201a8"
             ],
             [
              0.3333333333333333,
              "#9c179e"
             ],
             [
              0.4444444444444444,
              "#bd3786"
             ],
             [
              0.5555555555555556,
              "#d8576b"
             ],
             [
              0.6666666666666666,
              "#ed7953"
             ],
             [
              0.7777777777777778,
              "#fb9f3a"
             ],
             [
              0.8888888888888888,
              "#fdca26"
             ],
             [
              1,
              "#f0f921"
             ]
            ],
            "type": "surface"
           }
          ],
          "table": [
           {
            "cells": {
             "fill": {
              "color": "#EBF0F8"
             },
             "line": {
              "color": "white"
             }
            },
            "header": {
             "fill": {
              "color": "#C8D4E3"
             },
             "line": {
              "color": "white"
             }
            },
            "type": "table"
           }
          ]
         },
         "layout": {
          "annotationdefaults": {
           "arrowcolor": "#2a3f5f",
           "arrowhead": 0,
           "arrowwidth": 1
          },
          "autotypenumbers": "strict",
          "coloraxis": {
           "colorbar": {
            "outlinewidth": 0,
            "ticks": ""
           }
          },
          "colorscale": {
           "diverging": [
            [
             0,
             "#8e0152"
            ],
            [
             0.1,
             "#c51b7d"
            ],
            [
             0.2,
             "#de77ae"
            ],
            [
             0.3,
             "#f1b6da"
            ],
            [
             0.4,
             "#fde0ef"
            ],
            [
             0.5,
             "#f7f7f7"
            ],
            [
             0.6,
             "#e6f5d0"
            ],
            [
             0.7,
             "#b8e186"
            ],
            [
             0.8,
             "#7fbc41"
            ],
            [
             0.9,
             "#4d9221"
            ],
            [
             1,
             "#276419"
            ]
           ],
           "sequential": [
            [
             0,
             "#0d0887"
            ],
            [
             0.1111111111111111,
             "#46039f"
            ],
            [
             0.2222222222222222,
             "#7201a8"
            ],
            [
             0.3333333333333333,
             "#9c179e"
            ],
            [
             0.4444444444444444,
             "#bd3786"
            ],
            [
             0.5555555555555556,
             "#d8576b"
            ],
            [
             0.6666666666666666,
             "#ed7953"
            ],
            [
             0.7777777777777778,
             "#fb9f3a"
            ],
            [
             0.8888888888888888,
             "#fdca26"
            ],
            [
             1,
             "#f0f921"
            ]
           ],
           "sequentialminus": [
            [
             0,
             "#0d0887"
            ],
            [
             0.1111111111111111,
             "#46039f"
            ],
            [
             0.2222222222222222,
             "#7201a8"
            ],
            [
             0.3333333333333333,
             "#9c179e"
            ],
            [
             0.4444444444444444,
             "#bd3786"
            ],
            [
             0.5555555555555556,
             "#d8576b"
            ],
            [
             0.6666666666666666,
             "#ed7953"
            ],
            [
             0.7777777777777778,
             "#fb9f3a"
            ],
            [
             0.8888888888888888,
             "#fdca26"
            ],
            [
             1,
             "#f0f921"
            ]
           ]
          },
          "colorway": [
           "#636efa",
           "#EF553B",
           "#00cc96",
           "#ab63fa",
           "#FFA15A",
           "#19d3f3",
           "#FF6692",
           "#B6E880",
           "#FF97FF",
           "#FECB52"
          ],
          "font": {
           "color": "#2a3f5f"
          },
          "geo": {
           "bgcolor": "white",
           "lakecolor": "white",
           "landcolor": "#E5ECF6",
           "showlakes": true,
           "showland": true,
           "subunitcolor": "white"
          },
          "hoverlabel": {
           "align": "left"
          },
          "hovermode": "closest",
          "mapbox": {
           "style": "light"
          },
          "paper_bgcolor": "white",
          "plot_bgcolor": "#E5ECF6",
          "polar": {
           "angularaxis": {
            "gridcolor": "white",
            "linecolor": "white",
            "ticks": ""
           },
           "bgcolor": "#E5ECF6",
           "radialaxis": {
            "gridcolor": "white",
            "linecolor": "white",
            "ticks": ""
           }
          },
          "scene": {
           "xaxis": {
            "backgroundcolor": "#E5ECF6",
            "gridcolor": "white",
            "gridwidth": 2,
            "linecolor": "white",
            "showbackground": true,
            "ticks": "",
            "zerolinecolor": "white"
           },
           "yaxis": {
            "backgroundcolor": "#E5ECF6",
            "gridcolor": "white",
            "gridwidth": 2,
            "linecolor": "white",
            "showbackground": true,
            "ticks": "",
            "zerolinecolor": "white"
           },
           "zaxis": {
            "backgroundcolor": "#E5ECF6",
            "gridcolor": "white",
            "gridwidth": 2,
            "linecolor": "white",
            "showbackground": true,
            "ticks": "",
            "zerolinecolor": "white"
           }
          },
          "shapedefaults": {
           "line": {
            "color": "#2a3f5f"
           }
          },
          "ternary": {
           "aaxis": {
            "gridcolor": "white",
            "linecolor": "white",
            "ticks": ""
           },
           "baxis": {
            "gridcolor": "white",
            "linecolor": "white",
            "ticks": ""
           },
           "bgcolor": "#E5ECF6",
           "caxis": {
            "gridcolor": "white",
            "linecolor": "white",
            "ticks": ""
           }
          },
          "title": {
           "x": 0.05
          },
          "xaxis": {
           "automargin": true,
           "gridcolor": "white",
           "linecolor": "white",
           "ticks": "",
           "title": {
            "standoff": 15
           },
           "zerolinecolor": "white",
           "zerolinewidth": 2
          },
          "yaxis": {
           "automargin": true,
           "gridcolor": "white",
           "linecolor": "white",
           "ticks": "",
           "title": {
            "standoff": 15
           },
           "zerolinecolor": "white",
           "zerolinewidth": 2
          }
         }
        },
        "title": {
         "text": ""
        },
        "width": 1110,
        "xaxis": {
         "anchor": "y",
         "domain": [
          0,
          1
         ],
         "title": {
          "text": "Year"
         }
        },
        "yaxis": {
         "anchor": "x",
         "domain": [
          0,
          1
         ],
         "title": {
          "text": "Relative Document Frequency"
         }
        }
       }
      }
     },
     "metadata": {},
     "output_type": "display_data"
    }
   ],
   "source": [
    "# let's plot ormanisRelDocFreq and taxiRelDocFreq over the years - which is the index for this dataframe\n",
    "# we want to use horse_color for ormanis and moto_color for taxi\n",
    "# we will use plotly express for this\n",
    "moto_color = \"rgb(0, 61, 165)\" # Pantone 293\n",
    "horse_color = \"rgb(255, 194, 90)\" # complimentary color to Pantone 293\n",
    "print(f\"moto_color: {moto_color}\")\n",
    "print(f\"horse_color: {horse_color}\")\n",
    "scale = 3\n",
    "width = 370 * scale\n",
    "height = 255 * scale\n",
    "font_size = 6 * scale\n",
    "margin = 25 * scale\n",
    "top_margin = 25 * scale\n",
    "bottom_margin = 25 * scale\n",
    "line_thickness = 2 * scale\n",
    "\n",
    "plot_df = ormanis_taxi_df.copy()\n",
    "# let's rename columns ormanisRelDocFreq and taxiRelDocFreq to ormanis and taxi\n",
    "plot_df.rename(columns={\"ormanisRelDocFreq\": \"horse-drawn cab\", \"taxiRelDocFreq\": \"taxi\"}, inplace=True)\n",
    "fig = px.line(plot_df, \n",
    "              x=plot_df.index, \n",
    "              y=[\"horse-drawn cab\", \"taxi\"], \n",
    "              title=\"Horse-Drawn Cab and Taxi Relative Document Frequency over Years\",\n",
    "            labels={\"horse-drawn cab\": \"Horse-Drawn Cab\", \"taxi\": \"Taxi\"},\n",
    "\n",
    "              )\n",
    "# set the color of the lines\n",
    "fig.update_traces(line=dict(color=horse_color), selector=dict(name=\"horse-drawn cab\"))\n",
    "fig.update_traces(line=dict(color=moto_color), selector=dict(name=\"taxi\"))\n",
    "\n",
    "# set width of the lines\n",
    "fig.update_traces(line=dict(width=line_thickness), selector=dict(name=\"horse-drawn cab\"))\n",
    "fig.update_traces(line=dict(width=line_thickness), selector=dict(name=\"taxi\"))\n",
    "\n",
    "# set the color of the markers\n",
    "fig.update_traces(marker=dict(color=horse_color), selector=dict(name=\"horse-drawn cab\"))\n",
    "fig.update_traces(marker=dict(color=moto_color), selector=dict(name=\"taxi\"))\n",
    "# set the color of the legend\n",
    "fig.update_layout(legend=dict(font=dict(color=horse_color), title_text=\"horse-drawn cab\"))\n",
    "# set the color of the legend\n",
    "fig.update_layout(legend=dict(font=dict(color=moto_color), title_text=\"Taxi\"))\n",
    "# set the title of the x axis\n",
    "fig.update_xaxes(title=\"Year\")\n",
    "# set the title of the y axis\n",
    "fig.update_yaxes(title=\"Relative Document Frequency\")\n",
    "\n",
    "# set width and height\n",
    "fig.update_layout(width=width, height=height)\n",
    "# set the font size\n",
    "# change font size\n",
    "fig.update_layout(font=dict(size=font_size))\n",
    "\n",
    "# let's hide title\n",
    "fig.update_layout(title=\"\")\n",
    "# let's update legen\n",
    "fig.update_layout(showlegend=True)\n",
    "# set the legend position to top right\n",
    "fig.update_layout(legend=dict(x=0.00, y=1.1, xanchor='left', yanchor='top'))\n",
    "# set the legend title\n",
    "fig.update_layout(legend_title_text=\"\")\n",
    "# set the legend font size\n",
    "fig.update_layout(legend_font=dict(size=font_size))\n",
    "# set the legend font color\n",
    "fig.update_layout(legend_font_color=horse_color)\n",
    "# set the legend font color\n",
    "fig.update_layout(legend_font_color=moto_color)\n",
    "\n",
    "fig.update_layout(margin=dict(l=margin, r=margin, t=top_margin, b=bottom_margin))\n",
    "# let's change \n",
    "\n",
    "fig.show()\n"
   ]
  },
  {
   "cell_type": "code",
   "execution_count": 40,
   "id": "5685b3e0",
   "metadata": {},
   "outputs": [
    {
     "name": "stdout",
     "output_type": "stream",
     "text": [
      "moto_color: rgb(0, 61, 165)\n",
      "horse_color: rgb(255, 194, 90)\n"
     ]
    },
    {
     "data": {
      "application/vnd.plotly.v1+json": {
       "config": {
        "plotlyServerURL": "https://plot.ly"
       },
       "data": [
        {
         "legendgroup": "horse-drawn cab until 1919",
         "legendgrouptitle": {
          "font": {
           "color": "rgb(255, 194, 90)"
          }
         },
         "marker": {
          "color": "rgb(255, 194, 90)",
          "size": 24
         },
         "mode": "markers",
         "name": "horse-drawn cab until 1919  ",
         "showlegend": true,
         "type": "scatter",
         "x": [
          1879,
          1890,
          1891,
          1892,
          1893,
          1895,
          1899,
          1900,
          1901,
          1902,
          1903,
          1904,
          1905,
          1907,
          1908,
          1909,
          1910,
          1911,
          1912,
          1913,
          1914,
          1915,
          1919
         ],
         "y": [
          0.5,
          0,
          0.3333333333333333,
          1,
          0,
          0.3333333333333333,
          1,
          1,
          1,
          1,
          0,
          0.6666666666666666,
          1,
          0.6666666666666666,
          0.6666666666666666,
          0.25,
          0.5,
          0.6666666666666666,
          0.8333333333333334,
          1,
          0.5,
          0,
          1
         ]
        },
        {
         "legendgroup": "horse-drawn cab after 1919  ",
         "legendgrouptitle": {
          "font": {
           "color": "rgb(255, 194, 90)"
          }
         },
         "line": {
          "color": "rgb(255, 194, 90)",
          "width": 12
         },
         "mode": "lines",
         "name": "horse-drawn cab after 1919  ",
         "showlegend": true,
         "type": "scatter",
         "x": [
          1919,
          1920,
          1921,
          1922,
          1923,
          1924,
          1925,
          1926,
          1927,
          1928,
          1929,
          1930,
          1931,
          1932,
          1933,
          1934,
          1935,
          1936,
          1937,
          1938,
          1939,
          1940
         ],
         "y": [
          1,
          0.75,
          0.4666666666666667,
          0.625,
          0.42857142857142855,
          0.6666666666666666,
          0.7142857142857143,
          0.6666666666666666,
          0.6875,
          0.6875,
          0.5,
          0.47619047619047616,
          0.5454545454545454,
          0.625,
          0.5833333333333334,
          0.3684210526315789,
          0.4722222222222222,
          0.5555555555555556,
          0.37037037037037035,
          0.3055555555555556,
          0.4444444444444444,
          0.25
         ]
        },
        {
         "legendgroup": "taxi until 1919  ",
         "legendgrouptitle": {
          "font": {
           "color": "rgb(0, 61, 165)"
          }
         },
         "marker": {
          "color": "rgb(0, 61, 165)",
          "size": 12
         },
         "mode": "markers",
         "name": "taxi until 1919  ",
         "showlegend": true,
         "type": "scatter",
         "x": [
          1879,
          1890,
          1891,
          1892,
          1893,
          1895,
          1899,
          1900,
          1901,
          1902,
          1903,
          1904,
          1905,
          1907,
          1908,
          1909,
          1910,
          1911,
          1912,
          1913,
          1914,
          1915,
          1919
         ],
         "y": [
          0,
          0,
          0,
          0,
          0,
          0,
          0,
          0,
          0,
          0,
          0,
          0,
          0,
          0,
          0,
          0,
          0,
          0,
          0,
          0,
          0,
          0,
          0
         ]
        },
        {
         "legendgroup": "taxi",
         "legendgrouptitle": {
          "font": {
           "color": "rgb(0, 61, 165)"
          }
         },
         "line": {
          "color": "rgb(0, 61, 165)",
          "width": 12
         },
         "mode": "lines",
         "name": "taxi after 1919  ",
         "showlegend": true,
         "type": "scatter",
         "x": [
          1919,
          1920,
          1921,
          1922,
          1923,
          1924,
          1925,
          1926,
          1927,
          1928,
          1929,
          1930,
          1931,
          1932,
          1933,
          1934,
          1935,
          1936,
          1937,
          1938,
          1939,
          1940
         ],
         "y": [
          0,
          0,
          0,
          0,
          0,
          0.06666666666666667,
          0.14285714285714285,
          0.05555555555555555,
          0.25,
          0.25,
          0.16666666666666666,
          0.23809523809523808,
          0.36363636363636365,
          0.375,
          0.20833333333333334,
          0.15789473684210525,
          0.16666666666666666,
          0.17777777777777778,
          0.2222222222222222,
          0.1388888888888889,
          0.3333333333333333,
          0.375
         ]
        }
       ],
       "layout": {
        "font": {
         "size": 36
        },
        "height": 1530,
        "legend": {
         "font": {
          "size": 36
         },
         "orientation": "h",
         "title": {
          "text": ""
         },
         "x": 0,
         "xanchor": "left",
         "y": 1.02,
         "yanchor": "bottom"
        },
        "margin": {
         "b": 150,
         "l": 150,
         "r": 150,
         "t": 180
        },
        "showlegend": true,
        "template": {
         "data": {
          "bar": [
           {
            "error_x": {
             "color": "#2a3f5f"
            },
            "error_y": {
             "color": "#2a3f5f"
            },
            "marker": {
             "line": {
              "color": "#E5ECF6",
              "width": 0.5
             },
             "pattern": {
              "fillmode": "overlay",
              "size": 10,
              "solidity": 0.2
             }
            },
            "type": "bar"
           }
          ],
          "barpolar": [
           {
            "marker": {
             "line": {
              "color": "#E5ECF6",
              "width": 0.5
             },
             "pattern": {
              "fillmode": "overlay",
              "size": 10,
              "solidity": 0.2
             }
            },
            "type": "barpolar"
           }
          ],
          "carpet": [
           {
            "aaxis": {
             "endlinecolor": "#2a3f5f",
             "gridcolor": "white",
             "linecolor": "white",
             "minorgridcolor": "white",
             "startlinecolor": "#2a3f5f"
            },
            "baxis": {
             "endlinecolor": "#2a3f5f",
             "gridcolor": "white",
             "linecolor": "white",
             "minorgridcolor": "white",
             "startlinecolor": "#2a3f5f"
            },
            "type": "carpet"
           }
          ],
          "choropleth": [
           {
            "colorbar": {
             "outlinewidth": 0,
             "ticks": ""
            },
            "type": "choropleth"
           }
          ],
          "contour": [
           {
            "colorbar": {
             "outlinewidth": 0,
             "ticks": ""
            },
            "colorscale": [
             [
              0,
              "#0d0887"
             ],
             [
              0.1111111111111111,
              "#46039f"
             ],
             [
              0.2222222222222222,
              "#7201a8"
             ],
             [
              0.3333333333333333,
              "#9c179e"
             ],
             [
              0.4444444444444444,
              "#bd3786"
             ],
             [
              0.5555555555555556,
              "#d8576b"
             ],
             [
              0.6666666666666666,
              "#ed7953"
             ],
             [
              0.7777777777777778,
              "#fb9f3a"
             ],
             [
              0.8888888888888888,
              "#fdca26"
             ],
             [
              1,
              "#f0f921"
             ]
            ],
            "type": "contour"
           }
          ],
          "contourcarpet": [
           {
            "colorbar": {
             "outlinewidth": 0,
             "ticks": ""
            },
            "type": "contourcarpet"
           }
          ],
          "heatmap": [
           {
            "colorbar": {
             "outlinewidth": 0,
             "ticks": ""
            },
            "colorscale": [
             [
              0,
              "#0d0887"
             ],
             [
              0.1111111111111111,
              "#46039f"
             ],
             [
              0.2222222222222222,
              "#7201a8"
             ],
             [
              0.3333333333333333,
              "#9c179e"
             ],
             [
              0.4444444444444444,
              "#bd3786"
             ],
             [
              0.5555555555555556,
              "#d8576b"
             ],
             [
              0.6666666666666666,
              "#ed7953"
             ],
             [
              0.7777777777777778,
              "#fb9f3a"
             ],
             [
              0.8888888888888888,
              "#fdca26"
             ],
             [
              1,
              "#f0f921"
             ]
            ],
            "type": "heatmap"
           }
          ],
          "heatmapgl": [
           {
            "colorbar": {
             "outlinewidth": 0,
             "ticks": ""
            },
            "colorscale": [
             [
              0,
              "#0d0887"
             ],
             [
              0.1111111111111111,
              "#46039f"
             ],
             [
              0.2222222222222222,
              "#7201a8"
             ],
             [
              0.3333333333333333,
              "#9c179e"
             ],
             [
              0.4444444444444444,
              "#bd3786"
             ],
             [
              0.5555555555555556,
              "#d8576b"
             ],
             [
              0.6666666666666666,
              "#ed7953"
             ],
             [
              0.7777777777777778,
              "#fb9f3a"
             ],
             [
              0.8888888888888888,
              "#fdca26"
             ],
             [
              1,
              "#f0f921"
             ]
            ],
            "type": "heatmapgl"
           }
          ],
          "histogram": [
           {
            "marker": {
             "pattern": {
              "fillmode": "overlay",
              "size": 10,
              "solidity": 0.2
             }
            },
            "type": "histogram"
           }
          ],
          "histogram2d": [
           {
            "colorbar": {
             "outlinewidth": 0,
             "ticks": ""
            },
            "colorscale": [
             [
              0,
              "#0d0887"
             ],
             [
              0.1111111111111111,
              "#46039f"
             ],
             [
              0.2222222222222222,
              "#7201a8"
             ],
             [
              0.3333333333333333,
              "#9c179e"
             ],
             [
              0.4444444444444444,
              "#bd3786"
             ],
             [
              0.5555555555555556,
              "#d8576b"
             ],
             [
              0.6666666666666666,
              "#ed7953"
             ],
             [
              0.7777777777777778,
              "#fb9f3a"
             ],
             [
              0.8888888888888888,
              "#fdca26"
             ],
             [
              1,
              "#f0f921"
             ]
            ],
            "type": "histogram2d"
           }
          ],
          "histogram2dcontour": [
           {
            "colorbar": {
             "outlinewidth": 0,
             "ticks": ""
            },
            "colorscale": [
             [
              0,
              "#0d0887"
             ],
             [
              0.1111111111111111,
              "#46039f"
             ],
             [
              0.2222222222222222,
              "#7201a8"
             ],
             [
              0.3333333333333333,
              "#9c179e"
             ],
             [
              0.4444444444444444,
              "#bd3786"
             ],
             [
              0.5555555555555556,
              "#d8576b"
             ],
             [
              0.6666666666666666,
              "#ed7953"
             ],
             [
              0.7777777777777778,
              "#fb9f3a"
             ],
             [
              0.8888888888888888,
              "#fdca26"
             ],
             [
              1,
              "#f0f921"
             ]
            ],
            "type": "histogram2dcontour"
           }
          ],
          "mesh3d": [
           {
            "colorbar": {
             "outlinewidth": 0,
             "ticks": ""
            },
            "type": "mesh3d"
           }
          ],
          "parcoords": [
           {
            "line": {
             "colorbar": {
              "outlinewidth": 0,
              "ticks": ""
             }
            },
            "type": "parcoords"
           }
          ],
          "pie": [
           {
            "automargin": true,
            "type": "pie"
           }
          ],
          "scatter": [
           {
            "fillpattern": {
             "fillmode": "overlay",
             "size": 10,
             "solidity": 0.2
            },
            "type": "scatter"
           }
          ],
          "scatter3d": [
           {
            "line": {
             "colorbar": {
              "outlinewidth": 0,
              "ticks": ""
             }
            },
            "marker": {
             "colorbar": {
              "outlinewidth": 0,
              "ticks": ""
             }
            },
            "type": "scatter3d"
           }
          ],
          "scattercarpet": [
           {
            "marker": {
             "colorbar": {
              "outlinewidth": 0,
              "ticks": ""
             }
            },
            "type": "scattercarpet"
           }
          ],
          "scattergeo": [
           {
            "marker": {
             "colorbar": {
              "outlinewidth": 0,
              "ticks": ""
             }
            },
            "type": "scattergeo"
           }
          ],
          "scattergl": [
           {
            "marker": {
             "colorbar": {
              "outlinewidth": 0,
              "ticks": ""
             }
            },
            "type": "scattergl"
           }
          ],
          "scattermapbox": [
           {
            "marker": {
             "colorbar": {
              "outlinewidth": 0,
              "ticks": ""
             }
            },
            "type": "scattermapbox"
           }
          ],
          "scatterpolar": [
           {
            "marker": {
             "colorbar": {
              "outlinewidth": 0,
              "ticks": ""
             }
            },
            "type": "scatterpolar"
           }
          ],
          "scatterpolargl": [
           {
            "marker": {
             "colorbar": {
              "outlinewidth": 0,
              "ticks": ""
             }
            },
            "type": "scatterpolargl"
           }
          ],
          "scatterternary": [
           {
            "marker": {
             "colorbar": {
              "outlinewidth": 0,
              "ticks": ""
             }
            },
            "type": "scatterternary"
           }
          ],
          "surface": [
           {
            "colorbar": {
             "outlinewidth": 0,
             "ticks": ""
            },
            "colorscale": [
             [
              0,
              "#0d0887"
             ],
             [
              0.1111111111111111,
              "#46039f"
             ],
             [
              0.2222222222222222,
              "#7201a8"
             ],
             [
              0.3333333333333333,
              "#9c179e"
             ],
             [
              0.4444444444444444,
              "#bd3786"
             ],
             [
              0.5555555555555556,
              "#d8576b"
             ],
             [
              0.6666666666666666,
              "#ed7953"
             ],
             [
              0.7777777777777778,
              "#fb9f3a"
             ],
             [
              0.8888888888888888,
              "#fdca26"
             ],
             [
              1,
              "#f0f921"
             ]
            ],
            "type": "surface"
           }
          ],
          "table": [
           {
            "cells": {
             "fill": {
              "color": "#EBF0F8"
             },
             "line": {
              "color": "white"
             }
            },
            "header": {
             "fill": {
              "color": "#C8D4E3"
             },
             "line": {
              "color": "white"
             }
            },
            "type": "table"
           }
          ]
         },
         "layout": {
          "annotationdefaults": {
           "arrowcolor": "#2a3f5f",
           "arrowhead": 0,
           "arrowwidth": 1
          },
          "autotypenumbers": "strict",
          "coloraxis": {
           "colorbar": {
            "outlinewidth": 0,
            "ticks": ""
           }
          },
          "colorscale": {
           "diverging": [
            [
             0,
             "#8e0152"
            ],
            [
             0.1,
             "#c51b7d"
            ],
            [
             0.2,
             "#de77ae"
            ],
            [
             0.3,
             "#f1b6da"
            ],
            [
             0.4,
             "#fde0ef"
            ],
            [
             0.5,
             "#f7f7f7"
            ],
            [
             0.6,
             "#e6f5d0"
            ],
            [
             0.7,
             "#b8e186"
            ],
            [
             0.8,
             "#7fbc41"
            ],
            [
             0.9,
             "#4d9221"
            ],
            [
             1,
             "#276419"
            ]
           ],
           "sequential": [
            [
             0,
             "#0d0887"
            ],
            [
             0.1111111111111111,
             "#46039f"
            ],
            [
             0.2222222222222222,
             "#7201a8"
            ],
            [
             0.3333333333333333,
             "#9c179e"
            ],
            [
             0.4444444444444444,
             "#bd3786"
            ],
            [
             0.5555555555555556,
             "#d8576b"
            ],
            [
             0.6666666666666666,
             "#ed7953"
            ],
            [
             0.7777777777777778,
             "#fb9f3a"
            ],
            [
             0.8888888888888888,
             "#fdca26"
            ],
            [
             1,
             "#f0f921"
            ]
           ],
           "sequentialminus": [
            [
             0,
             "#0d0887"
            ],
            [
             0.1111111111111111,
             "#46039f"
            ],
            [
             0.2222222222222222,
             "#7201a8"
            ],
            [
             0.3333333333333333,
             "#9c179e"
            ],
            [
             0.4444444444444444,
             "#bd3786"
            ],
            [
             0.5555555555555556,
             "#d8576b"
            ],
            [
             0.6666666666666666,
             "#ed7953"
            ],
            [
             0.7777777777777778,
             "#fb9f3a"
            ],
            [
             0.8888888888888888,
             "#fdca26"
            ],
            [
             1,
             "#f0f921"
            ]
           ]
          },
          "colorway": [
           "#636efa",
           "#EF553B",
           "#00cc96",
           "#ab63fa",
           "#FFA15A",
           "#19d3f3",
           "#FF6692",
           "#B6E880",
           "#FF97FF",
           "#FECB52"
          ],
          "font": {
           "color": "#2a3f5f"
          },
          "geo": {
           "bgcolor": "white",
           "lakecolor": "white",
           "landcolor": "#E5ECF6",
           "showlakes": true,
           "showland": true,
           "subunitcolor": "white"
          },
          "hoverlabel": {
           "align": "left"
          },
          "hovermode": "closest",
          "mapbox": {
           "style": "light"
          },
          "paper_bgcolor": "white",
          "plot_bgcolor": "#E5ECF6",
          "polar": {
           "angularaxis": {
            "gridcolor": "white",
            "linecolor": "white",
            "ticks": ""
           },
           "bgcolor": "#E5ECF6",
           "radialaxis": {
            "gridcolor": "white",
            "linecolor": "white",
            "ticks": ""
           }
          },
          "scene": {
           "xaxis": {
            "backgroundcolor": "#E5ECF6",
            "gridcolor": "white",
            "gridwidth": 2,
            "linecolor": "white",
            "showbackground": true,
            "ticks": "",
            "zerolinecolor": "white"
           },
           "yaxis": {
            "backgroundcolor": "#E5ECF6",
            "gridcolor": "white",
            "gridwidth": 2,
            "linecolor": "white",
            "showbackground": true,
            "ticks": "",
            "zerolinecolor": "white"
           },
           "zaxis": {
            "backgroundcolor": "#E5ECF6",
            "gridcolor": "white",
            "gridwidth": 2,
            "linecolor": "white",
            "showbackground": true,
            "ticks": "",
            "zerolinecolor": "white"
           }
          },
          "shapedefaults": {
           "line": {
            "color": "#2a3f5f"
           }
          },
          "ternary": {
           "aaxis": {
            "gridcolor": "white",
            "linecolor": "white",
            "ticks": ""
           },
           "baxis": {
            "gridcolor": "white",
            "linecolor": "white",
            "ticks": ""
           },
           "bgcolor": "#E5ECF6",
           "caxis": {
            "gridcolor": "white",
            "linecolor": "white",
            "ticks": ""
           }
          },
          "title": {
           "x": 0.05
          },
          "xaxis": {
           "automargin": true,
           "gridcolor": "white",
           "linecolor": "white",
           "ticks": "",
           "title": {
            "standoff": 15
           },
           "zerolinecolor": "white",
           "zerolinewidth": 2
          },
          "yaxis": {
           "automargin": true,
           "gridcolor": "white",
           "linecolor": "white",
           "ticks": "",
           "title": {
            "standoff": 15
           },
           "zerolinecolor": "white",
           "zerolinewidth": 2
          }
         }
        },
        "title": {
         "text": ""
        },
        "width": 2220,
        "xaxis": {
         "title": {
          "text": "Year"
         }
        },
        "yaxis": {
         "title": {
          "text": "Relative Document Frequency"
         }
        }
       }
      }
     },
     "metadata": {},
     "output_type": "display_data"
    }
   ],
   "source": [
    "# Now let's create the same plot with one change\n",
    "# for ormanis we want to split the data into two parts before and after 1919\n",
    "# then we want to plot the first part dot markers and the second part line markers using the same horse_color\n",
    "# we still want to plot the taxi line as before\n",
    "moto_color = \"rgb(0, 61, 165)\" # Pantone 293\n",
    "horse_color = \"rgb(255, 194, 90)\" # complimentary color to Pantone 293\n",
    "print(f\"moto_color: {moto_color}\")\n",
    "print(f\"horse_color: {horse_color}\")\n",
    "scale = 6\n",
    "width = 370 * scale\n",
    "height = 255 * scale\n",
    "font_size = 6 * scale\n",
    "margin = 25 * scale\n",
    "top_margin = 30 * scale\n",
    "bottom_margin = 25 * scale\n",
    "line_thickness = 2 * scale\n",
    "dot_marker_size = 4 * scale\n",
    "\n",
    "plot_df = ormanis_taxi_df.copy()\n",
    "# let's rename columns ormanisRelDocFreq and taxiRelDocFreq to ormanis and taxi\n",
    "plot_df.rename(columns={\"ormanisRelDocFreq\": \"horse-drawn cab\", \"taxiRelDocFreq\": \"taxi\"}, inplace=True)\n",
    "# we will want to use plotly Graph Objects for this\n",
    "# import plotly.graph_objects as go\n",
    "# we already have it it imported as go\n",
    "\n",
    "fig = go.Figure()\n",
    "# add the first part of the horse-drawn cab line\n",
    "# we simply plot the first part of horse-drawn cab line with dot markers until 1919\n",
    "fig.add_trace(go.Scatter(x=plot_df.index[plot_df.index <= 1919], \n",
    "                         y=plot_df[\"horse-drawn cab\"][plot_df.index <= 1919], \n",
    "                         mode='markers', \n",
    "                         name=\"horse-drawn cab until 1919  \",\n",
    "                         marker=dict(color=horse_color, size=dot_marker_size),\n",
    "                         showlegend=True,\n",
    "                         legendgroup=\"horse-drawn cab until 1919\",\n",
    "                        #  legendgrouptitle_text=\"Horse-Drawn Cab\",\n",
    "                         legendgrouptitle_font_color=horse_color,\n",
    "                        )\n",
    "             ) \n",
    "\n",
    "# now let's add the second part of the horse-drawn cab line\n",
    "fig.add_trace(go.Scatter(x=plot_df.index[plot_df.index >= 1919], \n",
    "                         y=plot_df[\"horse-drawn cab\"][plot_df.index >= 1919], \n",
    "                         mode='lines', \n",
    "                         name=\"horse-drawn cab after 1919  \",\n",
    "                         line=dict(color=horse_color, width=line_thickness),\n",
    "                         showlegend=True,\n",
    "                         legendgroup=\"horse-drawn cab after 1919  \",\n",
    "                        #  legendgrouptitle_text=\"Horse-Drawn Cab\",\n",
    "                         legendgrouptitle_font_color=horse_color,\n",
    "                        )\n",
    "             )\n",
    "\n",
    "# now let's add the taxi line we also want points until 1919\n",
    "fig.add_trace(go.Scatter(x=plot_df.index[plot_df.index <= 1919],\n",
    "                         y=plot_df[\"taxi\"][plot_df.index <= 1919],\n",
    "                            mode='markers',\n",
    "                            name=\"taxi until 1919  \",\n",
    "                            marker=dict(color=moto_color, size=dot_marker_size*0.5),\n",
    "                            showlegend=True,\n",
    "                            legendgroup=\"taxi until 1919  \",\n",
    "                        #  legendgrouptitle_text=\"Taxi\",\n",
    "                            legendgrouptitle_font_color=moto_color,\n",
    "                        )\n",
    "                )\n",
    "\n",
    "\n",
    "fig.add_trace(go.Scatter(x=plot_df.index[plot_df.index >= 1919], \n",
    "                         y=plot_df[\"taxi\"][plot_df.index >= 1919], \n",
    "                         mode='lines', \n",
    "                         name=\"taxi after 1919  \",\n",
    "                         line=dict(color=moto_color, width=line_thickness),\n",
    "                         showlegend=True,\n",
    "                         legendgroup=\"taxi\",\n",
    "                        #  legendgrouptitle_text=\"Taxi\",\n",
    "                         legendgrouptitle_font_color=moto_color,\n",
    "                        )\n",
    "             )\n",
    "\n",
    "# set the title of the x axis\n",
    "fig.update_xaxes(title=\"Year\")\n",
    "# set the title of the y axis\n",
    "fig.update_yaxes(title=\"Relative Document Frequency\")\n",
    "# set width and height\n",
    "fig.update_layout(width=width, height=height)\n",
    "# set the font size\n",
    "# change font size\n",
    "fig.update_layout(font=dict(size=font_size))\n",
    "# let's hide title\n",
    "fig.update_layout(title=\"\")\n",
    "# let's update legend\n",
    "fig.update_layout(showlegend=True)\n",
    "# set the legend position to top right\n",
    "fig.update_layout(legend=dict(x=0.00, y=1.30, xanchor='left', yanchor='top'))\n",
    "# set the legend title\n",
    "fig.update_layout(legend_title_text=\"\")\n",
    "# set the legend font size\n",
    "fig.update_layout(legend_font=dict(size=font_size))\n",
    "\n",
    "fig.update_layout(margin=dict(l=margin, r=margin, t=top_margin, b=bottom_margin))\n",
    "\n",
    "# let's move legends in two rows\n",
    "fig.update_layout(legend=dict(\n",
    "    orientation=\"h\",\n",
    "    yanchor=\"bottom\",\n",
    "    y=1.02,\n",
    "    xanchor=\"left\",\n",
    "    x=0.0\n",
    "))\n",
    "\n",
    "\n",
    "# fig.write_image(\"../img/first_edition_ormanis_taxi_over_years.png\") # FIXME kaleido not installed\n",
    "fig.show()\n"
   ]
  }
 ],
 "metadata": {
  "kernelspec": {
   "display_name": "venv312",
   "language": "python",
   "name": "python3"
  },
  "language_info": {
   "codemirror_mode": {
    "name": "ipython",
    "version": 3
   },
   "file_extension": ".py",
   "mimetype": "text/x-python",
   "name": "python",
   "nbconvert_exporter": "python",
   "pygments_lexer": "ipython3",
   "version": "3.12.6"
  }
 },
 "nbformat": 4,
 "nbformat_minor": 5
}
