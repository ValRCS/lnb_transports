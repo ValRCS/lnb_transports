{
 "cells": [
  {
   "cell_type": "markdown",
   "metadata": {},
   "source": [
    "# Gathering Stats about Latvian Periodicals\n",
    "\n",
    "We will explore zip files that store plaintext files of Latvian periodicals. We will gather some statistics about the periodicals and their content.\n",
    "\n",
    "## Years published\n",
    "\n",
    "Our first task will be to extract years from the filenames of the periodicals. We will use regular expressions to extract the years from the filenames.\n",
    "\n",
    "The file names are stored in zip files. We will use the `zipfile` module to extract the filenames from the zip files."
   ]
  },
  {
   "cell_type": "code",
   "execution_count": 51,
   "metadata": {},
   "outputs": [
    {
     "name": "stdout",
     "output_type": "stream",
     "text": [
      "Python version: 3.12.2 (tags/v3.12.2:6abddd9, Feb  6 2024, 21:26:36) [MSC v.1937 64 bit (AMD64)]\n",
      "Current date and time: 2024-06-11 12:54:33.557058\n",
      "Computer processor: Intel64 Family 6 Model 60 Stepping 3, GenuineIntel\n",
      "Current working directory: c:\\Users\\vsaules\\Github\\lnb_transports\\notebooks\n",
      "Pandas version: 2.2.1\n",
      "Plotly version: 5.19.0\n"
     ]
    }
   ],
   "source": [
    "# first get Python version\n",
    "import sys\n",
    "print(f\"Python version: {sys.version}\")\n",
    "from pathlib import Path\n",
    "from datetime import datetime\n",
    "print(f\"Current date and time: {datetime.now()}\")\n",
    "# computer CPU type\n",
    "import platform\n",
    "print(f\"Computer processor: {platform.processor()}\")\n",
    "# print current working directory\n",
    "print(f\"Current working directory: {Path.cwd()}\")\n",
    "import zipfile\n",
    "import re\n",
    "import pandas as pd\n",
    "print(f\"Pandas version: {pd.__version__}\")\n",
    "from tqdm import tqdm\n",
    "# let's import visualization library Plotly\n",
    "import plotly.express as px\n",
    "import plotly.graph_objects as go\n",
    "from plotly import __version__ as plotly_version\n",
    "print(f\"Plotly version: {plotly_version}\")\n"
   ]
  },
  {
   "cell_type": "code",
   "execution_count": 8,
   "metadata": {},
   "outputs": [
    {
     "name": "stdout",
     "output_type": "stream",
     "text": [
      "Source folder: I:\\zips\n",
      "Number of files: 118\n"
     ]
    }
   ],
   "source": [
    "src_folder = Path(\"I:/zips\")\n",
    "assert src_folder.exists(), f\"Source folder {src_folder} does not exist\"\n",
    "print(f\"Source folder: {src_folder}\")\n",
    "# get list of files that contain word articles in them\n",
    "files = list(src_folder.glob(\"*articles*.zip\"))\n",
    "print(f\"Number of files: {len(files)}\")\n"
   ]
  },
  {
   "cell_type": "code",
   "execution_count": 33,
   "metadata": {},
   "outputs": [
    {
     "name": "stdout",
     "output_type": "stream",
     "text": [
      "File: I:\\zips\\adelaides_latviesu_zinotajs_articles.zip\n",
      "Number of files in zip: 725\n"
     ]
    }
   ],
   "source": [
    "# now we will write a function that will extract file names from a single zip file\n",
    "def get_file_names(zip_file: Path, skip=1) -> list:\n",
    "    with zipfile.ZipFile(zip_file, \"r\") as z:\n",
    "        # get rid of folder names - we know first one is generally folder\n",
    "        file_paths = z.namelist()[skip:]\n",
    "        # now we only want file paths without folders\n",
    "        file_names = [Path(file_path).name for file_path in file_paths]\n",
    "        return file_names\n",
    "z_file = files[0]\n",
    "print(f\"File: {z_file}\")\n",
    "file_names = get_file_names(z_file)\n",
    "print(f\"Number of files in zip: {len(file_names)}\")"
   ]
  },
  {
   "cell_type": "code",
   "execution_count": 22,
   "metadata": {},
   "outputs": [
    {
     "name": "stdout",
     "output_type": "stream",
     "text": [
      "['xalz1962n114_001_plaintext_s01.txt', 'xalz1962n114_001_plaintext_s02.txt', 'xalz1962n114_002_plaintext_s03.txt']\n"
     ]
    }
   ],
   "source": [
    "# first 3 filenames\n",
    "print(file_names[:3])"
   ]
  },
  {
   "cell_type": "code",
   "execution_count": 26,
   "metadata": {},
   "outputs": [
    {
     "name": "stdout",
     "output_type": "stream",
     "text": [
      "Title: xalz, Year: 1962\n"
     ]
    }
   ],
   "source": [
    "# now let's write a function that will take a single file name and extract following two pieces of information:\n",
    "# title - which is any text before year\n",
    "# year - which is first 4 digit number in the file name\n",
    "# we will use regular expression to extract year from the file name\n",
    "def get_title_and_year(file_name: str) -> tuple:\n",
    "    # regular expression to extract year\n",
    "    year = re.search(r\"\\d{4}\", file_name).group()\n",
    "    # if length of year is not 4, return None\n",
    "    if len(year) != 4:\n",
    "        return {}\n",
    "    # title is any text before year\n",
    "    title = file_name.split(year)[0].strip()\n",
    "    return {\"title\": title, \"year\": int(year)}\n",
    "# let's test this function on first file name\n",
    "d = get_title_and_year(file_names[0])\n",
    "print(f\"Title: {d['title']}, Year: {d['year']}\")\n"
   ]
  },
  {
   "cell_type": "code",
   "execution_count": 28,
   "metadata": {},
   "outputs": [
    {
     "name": "stdout",
     "output_type": "stream",
     "text": [
      "[{'title': 'xalz', 'year': 1962}, {'title': 'xalz', 'year': 1962}, {'title': 'xalz', 'year': 1962}]\n",
      "[{'title': 'xalz', 'year': 2003}, {'title': 'xalz', 'year': 2003}, {'title': 'xalz', 'year': 2003}]\n"
     ]
    }
   ],
   "source": [
    "# now let us write a function that given filenames will return a list of dictionaries\n",
    "# each dictionary will have two keys: title and year\n",
    "def get_titles_and_years(file_names: list) -> list:\n",
    "    return [get_title_and_year(file_name) for file_name in file_names]\n",
    "# let's test this function\n",
    "titles_and_years = get_titles_and_years(file_names)\n",
    "# first 3 titles and years\n",
    "print(titles_and_years[:3])\n",
    "# last 3 titles and years\n",
    "print(titles_and_years[-3:])"
   ]
  },
  {
   "cell_type": "code",
   "execution_count": 48,
   "metadata": {},
   "outputs": [
    {
     "name": "stdout",
     "output_type": "stream",
     "text": [
      "{'min_year': 1962, 'max_year': 2003, 'total_count': 725, 'count_1920_1940': 0}\n"
     ]
    }
   ],
   "source": [
    "# now let us write a function that will take list of dictionaries of  years and titles\n",
    "# additional arguments will be start_year with default value of 1920 and end_year with default value of 1940\n",
    "# this function will convert this list into pandas DataFrame and extract following information:\n",
    "# min_year, max_year, total count of publications, count of publications between start_year and end_year (inclusive)\n",
    "def get_summary(titles_and_years: list, start_year=1920, end_year=1940) -> dict:\n",
    "    df = pd.DataFrame(titles_and_years)\n",
    "    min_year = df[\"year\"].min()\n",
    "    max_year = df[\"year\"].max()\n",
    "    total_count = df.shape[0]\n",
    "    count_between = df.query(f\"{start_year} <= year <= {end_year}\").shape[0]\n",
    "    return {\"min_year\": min_year, \"max_year\": max_year, \"total_count\": total_count, f\"count_{start_year}_{end_year}\": count_between}\n",
    "# let's test this function\n",
    "summary = get_summary(titles_and_years)\n",
    "print(summary)"
   ]
  },
  {
   "cell_type": "code",
   "execution_count": 49,
   "metadata": {},
   "outputs": [
    {
     "name": "stdout",
     "output_type": "stream",
     "text": [
      "{'min_year': 1962, 'max_year': 2003, 'total_count': 725, 'count_1920_1940': 0, 'publication': 'adelaides_latviesu_zinotajs', 'zip_file': 'I:/zips/adelaides_latviesu_zinotajs_articles.zip'}\n"
     ]
    }
   ],
   "source": [
    "# let's create a function that given a zip file will return summary of all files in that zip\n",
    "# in addition the dictionary will contain key publication that will contain zip file stem\n",
    "def get_zip_summary(zip_file: Path, \n",
    "                    remove=\"_articles\",\n",
    "                    start_year = 1920,\n",
    "                    end_year = 1940) -> dict:\n",
    "    file_names = get_file_names(zip_file)\n",
    "    titles_and_years = get_titles_and_years(file_names)\n",
    "    summary = get_summary(titles_and_years, start_year=start_year, end_year=end_year)\n",
    "    summary[\"publication\"] = zip_file.stem\n",
    "    # let's remove from publication name\n",
    "    summary[\"publication\"] = summary[\"publication\"].replace(remove, \"\")\n",
    "    # let us also add full zip file path without PosixPath using forward slashes\n",
    "    summary[\"zip_file\"] = zip_file.as_posix()\n",
    "    return summary\n",
    "# let's test this function\n",
    "zip_summary = get_zip_summary(z_file)\n",
    "print(zip_summary)"
   ]
  },
  {
   "cell_type": "code",
   "execution_count": 50,
   "metadata": {},
   "outputs": [
    {
     "name": "stderr",
     "output_type": "stream",
     "text": [
      "100%|██████████| 118/118 [02:06<00:00,  1.07s/it]\n"
     ]
    },
    {
     "name": "stdout",
     "output_type": "stream",
     "text": [
      "Saving CSV file to ..\\csv\\articles_publications_summary.csv\n",
      "Saving Excel file to ..\\xlsx\\articles_publications_summary.xlsx\n",
      "Saving Parquet file to ..\\parquet\\articles_publications_summary.parquet\n",
      "(118, 6)\n"
     ]
    },
    {
     "data": {
      "text/html": [
       "<div>\n",
       "<style scoped>\n",
       "    .dataframe tbody tr th:only-of-type {\n",
       "        vertical-align: middle;\n",
       "    }\n",
       "\n",
       "    .dataframe tbody tr th {\n",
       "        vertical-align: top;\n",
       "    }\n",
       "\n",
       "    .dataframe thead th {\n",
       "        text-align: right;\n",
       "    }\n",
       "</style>\n",
       "<table border=\"1\" class=\"dataframe\">\n",
       "  <thead>\n",
       "    <tr style=\"text-align: right;\">\n",
       "      <th></th>\n",
       "      <th>publication</th>\n",
       "      <th>min_year</th>\n",
       "      <th>max_year</th>\n",
       "      <th>total_count</th>\n",
       "      <th>count_1920_1940</th>\n",
       "      <th>zip_file</th>\n",
       "    </tr>\n",
       "  </thead>\n",
       "  <tbody>\n",
       "    <tr>\n",
       "      <th>0</th>\n",
       "      <td>adelaides_latviesu_zinotajs</td>\n",
       "      <td>1962</td>\n",
       "      <td>2003</td>\n",
       "      <td>725</td>\n",
       "      <td>0</td>\n",
       "      <td>I:/zips/adelaides_latviesu_zinotajs_articles.zip</td>\n",
       "    </tr>\n",
       "    <tr>\n",
       "      <th>1</th>\n",
       "      <td>australijas_latvietis</td>\n",
       "      <td>1949</td>\n",
       "      <td>2011</td>\n",
       "      <td>93179</td>\n",
       "      <td>0</td>\n",
       "      <td>I:/zips/australijas_latvietis_articles.zip</td>\n",
       "    </tr>\n",
       "    <tr>\n",
       "      <th>2</th>\n",
       "      <td>avangards_daugavpils</td>\n",
       "      <td>1962</td>\n",
       "      <td>1992</td>\n",
       "      <td>77967</td>\n",
       "      <td>0</td>\n",
       "      <td>I:/zips/avangards_daugavpils_articles.zip</td>\n",
       "    </tr>\n",
       "    <tr>\n",
       "      <th>3</th>\n",
       "      <td>avots</td>\n",
       "      <td>1905</td>\n",
       "      <td>1915</td>\n",
       "      <td>7567</td>\n",
       "      <td>0</td>\n",
       "      <td>I:/zips/avots_articles.zip</td>\n",
       "    </tr>\n",
       "    <tr>\n",
       "      <th>4</th>\n",
       "      <td>avots_latvijas_rakstnieku_savienibas_zurnals</td>\n",
       "      <td>1987</td>\n",
       "      <td>1992</td>\n",
       "      <td>1188</td>\n",
       "      <td>0</td>\n",
       "      <td>I:/zips/avots_latvijas_rakstnieku_savienibas_z...</td>\n",
       "    </tr>\n",
       "  </tbody>\n",
       "</table>\n",
       "</div>"
      ],
      "text/plain": [
       "                                    publication  min_year  max_year  \\\n",
       "0                   adelaides_latviesu_zinotajs      1962      2003   \n",
       "1                         australijas_latvietis      1949      2011   \n",
       "2                          avangards_daugavpils      1962      1992   \n",
       "3                                         avots      1905      1915   \n",
       "4  avots_latvijas_rakstnieku_savienibas_zurnals      1987      1992   \n",
       "\n",
       "   total_count  count_1920_1940  \\\n",
       "0          725                0   \n",
       "1        93179                0   \n",
       "2        77967                0   \n",
       "3         7567                0   \n",
       "4         1188                0   \n",
       "\n",
       "                                            zip_file  \n",
       "0   I:/zips/adelaides_latviesu_zinotajs_articles.zip  \n",
       "1         I:/zips/australijas_latvietis_articles.zip  \n",
       "2          I:/zips/avangards_daugavpils_articles.zip  \n",
       "3                         I:/zips/avots_articles.zip  \n",
       "4  I:/zips/avots_latvijas_rakstnieku_savienibas_z...  "
      ]
     },
     "execution_count": 50,
     "metadata": {},
     "output_type": "execute_result"
    }
   ],
   "source": [
    "# now let us write a function that will take a list of zip files\n",
    "# it will return a pandas DataFrame with summary of all files in all zip files\n",
    "def get_all_zips_summary(zip_files: list,\n",
    "                            start_year = 1920,\n",
    "                            end_year = 1940,\n",
    "                          csv_file = Path(\"../csv/articles_publications_summary.csv\"),\n",
    "                          excel_file = Path(\"../xlsx/articles_publications_summary.xlsx\"),\n",
    "                          parquet_file = Path(\"../parquet/articles_publications_summary.parquet\")) -> pd.DataFrame:\n",
    "    summaries = [get_zip_summary(zip_file, start_year=start_year, end_year=end_year) for zip_file in tqdm(zip_files)]\n",
    "    df = pd.DataFrame(summaries)\n",
    "    # let's  have first column be publication\n",
    "    df = df[[\"publication\"] + [col for col in df.columns if col != \"publication\"]]\n",
    "    if csv_file:\n",
    "        # create all folders in the path if they do not exist\n",
    "        csv_file.parent.mkdir(parents=True, exist_ok=True)\n",
    "        print(f\"Saving CSV file to {csv_file}\")\n",
    "        df.to_csv(csv_file, index=False)\n",
    "    if excel_file:\n",
    "        # create all folders in the path if they do not exist\n",
    "        excel_file.parent.mkdir(parents=True, exist_ok=True)\n",
    "        print(f\"Saving Excel file to {excel_file}\")\n",
    "        df.to_excel(excel_file, index=False)\n",
    "    if parquet_file:\n",
    "        # create all folders in the path if they do not exist\n",
    "        parquet_file.parent.mkdir(parents=True, exist_ok=True)\n",
    "        print(f\"Saving Parquet file to {parquet_file}\")\n",
    "        df.to_parquet(parquet_file, index=False)\n",
    "    return df\n",
    "# let's test this function\n",
    "df = get_all_zips_summary(files)\n",
    "# shape\n",
    "print(df.shape)\n",
    "# first 5 rows\n",
    "df.head()"
   ]
  },
  {
   "cell_type": "code",
   "execution_count": 44,
   "metadata": {},
   "outputs": [],
   "source": [
    "# let us save summary to a CSV file\n",
    "csv_folder = Path(\"../csv\")\n",
    "# create folder if it does not exist\n",
    "csv_folder.mkdir(exist_ok=True)\n",
    "csv_file = csv_folder / \"articles_publications_summary.csv\"\n",
    "# let's  have first column be publication\n",
    "df = df[[\"publication\"] + [col for col in df.columns if col != \"publication\"]]\n",
    "df.to_csv(csv_file, index=False)"
   ]
  },
  {
   "cell_type": "code",
   "execution_count": 45,
   "metadata": {},
   "outputs": [],
   "source": [
    "# let's also save to excel\n",
    "excel_folder = Path(\"../excel\")\n",
    "# create folder if it does not exist\n",
    "excel_folder.mkdir(exist_ok=True)\n",
    "excel_file = excel_folder / \"articles_publications_summary.xlsx\"\n",
    "df.to_excel(excel_file, index=False)"
   ]
  },
  {
   "cell_type": "code",
   "execution_count": 52,
   "metadata": {},
   "outputs": [
    {
     "name": "stdout",
     "output_type": "stream",
     "text": [
      "(41, 6)\n"
     ]
    },
    {
     "data": {
      "text/html": [
       "<div>\n",
       "<style scoped>\n",
       "    .dataframe tbody tr th:only-of-type {\n",
       "        vertical-align: middle;\n",
       "    }\n",
       "\n",
       "    .dataframe tbody tr th {\n",
       "        vertical-align: top;\n",
       "    }\n",
       "\n",
       "    .dataframe thead th {\n",
       "        text-align: right;\n",
       "    }\n",
       "</style>\n",
       "<table border=\"1\" class=\"dataframe\">\n",
       "  <thead>\n",
       "    <tr style=\"text-align: right;\">\n",
       "      <th></th>\n",
       "      <th>publication</th>\n",
       "      <th>min_year</th>\n",
       "      <th>max_year</th>\n",
       "      <th>total_count</th>\n",
       "      <th>count_1920_1940</th>\n",
       "      <th>zip_file</th>\n",
       "    </tr>\n",
       "  </thead>\n",
       "  <tbody>\n",
       "    <tr>\n",
       "      <th>5</th>\n",
       "      <td>baltijas_vestnesis</td>\n",
       "      <td>1868</td>\n",
       "      <td>1920</td>\n",
       "      <td>78012</td>\n",
       "      <td>4739</td>\n",
       "      <td>I:/zips/baltijas_vestnesis_articles.zip</td>\n",
       "    </tr>\n",
       "    <tr>\n",
       "      <th>10</th>\n",
       "      <td>briva_zeme</td>\n",
       "      <td>1919</td>\n",
       "      <td>1940</td>\n",
       "      <td>259067</td>\n",
       "      <td>255273</td>\n",
       "      <td>I:/zips/briva_zeme_articles.zip</td>\n",
       "    </tr>\n",
       "    <tr>\n",
       "      <th>12</th>\n",
       "      <td>burtnieks</td>\n",
       "      <td>1927</td>\n",
       "      <td>1945</td>\n",
       "      <td>2772</td>\n",
       "      <td>2723</td>\n",
       "      <td>I:/zips/burtnieks_articles.zip</td>\n",
       "    </tr>\n",
       "    <tr>\n",
       "      <th>14</th>\n",
       "      <td>cina</td>\n",
       "      <td>1904</td>\n",
       "      <td>1991</td>\n",
       "      <td>540722</td>\n",
       "      <td>8341</td>\n",
       "      <td>I:/zips/cina_articles.zip</td>\n",
       "    </tr>\n",
       "    <tr>\n",
       "      <th>15</th>\n",
       "      <td>dadzis</td>\n",
       "      <td>1912</td>\n",
       "      <td>2008</td>\n",
       "      <td>40234</td>\n",
       "      <td>219</td>\n",
       "      <td>I:/zips/dadzis_articles.zip</td>\n",
       "    </tr>\n",
       "  </tbody>\n",
       "</table>\n",
       "</div>"
      ],
      "text/plain": [
       "           publication  min_year  max_year  total_count  count_1920_1940  \\\n",
       "5   baltijas_vestnesis      1868      1920        78012             4739   \n",
       "10          briva_zeme      1919      1940       259067           255273   \n",
       "12           burtnieks      1927      1945         2772             2723   \n",
       "14                cina      1904      1991       540722             8341   \n",
       "15              dadzis      1912      2008        40234              219   \n",
       "\n",
       "                                   zip_file  \n",
       "5   I:/zips/baltijas_vestnesis_articles.zip  \n",
       "10          I:/zips/briva_zeme_articles.zip  \n",
       "12           I:/zips/burtnieks_articles.zip  \n",
       "14                I:/zips/cina_articles.zip  \n",
       "15              I:/zips/dadzis_articles.zip  "
      ]
     },
     "execution_count": 52,
     "metadata": {},
     "output_type": "execute_result"
    }
   ],
   "source": [
    "# let's filter only those publications which have more than 0 publication in 1920-1940 period\n",
    "df_filtered = df.query(\"count_1920_1940 > 0\")\n",
    "# shape\n",
    "print(df_filtered.shape)\n",
    "# first 5 rows\n",
    "df_filtered.head()"
   ]
  },
  {
   "cell_type": "code",
   "execution_count": 56,
   "metadata": {},
   "outputs": [
    {
     "data": {
      "application/vnd.plotly.v1+json": {
       "config": {
        "plotlyServerURL": "https://plot.ly"
       },
       "data": [
        {
         "alignmentgroup": "True",
         "hovertemplate": "publication=%{x}<br>count_1920_1940=%{y}<extra></extra>",
         "legendgroup": "",
         "marker": {
          "color": "#636efa",
          "pattern": {
           "shape": ""
          }
         },
         "name": "",
         "offsetgroup": "",
         "orientation": "v",
         "showlegend": false,
         "textposition": "auto",
         "type": "bar",
         "x": [
          "valdibas_vestnesis",
          "jaunakas_zinas",
          "briva_zeme",
          "latvijas_kareivis",
          "latvis",
          "socialdemokrats",
          "rits",
          "pedeja_bridi",
          "latvijas_sargs",
          "latvija",
          "padomju_latvija",
          "kopdarbiba",
          "cina",
          "latvijas_jaunatne",
          "komunists_liepaja",
          "baltijas_vestnesis",
          "izglitibas_ministrijas_menesraksts",
          "daugava",
          "universitas",
          "ilustretais_zurnals",
          "burtnieks",
          "talsu_aprinka_vestnesis",
          "liesma_valmiera",
          "kino",
          "jaunibas_tekas",
          "sejejs",
          "teatra_vestnesis",
          "muzikas_nedela",
          "muzikas_apskats",
          "laikmets",
          "laiks",
          "senatne_un_maksla",
          "raksti_un_maksla",
          "dadzis",
          "latvju_muzika",
          "karogs",
          "zvaigzne",
          "pionieris",
          "vainags",
          "tauretajs",
          "tevija_vd"
         ],
         "xaxis": "x",
         "y": [
          442074,
          332470,
          255273,
          185816,
          164535,
          156907,
          137651,
          131032,
          79632,
          20880,
          12137,
          9478,
          8341,
          5958,
          5191,
          4739,
          4375,
          4233,
          3618,
          3339,
          2723,
          2479,
          2343,
          2173,
          2150,
          1879,
          1321,
          1300,
          1274,
          519,
          382,
          317,
          220,
          219,
          210,
          184,
          131,
          93,
          80,
          51,
          14
         ],
         "yaxis": "y"
        }
       ],
       "layout": {
        "barmode": "relative",
        "legend": {
         "tracegroupgap": 0
        },
        "template": {
         "data": {
          "bar": [
           {
            "error_x": {
             "color": "#2a3f5f"
            },
            "error_y": {
             "color": "#2a3f5f"
            },
            "marker": {
             "line": {
              "color": "#E5ECF6",
              "width": 0.5
             },
             "pattern": {
              "fillmode": "overlay",
              "size": 10,
              "solidity": 0.2
             }
            },
            "type": "bar"
           }
          ],
          "barpolar": [
           {
            "marker": {
             "line": {
              "color": "#E5ECF6",
              "width": 0.5
             },
             "pattern": {
              "fillmode": "overlay",
              "size": 10,
              "solidity": 0.2
             }
            },
            "type": "barpolar"
           }
          ],
          "carpet": [
           {
            "aaxis": {
             "endlinecolor": "#2a3f5f",
             "gridcolor": "white",
             "linecolor": "white",
             "minorgridcolor": "white",
             "startlinecolor": "#2a3f5f"
            },
            "baxis": {
             "endlinecolor": "#2a3f5f",
             "gridcolor": "white",
             "linecolor": "white",
             "minorgridcolor": "white",
             "startlinecolor": "#2a3f5f"
            },
            "type": "carpet"
           }
          ],
          "choropleth": [
           {
            "colorbar": {
             "outlinewidth": 0,
             "ticks": ""
            },
            "type": "choropleth"
           }
          ],
          "contour": [
           {
            "colorbar": {
             "outlinewidth": 0,
             "ticks": ""
            },
            "colorscale": [
             [
              0,
              "#0d0887"
             ],
             [
              0.1111111111111111,
              "#46039f"
             ],
             [
              0.2222222222222222,
              "#7201a8"
             ],
             [
              0.3333333333333333,
              "#9c179e"
             ],
             [
              0.4444444444444444,
              "#bd3786"
             ],
             [
              0.5555555555555556,
              "#d8576b"
             ],
             [
              0.6666666666666666,
              "#ed7953"
             ],
             [
              0.7777777777777778,
              "#fb9f3a"
             ],
             [
              0.8888888888888888,
              "#fdca26"
             ],
             [
              1,
              "#f0f921"
             ]
            ],
            "type": "contour"
           }
          ],
          "contourcarpet": [
           {
            "colorbar": {
             "outlinewidth": 0,
             "ticks": ""
            },
            "type": "contourcarpet"
           }
          ],
          "heatmap": [
           {
            "colorbar": {
             "outlinewidth": 0,
             "ticks": ""
            },
            "colorscale": [
             [
              0,
              "#0d0887"
             ],
             [
              0.1111111111111111,
              "#46039f"
             ],
             [
              0.2222222222222222,
              "#7201a8"
             ],
             [
              0.3333333333333333,
              "#9c179e"
             ],
             [
              0.4444444444444444,
              "#bd3786"
             ],
             [
              0.5555555555555556,
              "#d8576b"
             ],
             [
              0.6666666666666666,
              "#ed7953"
             ],
             [
              0.7777777777777778,
              "#fb9f3a"
             ],
             [
              0.8888888888888888,
              "#fdca26"
             ],
             [
              1,
              "#f0f921"
             ]
            ],
            "type": "heatmap"
           }
          ],
          "heatmapgl": [
           {
            "colorbar": {
             "outlinewidth": 0,
             "ticks": ""
            },
            "colorscale": [
             [
              0,
              "#0d0887"
             ],
             [
              0.1111111111111111,
              "#46039f"
             ],
             [
              0.2222222222222222,
              "#7201a8"
             ],
             [
              0.3333333333333333,
              "#9c179e"
             ],
             [
              0.4444444444444444,
              "#bd3786"
             ],
             [
              0.5555555555555556,
              "#d8576b"
             ],
             [
              0.6666666666666666,
              "#ed7953"
             ],
             [
              0.7777777777777778,
              "#fb9f3a"
             ],
             [
              0.8888888888888888,
              "#fdca26"
             ],
             [
              1,
              "#f0f921"
             ]
            ],
            "type": "heatmapgl"
           }
          ],
          "histogram": [
           {
            "marker": {
             "pattern": {
              "fillmode": "overlay",
              "size": 10,
              "solidity": 0.2
             }
            },
            "type": "histogram"
           }
          ],
          "histogram2d": [
           {
            "colorbar": {
             "outlinewidth": 0,
             "ticks": ""
            },
            "colorscale": [
             [
              0,
              "#0d0887"
             ],
             [
              0.1111111111111111,
              "#46039f"
             ],
             [
              0.2222222222222222,
              "#7201a8"
             ],
             [
              0.3333333333333333,
              "#9c179e"
             ],
             [
              0.4444444444444444,
              "#bd3786"
             ],
             [
              0.5555555555555556,
              "#d8576b"
             ],
             [
              0.6666666666666666,
              "#ed7953"
             ],
             [
              0.7777777777777778,
              "#fb9f3a"
             ],
             [
              0.8888888888888888,
              "#fdca26"
             ],
             [
              1,
              "#f0f921"
             ]
            ],
            "type": "histogram2d"
           }
          ],
          "histogram2dcontour": [
           {
            "colorbar": {
             "outlinewidth": 0,
             "ticks": ""
            },
            "colorscale": [
             [
              0,
              "#0d0887"
             ],
             [
              0.1111111111111111,
              "#46039f"
             ],
             [
              0.2222222222222222,
              "#7201a8"
             ],
             [
              0.3333333333333333,
              "#9c179e"
             ],
             [
              0.4444444444444444,
              "#bd3786"
             ],
             [
              0.5555555555555556,
              "#d8576b"
             ],
             [
              0.6666666666666666,
              "#ed7953"
             ],
             [
              0.7777777777777778,
              "#fb9f3a"
             ],
             [
              0.8888888888888888,
              "#fdca26"
             ],
             [
              1,
              "#f0f921"
             ]
            ],
            "type": "histogram2dcontour"
           }
          ],
          "mesh3d": [
           {
            "colorbar": {
             "outlinewidth": 0,
             "ticks": ""
            },
            "type": "mesh3d"
           }
          ],
          "parcoords": [
           {
            "line": {
             "colorbar": {
              "outlinewidth": 0,
              "ticks": ""
             }
            },
            "type": "parcoords"
           }
          ],
          "pie": [
           {
            "automargin": true,
            "type": "pie"
           }
          ],
          "scatter": [
           {
            "fillpattern": {
             "fillmode": "overlay",
             "size": 10,
             "solidity": 0.2
            },
            "type": "scatter"
           }
          ],
          "scatter3d": [
           {
            "line": {
             "colorbar": {
              "outlinewidth": 0,
              "ticks": ""
             }
            },
            "marker": {
             "colorbar": {
              "outlinewidth": 0,
              "ticks": ""
             }
            },
            "type": "scatter3d"
           }
          ],
          "scattercarpet": [
           {
            "marker": {
             "colorbar": {
              "outlinewidth": 0,
              "ticks": ""
             }
            },
            "type": "scattercarpet"
           }
          ],
          "scattergeo": [
           {
            "marker": {
             "colorbar": {
              "outlinewidth": 0,
              "ticks": ""
             }
            },
            "type": "scattergeo"
           }
          ],
          "scattergl": [
           {
            "marker": {
             "colorbar": {
              "outlinewidth": 0,
              "ticks": ""
             }
            },
            "type": "scattergl"
           }
          ],
          "scattermapbox": [
           {
            "marker": {
             "colorbar": {
              "outlinewidth": 0,
              "ticks": ""
             }
            },
            "type": "scattermapbox"
           }
          ],
          "scatterpolar": [
           {
            "marker": {
             "colorbar": {
              "outlinewidth": 0,
              "ticks": ""
             }
            },
            "type": "scatterpolar"
           }
          ],
          "scatterpolargl": [
           {
            "marker": {
             "colorbar": {
              "outlinewidth": 0,
              "ticks": ""
             }
            },
            "type": "scatterpolargl"
           }
          ],
          "scatterternary": [
           {
            "marker": {
             "colorbar": {
              "outlinewidth": 0,
              "ticks": ""
             }
            },
            "type": "scatterternary"
           }
          ],
          "surface": [
           {
            "colorbar": {
             "outlinewidth": 0,
             "ticks": ""
            },
            "colorscale": [
             [
              0,
              "#0d0887"
             ],
             [
              0.1111111111111111,
              "#46039f"
             ],
             [
              0.2222222222222222,
              "#7201a8"
             ],
             [
              0.3333333333333333,
              "#9c179e"
             ],
             [
              0.4444444444444444,
              "#bd3786"
             ],
             [
              0.5555555555555556,
              "#d8576b"
             ],
             [
              0.6666666666666666,
              "#ed7953"
             ],
             [
              0.7777777777777778,
              "#fb9f3a"
             ],
             [
              0.8888888888888888,
              "#fdca26"
             ],
             [
              1,
              "#f0f921"
             ]
            ],
            "type": "surface"
           }
          ],
          "table": [
           {
            "cells": {
             "fill": {
              "color": "#EBF0F8"
             },
             "line": {
              "color": "white"
             }
            },
            "header": {
             "fill": {
              "color": "#C8D4E3"
             },
             "line": {
              "color": "white"
             }
            },
            "type": "table"
           }
          ]
         },
         "layout": {
          "annotationdefaults": {
           "arrowcolor": "#2a3f5f",
           "arrowhead": 0,
           "arrowwidth": 1
          },
          "autotypenumbers": "strict",
          "coloraxis": {
           "colorbar": {
            "outlinewidth": 0,
            "ticks": ""
           }
          },
          "colorscale": {
           "diverging": [
            [
             0,
             "#8e0152"
            ],
            [
             0.1,
             "#c51b7d"
            ],
            [
             0.2,
             "#de77ae"
            ],
            [
             0.3,
             "#f1b6da"
            ],
            [
             0.4,
             "#fde0ef"
            ],
            [
             0.5,
             "#f7f7f7"
            ],
            [
             0.6,
             "#e6f5d0"
            ],
            [
             0.7,
             "#b8e186"
            ],
            [
             0.8,
             "#7fbc41"
            ],
            [
             0.9,
             "#4d9221"
            ],
            [
             1,
             "#276419"
            ]
           ],
           "sequential": [
            [
             0,
             "#0d0887"
            ],
            [
             0.1111111111111111,
             "#46039f"
            ],
            [
             0.2222222222222222,
             "#7201a8"
            ],
            [
             0.3333333333333333,
             "#9c179e"
            ],
            [
             0.4444444444444444,
             "#bd3786"
            ],
            [
             0.5555555555555556,
             "#d8576b"
            ],
            [
             0.6666666666666666,
             "#ed7953"
            ],
            [
             0.7777777777777778,
             "#fb9f3a"
            ],
            [
             0.8888888888888888,
             "#fdca26"
            ],
            [
             1,
             "#f0f921"
            ]
           ],
           "sequentialminus": [
            [
             0,
             "#0d0887"
            ],
            [
             0.1111111111111111,
             "#46039f"
            ],
            [
             0.2222222222222222,
             "#7201a8"
            ],
            [
             0.3333333333333333,
             "#9c179e"
            ],
            [
             0.4444444444444444,
             "#bd3786"
            ],
            [
             0.5555555555555556,
             "#d8576b"
            ],
            [
             0.6666666666666666,
             "#ed7953"
            ],
            [
             0.7777777777777778,
             "#fb9f3a"
            ],
            [
             0.8888888888888888,
             "#fdca26"
            ],
            [
             1,
             "#f0f921"
            ]
           ]
          },
          "colorway": [
           "#636efa",
           "#EF553B",
           "#00cc96",
           "#ab63fa",
           "#FFA15A",
           "#19d3f3",
           "#FF6692",
           "#B6E880",
           "#FF97FF",
           "#FECB52"
          ],
          "font": {
           "color": "#2a3f5f"
          },
          "geo": {
           "bgcolor": "white",
           "lakecolor": "white",
           "landcolor": "#E5ECF6",
           "showlakes": true,
           "showland": true,
           "subunitcolor": "white"
          },
          "hoverlabel": {
           "align": "left"
          },
          "hovermode": "closest",
          "mapbox": {
           "style": "light"
          },
          "paper_bgcolor": "white",
          "plot_bgcolor": "#E5ECF6",
          "polar": {
           "angularaxis": {
            "gridcolor": "white",
            "linecolor": "white",
            "ticks": ""
           },
           "bgcolor": "#E5ECF6",
           "radialaxis": {
            "gridcolor": "white",
            "linecolor": "white",
            "ticks": ""
           }
          },
          "scene": {
           "xaxis": {
            "backgroundcolor": "#E5ECF6",
            "gridcolor": "white",
            "gridwidth": 2,
            "linecolor": "white",
            "showbackground": true,
            "ticks": "",
            "zerolinecolor": "white"
           },
           "yaxis": {
            "backgroundcolor": "#E5ECF6",
            "gridcolor": "white",
            "gridwidth": 2,
            "linecolor": "white",
            "showbackground": true,
            "ticks": "",
            "zerolinecolor": "white"
           },
           "zaxis": {
            "backgroundcolor": "#E5ECF6",
            "gridcolor": "white",
            "gridwidth": 2,
            "linecolor": "white",
            "showbackground": true,
            "ticks": "",
            "zerolinecolor": "white"
           }
          },
          "shapedefaults": {
           "line": {
            "color": "#2a3f5f"
           }
          },
          "ternary": {
           "aaxis": {
            "gridcolor": "white",
            "linecolor": "white",
            "ticks": ""
           },
           "baxis": {
            "gridcolor": "white",
            "linecolor": "white",
            "ticks": ""
           },
           "bgcolor": "#E5ECF6",
           "caxis": {
            "gridcolor": "white",
            "linecolor": "white",
            "ticks": ""
           }
          },
          "title": {
           "x": 0.05
          },
          "xaxis": {
           "automargin": true,
           "gridcolor": "white",
           "linecolor": "white",
           "ticks": "",
           "title": {
            "standoff": 15
           },
           "zerolinecolor": "white",
           "zerolinewidth": 2
          },
          "yaxis": {
           "automargin": true,
           "gridcolor": "white",
           "linecolor": "white",
           "ticks": "",
           "title": {
            "standoff": 15
           },
           "zerolinecolor": "white",
           "zerolinewidth": 2
          }
         }
        },
        "title": {
         "text": "Publications 1920-1940"
        },
        "xaxis": {
         "anchor": "y",
         "domain": [
          0,
          1
         ],
         "title": {
          "text": "publication"
         }
        },
        "yaxis": {
         "anchor": "x",
         "domain": [
          0,
          1
         ],
         "title": {
          "text": "count_1920_1940"
         },
         "type": "log"
        }
       }
      }
     },
     "metadata": {},
     "output_type": "display_data"
    }
   ],
   "source": [
    "# let's sourt by count_1920_1940 and plot bar chart\n",
    "df_filtered = df_filtered.sort_values(\"count_1920_1940\", ascending=False)\n",
    "fig = px.bar(df_filtered, x=\"publication\", y=\"count_1920_1940\", title=\"Publications 1920-1940\")\n",
    "# let's use log scale on y axis\n",
    "fig.update_yaxes(type=\"log\")\n",
    "# html folder\n",
    "html_folder = Path(\"../html\")\n",
    "# create folder if it does not exist\n",
    "html_folder.mkdir(exist_ok=True)\n",
    "# download plot as HTML file\n",
    "fig.write_html(html_folder / \"articles_publications_summary.html\")\n",
    "# save png file\n",
    "png_folder = Path(\"../png\")\n",
    "# create folder if it does not exist\n",
    "png_folder.mkdir(exist_ok=True)\n",
    "png_file = png_folder / \"articles_publications_summary.png\"\n",
    "fig.write_image(png_file)\n",
    "fig.show()"
   ]
  },
  {
   "cell_type": "code",
   "execution_count": 58,
   "metadata": {},
   "outputs": [
    {
     "name": "stdout",
     "output_type": "stream",
     "text": [
      "<class 'pandas.core.frame.DataFrame'>\n",
      "RangeIndex: 118 entries, 0 to 117\n",
      "Data columns (total 6 columns):\n",
      " #   Column           Non-Null Count  Dtype \n",
      "---  ------           --------------  ----- \n",
      " 0   publication      118 non-null    object\n",
      " 1   min_year         118 non-null    int64 \n",
      " 2   max_year         118 non-null    int64 \n",
      " 3   total_count      118 non-null    int64 \n",
      " 4   count_1920_1940  118 non-null    int64 \n",
      " 5   zip_file         118 non-null    object\n",
      "dtypes: int64(4), object(2)\n",
      "memory usage: 5.7+ KB\n"
     ]
    }
   ],
   "source": [
    "df.info()"
   ]
  },
  {
   "cell_type": "code",
   "execution_count": 60,
   "metadata": {},
   "outputs": [],
   "source": [
    "# TODO FIXME bars currently are too small to see anything\n",
    "# let's create a visualization of total counts for each publication from min_year to max_year\n",
    "# y axis will be publication\n",
    "# x axis will be min_year to max_year\n",
    "# size of bar will be total_count\n",
    "# fig = go.Figure()\n",
    "# for i, row in df.iterrows():\n",
    "#     fig.add_trace(go.Bar(x=[row[\"min_year\"], row[\"max_year\"]],\n",
    "#                             y=[row[\"publication\"], row[\"publication\"]],\n",
    "#                             orientation=\"h\",\n",
    "#                             marker=dict(color=\"blue\"),\n",
    "#                             text=row[\"total_count\"],\n",
    "#                             textposition=\"inside\",\n",
    "#                             name=row[\"publication\"]))\n",
    "# # let's add title and labels\n",
    "# fig.update_layout(title=\"Publications by year\",\n",
    "#                     xaxis_title=\"Year\",\n",
    "#                     yaxis_title=\"Publication\",\n",
    "#                     # barmode=\"stack\"\n",
    "#                     )\n",
    "# # download plot as HTML file\n",
    "# # fig.write_html(html_folder / \"articles_publications_by_year.html\")\n",
    "# # # save png file\n",
    "# # png_file = png_folder / \"articles_publications_by_year.png\"\n",
    "# # fig.write_image(png_file)\n",
    "# fig.show()"
   ]
  }
 ],
 "metadata": {
  "kernelspec": {
   "display_name": "venv312",
   "language": "python",
   "name": "python3"
  },
  "language_info": {
   "codemirror_mode": {
    "name": "ipython",
    "version": 3
   },
   "file_extension": ".py",
   "mimetype": "text/x-python",
   "name": "python",
   "nbconvert_exporter": "python",
   "pygments_lexer": "ipython3",
   "version": "3.12.2"
  }
 },
 "nbformat": 4,
 "nbformat_minor": 2
}
