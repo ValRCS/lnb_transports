{
 "cells": [
  {
   "cell_type": "markdown",
   "metadata": {},
   "source": [
    "# Gathering Stats about Latvian Periodicals\n",
    "\n",
    "We will explore zip files that store plaintext files of Latvian periodicals. We will gather some statistics about the periodicals and their content.\n",
    "\n",
    "## Years published\n",
    "\n",
    "Our first task will be to extract years from the filenames of the periodicals. We will use regular expressions to extract the years from the filenames.\n",
    "\n",
    "The file names are stored in zip files. We will use the `zipfile` module to extract the filenames from the zip files."
   ]
  },
  {
   "cell_type": "code",
   "execution_count": 1,
   "metadata": {},
   "outputs": [
    {
     "name": "stdout",
     "output_type": "stream",
     "text": [
      "Python version: 3.12.2 (tags/v3.12.2:6abddd9, Feb  6 2024, 21:26:36) [MSC v.1937 64 bit (AMD64)]\n",
      "Current date and time: 2024-06-14 11:24:58.258054\n",
      "Computer processor: Intel64 Family 6 Model 60 Stepping 3, GenuineIntel\n",
      "Current working directory: c:\\Users\\vsaules\\Github\\lnb_transports\\notebooks\n",
      "Pandas version: 2.2.1\n",
      "Plotly version: 5.19.0\n"
     ]
    }
   ],
   "source": [
    "# first get Python version\n",
    "import sys\n",
    "print(f\"Python version: {sys.version}\")\n",
    "from pathlib import Path\n",
    "from datetime import datetime\n",
    "print(f\"Current date and time: {datetime.now()}\")\n",
    "# computer CPU type\n",
    "import platform\n",
    "print(f\"Computer processor: {platform.processor()}\")\n",
    "# print current working directory\n",
    "print(f\"Current working directory: {Path.cwd()}\")\n",
    "import zipfile\n",
    "import re\n",
    "import pandas as pd\n",
    "print(f\"Pandas version: {pd.__version__}\")\n",
    "from tqdm import tqdm\n",
    "# let's import visualization library Plotly\n",
    "import plotly.express as px\n",
    "import plotly.graph_objects as go\n",
    "from plotly import __version__ as plotly_version\n",
    "print(f\"Plotly version: {plotly_version}\")\n"
   ]
  },
  {
   "cell_type": "code",
   "execution_count": 2,
   "metadata": {},
   "outputs": [
    {
     "name": "stdout",
     "output_type": "stream",
     "text": [
      "Source folder: I:\\zips\n",
      "Number of files: 118\n"
     ]
    }
   ],
   "source": [
    "src_folder = Path(\"I:/zips\")\n",
    "assert src_folder.exists(), f\"Source folder {src_folder} does not exist\"\n",
    "print(f\"Source folder: {src_folder}\")\n",
    "# get list of files that contain word articles in them\n",
    "files = list(src_folder.glob(\"*articles*.zip\"))\n",
    "print(f\"Number of files: {len(files)}\")\n"
   ]
  },
  {
   "cell_type": "code",
   "execution_count": 3,
   "metadata": {},
   "outputs": [
    {
     "name": "stdout",
     "output_type": "stream",
     "text": [
      "File: I:\\zips\\adelaides_latviesu_zinotajs_articles.zip\n",
      "Number of files in zip: 725\n"
     ]
    }
   ],
   "source": [
    "# now we will write a function that will extract file names from a single zip file\n",
    "def get_file_names(zip_file: Path, skip=1) -> list:\n",
    "    with zipfile.ZipFile(zip_file, \"r\") as z:\n",
    "        # get rid of folder names - we know first one is generally folder\n",
    "        file_paths = z.namelist()[skip:]\n",
    "        # now we only want file paths without folders\n",
    "        file_names = [Path(file_path).name for file_path in file_paths]\n",
    "        return file_names\n",
    "z_file = files[0]\n",
    "print(f\"File: {z_file}\")\n",
    "file_names = get_file_names(z_file)\n",
    "print(f\"Number of files in zip: {len(file_names)}\")"
   ]
  },
  {
   "cell_type": "code",
   "execution_count": 22,
   "metadata": {},
   "outputs": [
    {
     "name": "stdout",
     "output_type": "stream",
     "text": [
      "['xalz1962n114_001_plaintext_s01.txt', 'xalz1962n114_001_plaintext_s02.txt', 'xalz1962n114_002_plaintext_s03.txt']\n"
     ]
    }
   ],
   "source": [
    "# first 3 filenames\n",
    "print(file_names[:3])"
   ]
  },
  {
   "cell_type": "code",
   "execution_count": 4,
   "metadata": {},
   "outputs": [
    {
     "name": "stdout",
     "output_type": "stream",
     "text": [
      "Title: xalz, Year: 1962\n"
     ]
    }
   ],
   "source": [
    "# now let's write a function that will take a single file name and extract following two pieces of information:\n",
    "# title - which is any text before year\n",
    "# year - which is first 4 digit number in the file name\n",
    "# we will use regular expression to extract year from the file name\n",
    "def get_title_and_year(file_name: str) -> tuple:\n",
    "    # regular expression to extract year\n",
    "    year = re.search(r\"\\d{4}\", file_name).group()\n",
    "    # if length of year is not 4, return None\n",
    "    if len(year) != 4:\n",
    "        return {}\n",
    "    # title is any text before year\n",
    "    title = file_name.split(year)[0].strip()\n",
    "    return {\"title\": title, \"year\": int(year)}\n",
    "# let's test this function on first file name\n",
    "d = get_title_and_year(file_names[0])\n",
    "print(f\"Title: {d['title']}, Year: {d['year']}\")\n"
   ]
  },
  {
   "cell_type": "code",
   "execution_count": 5,
   "metadata": {},
   "outputs": [
    {
     "name": "stdout",
     "output_type": "stream",
     "text": [
      "Number of titles and years: 725\n",
      "[{'title': 'xalz', 'year': 1962}, {'title': 'xalz', 'year': 1962}, {'title': 'xalz', 'year': 1962}]\n",
      "[{'title': 'xalz', 'year': 2003}, {'title': 'xalz', 'year': 2003}, {'title': 'xalz', 'year': 2003}]\n"
     ]
    }
   ],
   "source": [
    "# now let us write a function that given filenames will return a list of dictionaries\n",
    "# each dictionary will have two keys: title and year\n",
    "def get_titles_and_years(file_names: list) -> list:\n",
    "    return [get_title_and_year(file_name) for file_name in file_names]\n",
    "# let's test this function\n",
    "titles_and_years = get_titles_and_years(file_names)\n",
    "# how many titles and years\n",
    "print(f\"Number of titles and years: {len(titles_and_years)}\")\n",
    "# first 3 titles and years\n",
    "print(titles_and_years[:3])\n",
    "# last 3 titles and years\n",
    "print(titles_and_years[-3:])"
   ]
  },
  {
   "cell_type": "code",
   "execution_count": 6,
   "metadata": {},
   "outputs": [
    {
     "name": "stdout",
     "output_type": "stream",
     "text": [
      "{'min_year': 1962, 'max_year': 2003, 'total_count': 725, 'count_1920_1940': 0}\n"
     ]
    }
   ],
   "source": [
    "# now let us write a function that will take list of dictionaries of  years and titles\n",
    "# additional arguments will be start_year with default value of 1920 and end_year with default value of 1940\n",
    "# this function will convert this list into pandas DataFrame and extract following information:\n",
    "# min_year, max_year, total count of publications, count of publications between start_year and end_year (inclusive)\n",
    "def get_summary(titles_and_years: list, start_year=1920, end_year=1940) -> dict:\n",
    "    df = pd.DataFrame(titles_and_years)\n",
    "    min_year = df[\"year\"].min()\n",
    "    max_year = df[\"year\"].max()\n",
    "    total_count = df.shape[0]\n",
    "    count_between = df.query(f\"{start_year} <= year <= {end_year}\").shape[0]\n",
    "    return {\"min_year\": min_year, \"max_year\": max_year, \"total_count\": total_count, f\"count_{start_year}_{end_year}\": count_between}\n",
    "# let's test this function\n",
    "summary = get_summary(titles_and_years)\n",
    "print(summary)"
   ]
  },
  {
   "cell_type": "code",
   "execution_count": null,
   "metadata": {},
   "outputs": [
    {
     "name": "stdout",
     "output_type": "stream",
     "text": [
      "{'min_year': 1962, 'max_year': 2003, 'total_count': 725, 'count_1920_1940': 0, 'publication': 'adelaides_latviesu_zinotajs', 'zip_file': 'I:/zips/adelaides_latviesu_zinotajs_articles.zip'}\n"
     ]
    }
   ],
   "source": [
    "# let's create a function that given a zip file will return summary of all files in that zip\n",
    "# in addition the dictionary will contain key publication that will contain zip file stem\n",
    "def get_zip_summary(zip_file: Path, \n",
    "                    remove=\"_articles\",\n",
    "                    start_year = 1920,\n",
    "                    end_year = 1940) -> dict:\n",
    "    file_names = get_file_names(zip_file)\n",
    "    titles_and_years = get_titles_and_years(file_names)\n",
    "    summary = get_summary(titles_and_years, start_year=start_year, end_year=end_year)\n",
    "    summary[\"publication\"] = zip_file.stem\n",
    "    # let's remove from publication name\n",
    "    summary[\"publication\"] = summary[\"publication\"].replace(remove, \"\")\n",
    "    # let us also add full zip file path without PosixPath using forward slashes\n",
    "    summary[\"zip_file\"] = zip_file.as_posix()\n",
    "    return summary\n",
    "# let's test this function\n",
    "zip_summary = get_zip_summary(z_file)\n",
    "print(zip_summary)"
   ]
  },
  {
   "cell_type": "code",
   "execution_count": 25,
   "metadata": {},
   "outputs": [
    {
     "name": "stdout",
     "output_type": "stream",
     "text": [
      "{'active_years_count': 12, 'publication_count': 725, 'yr_1962': 14, 'yr_1977': 19, 'yr_1988': 21, 'yr_1995': 43, 'yr_1996': 76, 'yr_1997': 89, 'yr_1998': 60, 'yr_1999': 85, 'yr_2000': 89, 'yr_2001': 108, 'yr_2002': 110, 'yr_2003': 11}\n"
     ]
    }
   ],
   "source": [
    "# let us write a function that will take a list of dictionaries of years and titles and will return value counts of years as a dictionary\n",
    "# keys will be of form \"yr_{year}\" and values will be counts of publications in that year\n",
    "def get_year_counts(titles_and_years: list, key_prefix=\"yr_\") -> dict:\n",
    "    df = pd.DataFrame(titles_and_years)\n",
    "    value_counts_dict = df[\"year\"].value_counts().to_dict()\n",
    "    # convert keys to string with key_prefix\n",
    "    value_counts_dict = {f\"{key_prefix}{k}\": v for k, v in value_counts_dict.items()}\n",
    "    # add total count of years\n",
    "    value_counts_dict[\"active_years_count\"] = len(value_counts_dict) # alternative: df[\"year\"].nunique()\n",
    "    # we chose active_years_count so to avoid potentially interfering with yr_ prefix\n",
    "    # add publication count\n",
    "    value_counts_dict[\"publication_count\"] = df.shape[0]\n",
    "    # replace dictionary with one sorted by key\n",
    "    value_counts_dict = dict(sorted(value_counts_dict.items()))\n",
    "    return value_counts_dict\n",
    "# let's test this function\n",
    "year_counts = get_year_counts(titles_and_years)\n",
    "print(year_counts)"
   ]
  },
  {
   "cell_type": "code",
   "execution_count": 26,
   "metadata": {},
   "outputs": [
    {
     "name": "stdout",
     "output_type": "stream",
     "text": [
      "{'publication': 'adelaides_latviesu_zinotajs', 'zip_file': 'I:/zips/adelaides_latviesu_zinotajs_articles.zip', 'active_years_count': 12, 'publication_count': 725, 'yr_1962': 14, 'yr_1977': 19, 'yr_1988': 21, 'yr_1995': 43, 'yr_1996': 76, 'yr_1997': 89, 'yr_1998': 60, 'yr_1999': 85, 'yr_2000': 89, 'yr_2001': 108, 'yr_2002': 110, 'yr_2003': 11}\n"
     ]
    }
   ],
   "source": [
    "# let's create a function that given a zip file will return year counts in that zip\n",
    "# in addition the dictionary will contain key publication that will contain zip file stem\n",
    "# also there will be key zip_file that will contain full path to zip file in posix format\n",
    "def get_zip_year_counts(zip_file: Path, remove=\"_articles\") -> dict:\n",
    "    file_names = get_file_names(zip_file)\n",
    "    titles_and_years = get_titles_and_years(file_names)\n",
    "    year_counts = {}\n",
    "    year_counts[\"publication\"] = zip_file.stem\n",
    "    # let's remove from publication name\n",
    "    year_counts[\"publication\"] = year_counts[\"publication\"].replace(remove, \"\")\n",
    "    # let us also add full zip file path without PosixPath using forward slashes\n",
    "    year_counts[\"zip_file\"] = zip_file.as_posix()\n",
    "    # now let's update year_counts with results from get_year_counts\n",
    "    year_counts.update(get_year_counts(titles_and_years))\n",
    "\n",
    "    return year_counts\n",
    "\n",
    "# let's test this function\n",
    "year_counts = get_zip_year_counts(z_file)\n",
    "print(year_counts)"
   ]
  },
  {
   "cell_type": "code",
   "execution_count": 27,
   "metadata": {},
   "outputs": [],
   "source": [
    "# now let us write a function that will take a list of zip files and return a DataFrame with year counts along with publication name and full zip file path\n",
    "def get_all_year_counts(zip_files: list,\n",
    "                        remove_postfix=\"_articles\",\n",
    "                        csv_file = Path(\"../csv/articles_publications_yearly_summary.csv\"),\n",
    "                        excel_file = Path(\"../xlsx/articles_publications_yearly_summary.xlsx\"),\n",
    "                        parquet_file = Path(\"../parquet/articles_publications_yearly_summary.parquet\")\n",
    "                        ) -> pd.DataFrame:\n",
    "\n",
    "    all_year_counts = [get_zip_year_counts(zip_file, remove=remove_postfix) for zip_file in tqdm(zip_files)]\n",
    "    df = pd.DataFrame(all_year_counts)\n",
    "    # save to csv\n",
    "    if csv_file:\n",
    "        print(f\"Saving to csv file: {csv_file}\")\n",
    "        df.to_csv(csv_file, index=False)\n",
    "    # save to excel\n",
    "    if excel_file:\n",
    "        print(f\"Saving to excel file: {excel_file}\")\n",
    "        df.to_excel(excel_file, index=False)\n",
    "    # save to parquet\n",
    "    if parquet_file:\n",
    "        print(f\"Saving to parquet file: {parquet_file}\")\n",
    "        df.to_parquet(parquet_file, index=False)\n",
    "    return df"
   ]
  },
  {
   "cell_type": "markdown",
   "metadata": {},
   "source": [
    "## Getting yearly summary data"
   ]
  },
  {
   "cell_type": "code",
   "execution_count": 28,
   "metadata": {},
   "outputs": [
    {
     "name": "stderr",
     "output_type": "stream",
     "text": [
      "100%|██████████| 118/118 [02:19<00:00,  1.18s/it]\n"
     ]
    },
    {
     "name": "stdout",
     "output_type": "stream",
     "text": [
      "Saving to csv file: ..\\csv\\articles_publications_yearly_summary.csv\n",
      "Saving to excel file: ..\\xlsx\\articles_publications_yearly_summary.xlsx\n",
      "Saving to parquet file: ..\\parquet\\articles_publications_yearly_summary.parquet\n",
      "(118, 198)\n"
     ]
    },
    {
     "data": {
      "text/html": [
       "<div>\n",
       "<style scoped>\n",
       "    .dataframe tbody tr th:only-of-type {\n",
       "        vertical-align: middle;\n",
       "    }\n",
       "\n",
       "    .dataframe tbody tr th {\n",
       "        vertical-align: top;\n",
       "    }\n",
       "\n",
       "    .dataframe thead th {\n",
       "        text-align: right;\n",
       "    }\n",
       "</style>\n",
       "<table border=\"1\" class=\"dataframe\">\n",
       "  <thead>\n",
       "    <tr style=\"text-align: right;\">\n",
       "      <th></th>\n",
       "      <th>publication</th>\n",
       "      <th>zip_file</th>\n",
       "      <th>active_years_count</th>\n",
       "      <th>publication_count</th>\n",
       "      <th>yr_1962</th>\n",
       "      <th>yr_1977</th>\n",
       "      <th>yr_1988</th>\n",
       "      <th>yr_1995</th>\n",
       "      <th>yr_1996</th>\n",
       "      <th>yr_1997</th>\n",
       "      <th>...</th>\n",
       "      <th>yr_1862</th>\n",
       "      <th>yr_1863</th>\n",
       "      <th>yr_1864</th>\n",
       "      <th>yr_1865</th>\n",
       "      <th>yr_1866</th>\n",
       "      <th>yr_1867</th>\n",
       "      <th>yr_2019</th>\n",
       "      <th>yr_2020</th>\n",
       "      <th>yr_2021</th>\n",
       "      <th>yr_2022</th>\n",
       "    </tr>\n",
       "  </thead>\n",
       "  <tbody>\n",
       "    <tr>\n",
       "      <th>0</th>\n",
       "      <td>adelaides_latviesu_zinotajs</td>\n",
       "      <td>I:/zips/adelaides_latviesu_zinotajs_articles.zip</td>\n",
       "      <td>12</td>\n",
       "      <td>725</td>\n",
       "      <td>14.0</td>\n",
       "      <td>19.0</td>\n",
       "      <td>21.0</td>\n",
       "      <td>43.0</td>\n",
       "      <td>76.0</td>\n",
       "      <td>89.0</td>\n",
       "      <td>...</td>\n",
       "      <td>NaN</td>\n",
       "      <td>NaN</td>\n",
       "      <td>NaN</td>\n",
       "      <td>NaN</td>\n",
       "      <td>NaN</td>\n",
       "      <td>NaN</td>\n",
       "      <td>NaN</td>\n",
       "      <td>NaN</td>\n",
       "      <td>NaN</td>\n",
       "      <td>NaN</td>\n",
       "    </tr>\n",
       "    <tr>\n",
       "      <th>1</th>\n",
       "      <td>australijas_latvietis</td>\n",
       "      <td>I:/zips/australijas_latvietis_articles.zip</td>\n",
       "      <td>63</td>\n",
       "      <td>93179</td>\n",
       "      <td>2102.0</td>\n",
       "      <td>1415.0</td>\n",
       "      <td>1193.0</td>\n",
       "      <td>977.0</td>\n",
       "      <td>896.0</td>\n",
       "      <td>981.0</td>\n",
       "      <td>...</td>\n",
       "      <td>NaN</td>\n",
       "      <td>NaN</td>\n",
       "      <td>NaN</td>\n",
       "      <td>NaN</td>\n",
       "      <td>NaN</td>\n",
       "      <td>NaN</td>\n",
       "      <td>NaN</td>\n",
       "      <td>NaN</td>\n",
       "      <td>NaN</td>\n",
       "      <td>NaN</td>\n",
       "    </tr>\n",
       "    <tr>\n",
       "      <th>2</th>\n",
       "      <td>avangards_daugavpils</td>\n",
       "      <td>I:/zips/avangards_daugavpils_articles.zip</td>\n",
       "      <td>31</td>\n",
       "      <td>77967</td>\n",
       "      <td>1842.0</td>\n",
       "      <td>2794.0</td>\n",
       "      <td>1906.0</td>\n",
       "      <td>NaN</td>\n",
       "      <td>NaN</td>\n",
       "      <td>NaN</td>\n",
       "      <td>...</td>\n",
       "      <td>NaN</td>\n",
       "      <td>NaN</td>\n",
       "      <td>NaN</td>\n",
       "      <td>NaN</td>\n",
       "      <td>NaN</td>\n",
       "      <td>NaN</td>\n",
       "      <td>NaN</td>\n",
       "      <td>NaN</td>\n",
       "      <td>NaN</td>\n",
       "      <td>NaN</td>\n",
       "    </tr>\n",
       "  </tbody>\n",
       "</table>\n",
       "<p>3 rows × 198 columns</p>\n",
       "</div>"
      ],
      "text/plain": [
       "                   publication  \\\n",
       "0  adelaides_latviesu_zinotajs   \n",
       "1        australijas_latvietis   \n",
       "2         avangards_daugavpils   \n",
       "\n",
       "                                           zip_file  active_years_count  \\\n",
       "0  I:/zips/adelaides_latviesu_zinotajs_articles.zip                  12   \n",
       "1        I:/zips/australijas_latvietis_articles.zip                  63   \n",
       "2         I:/zips/avangards_daugavpils_articles.zip                  31   \n",
       "\n",
       "   publication_count  yr_1962  yr_1977  yr_1988  yr_1995  yr_1996  yr_1997  \\\n",
       "0                725     14.0     19.0     21.0     43.0     76.0     89.0   \n",
       "1              93179   2102.0   1415.0   1193.0    977.0    896.0    981.0   \n",
       "2              77967   1842.0   2794.0   1906.0      NaN      NaN      NaN   \n",
       "\n",
       "   ...  yr_1862  yr_1863  yr_1864  yr_1865  yr_1866  yr_1867  yr_2019  \\\n",
       "0  ...      NaN      NaN      NaN      NaN      NaN      NaN      NaN   \n",
       "1  ...      NaN      NaN      NaN      NaN      NaN      NaN      NaN   \n",
       "2  ...      NaN      NaN      NaN      NaN      NaN      NaN      NaN   \n",
       "\n",
       "   yr_2020  yr_2021  yr_2022  \n",
       "0      NaN      NaN      NaN  \n",
       "1      NaN      NaN      NaN  \n",
       "2      NaN      NaN      NaN  \n",
       "\n",
       "[3 rows x 198 columns]"
      ]
     },
     "execution_count": 28,
     "metadata": {},
     "output_type": "execute_result"
    }
   ],
   "source": [
    "df = get_all_year_counts(files)\n",
    "# shape\n",
    "print(df.shape)\n",
    "# first 3 rows\n",
    "df.head(3)"
   ]
  },
  {
   "cell_type": "code",
   "execution_count": 29,
   "metadata": {},
   "outputs": [
    {
     "data": {
      "text/html": [
       "<div>\n",
       "<style scoped>\n",
       "    .dataframe tbody tr th:only-of-type {\n",
       "        vertical-align: middle;\n",
       "    }\n",
       "\n",
       "    .dataframe tbody tr th {\n",
       "        vertical-align: top;\n",
       "    }\n",
       "\n",
       "    .dataframe thead th {\n",
       "        text-align: right;\n",
       "    }\n",
       "</style>\n",
       "<table border=\"1\" class=\"dataframe\">\n",
       "  <thead>\n",
       "    <tr style=\"text-align: right;\">\n",
       "      <th></th>\n",
       "      <th>publication</th>\n",
       "      <th>zip_file</th>\n",
       "      <th>active_years_count</th>\n",
       "      <th>publication_count</th>\n",
       "      <th>yr_1822</th>\n",
       "      <th>yr_1823</th>\n",
       "      <th>yr_1824</th>\n",
       "      <th>yr_1825</th>\n",
       "      <th>yr_1826</th>\n",
       "      <th>yr_1827</th>\n",
       "      <th>...</th>\n",
       "      <th>yr_2006</th>\n",
       "      <th>yr_2007</th>\n",
       "      <th>yr_2008</th>\n",
       "      <th>yr_2009</th>\n",
       "      <th>yr_2010</th>\n",
       "      <th>yr_2011</th>\n",
       "      <th>yr_2019</th>\n",
       "      <th>yr_2020</th>\n",
       "      <th>yr_2021</th>\n",
       "      <th>yr_2022</th>\n",
       "    </tr>\n",
       "  </thead>\n",
       "  <tbody>\n",
       "    <tr>\n",
       "      <th>0</th>\n",
       "      <td>adelaides_latviesu_zinotajs</td>\n",
       "      <td>I:/zips/adelaides_latviesu_zinotajs_articles.zip</td>\n",
       "      <td>12</td>\n",
       "      <td>725</td>\n",
       "      <td>NaN</td>\n",
       "      <td>NaN</td>\n",
       "      <td>NaN</td>\n",
       "      <td>NaN</td>\n",
       "      <td>NaN</td>\n",
       "      <td>NaN</td>\n",
       "      <td>...</td>\n",
       "      <td>NaN</td>\n",
       "      <td>NaN</td>\n",
       "      <td>NaN</td>\n",
       "      <td>NaN</td>\n",
       "      <td>NaN</td>\n",
       "      <td>NaN</td>\n",
       "      <td>NaN</td>\n",
       "      <td>NaN</td>\n",
       "      <td>NaN</td>\n",
       "      <td>NaN</td>\n",
       "    </tr>\n",
       "    <tr>\n",
       "      <th>1</th>\n",
       "      <td>australijas_latvietis</td>\n",
       "      <td>I:/zips/australijas_latvietis_articles.zip</td>\n",
       "      <td>63</td>\n",
       "      <td>93179</td>\n",
       "      <td>NaN</td>\n",
       "      <td>NaN</td>\n",
       "      <td>NaN</td>\n",
       "      <td>NaN</td>\n",
       "      <td>NaN</td>\n",
       "      <td>NaN</td>\n",
       "      <td>...</td>\n",
       "      <td>1152.0</td>\n",
       "      <td>1259.0</td>\n",
       "      <td>1287.0</td>\n",
       "      <td>1212.0</td>\n",
       "      <td>1251.0</td>\n",
       "      <td>1252.0</td>\n",
       "      <td>NaN</td>\n",
       "      <td>NaN</td>\n",
       "      <td>NaN</td>\n",
       "      <td>NaN</td>\n",
       "    </tr>\n",
       "    <tr>\n",
       "      <th>2</th>\n",
       "      <td>avangards_daugavpils</td>\n",
       "      <td>I:/zips/avangards_daugavpils_articles.zip</td>\n",
       "      <td>31</td>\n",
       "      <td>77967</td>\n",
       "      <td>NaN</td>\n",
       "      <td>NaN</td>\n",
       "      <td>NaN</td>\n",
       "      <td>NaN</td>\n",
       "      <td>NaN</td>\n",
       "      <td>NaN</td>\n",
       "      <td>...</td>\n",
       "      <td>NaN</td>\n",
       "      <td>NaN</td>\n",
       "      <td>NaN</td>\n",
       "      <td>NaN</td>\n",
       "      <td>NaN</td>\n",
       "      <td>NaN</td>\n",
       "      <td>NaN</td>\n",
       "      <td>NaN</td>\n",
       "      <td>NaN</td>\n",
       "      <td>NaN</td>\n",
       "    </tr>\n",
       "  </tbody>\n",
       "</table>\n",
       "<p>3 rows × 198 columns</p>\n",
       "</div>"
      ],
      "text/plain": [
       "                   publication  \\\n",
       "0  adelaides_latviesu_zinotajs   \n",
       "1        australijas_latvietis   \n",
       "2         avangards_daugavpils   \n",
       "\n",
       "                                           zip_file  active_years_count  \\\n",
       "0  I:/zips/adelaides_latviesu_zinotajs_articles.zip                  12   \n",
       "1        I:/zips/australijas_latvietis_articles.zip                  63   \n",
       "2         I:/zips/avangards_daugavpils_articles.zip                  31   \n",
       "\n",
       "   publication_count  yr_1822  yr_1823  yr_1824  yr_1825  yr_1826  yr_1827  \\\n",
       "0                725      NaN      NaN      NaN      NaN      NaN      NaN   \n",
       "1              93179      NaN      NaN      NaN      NaN      NaN      NaN   \n",
       "2              77967      NaN      NaN      NaN      NaN      NaN      NaN   \n",
       "\n",
       "   ...  yr_2006  yr_2007  yr_2008  yr_2009  yr_2010  yr_2011  yr_2019  \\\n",
       "0  ...      NaN      NaN      NaN      NaN      NaN      NaN      NaN   \n",
       "1  ...   1152.0   1259.0   1287.0   1212.0   1251.0   1252.0      NaN   \n",
       "2  ...      NaN      NaN      NaN      NaN      NaN      NaN      NaN   \n",
       "\n",
       "   yr_2020  yr_2021  yr_2022  \n",
       "0      NaN      NaN      NaN  \n",
       "1      NaN      NaN      NaN  \n",
       "2      NaN      NaN      NaN  \n",
       "\n",
       "[3 rows x 198 columns]"
      ]
     },
     "execution_count": 29,
     "metadata": {},
     "output_type": "execute_result"
    }
   ],
   "source": [
    "# let's keep first 4 columns in original order but sort rest of the columns\n",
    "# we will sort columns in ascending order\n",
    "columns = list(df.columns[:4]) + sorted(df.columns[4:])\n",
    "df = df[columns]\n",
    "# first 3 rows\n",
    "df.head(3)"
   ]
  },
  {
   "cell_type": "code",
   "execution_count": 30,
   "metadata": {},
   "outputs": [
    {
     "data": {
      "text/html": [
       "<div>\n",
       "<style scoped>\n",
       "    .dataframe tbody tr th:only-of-type {\n",
       "        vertical-align: middle;\n",
       "    }\n",
       "\n",
       "    .dataframe tbody tr th {\n",
       "        vertical-align: top;\n",
       "    }\n",
       "\n",
       "    .dataframe thead th {\n",
       "        text-align: right;\n",
       "    }\n",
       "</style>\n",
       "<table border=\"1\" class=\"dataframe\">\n",
       "  <thead>\n",
       "    <tr style=\"text-align: right;\">\n",
       "      <th></th>\n",
       "      <th>publication</th>\n",
       "      <th>zip_file</th>\n",
       "      <th>active_years_count</th>\n",
       "      <th>publication_count</th>\n",
       "      <th>1822</th>\n",
       "      <th>1823</th>\n",
       "      <th>1824</th>\n",
       "      <th>1825</th>\n",
       "      <th>1826</th>\n",
       "      <th>1827</th>\n",
       "      <th>...</th>\n",
       "      <th>2006</th>\n",
       "      <th>2007</th>\n",
       "      <th>2008</th>\n",
       "      <th>2009</th>\n",
       "      <th>2010</th>\n",
       "      <th>2011</th>\n",
       "      <th>2019</th>\n",
       "      <th>2020</th>\n",
       "      <th>2021</th>\n",
       "      <th>2022</th>\n",
       "    </tr>\n",
       "  </thead>\n",
       "  <tbody>\n",
       "    <tr>\n",
       "      <th>0</th>\n",
       "      <td>adelaides_latviesu_zinotajs</td>\n",
       "      <td>I:/zips/adelaides_latviesu_zinotajs_articles.zip</td>\n",
       "      <td>12</td>\n",
       "      <td>725</td>\n",
       "      <td>NaN</td>\n",
       "      <td>NaN</td>\n",
       "      <td>NaN</td>\n",
       "      <td>NaN</td>\n",
       "      <td>NaN</td>\n",
       "      <td>NaN</td>\n",
       "      <td>...</td>\n",
       "      <td>NaN</td>\n",
       "      <td>NaN</td>\n",
       "      <td>NaN</td>\n",
       "      <td>NaN</td>\n",
       "      <td>NaN</td>\n",
       "      <td>NaN</td>\n",
       "      <td>NaN</td>\n",
       "      <td>NaN</td>\n",
       "      <td>NaN</td>\n",
       "      <td>NaN</td>\n",
       "    </tr>\n",
       "    <tr>\n",
       "      <th>1</th>\n",
       "      <td>australijas_latvietis</td>\n",
       "      <td>I:/zips/australijas_latvietis_articles.zip</td>\n",
       "      <td>63</td>\n",
       "      <td>93179</td>\n",
       "      <td>NaN</td>\n",
       "      <td>NaN</td>\n",
       "      <td>NaN</td>\n",
       "      <td>NaN</td>\n",
       "      <td>NaN</td>\n",
       "      <td>NaN</td>\n",
       "      <td>...</td>\n",
       "      <td>1152.0</td>\n",
       "      <td>1259.0</td>\n",
       "      <td>1287.0</td>\n",
       "      <td>1212.0</td>\n",
       "      <td>1251.0</td>\n",
       "      <td>1252.0</td>\n",
       "      <td>NaN</td>\n",
       "      <td>NaN</td>\n",
       "      <td>NaN</td>\n",
       "      <td>NaN</td>\n",
       "    </tr>\n",
       "    <tr>\n",
       "      <th>2</th>\n",
       "      <td>avangards_daugavpils</td>\n",
       "      <td>I:/zips/avangards_daugavpils_articles.zip</td>\n",
       "      <td>31</td>\n",
       "      <td>77967</td>\n",
       "      <td>NaN</td>\n",
       "      <td>NaN</td>\n",
       "      <td>NaN</td>\n",
       "      <td>NaN</td>\n",
       "      <td>NaN</td>\n",
       "      <td>NaN</td>\n",
       "      <td>...</td>\n",
       "      <td>NaN</td>\n",
       "      <td>NaN</td>\n",
       "      <td>NaN</td>\n",
       "      <td>NaN</td>\n",
       "      <td>NaN</td>\n",
       "      <td>NaN</td>\n",
       "      <td>NaN</td>\n",
       "      <td>NaN</td>\n",
       "      <td>NaN</td>\n",
       "      <td>NaN</td>\n",
       "    </tr>\n",
       "  </tbody>\n",
       "</table>\n",
       "<p>3 rows × 198 columns</p>\n",
       "</div>"
      ],
      "text/plain": [
       "                   publication  \\\n",
       "0  adelaides_latviesu_zinotajs   \n",
       "1        australijas_latvietis   \n",
       "2         avangards_daugavpils   \n",
       "\n",
       "                                           zip_file  active_years_count  \\\n",
       "0  I:/zips/adelaides_latviesu_zinotajs_articles.zip                  12   \n",
       "1        I:/zips/australijas_latvietis_articles.zip                  63   \n",
       "2         I:/zips/avangards_daugavpils_articles.zip                  31   \n",
       "\n",
       "   publication_count  1822  1823  1824  1825  1826  1827  ...    2006    2007  \\\n",
       "0                725   NaN   NaN   NaN   NaN   NaN   NaN  ...     NaN     NaN   \n",
       "1              93179   NaN   NaN   NaN   NaN   NaN   NaN  ...  1152.0  1259.0   \n",
       "2              77967   NaN   NaN   NaN   NaN   NaN   NaN  ...     NaN     NaN   \n",
       "\n",
       "     2008    2009    2010    2011  2019  2020  2021  2022  \n",
       "0     NaN     NaN     NaN     NaN   NaN   NaN   NaN   NaN  \n",
       "1  1287.0  1212.0  1251.0  1252.0   NaN   NaN   NaN   NaN  \n",
       "2     NaN     NaN     NaN     NaN   NaN   NaN   NaN   NaN  \n",
       "\n",
       "[3 rows x 198 columns]"
      ]
     },
     "execution_count": 30,
     "metadata": {},
     "output_type": "execute_result"
    }
   ],
   "source": [
    "# let's get rid of yr_ prefix from columns\n",
    "df.columns = [col.replace(\"yr_\", \"\") for col in df.columns]\n",
    "# first 3 rows\n",
    "df.head(3)"
   ]
  },
  {
   "cell_type": "code",
   "execution_count": 32,
   "metadata": {},
   "outputs": [
    {
     "data": {
      "text/html": [
       "<div>\n",
       "<style scoped>\n",
       "    .dataframe tbody tr th:only-of-type {\n",
       "        vertical-align: middle;\n",
       "    }\n",
       "\n",
       "    .dataframe tbody tr th {\n",
       "        vertical-align: top;\n",
       "    }\n",
       "\n",
       "    .dataframe thead th {\n",
       "        text-align: right;\n",
       "    }\n",
       "</style>\n",
       "<table border=\"1\" class=\"dataframe\">\n",
       "  <thead>\n",
       "    <tr style=\"text-align: right;\">\n",
       "      <th></th>\n",
       "      <th>title</th>\n",
       "      <th>zip_path</th>\n",
       "      <th>years_active</th>\n",
       "      <th>segment_count</th>\n",
       "      <th>1822</th>\n",
       "      <th>1823</th>\n",
       "      <th>1824</th>\n",
       "      <th>1825</th>\n",
       "      <th>1826</th>\n",
       "      <th>1827</th>\n",
       "      <th>...</th>\n",
       "      <th>2006</th>\n",
       "      <th>2007</th>\n",
       "      <th>2008</th>\n",
       "      <th>2009</th>\n",
       "      <th>2010</th>\n",
       "      <th>2011</th>\n",
       "      <th>2019</th>\n",
       "      <th>2020</th>\n",
       "      <th>2021</th>\n",
       "      <th>2022</th>\n",
       "    </tr>\n",
       "  </thead>\n",
       "  <tbody>\n",
       "    <tr>\n",
       "      <th>0</th>\n",
       "      <td>adelaides_latviesu_zinotajs</td>\n",
       "      <td>I:/zips/adelaides_latviesu_zinotajs_articles.zip</td>\n",
       "      <td>12</td>\n",
       "      <td>725</td>\n",
       "      <td>NaN</td>\n",
       "      <td>NaN</td>\n",
       "      <td>NaN</td>\n",
       "      <td>NaN</td>\n",
       "      <td>NaN</td>\n",
       "      <td>NaN</td>\n",
       "      <td>...</td>\n",
       "      <td>NaN</td>\n",
       "      <td>NaN</td>\n",
       "      <td>NaN</td>\n",
       "      <td>NaN</td>\n",
       "      <td>NaN</td>\n",
       "      <td>NaN</td>\n",
       "      <td>NaN</td>\n",
       "      <td>NaN</td>\n",
       "      <td>NaN</td>\n",
       "      <td>NaN</td>\n",
       "    </tr>\n",
       "    <tr>\n",
       "      <th>1</th>\n",
       "      <td>australijas_latvietis</td>\n",
       "      <td>I:/zips/australijas_latvietis_articles.zip</td>\n",
       "      <td>63</td>\n",
       "      <td>93179</td>\n",
       "      <td>NaN</td>\n",
       "      <td>NaN</td>\n",
       "      <td>NaN</td>\n",
       "      <td>NaN</td>\n",
       "      <td>NaN</td>\n",
       "      <td>NaN</td>\n",
       "      <td>...</td>\n",
       "      <td>1152.0</td>\n",
       "      <td>1259.0</td>\n",
       "      <td>1287.0</td>\n",
       "      <td>1212.0</td>\n",
       "      <td>1251.0</td>\n",
       "      <td>1252.0</td>\n",
       "      <td>NaN</td>\n",
       "      <td>NaN</td>\n",
       "      <td>NaN</td>\n",
       "      <td>NaN</td>\n",
       "    </tr>\n",
       "    <tr>\n",
       "      <th>2</th>\n",
       "      <td>avangards_daugavpils</td>\n",
       "      <td>I:/zips/avangards_daugavpils_articles.zip</td>\n",
       "      <td>31</td>\n",
       "      <td>77967</td>\n",
       "      <td>NaN</td>\n",
       "      <td>NaN</td>\n",
       "      <td>NaN</td>\n",
       "      <td>NaN</td>\n",
       "      <td>NaN</td>\n",
       "      <td>NaN</td>\n",
       "      <td>...</td>\n",
       "      <td>NaN</td>\n",
       "      <td>NaN</td>\n",
       "      <td>NaN</td>\n",
       "      <td>NaN</td>\n",
       "      <td>NaN</td>\n",
       "      <td>NaN</td>\n",
       "      <td>NaN</td>\n",
       "      <td>NaN</td>\n",
       "      <td>NaN</td>\n",
       "      <td>NaN</td>\n",
       "    </tr>\n",
       "  </tbody>\n",
       "</table>\n",
       "<p>3 rows × 198 columns</p>\n",
       "</div>"
      ],
      "text/plain": [
       "                         title  \\\n",
       "0  adelaides_latviesu_zinotajs   \n",
       "1        australijas_latvietis   \n",
       "2         avangards_daugavpils   \n",
       "\n",
       "                                           zip_path  years_active  \\\n",
       "0  I:/zips/adelaides_latviesu_zinotajs_articles.zip            12   \n",
       "1        I:/zips/australijas_latvietis_articles.zip            63   \n",
       "2         I:/zips/avangards_daugavpils_articles.zip            31   \n",
       "\n",
       "   segment_count  1822  1823  1824  1825  1826  1827  ...    2006    2007  \\\n",
       "0            725   NaN   NaN   NaN   NaN   NaN   NaN  ...     NaN     NaN   \n",
       "1          93179   NaN   NaN   NaN   NaN   NaN   NaN  ...  1152.0  1259.0   \n",
       "2          77967   NaN   NaN   NaN   NaN   NaN   NaN  ...     NaN     NaN   \n",
       "\n",
       "     2008    2009    2010    2011  2019  2020  2021  2022  \n",
       "0     NaN     NaN     NaN     NaN   NaN   NaN   NaN   NaN  \n",
       "1  1287.0  1212.0  1251.0  1252.0   NaN   NaN   NaN   NaN  \n",
       "2     NaN     NaN     NaN     NaN   NaN   NaN   NaN   NaN  \n",
       "\n",
       "[3 rows x 198 columns]"
      ]
     },
     "execution_count": 32,
     "metadata": {},
     "output_type": "execute_result"
    }
   ],
   "source": [
    "# let's rename publication_count column to segment_count\n",
    "df.rename(columns={\"publication_count\": \"segment_count\"}, inplace=True)\n",
    "# let's rename publication column to title\n",
    "df.rename(columns={\"publication\": \"title\"}, inplace=True)\n",
    "# let's rename active_years_count column to years_active\n",
    "df.rename(columns={\"active_years_count\": \"years_active\"}, inplace=True)\n",
    "# let's rename zip_file column to zip_path\n",
    "df.rename(columns={\"zip_file\": \"zip_path\"}, inplace=True)\n",
    "# first 3 rows\n",
    "df.head(3)"
   ]
  },
  {
   "cell_type": "code",
   "execution_count": 38,
   "metadata": {},
   "outputs": [
    {
     "data": {
      "text/html": [
       "<div>\n",
       "<style scoped>\n",
       "    .dataframe tbody tr th:only-of-type {\n",
       "        vertical-align: middle;\n",
       "    }\n",
       "\n",
       "    .dataframe tbody tr th {\n",
       "        vertical-align: top;\n",
       "    }\n",
       "\n",
       "    .dataframe thead th {\n",
       "        text-align: right;\n",
       "    }\n",
       "</style>\n",
       "<table border=\"1\" class=\"dataframe\">\n",
       "  <thead>\n",
       "    <tr style=\"text-align: right;\">\n",
       "      <th></th>\n",
       "      <th>title</th>\n",
       "      <th>zip_path</th>\n",
       "      <th>years_active</th>\n",
       "      <th>segment_count</th>\n",
       "      <th>1822</th>\n",
       "      <th>1823</th>\n",
       "      <th>1824</th>\n",
       "      <th>1825</th>\n",
       "      <th>1826</th>\n",
       "      <th>1827</th>\n",
       "      <th>...</th>\n",
       "      <th>2007</th>\n",
       "      <th>2008</th>\n",
       "      <th>2009</th>\n",
       "      <th>2010</th>\n",
       "      <th>2011</th>\n",
       "      <th>2019</th>\n",
       "      <th>2020</th>\n",
       "      <th>2021</th>\n",
       "      <th>2022</th>\n",
       "      <th>first_year</th>\n",
       "    </tr>\n",
       "  </thead>\n",
       "  <tbody>\n",
       "    <tr>\n",
       "      <th>0</th>\n",
       "      <td>adelaides_latviesu_zinotajs</td>\n",
       "      <td>I:/zips/adelaides_latviesu_zinotajs_articles.zip</td>\n",
       "      <td>12</td>\n",
       "      <td>725</td>\n",
       "      <td>NaN</td>\n",
       "      <td>NaN</td>\n",
       "      <td>NaN</td>\n",
       "      <td>NaN</td>\n",
       "      <td>NaN</td>\n",
       "      <td>NaN</td>\n",
       "      <td>...</td>\n",
       "      <td>NaN</td>\n",
       "      <td>NaN</td>\n",
       "      <td>NaN</td>\n",
       "      <td>NaN</td>\n",
       "      <td>NaN</td>\n",
       "      <td>NaN</td>\n",
       "      <td>NaN</td>\n",
       "      <td>NaN</td>\n",
       "      <td>NaN</td>\n",
       "      <td>2003</td>\n",
       "    </tr>\n",
       "    <tr>\n",
       "      <th>1</th>\n",
       "      <td>australijas_latvietis</td>\n",
       "      <td>I:/zips/australijas_latvietis_articles.zip</td>\n",
       "      <td>63</td>\n",
       "      <td>93179</td>\n",
       "      <td>NaN</td>\n",
       "      <td>NaN</td>\n",
       "      <td>NaN</td>\n",
       "      <td>NaN</td>\n",
       "      <td>NaN</td>\n",
       "      <td>NaN</td>\n",
       "      <td>...</td>\n",
       "      <td>1259.0</td>\n",
       "      <td>1287.0</td>\n",
       "      <td>1212.0</td>\n",
       "      <td>1251.0</td>\n",
       "      <td>1252.0</td>\n",
       "      <td>NaN</td>\n",
       "      <td>NaN</td>\n",
       "      <td>NaN</td>\n",
       "      <td>NaN</td>\n",
       "      <td>1949</td>\n",
       "    </tr>\n",
       "    <tr>\n",
       "      <th>2</th>\n",
       "      <td>avangards_daugavpils</td>\n",
       "      <td>I:/zips/avangards_daugavpils_articles.zip</td>\n",
       "      <td>31</td>\n",
       "      <td>77967</td>\n",
       "      <td>NaN</td>\n",
       "      <td>NaN</td>\n",
       "      <td>NaN</td>\n",
       "      <td>NaN</td>\n",
       "      <td>NaN</td>\n",
       "      <td>NaN</td>\n",
       "      <td>...</td>\n",
       "      <td>NaN</td>\n",
       "      <td>NaN</td>\n",
       "      <td>NaN</td>\n",
       "      <td>NaN</td>\n",
       "      <td>NaN</td>\n",
       "      <td>NaN</td>\n",
       "      <td>NaN</td>\n",
       "      <td>NaN</td>\n",
       "      <td>NaN</td>\n",
       "      <td>1992</td>\n",
       "    </tr>\n",
       "    <tr>\n",
       "      <th>3</th>\n",
       "      <td>avots</td>\n",
       "      <td>I:/zips/avots_articles.zip</td>\n",
       "      <td>11</td>\n",
       "      <td>7567</td>\n",
       "      <td>NaN</td>\n",
       "      <td>NaN</td>\n",
       "      <td>NaN</td>\n",
       "      <td>NaN</td>\n",
       "      <td>NaN</td>\n",
       "      <td>NaN</td>\n",
       "      <td>...</td>\n",
       "      <td>NaN</td>\n",
       "      <td>NaN</td>\n",
       "      <td>NaN</td>\n",
       "      <td>NaN</td>\n",
       "      <td>NaN</td>\n",
       "      <td>NaN</td>\n",
       "      <td>NaN</td>\n",
       "      <td>NaN</td>\n",
       "      <td>NaN</td>\n",
       "      <td>1915</td>\n",
       "    </tr>\n",
       "    <tr>\n",
       "      <th>4</th>\n",
       "      <td>avots_latvijas_rakstnieku_savienibas_zurnals</td>\n",
       "      <td>I:/zips/avots_latvijas_rakstnieku_savienibas_z...</td>\n",
       "      <td>6</td>\n",
       "      <td>1188</td>\n",
       "      <td>NaN</td>\n",
       "      <td>NaN</td>\n",
       "      <td>NaN</td>\n",
       "      <td>NaN</td>\n",
       "      <td>NaN</td>\n",
       "      <td>NaN</td>\n",
       "      <td>...</td>\n",
       "      <td>NaN</td>\n",
       "      <td>NaN</td>\n",
       "      <td>NaN</td>\n",
       "      <td>NaN</td>\n",
       "      <td>NaN</td>\n",
       "      <td>NaN</td>\n",
       "      <td>NaN</td>\n",
       "      <td>NaN</td>\n",
       "      <td>NaN</td>\n",
       "      <td>1992</td>\n",
       "    </tr>\n",
       "  </tbody>\n",
       "</table>\n",
       "<p>5 rows × 199 columns</p>\n",
       "</div>"
      ],
      "text/plain": [
       "                                          title  \\\n",
       "0                   adelaides_latviesu_zinotajs   \n",
       "1                         australijas_latvietis   \n",
       "2                          avangards_daugavpils   \n",
       "3                                         avots   \n",
       "4  avots_latvijas_rakstnieku_savienibas_zurnals   \n",
       "\n",
       "                                            zip_path  years_active  \\\n",
       "0   I:/zips/adelaides_latviesu_zinotajs_articles.zip            12   \n",
       "1         I:/zips/australijas_latvietis_articles.zip            63   \n",
       "2          I:/zips/avangards_daugavpils_articles.zip            31   \n",
       "3                         I:/zips/avots_articles.zip            11   \n",
       "4  I:/zips/avots_latvijas_rakstnieku_savienibas_z...             6   \n",
       "\n",
       "   segment_count  1822  1823  1824  1825  1826  1827  ...    2007    2008  \\\n",
       "0            725   NaN   NaN   NaN   NaN   NaN   NaN  ...     NaN     NaN   \n",
       "1          93179   NaN   NaN   NaN   NaN   NaN   NaN  ...  1259.0  1287.0   \n",
       "2          77967   NaN   NaN   NaN   NaN   NaN   NaN  ...     NaN     NaN   \n",
       "3           7567   NaN   NaN   NaN   NaN   NaN   NaN  ...     NaN     NaN   \n",
       "4           1188   NaN   NaN   NaN   NaN   NaN   NaN  ...     NaN     NaN   \n",
       "\n",
       "     2009    2010    2011  2019  2020  2021  2022  first_year  \n",
       "0     NaN     NaN     NaN   NaN   NaN   NaN   NaN        2003  \n",
       "1  1212.0  1251.0  1252.0   NaN   NaN   NaN   NaN        1949  \n",
       "2     NaN     NaN     NaN   NaN   NaN   NaN   NaN        1992  \n",
       "3     NaN     NaN     NaN   NaN   NaN   NaN   NaN        1915  \n",
       "4     NaN     NaN     NaN   NaN   NaN   NaN   NaN        1992  \n",
       "\n",
       "[5 rows x 199 columns]"
      ]
     },
     "execution_count": 38,
     "metadata": {},
     "output_type": "execute_result"
    }
   ],
   "source": [
    "# head\n",
    "df.head()"
   ]
  },
  {
   "cell_type": "code",
   "execution_count": 44,
   "metadata": {},
   "outputs": [
    {
     "data": {
      "text/html": [
       "<div>\n",
       "<style scoped>\n",
       "    .dataframe tbody tr th:only-of-type {\n",
       "        vertical-align: middle;\n",
       "    }\n",
       "\n",
       "    .dataframe tbody tr th {\n",
       "        vertical-align: top;\n",
       "    }\n",
       "\n",
       "    .dataframe thead th {\n",
       "        text-align: right;\n",
       "    }\n",
       "</style>\n",
       "<table border=\"1\" class=\"dataframe\">\n",
       "  <thead>\n",
       "    <tr style=\"text-align: right;\">\n",
       "      <th></th>\n",
       "      <th>title</th>\n",
       "      <th>zip_path</th>\n",
       "      <th>years_active</th>\n",
       "      <th>segment_count</th>\n",
       "      <th>first_year</th>\n",
       "      <th>last_year</th>\n",
       "      <th>1822</th>\n",
       "      <th>1823</th>\n",
       "      <th>1824</th>\n",
       "      <th>1825</th>\n",
       "      <th>...</th>\n",
       "      <th>2006</th>\n",
       "      <th>2007</th>\n",
       "      <th>2008</th>\n",
       "      <th>2009</th>\n",
       "      <th>2010</th>\n",
       "      <th>2011</th>\n",
       "      <th>2019</th>\n",
       "      <th>2020</th>\n",
       "      <th>2021</th>\n",
       "      <th>2022</th>\n",
       "    </tr>\n",
       "  </thead>\n",
       "  <tbody>\n",
       "    <tr>\n",
       "      <th>0</th>\n",
       "      <td>adelaides_latviesu_zinotajs</td>\n",
       "      <td>I:/zips/adelaides_latviesu_zinotajs_articles.zip</td>\n",
       "      <td>12</td>\n",
       "      <td>725</td>\n",
       "      <td>1962</td>\n",
       "      <td>2003</td>\n",
       "      <td>NaN</td>\n",
       "      <td>NaN</td>\n",
       "      <td>NaN</td>\n",
       "      <td>NaN</td>\n",
       "      <td>...</td>\n",
       "      <td>NaN</td>\n",
       "      <td>NaN</td>\n",
       "      <td>NaN</td>\n",
       "      <td>NaN</td>\n",
       "      <td>NaN</td>\n",
       "      <td>NaN</td>\n",
       "      <td>NaN</td>\n",
       "      <td>NaN</td>\n",
       "      <td>NaN</td>\n",
       "      <td>NaN</td>\n",
       "    </tr>\n",
       "    <tr>\n",
       "      <th>1</th>\n",
       "      <td>australijas_latvietis</td>\n",
       "      <td>I:/zips/australijas_latvietis_articles.zip</td>\n",
       "      <td>63</td>\n",
       "      <td>93179</td>\n",
       "      <td>1949</td>\n",
       "      <td>2011</td>\n",
       "      <td>NaN</td>\n",
       "      <td>NaN</td>\n",
       "      <td>NaN</td>\n",
       "      <td>NaN</td>\n",
       "      <td>...</td>\n",
       "      <td>1152.0</td>\n",
       "      <td>1259.0</td>\n",
       "      <td>1287.0</td>\n",
       "      <td>1212.0</td>\n",
       "      <td>1251.0</td>\n",
       "      <td>1252.0</td>\n",
       "      <td>NaN</td>\n",
       "      <td>NaN</td>\n",
       "      <td>NaN</td>\n",
       "      <td>NaN</td>\n",
       "    </tr>\n",
       "    <tr>\n",
       "      <th>2</th>\n",
       "      <td>avangards_daugavpils</td>\n",
       "      <td>I:/zips/avangards_daugavpils_articles.zip</td>\n",
       "      <td>31</td>\n",
       "      <td>77967</td>\n",
       "      <td>1962</td>\n",
       "      <td>1992</td>\n",
       "      <td>NaN</td>\n",
       "      <td>NaN</td>\n",
       "      <td>NaN</td>\n",
       "      <td>NaN</td>\n",
       "      <td>...</td>\n",
       "      <td>NaN</td>\n",
       "      <td>NaN</td>\n",
       "      <td>NaN</td>\n",
       "      <td>NaN</td>\n",
       "      <td>NaN</td>\n",
       "      <td>NaN</td>\n",
       "      <td>NaN</td>\n",
       "      <td>NaN</td>\n",
       "      <td>NaN</td>\n",
       "      <td>NaN</td>\n",
       "    </tr>\n",
       "  </tbody>\n",
       "</table>\n",
       "<p>3 rows × 200 columns</p>\n",
       "</div>"
      ],
      "text/plain": [
       "                         title  \\\n",
       "0  adelaides_latviesu_zinotajs   \n",
       "1        australijas_latvietis   \n",
       "2         avangards_daugavpils   \n",
       "\n",
       "                                           zip_path  years_active  \\\n",
       "0  I:/zips/adelaides_latviesu_zinotajs_articles.zip            12   \n",
       "1        I:/zips/australijas_latvietis_articles.zip            63   \n",
       "2         I:/zips/avangards_daugavpils_articles.zip            31   \n",
       "\n",
       "   segment_count first_year last_year  1822  1823  1824  1825  ...    2006  \\\n",
       "0            725       1962      2003   NaN   NaN   NaN   NaN  ...     NaN   \n",
       "1          93179       1949      2011   NaN   NaN   NaN   NaN  ...  1152.0   \n",
       "2          77967       1962      1992   NaN   NaN   NaN   NaN  ...     NaN   \n",
       "\n",
       "     2007    2008    2009    2010    2011  2019  2020  2021  2022  \n",
       "0     NaN     NaN     NaN     NaN     NaN   NaN   NaN   NaN   NaN  \n",
       "1  1259.0  1287.0  1212.0  1251.0  1252.0   NaN   NaN   NaN   NaN  \n",
       "2     NaN     NaN     NaN     NaN     NaN   NaN   NaN   NaN   NaN  \n",
       "\n",
       "[3 rows x 200 columns]"
      ]
     },
     "execution_count": 44,
     "metadata": {},
     "output_type": "execute_result"
    }
   ],
   "source": [
    "# for each title let's find earliest year it was active and latest year it was active\n",
    "# Note we could have done this earlier when we had smaller dictionary of only years with non-zero counts\n",
    "# we will create two new columns: first_year and last_year\n",
    "# we will use apply function to apply a function to each row\n",
    "# remove first_year and last_year columns if they already exist\n",
    "df = df.drop(columns=[\"first_year\"], errors=\"ignore\")\n",
    "df = df.drop(columns=[\"last_year\"], errors=\"ignore\")\n",
    "# convert year columns to numeric\n",
    "df.iloc[:, 4:] = df.iloc[:, 4:].apply(pd.to_numeric)\n",
    "# idxmax and inxmin will return columns with max and min values\n",
    "# we do not need those\n",
    "# we want first and last occurence of non-zero values !!\n",
    "# let's find first year\n",
    "# let's create a function that given a row will return column with first non-zero value\n",
    "def get_first_year(row: pd.Series) -> int:\n",
    "    # get all years\n",
    "    years = row.iloc[4:]\n",
    "    # get first non-zero year\n",
    "    first_year = years[years > 0].index[0]\n",
    "    return first_year\n",
    "df[\"first_year\"] = df.apply(get_first_year, axis=1)\n",
    "# insert this columns after 4th column - segment_count column\n",
    "df.insert(4, \"first_year\", df.pop(\"first_year\"))\n",
    "# let's find last year\n",
    "# let's create a function that given a row will return column with last non-zero value\n",
    "def get_last_year(row: pd.Series) -> int:\n",
    "    # get all years\n",
    "    years = row.iloc[5:]\n",
    "    # get last non-zero year\n",
    "    last_year = years[years > 0].index[-1]\n",
    "    return last_year\n",
    "df[\"last_year\"] = df.apply(get_last_year, axis=1)\n",
    "# insert this columns after 5th column - first_year column\n",
    "df.insert(5, \"last_year\", df.pop(\"last_year\"))\n",
    "df.head(3)"
   ]
  },
  {
   "cell_type": "code",
   "execution_count": 45,
   "metadata": {},
   "outputs": [],
   "source": [
    "# let's save df again to csv, excel and parquet\n",
    "df.to_csv(\"../csv/articles_publications_yearly_summary.csv\", index=False)\n",
    "df.to_excel(\"../xlsx/articles_publications_yearly_summary.xlsx\", index=False)\n",
    "df.to_parquet(\"../parquet/articles_publications_yearly_summary.parquet\", index=False)"
   ]
  },
  {
   "cell_type": "code",
   "execution_count": 31,
   "metadata": {},
   "outputs": [
    {
     "data": {
      "application/vnd.plotly.v1+json": {
       "config": {
        "plotlyServerURL": "https://plot.ly"
       },
       "data": [
        {
         "mode": "lines+markers",
         "type": "scatter",
         "x": [
          "1822",
          "1823",
          "1824",
          "1825",
          "1826",
          "1827",
          "1828",
          "1829",
          "1830",
          "1831",
          "1832",
          "1833",
          "1834",
          "1835",
          "1836",
          "1837",
          "1838",
          "1839",
          "1840",
          "1841",
          "1842",
          "1843",
          "1844",
          "1845",
          "1846",
          "1847",
          "1848",
          "1849",
          "1850",
          "1851",
          "1852",
          "1853",
          "1854",
          "1855",
          "1856",
          "1857",
          "1858",
          "1859",
          "1860",
          "1861",
          "1862",
          "1863",
          "1864",
          "1865",
          "1866",
          "1867",
          "1868",
          "1869",
          "1870",
          "1871",
          "1872",
          "1873",
          "1874",
          "1875",
          "1876",
          "1877",
          "1878",
          "1879",
          "1880",
          "1881",
          "1882",
          "1883",
          "1884",
          "1885",
          "1886",
          "1887",
          "1888",
          "1889",
          "1890",
          "1891",
          "1892",
          "1893",
          "1894",
          "1895",
          "1896",
          "1897",
          "1898",
          "1899",
          "1900",
          "1901",
          "1902",
          "1903",
          "1904",
          "1905",
          "1906",
          "1907",
          "1908",
          "1909",
          "1910",
          "1911",
          "1912",
          "1913",
          "1914",
          "1915",
          "1916",
          "1917",
          "1918",
          "1919",
          "1920",
          "1921",
          "1922",
          "1923",
          "1924",
          "1925",
          "1926",
          "1927",
          "1928",
          "1929",
          "1930",
          "1931",
          "1932",
          "1933",
          "1934",
          "1935",
          "1936",
          "1937",
          "1938",
          "1939",
          "1940",
          "1941",
          "1942",
          "1943",
          "1944",
          "1945",
          "1946",
          "1947",
          "1948",
          "1949",
          "1950",
          "1951",
          "1952",
          "1953",
          "1954",
          "1955",
          "1956",
          "1957",
          "1958",
          "1959",
          "1960",
          "1961",
          "1962",
          "1963",
          "1964",
          "1965",
          "1966",
          "1967",
          "1968",
          "1969",
          "1970",
          "1971",
          "1972",
          "1973",
          "1974",
          "1975",
          "1976",
          "1977",
          "1978",
          "1979",
          "1980",
          "1981",
          "1982",
          "1983",
          "1984",
          "1985",
          "1986",
          "1987",
          "1988",
          "1989",
          "1990",
          "1991",
          "1992",
          "1993",
          "1994",
          "1995",
          "1996",
          "1997",
          "1998",
          "1999",
          "2000",
          "2001",
          "2002",
          "2003",
          "2004",
          "2005",
          "2006",
          "2007",
          "2008",
          "2009",
          "2010",
          "2011",
          "2019",
          "2020",
          "2021",
          "2022"
         ],
         "y": [
          365,
          320,
          345,
          342,
          293,
          294,
          276,
          272,
          283,
          315,
          356,
          336,
          275,
          266,
          241,
          241,
          233,
          236,
          215,
          210,
          231,
          245,
          219,
          211,
          212,
          212,
          200,
          263,
          312,
          346,
          331,
          508,
          597,
          509,
          505,
          512,
          583,
          507,
          504,
          565,
          786,
          937,
          856,
          658,
          606,
          661,
          734,
          979,
          886,
          959,
          870,
          838,
          698,
          753,
          766,
          823,
          784,
          919,
          2238,
          3395,
          3322,
          3314,
          3088,
          3566,
          3399,
          2330,
          3504,
          3851,
          3478,
          4032,
          4171,
          3301,
          3450,
          4236,
          4683,
          3979,
          3188,
          3540,
          2991,
          3685,
          5474,
          4321,
          3841,
          5488,
          1945,
          2460,
          6444,
          7198,
          7878,
          9015,
          12673,
          13752,
          15026,
          9708,
          8319,
          7786,
          1213,
          19021,
          46329,
          50438,
          56056,
          61249,
          72807,
          75931,
          82408,
          102978,
          102372,
          100760,
          115157,
          112630,
          107400,
          118018,
          113991,
          111712,
          126554,
          142476,
          103356,
          102143,
          82976,
          34814,
          26009,
          17040,
          19889,
          31026,
          43723,
          50222,
          57285,
          55707,
          62483,
          62641,
          68982,
          69165,
          73511,
          75768,
          81169,
          88959,
          110385,
          114076,
          111437,
          108901,
          126445,
          147249,
          156860,
          152521,
          151204,
          160293,
          156737,
          149091,
          151808,
          148909,
          151499,
          143837,
          143291,
          140324,
          140529,
          132191,
          127717,
          129001,
          132773,
          132046,
          126220,
          128543,
          125730,
          126070,
          123084,
          116418,
          114056,
          95189,
          70587,
          51918,
          56485,
          82786,
          77986,
          79611,
          84884,
          61344,
          37709,
          37511,
          38380,
          35475,
          23578,
          23937,
          25342,
          24690,
          23180,
          22217,
          21684,
          21630,
          19994,
          9522,
          278,
          248,
          227,
          171
         ]
        }
       ],
       "layout": {
        "template": {
         "data": {
          "bar": [
           {
            "error_x": {
             "color": "#2a3f5f"
            },
            "error_y": {
             "color": "#2a3f5f"
            },
            "marker": {
             "line": {
              "color": "#E5ECF6",
              "width": 0.5
             },
             "pattern": {
              "fillmode": "overlay",
              "size": 10,
              "solidity": 0.2
             }
            },
            "type": "bar"
           }
          ],
          "barpolar": [
           {
            "marker": {
             "line": {
              "color": "#E5ECF6",
              "width": 0.5
             },
             "pattern": {
              "fillmode": "overlay",
              "size": 10,
              "solidity": 0.2
             }
            },
            "type": "barpolar"
           }
          ],
          "carpet": [
           {
            "aaxis": {
             "endlinecolor": "#2a3f5f",
             "gridcolor": "white",
             "linecolor": "white",
             "minorgridcolor": "white",
             "startlinecolor": "#2a3f5f"
            },
            "baxis": {
             "endlinecolor": "#2a3f5f",
             "gridcolor": "white",
             "linecolor": "white",
             "minorgridcolor": "white",
             "startlinecolor": "#2a3f5f"
            },
            "type": "carpet"
           }
          ],
          "choropleth": [
           {
            "colorbar": {
             "outlinewidth": 0,
             "ticks": ""
            },
            "type": "choropleth"
           }
          ],
          "contour": [
           {
            "colorbar": {
             "outlinewidth": 0,
             "ticks": ""
            },
            "colorscale": [
             [
              0,
              "#0d0887"
             ],
             [
              0.1111111111111111,
              "#46039f"
             ],
             [
              0.2222222222222222,
              "#7201a8"
             ],
             [
              0.3333333333333333,
              "#9c179e"
             ],
             [
              0.4444444444444444,
              "#bd3786"
             ],
             [
              0.5555555555555556,
              "#d8576b"
             ],
             [
              0.6666666666666666,
              "#ed7953"
             ],
             [
              0.7777777777777778,
              "#fb9f3a"
             ],
             [
              0.8888888888888888,
              "#fdca26"
             ],
             [
              1,
              "#f0f921"
             ]
            ],
            "type": "contour"
           }
          ],
          "contourcarpet": [
           {
            "colorbar": {
             "outlinewidth": 0,
             "ticks": ""
            },
            "type": "contourcarpet"
           }
          ],
          "heatmap": [
           {
            "colorbar": {
             "outlinewidth": 0,
             "ticks": ""
            },
            "colorscale": [
             [
              0,
              "#0d0887"
             ],
             [
              0.1111111111111111,
              "#46039f"
             ],
             [
              0.2222222222222222,
              "#7201a8"
             ],
             [
              0.3333333333333333,
              "#9c179e"
             ],
             [
              0.4444444444444444,
              "#bd3786"
             ],
             [
              0.5555555555555556,
              "#d8576b"
             ],
             [
              0.6666666666666666,
              "#ed7953"
             ],
             [
              0.7777777777777778,
              "#fb9f3a"
             ],
             [
              0.8888888888888888,
              "#fdca26"
             ],
             [
              1,
              "#f0f921"
             ]
            ],
            "type": "heatmap"
           }
          ],
          "heatmapgl": [
           {
            "colorbar": {
             "outlinewidth": 0,
             "ticks": ""
            },
            "colorscale": [
             [
              0,
              "#0d0887"
             ],
             [
              0.1111111111111111,
              "#46039f"
             ],
             [
              0.2222222222222222,
              "#7201a8"
             ],
             [
              0.3333333333333333,
              "#9c179e"
             ],
             [
              0.4444444444444444,
              "#bd3786"
             ],
             [
              0.5555555555555556,
              "#d8576b"
             ],
             [
              0.6666666666666666,
              "#ed7953"
             ],
             [
              0.7777777777777778,
              "#fb9f3a"
             ],
             [
              0.8888888888888888,
              "#fdca26"
             ],
             [
              1,
              "#f0f921"
             ]
            ],
            "type": "heatmapgl"
           }
          ],
          "histogram": [
           {
            "marker": {
             "pattern": {
              "fillmode": "overlay",
              "size": 10,
              "solidity": 0.2
             }
            },
            "type": "histogram"
           }
          ],
          "histogram2d": [
           {
            "colorbar": {
             "outlinewidth": 0,
             "ticks": ""
            },
            "colorscale": [
             [
              0,
              "#0d0887"
             ],
             [
              0.1111111111111111,
              "#46039f"
             ],
             [
              0.2222222222222222,
              "#7201a8"
             ],
             [
              0.3333333333333333,
              "#9c179e"
             ],
             [
              0.4444444444444444,
              "#bd3786"
             ],
             [
              0.5555555555555556,
              "#d8576b"
             ],
             [
              0.6666666666666666,
              "#ed7953"
             ],
             [
              0.7777777777777778,
              "#fb9f3a"
             ],
             [
              0.8888888888888888,
              "#fdca26"
             ],
             [
              1,
              "#f0f921"
             ]
            ],
            "type": "histogram2d"
           }
          ],
          "histogram2dcontour": [
           {
            "colorbar": {
             "outlinewidth": 0,
             "ticks": ""
            },
            "colorscale": [
             [
              0,
              "#0d0887"
             ],
             [
              0.1111111111111111,
              "#46039f"
             ],
             [
              0.2222222222222222,
              "#7201a8"
             ],
             [
              0.3333333333333333,
              "#9c179e"
             ],
             [
              0.4444444444444444,
              "#bd3786"
             ],
             [
              0.5555555555555556,
              "#d8576b"
             ],
             [
              0.6666666666666666,
              "#ed7953"
             ],
             [
              0.7777777777777778,
              "#fb9f3a"
             ],
             [
              0.8888888888888888,
              "#fdca26"
             ],
             [
              1,
              "#f0f921"
             ]
            ],
            "type": "histogram2dcontour"
           }
          ],
          "mesh3d": [
           {
            "colorbar": {
             "outlinewidth": 0,
             "ticks": ""
            },
            "type": "mesh3d"
           }
          ],
          "parcoords": [
           {
            "line": {
             "colorbar": {
              "outlinewidth": 0,
              "ticks": ""
             }
            },
            "type": "parcoords"
           }
          ],
          "pie": [
           {
            "automargin": true,
            "type": "pie"
           }
          ],
          "scatter": [
           {
            "fillpattern": {
             "fillmode": "overlay",
             "size": 10,
             "solidity": 0.2
            },
            "type": "scatter"
           }
          ],
          "scatter3d": [
           {
            "line": {
             "colorbar": {
              "outlinewidth": 0,
              "ticks": ""
             }
            },
            "marker": {
             "colorbar": {
              "outlinewidth": 0,
              "ticks": ""
             }
            },
            "type": "scatter3d"
           }
          ],
          "scattercarpet": [
           {
            "marker": {
             "colorbar": {
              "outlinewidth": 0,
              "ticks": ""
             }
            },
            "type": "scattercarpet"
           }
          ],
          "scattergeo": [
           {
            "marker": {
             "colorbar": {
              "outlinewidth": 0,
              "ticks": ""
             }
            },
            "type": "scattergeo"
           }
          ],
          "scattergl": [
           {
            "marker": {
             "colorbar": {
              "outlinewidth": 0,
              "ticks": ""
             }
            },
            "type": "scattergl"
           }
          ],
          "scattermapbox": [
           {
            "marker": {
             "colorbar": {
              "outlinewidth": 0,
              "ticks": ""
             }
            },
            "type": "scattermapbox"
           }
          ],
          "scatterpolar": [
           {
            "marker": {
             "colorbar": {
              "outlinewidth": 0,
              "ticks": ""
             }
            },
            "type": "scatterpolar"
           }
          ],
          "scatterpolargl": [
           {
            "marker": {
             "colorbar": {
              "outlinewidth": 0,
              "ticks": ""
             }
            },
            "type": "scatterpolargl"
           }
          ],
          "scatterternary": [
           {
            "marker": {
             "colorbar": {
              "outlinewidth": 0,
              "ticks": ""
             }
            },
            "type": "scatterternary"
           }
          ],
          "surface": [
           {
            "colorbar": {
             "outlinewidth": 0,
             "ticks": ""
            },
            "colorscale": [
             [
              0,
              "#0d0887"
             ],
             [
              0.1111111111111111,
              "#46039f"
             ],
             [
              0.2222222222222222,
              "#7201a8"
             ],
             [
              0.3333333333333333,
              "#9c179e"
             ],
             [
              0.4444444444444444,
              "#bd3786"
             ],
             [
              0.5555555555555556,
              "#d8576b"
             ],
             [
              0.6666666666666666,
              "#ed7953"
             ],
             [
              0.7777777777777778,
              "#fb9f3a"
             ],
             [
              0.8888888888888888,
              "#fdca26"
             ],
             [
              1,
              "#f0f921"
             ]
            ],
            "type": "surface"
           }
          ],
          "table": [
           {
            "cells": {
             "fill": {
              "color": "#EBF0F8"
             },
             "line": {
              "color": "white"
             }
            },
            "header": {
             "fill": {
              "color": "#C8D4E3"
             },
             "line": {
              "color": "white"
             }
            },
            "type": "table"
           }
          ]
         },
         "layout": {
          "annotationdefaults": {
           "arrowcolor": "#2a3f5f",
           "arrowhead": 0,
           "arrowwidth": 1
          },
          "autotypenumbers": "strict",
          "coloraxis": {
           "colorbar": {
            "outlinewidth": 0,
            "ticks": ""
           }
          },
          "colorscale": {
           "diverging": [
            [
             0,
             "#8e0152"
            ],
            [
             0.1,
             "#c51b7d"
            ],
            [
             0.2,
             "#de77ae"
            ],
            [
             0.3,
             "#f1b6da"
            ],
            [
             0.4,
             "#fde0ef"
            ],
            [
             0.5,
             "#f7f7f7"
            ],
            [
             0.6,
             "#e6f5d0"
            ],
            [
             0.7,
             "#b8e186"
            ],
            [
             0.8,
             "#7fbc41"
            ],
            [
             0.9,
             "#4d9221"
            ],
            [
             1,
             "#276419"
            ]
           ],
           "sequential": [
            [
             0,
             "#0d0887"
            ],
            [
             0.1111111111111111,
             "#46039f"
            ],
            [
             0.2222222222222222,
             "#7201a8"
            ],
            [
             0.3333333333333333,
             "#9c179e"
            ],
            [
             0.4444444444444444,
             "#bd3786"
            ],
            [
             0.5555555555555556,
             "#d8576b"
            ],
            [
             0.6666666666666666,
             "#ed7953"
            ],
            [
             0.7777777777777778,
             "#fb9f3a"
            ],
            [
             0.8888888888888888,
             "#fdca26"
            ],
            [
             1,
             "#f0f921"
            ]
           ],
           "sequentialminus": [
            [
             0,
             "#0d0887"
            ],
            [
             0.1111111111111111,
             "#46039f"
            ],
            [
             0.2222222222222222,
             "#7201a8"
            ],
            [
             0.3333333333333333,
             "#9c179e"
            ],
            [
             0.4444444444444444,
             "#bd3786"
            ],
            [
             0.5555555555555556,
             "#d8576b"
            ],
            [
             0.6666666666666666,
             "#ed7953"
            ],
            [
             0.7777777777777778,
             "#fb9f3a"
            ],
            [
             0.8888888888888888,
             "#fdca26"
            ],
            [
             1,
             "#f0f921"
            ]
           ]
          },
          "colorway": [
           "#636efa",
           "#EF553B",
           "#00cc96",
           "#ab63fa",
           "#FFA15A",
           "#19d3f3",
           "#FF6692",
           "#B6E880",
           "#FF97FF",
           "#FECB52"
          ],
          "font": {
           "color": "#2a3f5f"
          },
          "geo": {
           "bgcolor": "white",
           "lakecolor": "white",
           "landcolor": "#E5ECF6",
           "showlakes": true,
           "showland": true,
           "subunitcolor": "white"
          },
          "hoverlabel": {
           "align": "left"
          },
          "hovermode": "closest",
          "mapbox": {
           "style": "light"
          },
          "paper_bgcolor": "white",
          "plot_bgcolor": "#E5ECF6",
          "polar": {
           "angularaxis": {
            "gridcolor": "white",
            "linecolor": "white",
            "ticks": ""
           },
           "bgcolor": "#E5ECF6",
           "radialaxis": {
            "gridcolor": "white",
            "linecolor": "white",
            "ticks": ""
           }
          },
          "scene": {
           "xaxis": {
            "backgroundcolor": "#E5ECF6",
            "gridcolor": "white",
            "gridwidth": 2,
            "linecolor": "white",
            "showbackground": true,
            "ticks": "",
            "zerolinecolor": "white"
           },
           "yaxis": {
            "backgroundcolor": "#E5ECF6",
            "gridcolor": "white",
            "gridwidth": 2,
            "linecolor": "white",
            "showbackground": true,
            "ticks": "",
            "zerolinecolor": "white"
           },
           "zaxis": {
            "backgroundcolor": "#E5ECF6",
            "gridcolor": "white",
            "gridwidth": 2,
            "linecolor": "white",
            "showbackground": true,
            "ticks": "",
            "zerolinecolor": "white"
           }
          },
          "shapedefaults": {
           "line": {
            "color": "#2a3f5f"
           }
          },
          "ternary": {
           "aaxis": {
            "gridcolor": "white",
            "linecolor": "white",
            "ticks": ""
           },
           "baxis": {
            "gridcolor": "white",
            "linecolor": "white",
            "ticks": ""
           },
           "bgcolor": "#E5ECF6",
           "caxis": {
            "gridcolor": "white",
            "linecolor": "white",
            "ticks": ""
           }
          },
          "title": {
           "x": 0.05
          },
          "xaxis": {
           "automargin": true,
           "gridcolor": "white",
           "linecolor": "white",
           "ticks": "",
           "title": {
            "standoff": 15
           },
           "zerolinecolor": "white",
           "zerolinewidth": 2
          },
          "yaxis": {
           "automargin": true,
           "gridcolor": "white",
           "linecolor": "white",
           "ticks": "",
           "title": {
            "standoff": 15
           },
           "zerolinecolor": "white",
           "zerolinewidth": 2
          }
         }
        },
        "title": {
         "text": "Total Publications Over Years"
        },
        "xaxis": {
         "title": {
          "text": "Year"
         }
        },
        "yaxis": {
         "title": {
          "text": "Publication Count"
         }
        }
       }
      }
     },
     "metadata": {},
     "output_type": "display_data"
    }
   ],
   "source": [
    "# let's plot total publication count from all publications over years as a line chart\n",
    "# let's get total publication count for each year\n",
    "total_publications = df.iloc[:, 4:].sum()\n",
    "# let's create a line chart\n",
    "fig = go.Figure()\n",
    "fig.add_trace(go.Scatter(x=total_publications.index, y=total_publications.values, mode=\"lines+markers\"))\n",
    "fig.update_layout(title=\"Total Publications Over Years\", xaxis_title=\"Year\", yaxis_title=\"Publication Count\")\n",
    "fig.show()"
   ]
  },
  {
   "cell_type": "code",
   "execution_count": 8,
   "metadata": {},
   "outputs": [],
   "source": [
    "# now let us write a function that will take a list of zip files\n",
    "# it will return a pandas DataFrame with summary of all files in all zip files\n",
    "def get_all_zips_summary(zip_files: list,\n",
    "                            start_year = 1920,\n",
    "                            end_year = 1940,\n",
    "                          csv_file = Path(\"../csv/articles_publications_summary.csv\"),\n",
    "                          excel_file = Path(\"../xlsx/articles_publications_summary.xlsx\"),\n",
    "                          parquet_file = Path(\"../parquet/articles_publications_summary.parquet\")) -> pd.DataFrame:\n",
    "    summaries = [get_zip_summary(zip_file, start_year=start_year, end_year=end_year) for zip_file in tqdm(zip_files)]\n",
    "    df = pd.DataFrame(summaries)\n",
    "    # let's  have first column be publication\n",
    "    df = df[[\"publication\"] + [col for col in df.columns if col != \"publication\"]]\n",
    "    if csv_file:\n",
    "        # create all folders in the path if they do not exist\n",
    "        csv_file.parent.mkdir(parents=True, exist_ok=True)\n",
    "        print(f\"Saving CSV file to {csv_file}\")\n",
    "        df.to_csv(csv_file, index=False)\n",
    "    if excel_file:\n",
    "        # create all folders in the path if they do not exist\n",
    "        excel_file.parent.mkdir(parents=True, exist_ok=True)\n",
    "        print(f\"Saving Excel file to {excel_file}\")\n",
    "        df.to_excel(excel_file, index=False)\n",
    "    if parquet_file:\n",
    "        # create all folders in the path if they do not exist\n",
    "        parquet_file.parent.mkdir(parents=True, exist_ok=True)\n",
    "        print(f\"Saving Parquet file to {parquet_file}\")\n",
    "        df.to_parquet(parquet_file, index=False)\n",
    "    return df\n",
    "# let's test this function\n",
    "# df = get_all_zips_summary(files)\n",
    "# # shape\n",
    "# print(df.shape)\n",
    "# # first 5 rows\n",
    "# df.head()"
   ]
  },
  {
   "cell_type": "code",
   "execution_count": 44,
   "metadata": {},
   "outputs": [],
   "source": [
    "# let us save summary to a CSV file\n",
    "# csv_folder = Path(\"../csv\")\n",
    "# # create folder if it does not exist\n",
    "# csv_folder.mkdir(exist_ok=True)\n",
    "# csv_file = csv_folder / \"articles_publications_summary.csv\"\n",
    "# # let's  have first column be publication\n",
    "# df = df[[\"publication\"] + [col for col in df.columns if col != \"publication\"]]\n",
    "# df.to_csv(csv_file, index=False)"
   ]
  },
  {
   "cell_type": "code",
   "execution_count": 45,
   "metadata": {},
   "outputs": [],
   "source": [
    "# # let's also save to excel\n",
    "# excel_folder = Path(\"../excel\")\n",
    "# # create folder if it does not exist\n",
    "# excel_folder.mkdir(exist_ok=True)\n",
    "# excel_file = excel_folder / \"articles_publications_summary.xlsx\"\n",
    "# df.to_excel(excel_file, index=False)"
   ]
  },
  {
   "cell_type": "markdown",
   "metadata": {},
   "source": [
    "## Loading the data from parquet"
   ]
  },
  {
   "cell_type": "code",
   "execution_count": 12,
   "metadata": {},
   "outputs": [
    {
     "name": "stdout",
     "output_type": "stream",
     "text": [
      "(118, 6)\n"
     ]
    },
    {
     "data": {
      "text/html": [
       "<div>\n",
       "<style scoped>\n",
       "    .dataframe tbody tr th:only-of-type {\n",
       "        vertical-align: middle;\n",
       "    }\n",
       "\n",
       "    .dataframe tbody tr th {\n",
       "        vertical-align: top;\n",
       "    }\n",
       "\n",
       "    .dataframe thead th {\n",
       "        text-align: right;\n",
       "    }\n",
       "</style>\n",
       "<table border=\"1\" class=\"dataframe\">\n",
       "  <thead>\n",
       "    <tr style=\"text-align: right;\">\n",
       "      <th></th>\n",
       "      <th>publication</th>\n",
       "      <th>min_year</th>\n",
       "      <th>max_year</th>\n",
       "      <th>total_count</th>\n",
       "      <th>count_1920_1940</th>\n",
       "      <th>zip_file</th>\n",
       "    </tr>\n",
       "  </thead>\n",
       "  <tbody>\n",
       "    <tr>\n",
       "      <th>0</th>\n",
       "      <td>adelaides_latviesu_zinotajs</td>\n",
       "      <td>1962</td>\n",
       "      <td>2003</td>\n",
       "      <td>725</td>\n",
       "      <td>0</td>\n",
       "      <td>I:/zips/adelaides_latviesu_zinotajs_articles.zip</td>\n",
       "    </tr>\n",
       "    <tr>\n",
       "      <th>1</th>\n",
       "      <td>australijas_latvietis</td>\n",
       "      <td>1949</td>\n",
       "      <td>2011</td>\n",
       "      <td>93179</td>\n",
       "      <td>0</td>\n",
       "      <td>I:/zips/australijas_latvietis_articles.zip</td>\n",
       "    </tr>\n",
       "    <tr>\n",
       "      <th>2</th>\n",
       "      <td>avangards_daugavpils</td>\n",
       "      <td>1962</td>\n",
       "      <td>1992</td>\n",
       "      <td>77967</td>\n",
       "      <td>0</td>\n",
       "      <td>I:/zips/avangards_daugavpils_articles.zip</td>\n",
       "    </tr>\n",
       "    <tr>\n",
       "      <th>3</th>\n",
       "      <td>avots</td>\n",
       "      <td>1905</td>\n",
       "      <td>1915</td>\n",
       "      <td>7567</td>\n",
       "      <td>0</td>\n",
       "      <td>I:/zips/avots_articles.zip</td>\n",
       "    </tr>\n",
       "    <tr>\n",
       "      <th>4</th>\n",
       "      <td>avots_latvijas_rakstnieku_savienibas_zurnals</td>\n",
       "      <td>1987</td>\n",
       "      <td>1992</td>\n",
       "      <td>1188</td>\n",
       "      <td>0</td>\n",
       "      <td>I:/zips/avots_latvijas_rakstnieku_savienibas_z...</td>\n",
       "    </tr>\n",
       "  </tbody>\n",
       "</table>\n",
       "</div>"
      ],
      "text/plain": [
       "                                    publication  min_year  max_year  \\\n",
       "0                   adelaides_latviesu_zinotajs      1962      2003   \n",
       "1                         australijas_latvietis      1949      2011   \n",
       "2                          avangards_daugavpils      1962      1992   \n",
       "3                                         avots      1905      1915   \n",
       "4  avots_latvijas_rakstnieku_savienibas_zurnals      1987      1992   \n",
       "\n",
       "   total_count  count_1920_1940  \\\n",
       "0          725                0   \n",
       "1        93179                0   \n",
       "2        77967                0   \n",
       "3         7567                0   \n",
       "4         1188                0   \n",
       "\n",
       "                                            zip_file  \n",
       "0   I:/zips/adelaides_latviesu_zinotajs_articles.zip  \n",
       "1         I:/zips/australijas_latvietis_articles.zip  \n",
       "2          I:/zips/avangards_daugavpils_articles.zip  \n",
       "3                         I:/zips/avots_articles.zip  \n",
       "4  I:/zips/avots_latvijas_rakstnieku_savienibas_z...  "
      ]
     },
     "execution_count": 12,
     "metadata": {},
     "output_type": "execute_result"
    }
   ],
   "source": [
    "parquet_folder = Path(\"../parquet\")\n",
    "assert parquet_folder.exists(), f\"Parquet folder {parquet_folder} does not exist\"\n",
    "parquet_file = parquet_folder / \"articles_publications_summary.parquet\"\n",
    "assert parquet_file.exists(), f\"Parquet file {parquet_file} does not exist\"\n",
    "df = pd.read_parquet(parquet_file)\n",
    "# shape\n",
    "print(df.shape)\n",
    "# first 5 rows\n",
    "df.head()"
   ]
  },
  {
   "cell_type": "code",
   "execution_count": 13,
   "metadata": {},
   "outputs": [
    {
     "name": "stdout",
     "output_type": "stream",
     "text": [
      "(41, 6)\n"
     ]
    },
    {
     "data": {
      "text/html": [
       "<div>\n",
       "<style scoped>\n",
       "    .dataframe tbody tr th:only-of-type {\n",
       "        vertical-align: middle;\n",
       "    }\n",
       "\n",
       "    .dataframe tbody tr th {\n",
       "        vertical-align: top;\n",
       "    }\n",
       "\n",
       "    .dataframe thead th {\n",
       "        text-align: right;\n",
       "    }\n",
       "</style>\n",
       "<table border=\"1\" class=\"dataframe\">\n",
       "  <thead>\n",
       "    <tr style=\"text-align: right;\">\n",
       "      <th></th>\n",
       "      <th>publication</th>\n",
       "      <th>min_year</th>\n",
       "      <th>max_year</th>\n",
       "      <th>total_count</th>\n",
       "      <th>count_1920_1940</th>\n",
       "      <th>zip_file</th>\n",
       "    </tr>\n",
       "  </thead>\n",
       "  <tbody>\n",
       "    <tr>\n",
       "      <th>5</th>\n",
       "      <td>baltijas_vestnesis</td>\n",
       "      <td>1868</td>\n",
       "      <td>1920</td>\n",
       "      <td>78012</td>\n",
       "      <td>4739</td>\n",
       "      <td>I:/zips/baltijas_vestnesis_articles.zip</td>\n",
       "    </tr>\n",
       "    <tr>\n",
       "      <th>10</th>\n",
       "      <td>briva_zeme</td>\n",
       "      <td>1919</td>\n",
       "      <td>1940</td>\n",
       "      <td>259067</td>\n",
       "      <td>255273</td>\n",
       "      <td>I:/zips/briva_zeme_articles.zip</td>\n",
       "    </tr>\n",
       "    <tr>\n",
       "      <th>12</th>\n",
       "      <td>burtnieks</td>\n",
       "      <td>1927</td>\n",
       "      <td>1945</td>\n",
       "      <td>2772</td>\n",
       "      <td>2723</td>\n",
       "      <td>I:/zips/burtnieks_articles.zip</td>\n",
       "    </tr>\n",
       "    <tr>\n",
       "      <th>14</th>\n",
       "      <td>cina</td>\n",
       "      <td>1904</td>\n",
       "      <td>1991</td>\n",
       "      <td>540722</td>\n",
       "      <td>8341</td>\n",
       "      <td>I:/zips/cina_articles.zip</td>\n",
       "    </tr>\n",
       "    <tr>\n",
       "      <th>15</th>\n",
       "      <td>dadzis</td>\n",
       "      <td>1912</td>\n",
       "      <td>2008</td>\n",
       "      <td>40234</td>\n",
       "      <td>219</td>\n",
       "      <td>I:/zips/dadzis_articles.zip</td>\n",
       "    </tr>\n",
       "  </tbody>\n",
       "</table>\n",
       "</div>"
      ],
      "text/plain": [
       "           publication  min_year  max_year  total_count  count_1920_1940  \\\n",
       "5   baltijas_vestnesis      1868      1920        78012             4739   \n",
       "10          briva_zeme      1919      1940       259067           255273   \n",
       "12           burtnieks      1927      1945         2772             2723   \n",
       "14                cina      1904      1991       540722             8341   \n",
       "15              dadzis      1912      2008        40234              219   \n",
       "\n",
       "                                   zip_file  \n",
       "5   I:/zips/baltijas_vestnesis_articles.zip  \n",
       "10          I:/zips/briva_zeme_articles.zip  \n",
       "12           I:/zips/burtnieks_articles.zip  \n",
       "14                I:/zips/cina_articles.zip  \n",
       "15              I:/zips/dadzis_articles.zip  "
      ]
     },
     "execution_count": 13,
     "metadata": {},
     "output_type": "execute_result"
    }
   ],
   "source": [
    "# let's filter only those publications which have more than 0 publication in 1920-1940 period\n",
    "df_filtered = df.query(\"count_1920_1940 > 0\")\n",
    "# shape\n",
    "print(df_filtered.shape)\n",
    "# first 5 rows\n",
    "df_filtered.head()"
   ]
  },
  {
   "cell_type": "code",
   "execution_count": 14,
   "metadata": {},
   "outputs": [
    {
     "data": {
      "application/vnd.plotly.v1+json": {
       "config": {
        "plotlyServerURL": "https://plot.ly"
       },
       "data": [
        {
         "alignmentgroup": "True",
         "hovertemplate": "publication=%{x}<br>count_1920_1940=%{y}<extra></extra>",
         "legendgroup": "",
         "marker": {
          "color": "#636efa",
          "pattern": {
           "shape": ""
          }
         },
         "name": "",
         "offsetgroup": "",
         "orientation": "v",
         "showlegend": false,
         "textposition": "auto",
         "type": "bar",
         "x": [
          "valdibas_vestnesis",
          "jaunakas_zinas",
          "briva_zeme",
          "latvijas_kareivis",
          "latvis",
          "socialdemokrats",
          "rits",
          "pedeja_bridi",
          "latvijas_sargs",
          "latvija",
          "padomju_latvija",
          "kopdarbiba",
          "cina",
          "latvijas_jaunatne",
          "komunists_liepaja",
          "baltijas_vestnesis",
          "izglitibas_ministrijas_menesraksts",
          "daugava",
          "universitas",
          "ilustretais_zurnals",
          "burtnieks",
          "talsu_aprinka_vestnesis",
          "liesma_valmiera",
          "kino",
          "jaunibas_tekas",
          "sejejs",
          "teatra_vestnesis",
          "muzikas_nedela",
          "muzikas_apskats",
          "laikmets",
          "laiks",
          "senatne_un_maksla",
          "raksti_un_maksla",
          "dadzis",
          "latvju_muzika",
          "karogs",
          "zvaigzne",
          "pionieris",
          "vainags",
          "tauretajs",
          "tevija_vd"
         ],
         "xaxis": "x",
         "y": [
          442074,
          332470,
          255273,
          185816,
          164535,
          156907,
          137651,
          131032,
          79632,
          20880,
          12137,
          9478,
          8341,
          5958,
          5191,
          4739,
          4375,
          4233,
          3618,
          3339,
          2723,
          2479,
          2343,
          2173,
          2150,
          1879,
          1321,
          1300,
          1274,
          519,
          382,
          317,
          220,
          219,
          210,
          184,
          131,
          93,
          80,
          51,
          14
         ],
         "yaxis": "y"
        }
       ],
       "layout": {
        "barmode": "relative",
        "legend": {
         "tracegroupgap": 0
        },
        "template": {
         "data": {
          "bar": [
           {
            "error_x": {
             "color": "#2a3f5f"
            },
            "error_y": {
             "color": "#2a3f5f"
            },
            "marker": {
             "line": {
              "color": "#E5ECF6",
              "width": 0.5
             },
             "pattern": {
              "fillmode": "overlay",
              "size": 10,
              "solidity": 0.2
             }
            },
            "type": "bar"
           }
          ],
          "barpolar": [
           {
            "marker": {
             "line": {
              "color": "#E5ECF6",
              "width": 0.5
             },
             "pattern": {
              "fillmode": "overlay",
              "size": 10,
              "solidity": 0.2
             }
            },
            "type": "barpolar"
           }
          ],
          "carpet": [
           {
            "aaxis": {
             "endlinecolor": "#2a3f5f",
             "gridcolor": "white",
             "linecolor": "white",
             "minorgridcolor": "white",
             "startlinecolor": "#2a3f5f"
            },
            "baxis": {
             "endlinecolor": "#2a3f5f",
             "gridcolor": "white",
             "linecolor": "white",
             "minorgridcolor": "white",
             "startlinecolor": "#2a3f5f"
            },
            "type": "carpet"
           }
          ],
          "choropleth": [
           {
            "colorbar": {
             "outlinewidth": 0,
             "ticks": ""
            },
            "type": "choropleth"
           }
          ],
          "contour": [
           {
            "colorbar": {
             "outlinewidth": 0,
             "ticks": ""
            },
            "colorscale": [
             [
              0,
              "#0d0887"
             ],
             [
              0.1111111111111111,
              "#46039f"
             ],
             [
              0.2222222222222222,
              "#7201a8"
             ],
             [
              0.3333333333333333,
              "#9c179e"
             ],
             [
              0.4444444444444444,
              "#bd3786"
             ],
             [
              0.5555555555555556,
              "#d8576b"
             ],
             [
              0.6666666666666666,
              "#ed7953"
             ],
             [
              0.7777777777777778,
              "#fb9f3a"
             ],
             [
              0.8888888888888888,
              "#fdca26"
             ],
             [
              1,
              "#f0f921"
             ]
            ],
            "type": "contour"
           }
          ],
          "contourcarpet": [
           {
            "colorbar": {
             "outlinewidth": 0,
             "ticks": ""
            },
            "type": "contourcarpet"
           }
          ],
          "heatmap": [
           {
            "colorbar": {
             "outlinewidth": 0,
             "ticks": ""
            },
            "colorscale": [
             [
              0,
              "#0d0887"
             ],
             [
              0.1111111111111111,
              "#46039f"
             ],
             [
              0.2222222222222222,
              "#7201a8"
             ],
             [
              0.3333333333333333,
              "#9c179e"
             ],
             [
              0.4444444444444444,
              "#bd3786"
             ],
             [
              0.5555555555555556,
              "#d8576b"
             ],
             [
              0.6666666666666666,
              "#ed7953"
             ],
             [
              0.7777777777777778,
              "#fb9f3a"
             ],
             [
              0.8888888888888888,
              "#fdca26"
             ],
             [
              1,
              "#f0f921"
             ]
            ],
            "type": "heatmap"
           }
          ],
          "heatmapgl": [
           {
            "colorbar": {
             "outlinewidth": 0,
             "ticks": ""
            },
            "colorscale": [
             [
              0,
              "#0d0887"
             ],
             [
              0.1111111111111111,
              "#46039f"
             ],
             [
              0.2222222222222222,
              "#7201a8"
             ],
             [
              0.3333333333333333,
              "#9c179e"
             ],
             [
              0.4444444444444444,
              "#bd3786"
             ],
             [
              0.5555555555555556,
              "#d8576b"
             ],
             [
              0.6666666666666666,
              "#ed7953"
             ],
             [
              0.7777777777777778,
              "#fb9f3a"
             ],
             [
              0.8888888888888888,
              "#fdca26"
             ],
             [
              1,
              "#f0f921"
             ]
            ],
            "type": "heatmapgl"
           }
          ],
          "histogram": [
           {
            "marker": {
             "pattern": {
              "fillmode": "overlay",
              "size": 10,
              "solidity": 0.2
             }
            },
            "type": "histogram"
           }
          ],
          "histogram2d": [
           {
            "colorbar": {
             "outlinewidth": 0,
             "ticks": ""
            },
            "colorscale": [
             [
              0,
              "#0d0887"
             ],
             [
              0.1111111111111111,
              "#46039f"
             ],
             [
              0.2222222222222222,
              "#7201a8"
             ],
             [
              0.3333333333333333,
              "#9c179e"
             ],
             [
              0.4444444444444444,
              "#bd3786"
             ],
             [
              0.5555555555555556,
              "#d8576b"
             ],
             [
              0.6666666666666666,
              "#ed7953"
             ],
             [
              0.7777777777777778,
              "#fb9f3a"
             ],
             [
              0.8888888888888888,
              "#fdca26"
             ],
             [
              1,
              "#f0f921"
             ]
            ],
            "type": "histogram2d"
           }
          ],
          "histogram2dcontour": [
           {
            "colorbar": {
             "outlinewidth": 0,
             "ticks": ""
            },
            "colorscale": [
             [
              0,
              "#0d0887"
             ],
             [
              0.1111111111111111,
              "#46039f"
             ],
             [
              0.2222222222222222,
              "#7201a8"
             ],
             [
              0.3333333333333333,
              "#9c179e"
             ],
             [
              0.4444444444444444,
              "#bd3786"
             ],
             [
              0.5555555555555556,
              "#d8576b"
             ],
             [
              0.6666666666666666,
              "#ed7953"
             ],
             [
              0.7777777777777778,
              "#fb9f3a"
             ],
             [
              0.8888888888888888,
              "#fdca26"
             ],
             [
              1,
              "#f0f921"
             ]
            ],
            "type": "histogram2dcontour"
           }
          ],
          "mesh3d": [
           {
            "colorbar": {
             "outlinewidth": 0,
             "ticks": ""
            },
            "type": "mesh3d"
           }
          ],
          "parcoords": [
           {
            "line": {
             "colorbar": {
              "outlinewidth": 0,
              "ticks": ""
             }
            },
            "type": "parcoords"
           }
          ],
          "pie": [
           {
            "automargin": true,
            "type": "pie"
           }
          ],
          "scatter": [
           {
            "fillpattern": {
             "fillmode": "overlay",
             "size": 10,
             "solidity": 0.2
            },
            "type": "scatter"
           }
          ],
          "scatter3d": [
           {
            "line": {
             "colorbar": {
              "outlinewidth": 0,
              "ticks": ""
             }
            },
            "marker": {
             "colorbar": {
              "outlinewidth": 0,
              "ticks": ""
             }
            },
            "type": "scatter3d"
           }
          ],
          "scattercarpet": [
           {
            "marker": {
             "colorbar": {
              "outlinewidth": 0,
              "ticks": ""
             }
            },
            "type": "scattercarpet"
           }
          ],
          "scattergeo": [
           {
            "marker": {
             "colorbar": {
              "outlinewidth": 0,
              "ticks": ""
             }
            },
            "type": "scattergeo"
           }
          ],
          "scattergl": [
           {
            "marker": {
             "colorbar": {
              "outlinewidth": 0,
              "ticks": ""
             }
            },
            "type": "scattergl"
           }
          ],
          "scattermapbox": [
           {
            "marker": {
             "colorbar": {
              "outlinewidth": 0,
              "ticks": ""
             }
            },
            "type": "scattermapbox"
           }
          ],
          "scatterpolar": [
           {
            "marker": {
             "colorbar": {
              "outlinewidth": 0,
              "ticks": ""
             }
            },
            "type": "scatterpolar"
           }
          ],
          "scatterpolargl": [
           {
            "marker": {
             "colorbar": {
              "outlinewidth": 0,
              "ticks": ""
             }
            },
            "type": "scatterpolargl"
           }
          ],
          "scatterternary": [
           {
            "marker": {
             "colorbar": {
              "outlinewidth": 0,
              "ticks": ""
             }
            },
            "type": "scatterternary"
           }
          ],
          "surface": [
           {
            "colorbar": {
             "outlinewidth": 0,
             "ticks": ""
            },
            "colorscale": [
             [
              0,
              "#0d0887"
             ],
             [
              0.1111111111111111,
              "#46039f"
             ],
             [
              0.2222222222222222,
              "#7201a8"
             ],
             [
              0.3333333333333333,
              "#9c179e"
             ],
             [
              0.4444444444444444,
              "#bd3786"
             ],
             [
              0.5555555555555556,
              "#d8576b"
             ],
             [
              0.6666666666666666,
              "#ed7953"
             ],
             [
              0.7777777777777778,
              "#fb9f3a"
             ],
             [
              0.8888888888888888,
              "#fdca26"
             ],
             [
              1,
              "#f0f921"
             ]
            ],
            "type": "surface"
           }
          ],
          "table": [
           {
            "cells": {
             "fill": {
              "color": "#EBF0F8"
             },
             "line": {
              "color": "white"
             }
            },
            "header": {
             "fill": {
              "color": "#C8D4E3"
             },
             "line": {
              "color": "white"
             }
            },
            "type": "table"
           }
          ]
         },
         "layout": {
          "annotationdefaults": {
           "arrowcolor": "#2a3f5f",
           "arrowhead": 0,
           "arrowwidth": 1
          },
          "autotypenumbers": "strict",
          "coloraxis": {
           "colorbar": {
            "outlinewidth": 0,
            "ticks": ""
           }
          },
          "colorscale": {
           "diverging": [
            [
             0,
             "#8e0152"
            ],
            [
             0.1,
             "#c51b7d"
            ],
            [
             0.2,
             "#de77ae"
            ],
            [
             0.3,
             "#f1b6da"
            ],
            [
             0.4,
             "#fde0ef"
            ],
            [
             0.5,
             "#f7f7f7"
            ],
            [
             0.6,
             "#e6f5d0"
            ],
            [
             0.7,
             "#b8e186"
            ],
            [
             0.8,
             "#7fbc41"
            ],
            [
             0.9,
             "#4d9221"
            ],
            [
             1,
             "#276419"
            ]
           ],
           "sequential": [
            [
             0,
             "#0d0887"
            ],
            [
             0.1111111111111111,
             "#46039f"
            ],
            [
             0.2222222222222222,
             "#7201a8"
            ],
            [
             0.3333333333333333,
             "#9c179e"
            ],
            [
             0.4444444444444444,
             "#bd3786"
            ],
            [
             0.5555555555555556,
             "#d8576b"
            ],
            [
             0.6666666666666666,
             "#ed7953"
            ],
            [
             0.7777777777777778,
             "#fb9f3a"
            ],
            [
             0.8888888888888888,
             "#fdca26"
            ],
            [
             1,
             "#f0f921"
            ]
           ],
           "sequentialminus": [
            [
             0,
             "#0d0887"
            ],
            [
             0.1111111111111111,
             "#46039f"
            ],
            [
             0.2222222222222222,
             "#7201a8"
            ],
            [
             0.3333333333333333,
             "#9c179e"
            ],
            [
             0.4444444444444444,
             "#bd3786"
            ],
            [
             0.5555555555555556,
             "#d8576b"
            ],
            [
             0.6666666666666666,
             "#ed7953"
            ],
            [
             0.7777777777777778,
             "#fb9f3a"
            ],
            [
             0.8888888888888888,
             "#fdca26"
            ],
            [
             1,
             "#f0f921"
            ]
           ]
          },
          "colorway": [
           "#636efa",
           "#EF553B",
           "#00cc96",
           "#ab63fa",
           "#FFA15A",
           "#19d3f3",
           "#FF6692",
           "#B6E880",
           "#FF97FF",
           "#FECB52"
          ],
          "font": {
           "color": "#2a3f5f"
          },
          "geo": {
           "bgcolor": "white",
           "lakecolor": "white",
           "landcolor": "#E5ECF6",
           "showlakes": true,
           "showland": true,
           "subunitcolor": "white"
          },
          "hoverlabel": {
           "align": "left"
          },
          "hovermode": "closest",
          "mapbox": {
           "style": "light"
          },
          "paper_bgcolor": "white",
          "plot_bgcolor": "#E5ECF6",
          "polar": {
           "angularaxis": {
            "gridcolor": "white",
            "linecolor": "white",
            "ticks": ""
           },
           "bgcolor": "#E5ECF6",
           "radialaxis": {
            "gridcolor": "white",
            "linecolor": "white",
            "ticks": ""
           }
          },
          "scene": {
           "xaxis": {
            "backgroundcolor": "#E5ECF6",
            "gridcolor": "white",
            "gridwidth": 2,
            "linecolor": "white",
            "showbackground": true,
            "ticks": "",
            "zerolinecolor": "white"
           },
           "yaxis": {
            "backgroundcolor": "#E5ECF6",
            "gridcolor": "white",
            "gridwidth": 2,
            "linecolor": "white",
            "showbackground": true,
            "ticks": "",
            "zerolinecolor": "white"
           },
           "zaxis": {
            "backgroundcolor": "#E5ECF6",
            "gridcolor": "white",
            "gridwidth": 2,
            "linecolor": "white",
            "showbackground": true,
            "ticks": "",
            "zerolinecolor": "white"
           }
          },
          "shapedefaults": {
           "line": {
            "color": "#2a3f5f"
           }
          },
          "ternary": {
           "aaxis": {
            "gridcolor": "white",
            "linecolor": "white",
            "ticks": ""
           },
           "baxis": {
            "gridcolor": "white",
            "linecolor": "white",
            "ticks": ""
           },
           "bgcolor": "#E5ECF6",
           "caxis": {
            "gridcolor": "white",
            "linecolor": "white",
            "ticks": ""
           }
          },
          "title": {
           "x": 0.05
          },
          "xaxis": {
           "automargin": true,
           "gridcolor": "white",
           "linecolor": "white",
           "ticks": "",
           "title": {
            "standoff": 15
           },
           "zerolinecolor": "white",
           "zerolinewidth": 2
          },
          "yaxis": {
           "automargin": true,
           "gridcolor": "white",
           "linecolor": "white",
           "ticks": "",
           "title": {
            "standoff": 15
           },
           "zerolinecolor": "white",
           "zerolinewidth": 2
          }
         }
        },
        "title": {
         "text": "Publications 1920-1940"
        },
        "xaxis": {
         "anchor": "y",
         "domain": [
          0,
          1
         ],
         "title": {
          "text": "publication"
         }
        },
        "yaxis": {
         "anchor": "x",
         "domain": [
          0,
          1
         ],
         "title": {
          "text": "count_1920_1940"
         },
         "type": "log"
        }
       }
      }
     },
     "metadata": {},
     "output_type": "display_data"
    }
   ],
   "source": [
    "# let's sourt by count_1920_1940 and plot bar chart\n",
    "df_filtered = df_filtered.sort_values(\"count_1920_1940\", ascending=False)\n",
    "fig = px.bar(df_filtered, x=\"publication\", y=\"count_1920_1940\", title=\"Publications 1920-1940\")\n",
    "# let's use log scale on y axis\n",
    "fig.update_yaxes(type=\"log\")\n",
    "# html folder\n",
    "# html_folder = Path(\"../html\")\n",
    "# # create folder if it does not exist\n",
    "# html_folder.mkdir(exist_ok=True)\n",
    "# # download plot as HTML file\n",
    "# fig.write_html(html_folder / \"articles_publications_summary.html\")\n",
    "# # save png file\n",
    "# png_folder = Path(\"../png\")\n",
    "# # create folder if it does not exist\n",
    "# png_folder.mkdir(exist_ok=True)\n",
    "# png_file = png_folder / \"articles_publications_summary.png\"\n",
    "# fig.write_image(png_file)\n",
    "fig.show()"
   ]
  },
  {
   "cell_type": "code",
   "execution_count": 15,
   "metadata": {},
   "outputs": [
    {
     "name": "stdout",
     "output_type": "stream",
     "text": [
      "<class 'pandas.core.frame.DataFrame'>\n",
      "RangeIndex: 118 entries, 0 to 117\n",
      "Data columns (total 6 columns):\n",
      " #   Column           Non-Null Count  Dtype \n",
      "---  ------           --------------  ----- \n",
      " 0   publication      118 non-null    object\n",
      " 1   min_year         118 non-null    int64 \n",
      " 2   max_year         118 non-null    int64 \n",
      " 3   total_count      118 non-null    int64 \n",
      " 4   count_1920_1940  118 non-null    int64 \n",
      " 5   zip_file         118 non-null    object\n",
      "dtypes: int64(4), object(2)\n",
      "memory usage: 5.7+ KB\n"
     ]
    }
   ],
   "source": [
    "df.info()"
   ]
  },
  {
   "cell_type": "code",
   "execution_count": 60,
   "metadata": {},
   "outputs": [],
   "source": [
    "# TODO FIXME bars currently are too small to see anything\n",
    "# let's create a visualization of total counts for each publication from min_year to max_year\n",
    "# y axis will be publication\n",
    "# x axis will be min_year to max_year\n",
    "# size of bar will be total_count\n",
    "# fig = go.Figure()\n",
    "# for i, row in df.iterrows():\n",
    "#     fig.add_trace(go.Bar(x=[row[\"min_year\"], row[\"max_year\"]],\n",
    "#                             y=[row[\"publication\"], row[\"publication\"]],\n",
    "#                             orientation=\"h\",\n",
    "#                             marker=dict(color=\"blue\"),\n",
    "#                             text=row[\"total_count\"],\n",
    "#                             textposition=\"inside\",\n",
    "#                             name=row[\"publication\"]))\n",
    "# # let's add title and labels\n",
    "# fig.update_layout(title=\"Publications by year\",\n",
    "#                     xaxis_title=\"Year\",\n",
    "#                     yaxis_title=\"Publication\",\n",
    "#                     # barmode=\"stack\"\n",
    "#                     )\n",
    "# # download plot as HTML file\n",
    "# # fig.write_html(html_folder / \"articles_publications_by_year.html\")\n",
    "# # # save png file\n",
    "# # png_file = png_folder / \"articles_publications_by_year.png\"\n",
    "# # fig.write_image(png_file)\n",
    "# fig.show()"
   ]
  }
 ],
 "metadata": {
  "kernelspec": {
   "display_name": "venv312",
   "language": "python",
   "name": "python3"
  },
  "language_info": {
   "codemirror_mode": {
    "name": "ipython",
    "version": 3
   },
   "file_extension": ".py",
   "mimetype": "text/x-python",
   "name": "python",
   "nbconvert_exporter": "python",
   "pygments_lexer": "ipython3",
   "version": "3.12.2"
  }
 },
 "nbformat": 4,
 "nbformat_minor": 2
}
