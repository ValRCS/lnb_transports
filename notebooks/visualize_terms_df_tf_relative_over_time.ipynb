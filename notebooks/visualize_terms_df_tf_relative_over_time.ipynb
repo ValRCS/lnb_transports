{
 "cells": [
  {
   "cell_type": "markdown",
   "id": "a873db04",
   "metadata": {},
   "source": [
    "# Visualize terms document frequency, term frequency, and relative frequency over time\n",
    "\n",
    "## Custom translations and colors for original terms"
   ]
  },
  {
   "cell_type": "code",
   "execution_count": 1,
   "id": "6029805d",
   "metadata": {},
   "outputs": [
    {
     "name": "stdout",
     "output_type": "stream",
     "text": [
      "original_terms_translations keys: 22\n"
     ]
    }
   ],
   "source": [
    "# let's create a dictionary of translations for all the keys from Latvian to English\n",
    "original_terms_translations = {\n",
    "    \"auto\": \"car\",\t\n",
    "    \"autobuss\": \"bus\",\n",
    "    \"automobilis\": \"automobile\",\n",
    "    \"divjūgs\": \"pair carriage\",\n",
    "    \"divritenis\": \"bicycle\",\n",
    "    \"droška\": \"droshky\",\n",
    "    \"dzelzceļš\": \"railway\",\n",
    "    \"fūrmanis\": \"hired waggoner\",\n",
    "    \"kamanas\": \"sleigh\",\n",
    "    \"kariete\": \"coach\",\n",
    "    \"linijdroška\": \"line droshky\",\n",
    "    \"mašīna\": \"machine\",\n",
    "    \"motocikls\": \"motorcycle\",\n",
    "    \"ore\": \"farm wagon\",\n",
    "    \"ormanis\": \"horse-drawn cab\",\n",
    "    \"pajūgs\": \"rig\",\n",
    "    \"ragavas\": \"sledge\",\n",
    "    # \"rati\": \"carriage\",\n",
    "    \"taksometrs\": \"taxi\",\n",
    "    \"tramvajs\": \"tram\",\n",
    "    \"velosipēds\": \"velocipede\",\n",
    "    \"vezums\": \"wagon\",\n",
    "    \"važonis\": \"coachman\",\n",
    "}\n",
    "# how many keys\n",
    "print(f\"original_terms_translations keys: {len(original_terms_translations)}\")"
   ]
  },
  {
   "cell_type": "markdown",
   "id": "9835790b",
   "metadata": {},
   "source": [
    "## Loading Libraries and showing hardware used"
   ]
  },
  {
   "cell_type": "code",
   "execution_count": 2,
   "id": "9e40716c",
   "metadata": {},
   "outputs": [
    {
     "name": "stdout",
     "output_type": "stream",
     "text": [
      "Python version: 3.12.6 (tags/v3.12.6:a4a2d2b, Sep  6 2024, 20:11:23) [MSC v.1940 64 bit (AMD64)]\n",
      "Run date: 2025-05-20 11:26:43.275941\n",
      "Project root: C:\\Users\\vsaules\\Github\\lnb_transports\n",
      "Computer name: 11P00694\n",
      "CPU architecture: AMD64\n",
      "CPU type Intel64 Family 6 Model 60 Stepping 3, GenuineIntel\n",
      "CPU count: 8\n",
      "OS name: Windows\n",
      "OS version: 10.0.19045\n",
      "Memory: 31.80 GB : free - 21.12 GB\n",
      "Swap memory: 4.75 GB : free - 4.73 GB\n",
      "Disk space: 222.96 GB : free - 52.29 GB\n",
      "EXTERNAL libraries\n",
      "tqdm version: 4.66.2\n",
      "Pandas version: 2.2.1\n",
      "Plotly version: 5.19.0\n"
     ]
    }
   ],
   "source": [
    "# Show Python version\n",
    "import sys\n",
    "print(f\"Python version: {sys.version}\")\n",
    "from datetime import datetime\n",
    "print(f\"Run date: {datetime.now()}\")\n",
    "from pathlib import Path\n",
    "import os\n",
    "\n",
    "# Get the project root by going one level up from the current notebook directory\n",
    "project_root = Path().resolve().parent\n",
    "print(f\"Project root: {project_root}\")\n",
    "# what computer are we on?\n",
    "import socket\n",
    "print(f\"Computer name: {socket.gethostname()}\")\n",
    "# CPU architecture\n",
    "import platform\n",
    "print(f\"CPU architecture: {platform.machine()}\")\n",
    "# CPU type\n",
    "print(f\"CPU type {platform.processor()}\")\n",
    "# CPU count\n",
    "print(f\"CPU count: {os.cpu_count()}\")\n",
    "# OS name and version\n",
    "print(f\"OS name: {platform.system()}\")\n",
    "print(f\"OS version: {platform.version()}\")\n",
    "# memory and disk space\n",
    "import psutil\n",
    "print(f\"Memory: {psutil.virtual_memory().total / (1024 ** 3):.2f} GB : free - {psutil.virtual_memory().available / (1024 ** 3):.2f} GB\")\n",
    "print(f\"Swap memory: {psutil.swap_memory().total / (1024 ** 3):.2f} GB : free - {psutil.swap_memory().free / (1024 ** 3):.2f} GB\")\n",
    "print(f\"Disk space: {psutil.disk_usage('/').total / (1024 ** 3):.2f} GB : free - {psutil.disk_usage('/').free / (1024 ** 3):.2f} GB\")\n",
    "\n",
    "# try importing the libraries we need\n",
    "print(\"EXTERNAL libraries\")\n",
    "\n",
    "try:\n",
    "    from tqdm import tqdm\n",
    "    from tqdm import __version__ as tqdm_version\n",
    "    print(f\"tqdm version: {tqdm_version}\")\n",
    "except ImportError:\n",
    "    print(\"tqdm not installed\")\n",
    "    print(\"Please install tqdm with 'pip install tqdm'\")\n",
    "\n",
    "#Pandas\n",
    "try:\n",
    "    import pandas as pd\n",
    "    from pandas import __version__ as pandas_version\n",
    "    print(f\"Pandas version: {pandas_version}\")\n",
    "except ImportError:\n",
    "    print(\"Pandas not installed\")\n",
    "    print(\"\"\"Please install pandas with 'pip install \"pandas[excel,parquet]\"'\"\"\")\n",
    "\n",
    "# now plotly\n",
    "try:\n",
    "    from plotly import express as px\n",
    "    from plotly import graph_objects as go\n",
    "    from plotly import __version__ as plotly_version\n",
    "    print(f\"Plotly version: {plotly_version}\")\n",
    "except ImportError:\n",
    "    print(\"Plotly not installed\")\n",
    "    print(\"Please install plotly with 'pip install plotly'\")\n"
   ]
  },
  {
   "cell_type": "markdown",
   "id": "1229c2f2",
   "metadata": {},
   "source": [
    "## Loading Main Data File"
   ]
  },
  {
   "cell_type": "code",
   "execution_count": null,
   "id": "a956dfdb",
   "metadata": {},
   "outputs": [],
   "source": []
  }
 ],
 "metadata": {
  "kernelspec": {
   "display_name": "venv312",
   "language": "python",
   "name": "python3"
  },
  "language_info": {
   "codemirror_mode": {
    "name": "ipython",
    "version": 3
   },
   "file_extension": ".py",
   "mimetype": "text/x-python",
   "name": "python",
   "nbconvert_exporter": "python",
   "pygments_lexer": "ipython3",
   "version": "3.12.6"
  }
 },
 "nbformat": 4,
 "nbformat_minor": 5
}
